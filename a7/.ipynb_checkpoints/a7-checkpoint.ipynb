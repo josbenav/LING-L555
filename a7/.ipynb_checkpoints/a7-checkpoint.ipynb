{
 "cells": [
  {
   "cell_type": "markdown",
   "id": "25e7b48b-d9b8-4421-aa87-62aca6899c97",
   "metadata": {},
   "source": [
    "# A7: State of the Union Addresses, 2001--2024}\n",
    "\n",
    "_(This assignment is inspired by [A3 in the Spring 2018 offering of CS 1110 at Cornell University](https://www.cs.cornell.edu/courses/cs1110/2018sp/assignments/assignment3/a3.pdf).)}_\n",
    "\n",
    "Many social scientists are interested in how political discourse evolves over time. \n",
    "We will narrow down this very broad question by focusing on State of the Union addresses given by United States presidents from 2001 to 2024 and asking how prominent some \"topics\" are within them.\n",
    "To do this, we're going to use the [BERTopic](https://maartengr.github.io/BERTopic/index.html) library, a powerful tool for algorithmically computing topics in a given corpus of text.\n",
    "\n",
    "\n"
   ]
  },
  {
   "cell_type": "markdown",
   "id": "0e1601c2-5656-44d7-8de9-6ce091197087",
   "metadata": {},
   "source": [
    "## Reading Input\n",
    "We will read all the text files and split each of them into paragraphs.\n",
    "BERTopic takes a giant list of \"documents\" as input, and assigns one topic to each document.\n",
    "For this reason, since we know that SOTU addresses in fact cover many topics, it is sensible to divide each SOTU speech into multiple BERTopic \"documents\".\n",
    "Note that for each paragraph we will also note which year's address it was taken from--we will need this later.\n",
    "\n",
    "Note: transcripts taken from [The American Presidency Project](https://www.presidency.ucsb.edu/documents/presidential-documents-archive-guidebook/annual-messages-congress-the-state-the-union)."
   ]
  },
  {
   "cell_type": "code",
   "execution_count": 17,
   "id": "cd8444b6-8c34-43fe-a767-2c15c201371a",
   "metadata": {},
   "outputs": [
    {
     "data": {
      "text/plain": [
       "['Mr. President, Mr. Speaker, Members of the 95th Congress, ladies and gentlemen:',\n",
       " \"Two years ago today we had the first caucus in Iowa, and one year ago tomorrow, I walked from here to the White House to take up the duties of President of the United States. I didn't know it then when I walked, but I've been trying to save energy ever since. [Laughter]\",\n",
       " 'I return tonight to fulfill one of those duties of the Constitution: to give to the Congress—and to the Nation—information on the state of the Union.',\n",
       " 'Militarily, politically, economically, and in spirit, the state of our Union is sound.',\n",
       " 'We are a great country, a strong country, a vital and a dynamic country—and so we will remain.']"
      ]
     },
     "execution_count": 17,
     "metadata": {},
     "output_type": "execute_result"
    }
   ],
   "source": [
    "def read_file(p):\n",
    "    with open(p, 'r') as f:\n",
    "        return f.read()\n",
    "\n",
    "whole_docs = []\n",
    "whole_doc_years = []\n",
    "paragraphs = []\n",
    "paragraph_years = []\n",
    "for i in range(1978, 2025):\n",
    "    contents = read_file(f\"sotu/{i}.txt\")\n",
    "    whole_docs.append(contents)\n",
    "    whole_doc_years.append(i)\n",
    "    for paragraph in contents.split(\"\\n\\n\"):\n",
    "        paragraphs.append(paragraph)\n",
    "        paragraph_years.append(i)\n",
    "paragraphs[:5]"
   ]
  },
  {
   "cell_type": "markdown",
   "id": "1957484b-26aa-492f-a5d9-972c20a4e163",
   "metadata": {},
   "source": [
    "## Training the Model\n",
    "\n",
    "Here, we will train the model. Note that the `nr_topics` parameter specifies the maxmimum number of topics that the model should generate.\n",
    "For other parameters you can supply to it, see [the documentation](https://maartengr.github.io/BERTopic/api/bertopic.html#bertopic._bertopic.BERTopic.__init__).\n",
    "The output of the `fit_transform` function, which performs the training, is a 2-tuple containing the most likely topic and the assigned probability for each input document--i.e., paragraph."
   ]
  },
  {
   "cell_type": "code",
   "execution_count": 206,
   "id": "9709bc4c-87fd-40b7-8dd9-df2290262dc3",
   "metadata": {},
   "outputs": [
    {
     "name": "stdout",
     "output_type": "stream",
     "text": [
      "Topic and probability of 102nd paragraph: -1 0.0\n",
      "102nd paragraph: The other moment was in Warsaw, capital of a nation twice devastated by war in this century. There, people have rebuilt the city which war's destruction took from them. But what was new only emphasized clearly what was lost.\n"
     ]
    },
    {
     "data": {
      "text/plain": [
       "(4206, 4206)"
      ]
     },
     "execution_count": 206,
     "metadata": {},
     "output_type": "execute_result"
    }
   ],
   "source": [
    "from bertopic import BERTopic\n",
    "from sklearn.feature_extraction.text import CountVectorizer\n",
    "from sklearn.feature_extraction._stop_words import ENGLISH_STOP_WORDS\n",
    "# This lets us get rid of words like \"the\", \"of\", \"Mr.\", etc. and other words which are not contentful for us\n",
    "stop_words = list({\"Mr.\", \"Mr\", \"mr\", \"mr.\", \"just\", \"distinguished\", \"madam\", \"guest\", \"guests\", \"sergeant\", \"speaker\", \"president\", \"fellow\", \"vice\", \"congress\", \"Thank\", \"thank\", \"audience\", \"speaker\", \"Tonight\", \"tonight\", \"Union\", \"union\", \"people\", \"People\", \"America\", \"American\", \"United\", \"States\", \"inaudible\", \"boo\", \"spoke\", \"member\", \"members\", \"applauded\", \"applause\", \"applaud\", \"inaudibledont\", \"inaudiblethe\"}.union(ENGLISH_STOP_WORDS))\n",
    "vectorizer_model = CountVectorizer(stop_words=stop_words)\n",
    "model = BERTopic(\n",
    "    vectorizer_model=vectorizer_model, \n",
    "    nr_topics=20,\n",
    ")\n",
    "topics, probabilities = model.fit_transform(paragraphs)\n",
    "\n",
    "print(\"Topic and probability of 102nd paragraph:\", topics[101], probabilities[101])\n",
    "print(\"102nd paragraph:\", paragraphs[101])\n",
    "\n",
    "len(topics), len(paragraphs)"
   ]
  },
  {
   "cell_type": "markdown",
   "id": "7f4c3029-8509-4471-889c-ee09f7f5226d",
   "metadata": {},
   "source": [
    "## Topic Information\n",
    "To see what the topics are all about, we can use `.get_topic_info()`, which returns a Pandas DataFrame containing the topic information.\n",
    "\n",
    "Note that BERTopic has a topic numbered -1 which contains \"junk\"--i.e., documents that didn't fit into any of the other topics."
   ]
  },
  {
   "cell_type": "code",
   "execution_count": 207,
   "id": "dee165a2-984d-4ab7-84b2-d8cfbe5b8fd2",
   "metadata": {},
   "outputs": [
    {
     "data": {
      "text/html": [
       "<div>\n",
       "<style scoped>\n",
       "    .dataframe tbody tr th:only-of-type {\n",
       "        vertical-align: middle;\n",
       "    }\n",
       "\n",
       "    .dataframe tbody tr th {\n",
       "        vertical-align: top;\n",
       "    }\n",
       "\n",
       "    .dataframe thead th {\n",
       "        text-align: right;\n",
       "    }\n",
       "</style>\n",
       "<table border=\"1\" class=\"dataframe\">\n",
       "  <thead>\n",
       "    <tr style=\"text-align: right;\">\n",
       "      <th></th>\n",
       "      <th>Topic</th>\n",
       "      <th>Count</th>\n",
       "      <th>Name</th>\n",
       "      <th>Representation</th>\n",
       "      <th>Representative_Docs</th>\n",
       "    </tr>\n",
       "  </thead>\n",
       "  <tbody>\n",
       "    <tr>\n",
       "      <th>0</th>\n",
       "      <td>-1</td>\n",
       "      <td>1318</td>\n",
       "      <td>-1_america_american_new_world</td>\n",
       "      <td>[america, american, new, world, country, ameri...</td>\n",
       "      <td>[Tonight I want to talk about what kind of fut...</td>\n",
       "    </tr>\n",
       "    <tr>\n",
       "      <th>1</th>\n",
       "      <td>0</td>\n",
       "      <td>695</td>\n",
       "      <td>0_health_care_budget_deficit</td>\n",
       "      <td>[health, care, budget, deficit, year, federal,...</td>\n",
       "      <td>[I know it will be difficult to tackle welfare...</td>\n",
       "    </tr>\n",
       "    <tr>\n",
       "      <th>2</th>\n",
       "      <td>1</td>\n",
       "      <td>358</td>\n",
       "      <td>1_nuclear_soviet_security_defense</td>\n",
       "      <td>[nuclear, soviet, security, defense, forces, i...</td>\n",
       "      <td>[America's military power is a major force for...</td>\n",
       "    </tr>\n",
       "    <tr>\n",
       "      <th>3</th>\n",
       "      <td>2</td>\n",
       "      <td>337</td>\n",
       "      <td>2_america_world_freedom_nation</td>\n",
       "      <td>[america, world, freedom, nation, peace, state...</td>\n",
       "      <td>[We in this Union enter the last decade of the...</td>\n",
       "    </tr>\n",
       "    <tr>\n",
       "      <th>4</th>\n",
       "      <td>3</td>\n",
       "      <td>312</td>\n",
       "      <td>3_energy_trade_clean_new</td>\n",
       "      <td>[energy, trade, clean, new, jobs, oil, america...</td>\n",
       "      <td>[And 4 years ago, other countries dominated th...</td>\n",
       "    </tr>\n",
       "    <tr>\n",
       "      <th>5</th>\n",
       "      <td>4</td>\n",
       "      <td>268</td>\n",
       "      <td>4_schools_education_school_college</td>\n",
       "      <td>[schools, education, school, college, students...</td>\n",
       "      <td>[Eighth, we must make the 13th and 14th years ...</td>\n",
       "    </tr>\n",
       "    <tr>\n",
       "      <th>6</th>\n",
       "      <td>5</td>\n",
       "      <td>213</td>\n",
       "      <td>5_jobs_economy_inflation_economic</td>\n",
       "      <td>[jobs, economy, inflation, economic, growth, y...</td>\n",
       "      <td>[Let me start with the economy and a basic fac...</td>\n",
       "    </tr>\n",
       "    <tr>\n",
       "      <th>7</th>\n",
       "      <td>6</td>\n",
       "      <td>117</td>\n",
       "      <td>6_crime_gun_police_drugs</td>\n",
       "      <td>[crime, gun, police, drugs, guns, drug, violen...</td>\n",
       "      <td>[There may be other things we can do to be tou...</td>\n",
       "    </tr>\n",
       "    <tr>\n",
       "      <th>8</th>\n",
       "      <td>7</td>\n",
       "      <td>105</td>\n",
       "      <td>7_citizens_laughter_lady_honored</td>\n",
       "      <td>[citizens, laughter, lady, honored, house, che...</td>\n",
       "      <td>[Mr. Speaker, Mr. President, distinguished Mem...</td>\n",
       "    </tr>\n",
       "    <tr>\n",
       "      <th>9</th>\n",
       "      <td>8</td>\n",
       "      <td>83</td>\n",
       "      <td>8_tax_taxes_pay_percent</td>\n",
       "      <td>[tax, taxes, pay, percent, companies, code, re...</td>\n",
       "      <td>[Now is our best chance for bipartisan, compre...</td>\n",
       "    </tr>\n",
       "    <tr>\n",
       "      <th>10</th>\n",
       "      <td>9</td>\n",
       "      <td>70</td>\n",
       "      <td>9_usa_hr_iain_wall</td>\n",
       "      <td>[usa, hr, iain, wall, joe, anymore, fix, acade...</td>\n",
       "      <td>[Audience members. Build the wall! Build the w...</td>\n",
       "    </tr>\n",
       "    <tr>\n",
       "      <th>11</th>\n",
       "      <td>10</td>\n",
       "      <td>64</td>\n",
       "      <td>10_ryan_daughter_born_joining</td>\n",
       "      <td>[ryan, daughter, born, joining, wrote, love, l...</td>\n",
       "      <td>[After her daughter was born, Julie Aigner-Cla...</td>\n",
       "    </tr>\n",
       "    <tr>\n",
       "      <th>12</th>\n",
       "      <td>11</td>\n",
       "      <td>62</td>\n",
       "      <td>11_immigration_border_illegal_immigrants</td>\n",
       "      <td>[immigration, border, illegal, immigrants, bor...</td>\n",
       "      <td>[This is a moral issue. The lawless state of o...</td>\n",
       "    </tr>\n",
       "    <tr>\n",
       "      <th>13</th>\n",
       "      <td>12</td>\n",
       "      <td>57</td>\n",
       "      <td>12_act_roe_wade_abortion</td>\n",
       "      <td>[act, roe, wade, abortion, legislation, childr...</td>\n",
       "      <td>[I ask you to draw that line by passing withou...</td>\n",
       "    </tr>\n",
       "    <tr>\n",
       "      <th>14</th>\n",
       "      <td>13</td>\n",
       "      <td>51</td>\n",
       "      <td>13_bless_god_america_united</td>\n",
       "      <td>[bless, god, america, united, states, troops, ...</td>\n",
       "      <td>[Thank you. God bless you, and God bless Ameri...</td>\n",
       "    </tr>\n",
       "    <tr>\n",
       "      <th>15</th>\n",
       "      <td>14</td>\n",
       "      <td>27</td>\n",
       "      <td>14_veterans_va_uniform_men</td>\n",
       "      <td>[veterans, va, uniform, men, women, military, ...</td>\n",
       "      <td>[Look, the third piece of that agenda is suppo...</td>\n",
       "    </tr>\n",
       "    <tr>\n",
       "      <th>16</th>\n",
       "      <td>15</td>\n",
       "      <td>23</td>\n",
       "      <td>15_putin_ukraine_ukrainian_putins</td>\n",
       "      <td>[putin, ukraine, ukrainian, putins, russias, r...</td>\n",
       "      <td>[But let me be clear: Our Forces are not engag...</td>\n",
       "    </tr>\n",
       "    <tr>\n",
       "      <th>17</th>\n",
       "      <td>16</td>\n",
       "      <td>21</td>\n",
       "      <td>16_saddam_hussein_weapons_inspectors</td>\n",
       "      <td>[saddam, hussein, weapons, inspectors, iraq, n...</td>\n",
       "      <td>[The International Atomic Energy Agency confir...</td>\n",
       "    </tr>\n",
       "    <tr>\n",
       "      <th>18</th>\n",
       "      <td>17</td>\n",
       "      <td>14</td>\n",
       "      <td>17_point_laughter_seeno_sang</td>\n",
       "      <td>[point, laughter, seeno, sang, remarks, conver...</td>\n",
       "      <td>[[At this point, members of the audience spoke...</td>\n",
       "    </tr>\n",
       "    <tr>\n",
       "      <th>19</th>\n",
       "      <td>18</td>\n",
       "      <td>11</td>\n",
       "      <td>18_court_justice_senate_judges</td>\n",
       "      <td>[court, justice, senate, judges, courts, bench...</td>\n",
       "      <td>[A future of hope and opportunity requires a f...</td>\n",
       "    </tr>\n",
       "  </tbody>\n",
       "</table>\n",
       "</div>"
      ],
      "text/plain": [
       "    Topic  Count                                      Name  \\\n",
       "0      -1   1318             -1_america_american_new_world   \n",
       "1       0    695              0_health_care_budget_deficit   \n",
       "2       1    358         1_nuclear_soviet_security_defense   \n",
       "3       2    337            2_america_world_freedom_nation   \n",
       "4       3    312                  3_energy_trade_clean_new   \n",
       "5       4    268        4_schools_education_school_college   \n",
       "6       5    213         5_jobs_economy_inflation_economic   \n",
       "7       6    117                  6_crime_gun_police_drugs   \n",
       "8       7    105          7_citizens_laughter_lady_honored   \n",
       "9       8     83                   8_tax_taxes_pay_percent   \n",
       "10      9     70                        9_usa_hr_iain_wall   \n",
       "11     10     64             10_ryan_daughter_born_joining   \n",
       "12     11     62  11_immigration_border_illegal_immigrants   \n",
       "13     12     57                  12_act_roe_wade_abortion   \n",
       "14     13     51               13_bless_god_america_united   \n",
       "15     14     27                14_veterans_va_uniform_men   \n",
       "16     15     23         15_putin_ukraine_ukrainian_putins   \n",
       "17     16     21      16_saddam_hussein_weapons_inspectors   \n",
       "18     17     14              17_point_laughter_seeno_sang   \n",
       "19     18     11            18_court_justice_senate_judges   \n",
       "\n",
       "                                       Representation  \\\n",
       "0   [america, american, new, world, country, ameri...   \n",
       "1   [health, care, budget, deficit, year, federal,...   \n",
       "2   [nuclear, soviet, security, defense, forces, i...   \n",
       "3   [america, world, freedom, nation, peace, state...   \n",
       "4   [energy, trade, clean, new, jobs, oil, america...   \n",
       "5   [schools, education, school, college, students...   \n",
       "6   [jobs, economy, inflation, economic, growth, y...   \n",
       "7   [crime, gun, police, drugs, guns, drug, violen...   \n",
       "8   [citizens, laughter, lady, honored, house, che...   \n",
       "9   [tax, taxes, pay, percent, companies, code, re...   \n",
       "10  [usa, hr, iain, wall, joe, anymore, fix, acade...   \n",
       "11  [ryan, daughter, born, joining, wrote, love, l...   \n",
       "12  [immigration, border, illegal, immigrants, bor...   \n",
       "13  [act, roe, wade, abortion, legislation, childr...   \n",
       "14  [bless, god, america, united, states, troops, ...   \n",
       "15  [veterans, va, uniform, men, women, military, ...   \n",
       "16  [putin, ukraine, ukrainian, putins, russias, r...   \n",
       "17  [saddam, hussein, weapons, inspectors, iraq, n...   \n",
       "18  [point, laughter, seeno, sang, remarks, conver...   \n",
       "19  [court, justice, senate, judges, courts, bench...   \n",
       "\n",
       "                                  Representative_Docs  \n",
       "0   [Tonight I want to talk about what kind of fut...  \n",
       "1   [I know it will be difficult to tackle welfare...  \n",
       "2   [America's military power is a major force for...  \n",
       "3   [We in this Union enter the last decade of the...  \n",
       "4   [And 4 years ago, other countries dominated th...  \n",
       "5   [Eighth, we must make the 13th and 14th years ...  \n",
       "6   [Let me start with the economy and a basic fac...  \n",
       "7   [There may be other things we can do to be tou...  \n",
       "8   [Mr. Speaker, Mr. President, distinguished Mem...  \n",
       "9   [Now is our best chance for bipartisan, compre...  \n",
       "10  [Audience members. Build the wall! Build the w...  \n",
       "11  [After her daughter was born, Julie Aigner-Cla...  \n",
       "12  [This is a moral issue. The lawless state of o...  \n",
       "13  [I ask you to draw that line by passing withou...  \n",
       "14  [Thank you. God bless you, and God bless Ameri...  \n",
       "15  [Look, the third piece of that agenda is suppo...  \n",
       "16  [But let me be clear: Our Forces are not engag...  \n",
       "17  [The International Atomic Energy Agency confir...  \n",
       "18  [[At this point, members of the audience spoke...  \n",
       "19  [A future of hope and opportunity requires a f...  "
      ]
     },
     "execution_count": 207,
     "metadata": {},
     "output_type": "execute_result"
    }
   ],
   "source": [
    "model.get_topic_info()"
   ]
  },
  {
   "cell_type": "markdown",
   "id": "47c42861-9672-4425-99b6-ef2259352b13",
   "metadata": {},
   "source": [
    "## Topics over Time\n",
    "We can use `.topics_over_time` to see how many paragraphs were assigned to certain topics in certain years.\n",
    "Try playing around with the `topics=` argument below to compare trends."
   ]
  },
  {
   "cell_type": "code",
   "execution_count": 209,
   "id": "98f267a5-9d17-433a-8c7f-b18e2e0bc6c8",
   "metadata": {},
   "outputs": [
    {
     "data": {
      "application/vnd.plotly.v1+json": {
       "config": {
        "plotlyServerURL": "https://plot.ly"
       },
       "data": [
        {
         "hoverinfo": "text",
         "hovertext": [
          "<b>Topic 3</b><br>Words: energy, trade, oil, foreign, unemployment",
          "<b>Topic 3</b><br>Words: congressional, era, major, premier, sunshine",
          "<b>Topic 3</b><br>Words: energy, conservation, oil, gasoline, conserve",
          "<b>Topic 3</b><br>Words: regulatory, regulations, fuels, energy, new",
          "<b>Topic 3</b><br>Words: air, regulations, federal, heating, deregulating",
          "<b>Topic 3</b><br>Words: trade, pioneer, port, technology, frontier",
          "<b>Topic 3</b><br>Words: space, develop, energy, frontier, new",
          "<b>Topic 3</b><br>Words: space, trade, energy, research, new",
          "<b>Topic 3</b><br>Words: space, trade, forward, going, earth",
          "<b>Topic 3</b><br>Words: trade, competitiveness, enter, new, excellence",
          "<b>Topic 3</b><br>Words: trade, free, north, mutually, arctic",
          "<b>Topic 3</b><br>Words: space, oceans, clean, new, agreement",
          "<b>Topic 3</b><br>Words: environmental, beautiful, billion, generations, forestland",
          "<b>Topic 3</b><br>Words: trade, outwork, real, uruguay, anytime",
          "<b>Topic 3</b><br>Words: trade, major, departments, agencies, growth",
          "<b>Topic 3</b><br>Words: energy, trade, unlike, completion, tax",
          "<b>Topic 3</b><br>Words: safer, cleaner, fairness, water, regulations",
          "<b>Topic 3</b><br>Words: toxic, water, polluters, environment, air",
          "<b>Topic 3</b><br>Words: china, clean, rivers, environment, trade",
          "<b>Topic 3</b><br>Words: trade, new, energy, clean, space",
          "<b>Topic 3</b><br>Words: trade, china, world, id, energy",
          "<b>Topic 3</b><br>Words: trade, china, energy, new, technology",
          "<b>Topic 3</b><br>Words: energy, conservation, trade, road, fork",
          "<b>Topic 3</b><br>Words: trade, energy, jobs, depend, act",
          "<b>Topic 3</b><br>Words: energy, environment, hydrogen, forests, sent",
          "<b>Topic 3</b><br>Words: energy, electricity, supplies, reliable, dependent",
          "<b>Topic 3</b><br>Words: energy, sources, clean, leadingedge, hydrogenfueled",
          "<b>Topic 3</b><br>Words: energy, research, oil, competitive, ethanol",
          "<b>Topic 3</b><br>Words: oil, supply, clean, energy, fuel",
          "<b>Topic 3</b><br>Words: trade, agreement, energy, agreements, new",
          "<b>Topic 3</b><br>Words: energy, renewable, clean, power, history",
          "<b>Topic 3</b><br>Words: energy, clean, jobs, trade, create",
          "<b>Topic 3</b><br>Words: energy, jobs, clean, trade, innovation",
          "<b>Topic 3</b><br>Words: energy, oil, gas, clean, years",
          "<b>Topic 3</b><br>Words: energy, gas, jobs, oil, trade",
          "<b>Topic 3</b><br>Words: energy, jobs, new, natural, gas",
          "<b>Topic 3</b><br>Words: trade, energy, businesses, oil, lets",
          "<b>Topic 3</b><br>Words: energy, dirtier, clean, oil, space",
          "<b>Topic 3</b><br>Words: trade, new, infrastructure, regulations, pipelines",
          "<b>Topic 3</b><br>Words: trade, american, building, energy, deals",
          "<b>Topic 3</b><br>Words: trade, nafta, american, infrastructure, buzz",
          "<b>Topic 3</b><br>Words: trade, energy, china, reciprocity, trees",
          "<b>Topic 3</b><br>Words: jobs, creates, american, climate, clean",
          "<b>Topic 3</b><br>Words: energy, barrels, clean, airports, america",
          "<b>Topic 3</b><br>Words: infrastructure, energy, going, china, world",
          "<b>Topic 3</b><br>Words: climate, clean, energy, china, communities"
         ],
         "marker": {
          "color": "#E69F00"
         },
         "mode": "lines",
         "name": "3_energy_trade_clean_new",
         "type": "scatter",
         "x": [
          1978,
          1979,
          1980,
          1981,
          1982,
          1983,
          1984,
          1985,
          1986,
          1987,
          1988,
          1989,
          1990,
          1991,
          1992,
          1993,
          1995,
          1996,
          1997,
          1998,
          1999,
          2000,
          2001,
          2002,
          2003,
          2004,
          2005,
          2006,
          2007,
          2008,
          2009,
          2010,
          2011,
          2012,
          2013,
          2014,
          2015,
          2016,
          2017,
          2018,
          2019,
          2020,
          2021,
          2022,
          2023,
          2024
         ],
         "y": [
          9,
          5,
          7,
          8,
          2,
          6,
          12,
          9,
          2,
          2,
          1,
          6,
          2,
          2,
          2,
          3,
          1,
          4,
          8,
          9,
          10,
          13,
          5,
          3,
          4,
          1,
          1,
          7,
          6,
          8,
          5,
          7,
          22,
          16,
          11,
          9,
          8,
          6,
          6,
          5,
          6,
          7,
          10,
          6,
          21,
          9
         ]
        },
        {
         "hoverinfo": "text",
         "hovertext": [
          "<b>Topic 4</b><br>Words: village, passionately, fulfillment, attached, liberties",
          "<b>Topic 4</b><br>Words: provide, restrained, demonstrated, nutrition, disadvantaged",
          "<b>Topic 4</b><br>Words: concentrating, young, 1980s, minority, youth",
          "<b>Topic 4</b><br>Words: aid, total, percent, schools, insisted",
          "<b>Topic 4</b><br>Words: help, programs, enterprise, discredited, volunteer",
          "<b>Topic 4</b><br>Words: education, private, initiatives, sector, math",
          "<b>Topic 4</b><br>Words: excellence, schools, education, help, school",
          "<b>Topic 4</b><br>Words: basics, goes, help, refound, answering",
          "<b>Topic 4</b><br>Words: education, 1963, renaissance, yearslast, lawlessness",
          "<b>Topic 4</b><br>Words: children, basic, concepts, rigorous, documents",
          "<b>Topic 4</b><br>Words: spend, schools, teachers, education, test",
          "<b>Topic 4</b><br>Words: education, students, schools, program, teachers",
          "<b>Topic 4</b><br>Words: education, kids, governor, schools, tell",
          "<b>Topic 4</b><br>Words: means, birthright, tenant, power, ownership",
          "<b>Topic 4</b><br>Words: schools, highly, 2000, education, allow",
          "<b>Topic 4</b><br>Words: education, program, jobs, school, service",
          "<b>Topic 4</b><br>Words: school, kids, worldclass, children, teachers",
          "<b>Topic 4</b><br>Words: education, school, college, americorps, lot",
          "<b>Topic 4</b><br>Words: schools, challenge, teachers, college, school",
          "<b>Topic 4</b><br>Words: school, schools, education, college, children",
          "<b>Topic 4</b><br>Words: college, education, schools, children, school",
          "<b>Topic 4</b><br>Words: schools, school, teachers, children, college",
          "<b>Topic 4</b><br>Words: schools, college, school, help, teachers",
          "<b>Topic 4</b><br>Words: schools, reading, education, mayor, teaching",
          "<b>Topic 4</b><br>Words: corps, teacher, need, children, freedom",
          "<b>Topic 4</b><br>Words: mentors, person, 450, recruiting, enlisting",
          "<b>Topic 4</b><br>Words: schools, math, children, help, students",
          "<b>Topic 4</b><br>Words: training, high, generation, values, children",
          "<b>Topic 4</b><br>Words: math, science, courses, children, direction",
          "<b>Topic 4</b><br>Words: schools, children, students, local, failing",
          "<b>Topic 4</b><br>Words: schools, children, faithbased, students, help",
          "<b>Topic 4</b><br>Words: education, school, college, high, schools",
          "<b>Topic 4</b><br>Words: college, education, student, schools, loans",
          "<b>Topic 4</b><br>Words: schools, education, school, college, students",
          "<b>Topic 4</b><br>Words: education, students, college, teachers, tuition",
          "<b>Topic 4</b><br>Words: education, higher, schools, high, students",
          "<b>Topic 4</b><br>Words: education, college, schools, help, students",
          "<b>Topic 4</b><br>Words: college, want, education, community, school",
          "<b>Topic 4</b><br>Words: student, college, education, job, need",
          "<b>Topic 4</b><br>Words: school, education, magnet, denisha, masters",
          "<b>Topic 4</b><br>Words: governmentwide, firstever, thursday, women, focused",
          "<b>Topic 4</b><br>Words: tony, janiyah, opportunity, school, students",
          "<b>Topic 4</b><br>Words: education, years, century, college, 12",
          "<b>Topic 4</b><br>Words: best, career, school, education, outeducates",
          "<b>Topic 4</b><br>Words: keenan, college, student, education, school"
         ],
         "marker": {
          "color": "#56B4E9"
         },
         "mode": "lines",
         "name": "4_schools_education_school_college",
         "type": "scatter",
         "x": [
          1978,
          1979,
          1980,
          1981,
          1982,
          1983,
          1984,
          1985,
          1986,
          1987,
          1988,
          1989,
          1990,
          1991,
          1992,
          1993,
          1994,
          1995,
          1996,
          1997,
          1998,
          1999,
          2000,
          2001,
          2002,
          2003,
          2004,
          2005,
          2006,
          2007,
          2008,
          2009,
          2010,
          2011,
          2012,
          2013,
          2014,
          2015,
          2016,
          2017,
          2019,
          2020,
          2021,
          2023,
          2024
         ],
         "y": [
          2,
          1,
          1,
          1,
          4,
          4,
          5,
          4,
          1,
          1,
          2,
          5,
          11,
          1,
          2,
          8,
          5,
          6,
          11,
          22,
          9,
          19,
          14,
          10,
          3,
          1,
          6,
          2,
          2,
          2,
          5,
          9,
          5,
          12,
          12,
          8,
          9,
          7,
          3,
          2,
          1,
          9,
          6,
          6,
          9
         ]
        }
       ],
       "layout": {
        "height": 450,
        "hoverlabel": {
         "bgcolor": "white",
         "font": {
          "family": "Rockwell",
          "size": 16
         }
        },
        "legend": {
         "title": {
          "text": "<b>Global Topic Representation"
         }
        },
        "template": {
         "data": {
          "bar": [
           {
            "error_x": {
             "color": "rgb(36,36,36)"
            },
            "error_y": {
             "color": "rgb(36,36,36)"
            },
            "marker": {
             "line": {
              "color": "white",
              "width": 0.5
             },
             "pattern": {
              "fillmode": "overlay",
              "size": 10,
              "solidity": 0.2
             }
            },
            "type": "bar"
           }
          ],
          "barpolar": [
           {
            "marker": {
             "line": {
              "color": "white",
              "width": 0.5
             },
             "pattern": {
              "fillmode": "overlay",
              "size": 10,
              "solidity": 0.2
             }
            },
            "type": "barpolar"
           }
          ],
          "carpet": [
           {
            "aaxis": {
             "endlinecolor": "rgb(36,36,36)",
             "gridcolor": "white",
             "linecolor": "white",
             "minorgridcolor": "white",
             "startlinecolor": "rgb(36,36,36)"
            },
            "baxis": {
             "endlinecolor": "rgb(36,36,36)",
             "gridcolor": "white",
             "linecolor": "white",
             "minorgridcolor": "white",
             "startlinecolor": "rgb(36,36,36)"
            },
            "type": "carpet"
           }
          ],
          "choropleth": [
           {
            "colorbar": {
             "outlinewidth": 1,
             "tickcolor": "rgb(36,36,36)",
             "ticks": "outside"
            },
            "type": "choropleth"
           }
          ],
          "contour": [
           {
            "colorbar": {
             "outlinewidth": 1,
             "tickcolor": "rgb(36,36,36)",
             "ticks": "outside"
            },
            "colorscale": [
             [
              0,
              "#440154"
             ],
             [
              0.1111111111111111,
              "#482878"
             ],
             [
              0.2222222222222222,
              "#3e4989"
             ],
             [
              0.3333333333333333,
              "#31688e"
             ],
             [
              0.4444444444444444,
              "#26828e"
             ],
             [
              0.5555555555555556,
              "#1f9e89"
             ],
             [
              0.6666666666666666,
              "#35b779"
             ],
             [
              0.7777777777777778,
              "#6ece58"
             ],
             [
              0.8888888888888888,
              "#b5de2b"
             ],
             [
              1,
              "#fde725"
             ]
            ],
            "type": "contour"
           }
          ],
          "contourcarpet": [
           {
            "colorbar": {
             "outlinewidth": 1,
             "tickcolor": "rgb(36,36,36)",
             "ticks": "outside"
            },
            "type": "contourcarpet"
           }
          ],
          "heatmap": [
           {
            "colorbar": {
             "outlinewidth": 1,
             "tickcolor": "rgb(36,36,36)",
             "ticks": "outside"
            },
            "colorscale": [
             [
              0,
              "#440154"
             ],
             [
              0.1111111111111111,
              "#482878"
             ],
             [
              0.2222222222222222,
              "#3e4989"
             ],
             [
              0.3333333333333333,
              "#31688e"
             ],
             [
              0.4444444444444444,
              "#26828e"
             ],
             [
              0.5555555555555556,
              "#1f9e89"
             ],
             [
              0.6666666666666666,
              "#35b779"
             ],
             [
              0.7777777777777778,
              "#6ece58"
             ],
             [
              0.8888888888888888,
              "#b5de2b"
             ],
             [
              1,
              "#fde725"
             ]
            ],
            "type": "heatmap"
           }
          ],
          "heatmapgl": [
           {
            "colorbar": {
             "outlinewidth": 1,
             "tickcolor": "rgb(36,36,36)",
             "ticks": "outside"
            },
            "colorscale": [
             [
              0,
              "#440154"
             ],
             [
              0.1111111111111111,
              "#482878"
             ],
             [
              0.2222222222222222,
              "#3e4989"
             ],
             [
              0.3333333333333333,
              "#31688e"
             ],
             [
              0.4444444444444444,
              "#26828e"
             ],
             [
              0.5555555555555556,
              "#1f9e89"
             ],
             [
              0.6666666666666666,
              "#35b779"
             ],
             [
              0.7777777777777778,
              "#6ece58"
             ],
             [
              0.8888888888888888,
              "#b5de2b"
             ],
             [
              1,
              "#fde725"
             ]
            ],
            "type": "heatmapgl"
           }
          ],
          "histogram": [
           {
            "marker": {
             "line": {
              "color": "white",
              "width": 0.6
             }
            },
            "type": "histogram"
           }
          ],
          "histogram2d": [
           {
            "colorbar": {
             "outlinewidth": 1,
             "tickcolor": "rgb(36,36,36)",
             "ticks": "outside"
            },
            "colorscale": [
             [
              0,
              "#440154"
             ],
             [
              0.1111111111111111,
              "#482878"
             ],
             [
              0.2222222222222222,
              "#3e4989"
             ],
             [
              0.3333333333333333,
              "#31688e"
             ],
             [
              0.4444444444444444,
              "#26828e"
             ],
             [
              0.5555555555555556,
              "#1f9e89"
             ],
             [
              0.6666666666666666,
              "#35b779"
             ],
             [
              0.7777777777777778,
              "#6ece58"
             ],
             [
              0.8888888888888888,
              "#b5de2b"
             ],
             [
              1,
              "#fde725"
             ]
            ],
            "type": "histogram2d"
           }
          ],
          "histogram2dcontour": [
           {
            "colorbar": {
             "outlinewidth": 1,
             "tickcolor": "rgb(36,36,36)",
             "ticks": "outside"
            },
            "colorscale": [
             [
              0,
              "#440154"
             ],
             [
              0.1111111111111111,
              "#482878"
             ],
             [
              0.2222222222222222,
              "#3e4989"
             ],
             [
              0.3333333333333333,
              "#31688e"
             ],
             [
              0.4444444444444444,
              "#26828e"
             ],
             [
              0.5555555555555556,
              "#1f9e89"
             ],
             [
              0.6666666666666666,
              "#35b779"
             ],
             [
              0.7777777777777778,
              "#6ece58"
             ],
             [
              0.8888888888888888,
              "#b5de2b"
             ],
             [
              1,
              "#fde725"
             ]
            ],
            "type": "histogram2dcontour"
           }
          ],
          "mesh3d": [
           {
            "colorbar": {
             "outlinewidth": 1,
             "tickcolor": "rgb(36,36,36)",
             "ticks": "outside"
            },
            "type": "mesh3d"
           }
          ],
          "parcoords": [
           {
            "line": {
             "colorbar": {
              "outlinewidth": 1,
              "tickcolor": "rgb(36,36,36)",
              "ticks": "outside"
             }
            },
            "type": "parcoords"
           }
          ],
          "pie": [
           {
            "automargin": true,
            "type": "pie"
           }
          ],
          "scatter": [
           {
            "fillpattern": {
             "fillmode": "overlay",
             "size": 10,
             "solidity": 0.2
            },
            "type": "scatter"
           }
          ],
          "scatter3d": [
           {
            "line": {
             "colorbar": {
              "outlinewidth": 1,
              "tickcolor": "rgb(36,36,36)",
              "ticks": "outside"
             }
            },
            "marker": {
             "colorbar": {
              "outlinewidth": 1,
              "tickcolor": "rgb(36,36,36)",
              "ticks": "outside"
             }
            },
            "type": "scatter3d"
           }
          ],
          "scattercarpet": [
           {
            "marker": {
             "colorbar": {
              "outlinewidth": 1,
              "tickcolor": "rgb(36,36,36)",
              "ticks": "outside"
             }
            },
            "type": "scattercarpet"
           }
          ],
          "scattergeo": [
           {
            "marker": {
             "colorbar": {
              "outlinewidth": 1,
              "tickcolor": "rgb(36,36,36)",
              "ticks": "outside"
             }
            },
            "type": "scattergeo"
           }
          ],
          "scattergl": [
           {
            "marker": {
             "colorbar": {
              "outlinewidth": 1,
              "tickcolor": "rgb(36,36,36)",
              "ticks": "outside"
             }
            },
            "type": "scattergl"
           }
          ],
          "scattermapbox": [
           {
            "marker": {
             "colorbar": {
              "outlinewidth": 1,
              "tickcolor": "rgb(36,36,36)",
              "ticks": "outside"
             }
            },
            "type": "scattermapbox"
           }
          ],
          "scatterpolar": [
           {
            "marker": {
             "colorbar": {
              "outlinewidth": 1,
              "tickcolor": "rgb(36,36,36)",
              "ticks": "outside"
             }
            },
            "type": "scatterpolar"
           }
          ],
          "scatterpolargl": [
           {
            "marker": {
             "colorbar": {
              "outlinewidth": 1,
              "tickcolor": "rgb(36,36,36)",
              "ticks": "outside"
             }
            },
            "type": "scatterpolargl"
           }
          ],
          "scatterternary": [
           {
            "marker": {
             "colorbar": {
              "outlinewidth": 1,
              "tickcolor": "rgb(36,36,36)",
              "ticks": "outside"
             }
            },
            "type": "scatterternary"
           }
          ],
          "surface": [
           {
            "colorbar": {
             "outlinewidth": 1,
             "tickcolor": "rgb(36,36,36)",
             "ticks": "outside"
            },
            "colorscale": [
             [
              0,
              "#440154"
             ],
             [
              0.1111111111111111,
              "#482878"
             ],
             [
              0.2222222222222222,
              "#3e4989"
             ],
             [
              0.3333333333333333,
              "#31688e"
             ],
             [
              0.4444444444444444,
              "#26828e"
             ],
             [
              0.5555555555555556,
              "#1f9e89"
             ],
             [
              0.6666666666666666,
              "#35b779"
             ],
             [
              0.7777777777777778,
              "#6ece58"
             ],
             [
              0.8888888888888888,
              "#b5de2b"
             ],
             [
              1,
              "#fde725"
             ]
            ],
            "type": "surface"
           }
          ],
          "table": [
           {
            "cells": {
             "fill": {
              "color": "rgb(237,237,237)"
             },
             "line": {
              "color": "white"
             }
            },
            "header": {
             "fill": {
              "color": "rgb(217,217,217)"
             },
             "line": {
              "color": "white"
             }
            },
            "type": "table"
           }
          ]
         },
         "layout": {
          "annotationdefaults": {
           "arrowhead": 0,
           "arrowwidth": 1
          },
          "autotypenumbers": "strict",
          "coloraxis": {
           "colorbar": {
            "outlinewidth": 1,
            "tickcolor": "rgb(36,36,36)",
            "ticks": "outside"
           }
          },
          "colorscale": {
           "diverging": [
            [
             0,
             "rgb(103,0,31)"
            ],
            [
             0.1,
             "rgb(178,24,43)"
            ],
            [
             0.2,
             "rgb(214,96,77)"
            ],
            [
             0.3,
             "rgb(244,165,130)"
            ],
            [
             0.4,
             "rgb(253,219,199)"
            ],
            [
             0.5,
             "rgb(247,247,247)"
            ],
            [
             0.6,
             "rgb(209,229,240)"
            ],
            [
             0.7,
             "rgb(146,197,222)"
            ],
            [
             0.8,
             "rgb(67,147,195)"
            ],
            [
             0.9,
             "rgb(33,102,172)"
            ],
            [
             1,
             "rgb(5,48,97)"
            ]
           ],
           "sequential": [
            [
             0,
             "#440154"
            ],
            [
             0.1111111111111111,
             "#482878"
            ],
            [
             0.2222222222222222,
             "#3e4989"
            ],
            [
             0.3333333333333333,
             "#31688e"
            ],
            [
             0.4444444444444444,
             "#26828e"
            ],
            [
             0.5555555555555556,
             "#1f9e89"
            ],
            [
             0.6666666666666666,
             "#35b779"
            ],
            [
             0.7777777777777778,
             "#6ece58"
            ],
            [
             0.8888888888888888,
             "#b5de2b"
            ],
            [
             1,
             "#fde725"
            ]
           ],
           "sequentialminus": [
            [
             0,
             "#440154"
            ],
            [
             0.1111111111111111,
             "#482878"
            ],
            [
             0.2222222222222222,
             "#3e4989"
            ],
            [
             0.3333333333333333,
             "#31688e"
            ],
            [
             0.4444444444444444,
             "#26828e"
            ],
            [
             0.5555555555555556,
             "#1f9e89"
            ],
            [
             0.6666666666666666,
             "#35b779"
            ],
            [
             0.7777777777777778,
             "#6ece58"
            ],
            [
             0.8888888888888888,
             "#b5de2b"
            ],
            [
             1,
             "#fde725"
            ]
           ]
          },
          "colorway": [
           "#1F77B4",
           "#FF7F0E",
           "#2CA02C",
           "#D62728",
           "#9467BD",
           "#8C564B",
           "#E377C2",
           "#7F7F7F",
           "#BCBD22",
           "#17BECF"
          ],
          "font": {
           "color": "rgb(36,36,36)"
          },
          "geo": {
           "bgcolor": "white",
           "lakecolor": "white",
           "landcolor": "white",
           "showlakes": true,
           "showland": true,
           "subunitcolor": "white"
          },
          "hoverlabel": {
           "align": "left"
          },
          "hovermode": "closest",
          "mapbox": {
           "style": "light"
          },
          "paper_bgcolor": "white",
          "plot_bgcolor": "white",
          "polar": {
           "angularaxis": {
            "gridcolor": "rgb(232,232,232)",
            "linecolor": "rgb(36,36,36)",
            "showgrid": false,
            "showline": true,
            "ticks": "outside"
           },
           "bgcolor": "white",
           "radialaxis": {
            "gridcolor": "rgb(232,232,232)",
            "linecolor": "rgb(36,36,36)",
            "showgrid": false,
            "showline": true,
            "ticks": "outside"
           }
          },
          "scene": {
           "xaxis": {
            "backgroundcolor": "white",
            "gridcolor": "rgb(232,232,232)",
            "gridwidth": 2,
            "linecolor": "rgb(36,36,36)",
            "showbackground": true,
            "showgrid": false,
            "showline": true,
            "ticks": "outside",
            "zeroline": false,
            "zerolinecolor": "rgb(36,36,36)"
           },
           "yaxis": {
            "backgroundcolor": "white",
            "gridcolor": "rgb(232,232,232)",
            "gridwidth": 2,
            "linecolor": "rgb(36,36,36)",
            "showbackground": true,
            "showgrid": false,
            "showline": true,
            "ticks": "outside",
            "zeroline": false,
            "zerolinecolor": "rgb(36,36,36)"
           },
           "zaxis": {
            "backgroundcolor": "white",
            "gridcolor": "rgb(232,232,232)",
            "gridwidth": 2,
            "linecolor": "rgb(36,36,36)",
            "showbackground": true,
            "showgrid": false,
            "showline": true,
            "ticks": "outside",
            "zeroline": false,
            "zerolinecolor": "rgb(36,36,36)"
           }
          },
          "shapedefaults": {
           "fillcolor": "black",
           "line": {
            "width": 0
           },
           "opacity": 0.3
          },
          "ternary": {
           "aaxis": {
            "gridcolor": "rgb(232,232,232)",
            "linecolor": "rgb(36,36,36)",
            "showgrid": false,
            "showline": true,
            "ticks": "outside"
           },
           "baxis": {
            "gridcolor": "rgb(232,232,232)",
            "linecolor": "rgb(36,36,36)",
            "showgrid": false,
            "showline": true,
            "ticks": "outside"
           },
           "bgcolor": "white",
           "caxis": {
            "gridcolor": "rgb(232,232,232)",
            "linecolor": "rgb(36,36,36)",
            "showgrid": false,
            "showline": true,
            "ticks": "outside"
           }
          },
          "title": {
           "x": 0.05
          },
          "xaxis": {
           "automargin": true,
           "gridcolor": "rgb(232,232,232)",
           "linecolor": "rgb(36,36,36)",
           "showgrid": false,
           "showline": true,
           "ticks": "outside",
           "title": {
            "standoff": 15
           },
           "zeroline": false,
           "zerolinecolor": "rgb(36,36,36)"
          },
          "yaxis": {
           "automargin": true,
           "gridcolor": "rgb(232,232,232)",
           "linecolor": "rgb(36,36,36)",
           "showgrid": false,
           "showline": true,
           "ticks": "outside",
           "title": {
            "standoff": 15
           },
           "zeroline": false,
           "zerolinecolor": "rgb(36,36,36)"
          }
         }
        },
        "title": {
         "font": {
          "color": "Black",
          "size": 22
         },
         "text": "<b>Topics over Time</b>",
         "x": 0.4,
         "xanchor": "center",
         "y": 0.95,
         "yanchor": "top"
        },
        "width": 1250,
        "xaxis": {
         "autorange": true,
         "range": [
          1978,
          2024
         ],
         "showgrid": true,
         "type": "linear"
        },
        "yaxis": {
         "autorange": true,
         "range": [
          -0.16666666666666652,
          23.166666666666668
         ],
         "showgrid": true,
         "title": {
          "text": "Frequency"
         },
         "type": "linear"
        }
       }
      },
      "image/png": "[encoded data removed]",
      "text/html": [
       "<div>                            <div id=\"0a556fa7-d750-4796-a17c-e5b1b700b581\" class=\"plotly-graph-div\" style=\"height:450px; width:1250px;\"></div>            <script type=\"text/javascript\">                require([\"plotly\"], function(Plotly) {                    window.PLOTLYENV=window.PLOTLYENV || {};                                    if (document.getElementById(\"0a556fa7-d750-4796-a17c-e5b1b700b581\")) {                    Plotly.newPlot(                        \"0a556fa7-d750-4796-a17c-e5b1b700b581\",                        [{\"hoverinfo\":\"text\",\"hovertext\":[\"\\u003cb\\u003eTopic 3\\u003c\\u002fb\\u003e\\u003cbr\\u003eWords: energy, trade, oil, foreign, unemployment\",\"\\u003cb\\u003eTopic 3\\u003c\\u002fb\\u003e\\u003cbr\\u003eWords: congressional, era, major, premier, sunshine\",\"\\u003cb\\u003eTopic 3\\u003c\\u002fb\\u003e\\u003cbr\\u003eWords: energy, conservation, oil, gasoline, conserve\",\"\\u003cb\\u003eTopic 3\\u003c\\u002fb\\u003e\\u003cbr\\u003eWords: regulatory, regulations, fuels, energy, new\",\"\\u003cb\\u003eTopic 3\\u003c\\u002fb\\u003e\\u003cbr\\u003eWords: air, regulations, federal, heating, deregulating\",\"\\u003cb\\u003eTopic 3\\u003c\\u002fb\\u003e\\u003cbr\\u003eWords: trade, pioneer, port, technology, frontier\",\"\\u003cb\\u003eTopic 3\\u003c\\u002fb\\u003e\\u003cbr\\u003eWords: space, develop, energy, frontier, new\",\"\\u003cb\\u003eTopic 3\\u003c\\u002fb\\u003e\\u003cbr\\u003eWords: space, trade, energy, research, new\",\"\\u003cb\\u003eTopic 3\\u003c\\u002fb\\u003e\\u003cbr\\u003eWords: space, trade, forward, going, earth\",\"\\u003cb\\u003eTopic 3\\u003c\\u002fb\\u003e\\u003cbr\\u003eWords: trade, competitiveness, enter, new, excellence\",\"\\u003cb\\u003eTopic 3\\u003c\\u002fb\\u003e\\u003cbr\\u003eWords: trade, free, north, mutually, arctic\",\"\\u003cb\\u003eTopic 3\\u003c\\u002fb\\u003e\\u003cbr\\u003eWords: space, oceans, clean, new, agreement\",\"\\u003cb\\u003eTopic 3\\u003c\\u002fb\\u003e\\u003cbr\\u003eWords: environmental, beautiful, billion, generations, forestland\",\"\\u003cb\\u003eTopic 3\\u003c\\u002fb\\u003e\\u003cbr\\u003eWords: trade, outwork, real, uruguay, anytime\",\"\\u003cb\\u003eTopic 3\\u003c\\u002fb\\u003e\\u003cbr\\u003eWords: trade, major, departments, agencies, growth\",\"\\u003cb\\u003eTopic 3\\u003c\\u002fb\\u003e\\u003cbr\\u003eWords: energy, trade, unlike, completion, tax\",\"\\u003cb\\u003eTopic 3\\u003c\\u002fb\\u003e\\u003cbr\\u003eWords: safer, cleaner, fairness, water, regulations\",\"\\u003cb\\u003eTopic 3\\u003c\\u002fb\\u003e\\u003cbr\\u003eWords: toxic, water, polluters, environment, air\",\"\\u003cb\\u003eTopic 3\\u003c\\u002fb\\u003e\\u003cbr\\u003eWords: china, clean, rivers, environment, trade\",\"\\u003cb\\u003eTopic 3\\u003c\\u002fb\\u003e\\u003cbr\\u003eWords: trade, new, energy, clean, space\",\"\\u003cb\\u003eTopic 3\\u003c\\u002fb\\u003e\\u003cbr\\u003eWords: trade, china, world, id, energy\",\"\\u003cb\\u003eTopic 3\\u003c\\u002fb\\u003e\\u003cbr\\u003eWords: trade, china, energy, new, technology\",\"\\u003cb\\u003eTopic 3\\u003c\\u002fb\\u003e\\u003cbr\\u003eWords: energy, conservation, trade, road, fork\",\"\\u003cb\\u003eTopic 3\\u003c\\u002fb\\u003e\\u003cbr\\u003eWords: trade, energy, jobs, depend, act\",\"\\u003cb\\u003eTopic 3\\u003c\\u002fb\\u003e\\u003cbr\\u003eWords: energy, environment, hydrogen, forests, sent\",\"\\u003cb\\u003eTopic 3\\u003c\\u002fb\\u003e\\u003cbr\\u003eWords: energy, electricity, supplies, reliable, dependent\",\"\\u003cb\\u003eTopic 3\\u003c\\u002fb\\u003e\\u003cbr\\u003eWords: energy, sources, clean, leadingedge, hydrogenfueled\",\"\\u003cb\\u003eTopic 3\\u003c\\u002fb\\u003e\\u003cbr\\u003eWords: energy, research, oil, competitive, ethanol\",\"\\u003cb\\u003eTopic 3\\u003c\\u002fb\\u003e\\u003cbr\\u003eWords: oil, supply, clean, energy, fuel\",\"\\u003cb\\u003eTopic 3\\u003c\\u002fb\\u003e\\u003cbr\\u003eWords: trade, agreement, energy, agreements, new\",\"\\u003cb\\u003eTopic 3\\u003c\\u002fb\\u003e\\u003cbr\\u003eWords: energy, renewable, clean, power, history\",\"\\u003cb\\u003eTopic 3\\u003c\\u002fb\\u003e\\u003cbr\\u003eWords: energy, clean, jobs, trade, create\",\"\\u003cb\\u003eTopic 3\\u003c\\u002fb\\u003e\\u003cbr\\u003eWords: energy, jobs, clean, trade, innovation\",\"\\u003cb\\u003eTopic 3\\u003c\\u002fb\\u003e\\u003cbr\\u003eWords: energy, oil, gas, clean, years\",\"\\u003cb\\u003eTopic 3\\u003c\\u002fb\\u003e\\u003cbr\\u003eWords: energy, gas, jobs, oil, trade\",\"\\u003cb\\u003eTopic 3\\u003c\\u002fb\\u003e\\u003cbr\\u003eWords: energy, jobs, new, natural, gas\",\"\\u003cb\\u003eTopic 3\\u003c\\u002fb\\u003e\\u003cbr\\u003eWords: trade, energy, businesses, oil, lets\",\"\\u003cb\\u003eTopic 3\\u003c\\u002fb\\u003e\\u003cbr\\u003eWords: energy, dirtier, clean, oil, space\",\"\\u003cb\\u003eTopic 3\\u003c\\u002fb\\u003e\\u003cbr\\u003eWords: trade, new, infrastructure, regulations, pipelines\",\"\\u003cb\\u003eTopic 3\\u003c\\u002fb\\u003e\\u003cbr\\u003eWords: trade, american, building, energy, deals\",\"\\u003cb\\u003eTopic 3\\u003c\\u002fb\\u003e\\u003cbr\\u003eWords: trade, nafta, american, infrastructure, buzz\",\"\\u003cb\\u003eTopic 3\\u003c\\u002fb\\u003e\\u003cbr\\u003eWords: trade, energy, china, reciprocity, trees\",\"\\u003cb\\u003eTopic 3\\u003c\\u002fb\\u003e\\u003cbr\\u003eWords: jobs, creates, american, climate, clean\",\"\\u003cb\\u003eTopic 3\\u003c\\u002fb\\u003e\\u003cbr\\u003eWords: energy, barrels, clean, airports, america\",\"\\u003cb\\u003eTopic 3\\u003c\\u002fb\\u003e\\u003cbr\\u003eWords: infrastructure, energy, going, china, world\",\"\\u003cb\\u003eTopic 3\\u003c\\u002fb\\u003e\\u003cbr\\u003eWords: climate, clean, energy, china, communities\"],\"marker\":{\"color\":\"#E69F00\"},\"mode\":\"lines\",\"name\":\"3_energy_trade_clean_new\",\"x\":[1978,1979,1980,1981,1982,1983,1984,1985,1986,1987,1988,1989,1990,1991,1992,1993,1995,1996,1997,1998,1999,2000,2001,2002,2003,2004,2005,2006,2007,2008,2009,2010,2011,2012,2013,2014,2015,2016,2017,2018,2019,2020,2021,2022,2023,2024],\"y\":[9,5,7,8,2,6,12,9,2,2,1,6,2,2,2,3,1,4,8,9,10,13,5,3,4,1,1,7,6,8,5,7,22,16,11,9,8,6,6,5,6,7,10,6,21,9],\"type\":\"scatter\"},{\"hoverinfo\":\"text\",\"hovertext\":[\"\\u003cb\\u003eTopic 4\\u003c\\u002fb\\u003e\\u003cbr\\u003eWords: village, passionately, fulfillment, attached, liberties\",\"\\u003cb\\u003eTopic 4\\u003c\\u002fb\\u003e\\u003cbr\\u003eWords: provide, restrained, demonstrated, nutrition, disadvantaged\",\"\\u003cb\\u003eTopic 4\\u003c\\u002fb\\u003e\\u003cbr\\u003eWords: concentrating, young, 1980s, minority, youth\",\"\\u003cb\\u003eTopic 4\\u003c\\u002fb\\u003e\\u003cbr\\u003eWords: aid, total, percent, schools, insisted\",\"\\u003cb\\u003eTopic 4\\u003c\\u002fb\\u003e\\u003cbr\\u003eWords: help, programs, enterprise, discredited, volunteer\",\"\\u003cb\\u003eTopic 4\\u003c\\u002fb\\u003e\\u003cbr\\u003eWords: education, private, initiatives, sector, math\",\"\\u003cb\\u003eTopic 4\\u003c\\u002fb\\u003e\\u003cbr\\u003eWords: excellence, schools, education, help, school\",\"\\u003cb\\u003eTopic 4\\u003c\\u002fb\\u003e\\u003cbr\\u003eWords: basics, goes, help, refound, answering\",\"\\u003cb\\u003eTopic 4\\u003c\\u002fb\\u003e\\u003cbr\\u003eWords: education, 1963, renaissance, yearslast, lawlessness\",\"\\u003cb\\u003eTopic 4\\u003c\\u002fb\\u003e\\u003cbr\\u003eWords: children, basic, concepts, rigorous, documents\",\"\\u003cb\\u003eTopic 4\\u003c\\u002fb\\u003e\\u003cbr\\u003eWords: spend, schools, teachers, education, test\",\"\\u003cb\\u003eTopic 4\\u003c\\u002fb\\u003e\\u003cbr\\u003eWords: education, students, schools, program, teachers\",\"\\u003cb\\u003eTopic 4\\u003c\\u002fb\\u003e\\u003cbr\\u003eWords: education, kids, governor, schools, tell\",\"\\u003cb\\u003eTopic 4\\u003c\\u002fb\\u003e\\u003cbr\\u003eWords: means, birthright, tenant, power, ownership\",\"\\u003cb\\u003eTopic 4\\u003c\\u002fb\\u003e\\u003cbr\\u003eWords: schools, highly, 2000, education, allow\",\"\\u003cb\\u003eTopic 4\\u003c\\u002fb\\u003e\\u003cbr\\u003eWords: education, program, jobs, school, service\",\"\\u003cb\\u003eTopic 4\\u003c\\u002fb\\u003e\\u003cbr\\u003eWords: school, kids, worldclass, children, teachers\",\"\\u003cb\\u003eTopic 4\\u003c\\u002fb\\u003e\\u003cbr\\u003eWords: education, school, college, americorps, lot\",\"\\u003cb\\u003eTopic 4\\u003c\\u002fb\\u003e\\u003cbr\\u003eWords: schools, challenge, teachers, college, school\",\"\\u003cb\\u003eTopic 4\\u003c\\u002fb\\u003e\\u003cbr\\u003eWords: school, schools, education, college, children\",\"\\u003cb\\u003eTopic 4\\u003c\\u002fb\\u003e\\u003cbr\\u003eWords: college, education, schools, children, school\",\"\\u003cb\\u003eTopic 4\\u003c\\u002fb\\u003e\\u003cbr\\u003eWords: schools, school, teachers, children, college\",\"\\u003cb\\u003eTopic 4\\u003c\\u002fb\\u003e\\u003cbr\\u003eWords: schools, college, school, help, teachers\",\"\\u003cb\\u003eTopic 4\\u003c\\u002fb\\u003e\\u003cbr\\u003eWords: schools, reading, education, mayor, teaching\",\"\\u003cb\\u003eTopic 4\\u003c\\u002fb\\u003e\\u003cbr\\u003eWords: corps, teacher, need, children, freedom\",\"\\u003cb\\u003eTopic 4\\u003c\\u002fb\\u003e\\u003cbr\\u003eWords: mentors, person, 450, recruiting, enlisting\",\"\\u003cb\\u003eTopic 4\\u003c\\u002fb\\u003e\\u003cbr\\u003eWords: schools, math, children, help, students\",\"\\u003cb\\u003eTopic 4\\u003c\\u002fb\\u003e\\u003cbr\\u003eWords: training, high, generation, values, children\",\"\\u003cb\\u003eTopic 4\\u003c\\u002fb\\u003e\\u003cbr\\u003eWords: math, science, courses, children, direction\",\"\\u003cb\\u003eTopic 4\\u003c\\u002fb\\u003e\\u003cbr\\u003eWords: schools, children, students, local, failing\",\"\\u003cb\\u003eTopic 4\\u003c\\u002fb\\u003e\\u003cbr\\u003eWords: schools, children, faithbased, students, help\",\"\\u003cb\\u003eTopic 4\\u003c\\u002fb\\u003e\\u003cbr\\u003eWords: education, school, college, high, schools\",\"\\u003cb\\u003eTopic 4\\u003c\\u002fb\\u003e\\u003cbr\\u003eWords: college, education, student, schools, loans\",\"\\u003cb\\u003eTopic 4\\u003c\\u002fb\\u003e\\u003cbr\\u003eWords: schools, education, school, college, students\",\"\\u003cb\\u003eTopic 4\\u003c\\u002fb\\u003e\\u003cbr\\u003eWords: education, students, college, teachers, tuition\",\"\\u003cb\\u003eTopic 4\\u003c\\u002fb\\u003e\\u003cbr\\u003eWords: education, higher, schools, high, students\",\"\\u003cb\\u003eTopic 4\\u003c\\u002fb\\u003e\\u003cbr\\u003eWords: education, college, schools, help, students\",\"\\u003cb\\u003eTopic 4\\u003c\\u002fb\\u003e\\u003cbr\\u003eWords: college, want, education, community, school\",\"\\u003cb\\u003eTopic 4\\u003c\\u002fb\\u003e\\u003cbr\\u003eWords: student, college, education, job, need\",\"\\u003cb\\u003eTopic 4\\u003c\\u002fb\\u003e\\u003cbr\\u003eWords: school, education, magnet, denisha, masters\",\"\\u003cb\\u003eTopic 4\\u003c\\u002fb\\u003e\\u003cbr\\u003eWords: governmentwide, firstever, thursday, women, focused\",\"\\u003cb\\u003eTopic 4\\u003c\\u002fb\\u003e\\u003cbr\\u003eWords: tony, janiyah, opportunity, school, students\",\"\\u003cb\\u003eTopic 4\\u003c\\u002fb\\u003e\\u003cbr\\u003eWords: education, years, century, college, 12\",\"\\u003cb\\u003eTopic 4\\u003c\\u002fb\\u003e\\u003cbr\\u003eWords: best, career, school, education, outeducates\",\"\\u003cb\\u003eTopic 4\\u003c\\u002fb\\u003e\\u003cbr\\u003eWords: keenan, college, student, education, school\"],\"marker\":{\"color\":\"#56B4E9\"},\"mode\":\"lines\",\"name\":\"4_schools_education_school_college\",\"x\":[1978,1979,1980,1981,1982,1983,1984,1985,1986,1987,1988,1989,1990,1991,1992,1993,1994,1995,1996,1997,1998,1999,2000,2001,2002,2003,2004,2005,2006,2007,2008,2009,2010,2011,2012,2013,2014,2015,2016,2017,2019,2020,2021,2023,2024],\"y\":[2,1,1,1,4,4,5,4,1,1,2,5,11,1,2,8,5,6,11,22,9,19,14,10,3,1,6,2,2,2,5,9,5,12,12,8,9,7,3,2,1,9,6,6,9],\"type\":\"scatter\"}],                        {\"template\":{\"data\":{\"barpolar\":[{\"marker\":{\"line\":{\"color\":\"white\",\"width\":0.5},\"pattern\":{\"fillmode\":\"overlay\",\"size\":10,\"solidity\":0.2}},\"type\":\"barpolar\"}],\"bar\":[{\"error_x\":{\"color\":\"rgb(36,36,36)\"},\"error_y\":{\"color\":\"rgb(36,36,36)\"},\"marker\":{\"line\":{\"color\":\"white\",\"width\":0.5},\"pattern\":{\"fillmode\":\"overlay\",\"size\":10,\"solidity\":0.2}},\"type\":\"bar\"}],\"carpet\":[{\"aaxis\":{\"endlinecolor\":\"rgb(36,36,36)\",\"gridcolor\":\"white\",\"linecolor\":\"white\",\"minorgridcolor\":\"white\",\"startlinecolor\":\"rgb(36,36,36)\"},\"baxis\":{\"endlinecolor\":\"rgb(36,36,36)\",\"gridcolor\":\"white\",\"linecolor\":\"white\",\"minorgridcolor\":\"white\",\"startlinecolor\":\"rgb(36,36,36)\"},\"type\":\"carpet\"}],\"choropleth\":[{\"colorbar\":{\"outlinewidth\":1,\"tickcolor\":\"rgb(36,36,36)\",\"ticks\":\"outside\"},\"type\":\"choropleth\"}],\"contourcarpet\":[{\"colorbar\":{\"outlinewidth\":1,\"tickcolor\":\"rgb(36,36,36)\",\"ticks\":\"outside\"},\"type\":\"contourcarpet\"}],\"contour\":[{\"colorbar\":{\"outlinewidth\":1,\"tickcolor\":\"rgb(36,36,36)\",\"ticks\":\"outside\"},\"colorscale\":[[0.0,\"#440154\"],[0.1111111111111111,\"#482878\"],[0.2222222222222222,\"#3e4989\"],[0.3333333333333333,\"#31688e\"],[0.4444444444444444,\"#26828e\"],[0.5555555555555556,\"#1f9e89\"],[0.6666666666666666,\"#35b779\"],[0.7777777777777778,\"#6ece58\"],[0.8888888888888888,\"#b5de2b\"],[1.0,\"#fde725\"]],\"type\":\"contour\"}],\"heatmapgl\":[{\"colorbar\":{\"outlinewidth\":1,\"tickcolor\":\"rgb(36,36,36)\",\"ticks\":\"outside\"},\"colorscale\":[[0.0,\"#440154\"],[0.1111111111111111,\"#482878\"],[0.2222222222222222,\"#3e4989\"],[0.3333333333333333,\"#31688e\"],[0.4444444444444444,\"#26828e\"],[0.5555555555555556,\"#1f9e89\"],[0.6666666666666666,\"#35b779\"],[0.7777777777777778,\"#6ece58\"],[0.8888888888888888,\"#b5de2b\"],[1.0,\"#fde725\"]],\"type\":\"heatmapgl\"}],\"heatmap\":[{\"colorbar\":{\"outlinewidth\":1,\"tickcolor\":\"rgb(36,36,36)\",\"ticks\":\"outside\"},\"colorscale\":[[0.0,\"#440154\"],[0.1111111111111111,\"#482878\"],[0.2222222222222222,\"#3e4989\"],[0.3333333333333333,\"#31688e\"],[0.4444444444444444,\"#26828e\"],[0.5555555555555556,\"#1f9e89\"],[0.6666666666666666,\"#35b779\"],[0.7777777777777778,\"#6ece58\"],[0.8888888888888888,\"#b5de2b\"],[1.0,\"#fde725\"]],\"type\":\"heatmap\"}],\"histogram2dcontour\":[{\"colorbar\":{\"outlinewidth\":1,\"tickcolor\":\"rgb(36,36,36)\",\"ticks\":\"outside\"},\"colorscale\":[[0.0,\"#440154\"],[0.1111111111111111,\"#482878\"],[0.2222222222222222,\"#3e4989\"],[0.3333333333333333,\"#31688e\"],[0.4444444444444444,\"#26828e\"],[0.5555555555555556,\"#1f9e89\"],[0.6666666666666666,\"#35b779\"],[0.7777777777777778,\"#6ece58\"],[0.8888888888888888,\"#b5de2b\"],[1.0,\"#fde725\"]],\"type\":\"histogram2dcontour\"}],\"histogram2d\":[{\"colorbar\":{\"outlinewidth\":1,\"tickcolor\":\"rgb(36,36,36)\",\"ticks\":\"outside\"},\"colorscale\":[[0.0,\"#440154\"],[0.1111111111111111,\"#482878\"],[0.2222222222222222,\"#3e4989\"],[0.3333333333333333,\"#31688e\"],[0.4444444444444444,\"#26828e\"],[0.5555555555555556,\"#1f9e89\"],[0.6666666666666666,\"#35b779\"],[0.7777777777777778,\"#6ece58\"],[0.8888888888888888,\"#b5de2b\"],[1.0,\"#fde725\"]],\"type\":\"histogram2d\"}],\"histogram\":[{\"marker\":{\"line\":{\"color\":\"white\",\"width\":0.6}},\"type\":\"histogram\"}],\"mesh3d\":[{\"colorbar\":{\"outlinewidth\":1,\"tickcolor\":\"rgb(36,36,36)\",\"ticks\":\"outside\"},\"type\":\"mesh3d\"}],\"parcoords\":[{\"line\":{\"colorbar\":{\"outlinewidth\":1,\"tickcolor\":\"rgb(36,36,36)\",\"ticks\":\"outside\"}},\"type\":\"parcoords\"}],\"pie\":[{\"automargin\":true,\"type\":\"pie\"}],\"scatter3d\":[{\"line\":{\"colorbar\":{\"outlinewidth\":1,\"tickcolor\":\"rgb(36,36,36)\",\"ticks\":\"outside\"}},\"marker\":{\"colorbar\":{\"outlinewidth\":1,\"tickcolor\":\"rgb(36,36,36)\",\"ticks\":\"outside\"}},\"type\":\"scatter3d\"}],\"scattercarpet\":[{\"marker\":{\"colorbar\":{\"outlinewidth\":1,\"tickcolor\":\"rgb(36,36,36)\",\"ticks\":\"outside\"}},\"type\":\"scattercarpet\"}],\"scattergeo\":[{\"marker\":{\"colorbar\":{\"outlinewidth\":1,\"tickcolor\":\"rgb(36,36,36)\",\"ticks\":\"outside\"}},\"type\":\"scattergeo\"}],\"scattergl\":[{\"marker\":{\"colorbar\":{\"outlinewidth\":1,\"tickcolor\":\"rgb(36,36,36)\",\"ticks\":\"outside\"}},\"type\":\"scattergl\"}],\"scattermapbox\":[{\"marker\":{\"colorbar\":{\"outlinewidth\":1,\"tickcolor\":\"rgb(36,36,36)\",\"ticks\":\"outside\"}},\"type\":\"scattermapbox\"}],\"scatterpolargl\":[{\"marker\":{\"colorbar\":{\"outlinewidth\":1,\"tickcolor\":\"rgb(36,36,36)\",\"ticks\":\"outside\"}},\"type\":\"scatterpolargl\"}],\"scatterpolar\":[{\"marker\":{\"colorbar\":{\"outlinewidth\":1,\"tickcolor\":\"rgb(36,36,36)\",\"ticks\":\"outside\"}},\"type\":\"scatterpolar\"}],\"scatter\":[{\"fillpattern\":{\"fillmode\":\"overlay\",\"size\":10,\"solidity\":0.2},\"type\":\"scatter\"}],\"scatterternary\":[{\"marker\":{\"colorbar\":{\"outlinewidth\":1,\"tickcolor\":\"rgb(36,36,36)\",\"ticks\":\"outside\"}},\"type\":\"scatterternary\"}],\"surface\":[{\"colorbar\":{\"outlinewidth\":1,\"tickcolor\":\"rgb(36,36,36)\",\"ticks\":\"outside\"},\"colorscale\":[[0.0,\"#440154\"],[0.1111111111111111,\"#482878\"],[0.2222222222222222,\"#3e4989\"],[0.3333333333333333,\"#31688e\"],[0.4444444444444444,\"#26828e\"],[0.5555555555555556,\"#1f9e89\"],[0.6666666666666666,\"#35b779\"],[0.7777777777777778,\"#6ece58\"],[0.8888888888888888,\"#b5de2b\"],[1.0,\"#fde725\"]],\"type\":\"surface\"}],\"table\":[{\"cells\":{\"fill\":{\"color\":\"rgb(237,237,237)\"},\"line\":{\"color\":\"white\"}},\"header\":{\"fill\":{\"color\":\"rgb(217,217,217)\"},\"line\":{\"color\":\"white\"}},\"type\":\"table\"}]},\"layout\":{\"annotationdefaults\":{\"arrowhead\":0,\"arrowwidth\":1},\"autotypenumbers\":\"strict\",\"coloraxis\":{\"colorbar\":{\"outlinewidth\":1,\"tickcolor\":\"rgb(36,36,36)\",\"ticks\":\"outside\"}},\"colorscale\":{\"diverging\":[[0.0,\"rgb(103,0,31)\"],[0.1,\"rgb(178,24,43)\"],[0.2,\"rgb(214,96,77)\"],[0.3,\"rgb(244,165,130)\"],[0.4,\"rgb(253,219,199)\"],[0.5,\"rgb(247,247,247)\"],[0.6,\"rgb(209,229,240)\"],[0.7,\"rgb(146,197,222)\"],[0.8,\"rgb(67,147,195)\"],[0.9,\"rgb(33,102,172)\"],[1.0,\"rgb(5,48,97)\"]],\"sequential\":[[0.0,\"#440154\"],[0.1111111111111111,\"#482878\"],[0.2222222222222222,\"#3e4989\"],[0.3333333333333333,\"#31688e\"],[0.4444444444444444,\"#26828e\"],[0.5555555555555556,\"#1f9e89\"],[0.6666666666666666,\"#35b779\"],[0.7777777777777778,\"#6ece58\"],[0.8888888888888888,\"#b5de2b\"],[1.0,\"#fde725\"]],\"sequentialminus\":[[0.0,\"#440154\"],[0.1111111111111111,\"#482878\"],[0.2222222222222222,\"#3e4989\"],[0.3333333333333333,\"#31688e\"],[0.4444444444444444,\"#26828e\"],[0.5555555555555556,\"#1f9e89\"],[0.6666666666666666,\"#35b779\"],[0.7777777777777778,\"#6ece58\"],[0.8888888888888888,\"#b5de2b\"],[1.0,\"#fde725\"]]},\"colorway\":[\"#1F77B4\",\"#FF7F0E\",\"#2CA02C\",\"#D62728\",\"#9467BD\",\"#8C564B\",\"#E377C2\",\"#7F7F7F\",\"#BCBD22\",\"#17BECF\"],\"font\":{\"color\":\"rgb(36,36,36)\"},\"geo\":{\"bgcolor\":\"white\",\"lakecolor\":\"white\",\"landcolor\":\"white\",\"showlakes\":true,\"showland\":true,\"subunitcolor\":\"white\"},\"hoverlabel\":{\"align\":\"left\"},\"hovermode\":\"closest\",\"mapbox\":{\"style\":\"light\"},\"paper_bgcolor\":\"white\",\"plot_bgcolor\":\"white\",\"polar\":{\"angularaxis\":{\"gridcolor\":\"rgb(232,232,232)\",\"linecolor\":\"rgb(36,36,36)\",\"showgrid\":false,\"showline\":true,\"ticks\":\"outside\"},\"bgcolor\":\"white\",\"radialaxis\":{\"gridcolor\":\"rgb(232,232,232)\",\"linecolor\":\"rgb(36,36,36)\",\"showgrid\":false,\"showline\":true,\"ticks\":\"outside\"}},\"scene\":{\"xaxis\":{\"backgroundcolor\":\"white\",\"gridcolor\":\"rgb(232,232,232)\",\"gridwidth\":2,\"linecolor\":\"rgb(36,36,36)\",\"showbackground\":true,\"showgrid\":false,\"showline\":true,\"ticks\":\"outside\",\"zeroline\":false,\"zerolinecolor\":\"rgb(36,36,36)\"},\"yaxis\":{\"backgroundcolor\":\"white\",\"gridcolor\":\"rgb(232,232,232)\",\"gridwidth\":2,\"linecolor\":\"rgb(36,36,36)\",\"showbackground\":true,\"showgrid\":false,\"showline\":true,\"ticks\":\"outside\",\"zeroline\":false,\"zerolinecolor\":\"rgb(36,36,36)\"},\"zaxis\":{\"backgroundcolor\":\"white\",\"gridcolor\":\"rgb(232,232,232)\",\"gridwidth\":2,\"linecolor\":\"rgb(36,36,36)\",\"showbackground\":true,\"showgrid\":false,\"showline\":true,\"ticks\":\"outside\",\"zeroline\":false,\"zerolinecolor\":\"rgb(36,36,36)\"}},\"shapedefaults\":{\"fillcolor\":\"black\",\"line\":{\"width\":0},\"opacity\":0.3},\"ternary\":{\"aaxis\":{\"gridcolor\":\"rgb(232,232,232)\",\"linecolor\":\"rgb(36,36,36)\",\"showgrid\":false,\"showline\":true,\"ticks\":\"outside\"},\"baxis\":{\"gridcolor\":\"rgb(232,232,232)\",\"linecolor\":\"rgb(36,36,36)\",\"showgrid\":false,\"showline\":true,\"ticks\":\"outside\"},\"bgcolor\":\"white\",\"caxis\":{\"gridcolor\":\"rgb(232,232,232)\",\"linecolor\":\"rgb(36,36,36)\",\"showgrid\":false,\"showline\":true,\"ticks\":\"outside\"}},\"title\":{\"x\":0.05},\"xaxis\":{\"automargin\":true,\"gridcolor\":\"rgb(232,232,232)\",\"linecolor\":\"rgb(36,36,36)\",\"showgrid\":false,\"showline\":true,\"ticks\":\"outside\",\"title\":{\"standoff\":15},\"zeroline\":false,\"zerolinecolor\":\"rgb(36,36,36)\"},\"yaxis\":{\"automargin\":true,\"gridcolor\":\"rgb(232,232,232)\",\"linecolor\":\"rgb(36,36,36)\",\"showgrid\":false,\"showline\":true,\"ticks\":\"outside\",\"title\":{\"standoff\":15},\"zeroline\":false,\"zerolinecolor\":\"rgb(36,36,36)\"}}},\"xaxis\":{\"showgrid\":true},\"yaxis\":{\"showgrid\":true,\"title\":{\"text\":\"Frequency\"}},\"title\":{\"font\":{\"size\":22,\"color\":\"Black\"},\"text\":\"\\u003cb\\u003eTopics over Time\\u003c\\u002fb\\u003e\",\"y\":0.95,\"x\":0.4,\"xanchor\":\"center\",\"yanchor\":\"top\"},\"hoverlabel\":{\"font\":{\"size\":16,\"family\":\"Rockwell\"},\"bgcolor\":\"white\"},\"width\":1250,\"height\":450,\"legend\":{\"title\":{\"text\":\"\\u003cb\\u003eGlobal Topic Representation\"}}},                        {\"responsive\": true}                    ).then(function(){\n",
       "                            \n",
       "var gd = document.getElementById('0a556fa7-d750-4796-a17c-e5b1b700b581');\n",
       "var x = new MutationObserver(function (mutations, observer) {{\n",
       "        var display = window.getComputedStyle(gd).display;\n",
       "        if (!display || display === 'none') {{\n",
       "            console.log([gd, 'removed!']);\n",
       "            Plotly.purge(gd);\n",
       "            observer.disconnect();\n",
       "        }}\n",
       "}});\n",
       "\n",
       "// Listen for the removal of the full notebook cells\n",
       "var notebookContainer = gd.closest('#notebook-container');\n",
       "if (notebookContainer) {{\n",
       "    x.observe(notebookContainer, {childList: true});\n",
       "}}\n",
       "\n",
       "// Listen for the clearing of the current output cell\n",
       "var outputEl = gd.closest('.output');\n",
       "if (outputEl) {{\n",
       "    x.observe(outputEl, {childList: true});\n",
       "}}\n",
       "\n",
       "                        })                };                });            </script>        </div>"
      ]
     },
     "metadata": {},
     "output_type": "display_data"
    }
   ],
   "source": [
    "topics_over_time = model.topics_over_time(paragraphs, years)\n",
    "model.visualize_topics_over_time(topics_over_time, topics=[3,4])"
   ]
  },
  {
   "cell_type": "code",
   "execution_count": 150,
   "id": "2d3f7b2c-2624-4f46-9f60-bb428effae48",
   "metadata": {},
   "outputs": [
    {
     "data": {
      "text/plain": [
       "['What makes our moment rare is that freedom and democracy are under attack at—both at home and overseas at the very same time. Overseas, Putin of Russia is on the march, invading Ukraine and sowing chaos throughout Europe and beyond. If anybody in this room thinks Putin will stop at Ukraine, I assure you: He will not.',\n",
       " \"But Ukraine—[applause]. Ukraine can stop Putin. Ukraine can stop Putin if we stand with Ukraine and provide the weapons that it needs to defend itself. That is all—that is all—Ukraine is asking. They're not asking for American soldiers. In fact, there are no American soldiers at war in Ukraine, and I'm determined to keep it that way.\",\n",
       " 'But now assistance to Ukraine is being blocked by those who want to walk away from our world leadership. It wasn\\'t long ago when a Republican President named Ronald Reagan thundered, \"Mr. Gorbachev, tear down this wall.\" Now—[applause]. Now my predecessor, a former Republican President, tells Putin, quote, \"Do whatever the hell you want.\"',\n",
       " \"America is a founding member of NATO, the military alliance of democratic nations created after World War II prevent—to prevent war and keep the peace. And today we've made NATO stronger than ever. We welcomed Finland to the alliance last year. And just this morning Sweden officially joined, and their Minister is here tonight. Come here, stand up. Welcome. Welcome, welcome, welcome. And they know how to fight.\",\n",
       " 'Mr. Prime Minister, welcome to NATO, the strongest military alliance the world has ever seen.',\n",
       " 'I say this to Congress: We have to stand up to Putin. Send me a bipartisan national security bill. History is literally watching. History is watching. If the United States walks away, it will put Ukraine at risk. Europe is at risk. The free world will be at risk, emboldening others to do what they wish to do us harm.',\n",
       " \"My message to President Putin, who I've known for a long time, is simple: We will not walk away. We will not bow down. I will not bow down.\"]"
      ]
     },
     "execution_count": 150,
     "metadata": {},
     "output_type": "execute_result"
    }
   ],
   "source": [
    "# Find the paragraphs associated with a certain topic and year\n",
    "def get_topic_paragraphs_for_year(target_topic_number, target_year):\n",
    "    results = []\n",
    "    for topic_number, year, paragraph in zip(topics, paragraph_years, paragraphs):\n",
    "        if topic_number == target_topic_number and year == target_year:\n",
    "            results.append(paragraph)\n",
    "    return results\n",
    "\n",
    "get_topic_paragraphs_for_year(7, 2024)"
   ]
  },
  {
   "cell_type": "markdown",
   "id": "5f9875bd-3831-4e9c-adca-849ec7120250",
   "metadata": {},
   "source": [
    "## Problem 1: Topics\n",
    "For this problem and others, feel free to write additional code to support your answers. Refer to the [BERTopic](https://maartengr.github.io/BERTopic/index.html) documentation if you want to look for additional functionality."
   ]
  },
  {
   "cell_type": "markdown",
   "id": "c13e8633-d729-4c1f-a60f-2c16dcdf5b3f",
   "metadata": {},
   "source": [
    "1a. How coherent do the generated topics seem to you? For example, based on what you'd expect from the representative words, do the paragraphs labeled for that topic actually seem to line up with the topic as you understand it? Please answer in this cell with a paragraph or two. Feel free to support your write-up with additional code."
   ]
  },
  {
   "cell_type": "code",
   "execution_count": 122,
   "id": "dbcfbe65-6740-41e7-9832-edefc1e522b5",
   "metadata": {},
   "outputs": [],
   "source": [
    "# Your code here if you'd like to write some"
   ]
  },
  {
   "cell_type": "markdown",
   "id": "e87b9b04-0601-400d-a2c3-36122e8a5483",
   "metadata": {},
   "source": [
    "**(YOUR ANSWER HERE)**"
   ]
  },
  {
   "cell_type": "markdown",
   "id": "080c091c-a4f6-4464-b1d8-16838f7cf3ea",
   "metadata": {},
   "source": [
    "1b. For **two** topics of your choosing, observe how they trend over time. Given what these topics are _supposed_ to be about, do they trend as you would expect (based on, for example, real-world factors such as the president's party or real-world events occurring around the time of the speech), or do they deviate from your expectations? For example, you might expect a topic related to \"war\" or \"terrorism\" to become very frequent in 2002.\n",
    "\n",
    "Explain with a couple of paragraphs."
   ]
  },
  {
   "cell_type": "markdown",
   "id": "471f7b9c-34cf-4ee0-a9a9-ce40e88b6f23",
   "metadata": {},
   "source": [
    "**(YOUR ANSWER HERE)**"
   ]
  },
  {
   "cell_type": "code",
   "execution_count": 151,
   "id": "918af6ed-0d4d-423c-b2f4-bb9b08325d51",
   "metadata": {},
   "outputs": [
    {
     "data": {
      "application/vnd.plotly.v1+json": {
       "config": {
        "plotlyServerURL": "https://plot.ly"
       },
       "data": [
        {
         "hoverinfo": "text",
         "hovertext": [
          "<b>Topic 0</b><br>Words: tax, inflation, government, federal, budget",
          "<b>Topic 0</b><br>Words: inflation, antiinflation, government, budget, restraint",
          "<b>Topic 0</b><br>Words: inflation, defense, reduce, prices, budget",
          "<b>Topic 0</b><br>Words: tax, billion, federal, program, programs",
          "<b>Topic 0</b><br>Words: programs, federal, government, tax, budget",
          "<b>Topic 0</b><br>Words: spending, tax, budget, deficits, national",
          "<b>Topic 0</b><br>Words: spending, tax, budget, government, federal",
          "<b>Topic 0</b><br>Words: tax, growth, spending, federal, government",
          "<b>Topic 0</b><br>Words: budget, tax, federal, meet, grammrudmanhollings",
          "<b>Topic 0</b><br>Words: budget, suggestions, congress, government, deficit",
          "<b>Topic 0</b><br>Words: budget, federal, spending, deficits, lets",
          "<b>Topic 0</b><br>Words: budget, priorities, federal, plan, savings",
          "<b>Topic 0</b><br>Words: budget, deficit, gross, product, federal",
          "<b>Topic 0</b><br>Words: budget, federal, programs, spending, washington",
          "<b>Topic 0</b><br>Words: tax, federal, congress, budget, government",
          "<b>Topic 0</b><br>Words: deficit, tax, budget, federal, government",
          "<b>Topic 0</b><br>Words: produced, deficit, cut, spending, tax",
          "<b>Topic 0</b><br>Words: cut, government, tax, spending, budget",
          "<b>Topic 0</b><br>Words: budget, government, deficit, federal, rates",
          "<b>Topic 0</b><br>Words: budget, balance, drugs, amendment, balanced",
          "<b>Topic 0</b><br>Words: deficit, tax, projected, budget, social",
          "<b>Topic 0</b><br>Words: social, security, surplus, save, medicare",
          "<b>Topic 0</b><br>Words: save, retirement, budget, years, fiscal",
          "<b>Topic 0</b><br>Words: tax, social, security, percent, budget",
          "<b>Topic 0</b><br>Words: security, budget, homeland, priority, retirement",
          "<b>Topic 0</b><br>Words: income, tax, spending, taxes, economy",
          "<b>Topic 0</b><br>Words: unless, tax, taxes, act, congress",
          "<b>Topic 0</b><br>Words: social, security, retirement, benefits, workers",
          "<b>Topic 0</b><br>Words: tax, baby, relief, spending, social",
          "<b>Topic 0</b><br>Words: corps, federal, budget, reserve, armed",
          "<b>Topic 0</b><br>Words: taxes, tax, relief, budget, trust",
          "<b>Topic 0</b><br>Words: banks, tax, budget, lending, plan",
          "<b>Topic 0</b><br>Words: taxes, tax, deficit, hated, cut",
          "<b>Topic 0</b><br>Words: spending, tax, deficit, rid, domestic",
          "<b>Topic 0</b><br>Words: tax, youre, financial, right, taxes",
          "<b>Topic 0</b><br>Words: tax, deficit, reduction, cuts, rates",
          "<b>Topic 0</b><br>Words: lets, loopholes, retirement, tax, budget",
          "<b>Topic 0</b><br>Words: lets, loopholes, close, achieve, accumulated",
          "<b>Topic 0</b><br>Words: companies, tax, taxed, ship, countries",
          "<b>Topic 0</b><br>Words: tax, business, doubled, percent, massive",
          "<b>Topic 0</b><br>Words: alarmed, 716, socialism, billion, 700",
          "<b>Topic 0</b><br>Words: tax, pay, taxes, going, percent",
          "<b>Topic 0</b><br>Words: lower, tax, inflation, deficit, plan",
          "<b>Topic 0</b><br>Words: fair, pay, tax, plans, corporations",
          "<b>Topic 0</b><br>Words: pay, tax, fair, federal, wealthy"
         ],
         "marker": {
          "color": "#E69F00"
         },
         "mode": "lines",
         "name": "0_tax_budget_spending_federal",
         "type": "scatter",
         "x": [
          1978,
          1979,
          1980,
          1981,
          1982,
          1983,
          1984,
          1985,
          1986,
          1987,
          1988,
          1989,
          1990,
          1991,
          1992,
          1993,
          1994,
          1995,
          1996,
          1997,
          1998,
          1999,
          2000,
          2001,
          2002,
          2003,
          2004,
          2005,
          2006,
          2007,
          2008,
          2009,
          2010,
          2011,
          2012,
          2013,
          2014,
          2015,
          2017,
          2018,
          2019,
          2021,
          2022,
          2023,
          2024
         ],
         "y": [
          16,
          14,
          4,
          24,
          18,
          16,
          16,
          15,
          6,
          3,
          9,
          8,
          5,
          8,
          11,
          22,
          8,
          15,
          9,
          3,
          8,
          17,
          4,
          20,
          7,
          6,
          3,
          14,
          3,
          2,
          3,
          18,
          16,
          9,
          20,
          9,
          3,
          1,
          4,
          2,
          2,
          10,
          12,
          16,
          23
         ]
        },
        {
         "hoverinfo": "text",
         "hovertext": [
          "<b>Topic 1</b><br>Words: energy, trade, inflation, unemployment, economy",
          "<b>Topic 1</b><br>Words: economic, congressional, weve, era, major",
          "<b>Topic 1</b><br>Words: energy, conservation, oil, gasoline, conserve",
          "<b>Topic 1</b><br>Words: regulations, fuels, regulatory, subsidy, number",
          "<b>Topic 1</b><br>Words: recession, unemployment, 1981, 1980, air",
          "<b>Topic 1</b><br>Words: trade, pioneer, export, jobs, technology",
          "<b>Topic 1</b><br>Words: space, develop, new, frontier, transportation",
          "<b>Topic 1</b><br>Words: space, trade, new, energy, research",
          "<b>Topic 1</b><br>Words: space, forward, going, trade, earth",
          "<b>Topic 1</b><br>Words: trade, new, americas, world, competitiveness",
          "<b>Topic 1</b><br>Words: trade, free, americas, north, jobs",
          "<b>Topic 1</b><br>Words: space, oceans, new, clean, human",
          "<b>Topic 1</b><br>Words: environmental, beautiful, billion, generations, forestland",
          "<b>Topic 1</b><br>Words: trade, economic, exports, economy, jobs",
          "<b>Topic 1</b><br>Words: tell, trade, longterm, mood, thief",
          "<b>Topic 1</b><br>Words: energy, trade, unlike, productivity, growth",
          "<b>Topic 1</b><br>Words: renew, low, country, jobs, trade",
          "<b>Topic 1</b><br>Words: safer, harder, class, middle, stress",
          "<b>Topic 1</b><br>Words: toxic, water, polluters, environment, air",
          "<b>Topic 1</b><br>Words: china, rivers, clean, environment, trade",
          "<b>Topic 1</b><br>Words: trade, new, jobs, energy, clean",
          "<b>Topic 1</b><br>Words: trade, century, world, new, china",
          "<b>Topic 1</b><br>Words: new, trade, energy, technology, growth",
          "<b>Topic 1</b><br>Words: energy, conservation, road, fork, trade",
          "<b>Topic 1</b><br>Words: energy, act, reliable, dependent, jobs",
          "<b>Topic 1</b><br>Words: energy, environment, hydrogen, forests, sent",
          "<b>Topic 1</b><br>Words: energy, electricity, proving, working, supplies",
          "<b>Topic 1</b><br>Words: energy, sources, clean, hydrogenfueled, leadingedge",
          "<b>Topic 1</b><br>Words: energy, research, oil, world, competitive",
          "<b>Topic 1</b><br>Words: oil, supply, clean, energy, fuel",
          "<b>Topic 1</b><br>Words: energy, empower, trade, technology, agreement",
          "<b>Topic 1</b><br>Words: energy, economy, renewable, clean, jobs",
          "<b>Topic 1</b><br>Words: energy, clean, jobs, means, trade",
          "<b>Topic 1</b><br>Words: energy, jobs, clean, new, technology",
          "<b>Topic 1</b><br>Words: energy, jobs, oil, gas, clean",
          "<b>Topic 1</b><br>Words: energy, jobs, gas, years, oil",
          "<b>Topic 1</b><br>Words: energy, jobs, new, natural, gas",
          "<b>Topic 1</b><br>Words: jobs, businesses, fastest, energy, oil",
          "<b>Topic 1</b><br>Words: energy, thats, jobs, economy, trends",
          "<b>Topic 1</b><br>Words: trade, jobs, new, american, weve",
          "<b>Topic 1</b><br>Words: american, building, energy, jobs, unemployment",
          "<b>Topic 1</b><br>Words: jobs, infrastructure, tariff, usmca, growing",
          "<b>Topic 1</b><br>Words: trade, administration, country, energy, jobs",
          "<b>Topic 1</b><br>Words: jobs, american, reason, climate, clean",
          "<b>Topic 1</b><br>Words: pat, america, energy, jobs, factories",
          "<b>Topic 1</b><br>Words: jobs, going, infrastructure, world, energy",
          "<b>Topic 1</b><br>Words: jobs, creating, american, build, energy"
         ],
         "marker": {
          "color": "#56B4E9"
         },
         "mode": "lines",
         "name": "1_energy_jobs_trade_new",
         "type": "scatter",
         "x": [
          1978,
          1979,
          1980,
          1981,
          1982,
          1983,
          1984,
          1985,
          1986,
          1987,
          1988,
          1989,
          1990,
          1991,
          1992,
          1993,
          1994,
          1995,
          1996,
          1997,
          1998,
          1999,
          2000,
          2001,
          2002,
          2003,
          2004,
          2005,
          2006,
          2007,
          2008,
          2009,
          2010,
          2011,
          2012,
          2013,
          2014,
          2015,
          2016,
          2017,
          2018,
          2019,
          2020,
          2021,
          2022,
          2023,
          2024
         ],
         "y": [
          13,
          6,
          6,
          9,
          5,
          10,
          13,
          12,
          2,
          3,
          2,
          7,
          2,
          5,
          4,
          5,
          3,
          5,
          5,
          10,
          11,
          11,
          15,
          5,
          2,
          4,
          2,
          1,
          8,
          7,
          7,
          10,
          11,
          21,
          20,
          16,
          12,
          16,
          11,
          9,
          6,
          6,
          13,
          14,
          10,
          26,
          15
         ]
        },
        {
         "hoverinfo": "text",
         "hovertext": [
          "<b>Topic 2</b><br>Words: welfare, recommending, village, public, passionately",
          "<b>Topic 2</b><br>Words: concentrating, young, 1980s, minority, youth",
          "<b>Topic 2</b><br>Words: aid, total, percent, welfare, schools",
          "<b>Topic 2</b><br>Words: programs, help, enterprise, discredited, volunteer",
          "<b>Topic 2</b><br>Words: education, private, initiatives, sector, 1983",
          "<b>Topic 2</b><br>Words: excellence, schools, education, help, school",
          "<b>Topic 2</b><br>Words: basics, school, help, groups, children",
          "<b>Topic 2</b><br>Words: parents, children, schools, education, welfare",
          "<b>Topic 2</b><br>Words: welfare, children, illness, national, fear",
          "<b>Topic 2</b><br>Words: family, welfare, poverty, spend, programs",
          "<b>Topic 2</b><br>Words: education, parents, schools, students, program",
          "<b>Topic 2</b><br>Words: kids, governor, education, tell, ready",
          "<b>Topic 2</b><br>Words: ownership, hands, unshackled, means, birthright",
          "<b>Topic 2</b><br>Words: welfare, family, help, schools, education",
          "<b>Topic 2</b><br>Words: education, welfare, service, program, jobs",
          "<b>Topic 2</b><br>Words: welfare, work, school, children, parents",
          "<b>Topic 2</b><br>Words: welfare, work, children, responsibility, education",
          "<b>Topic 2</b><br>Words: children, challenge, parents, work, welfare",
          "<b>Topic 2</b><br>Words: school, schools, education, children, welfare",
          "<b>Topic 2</b><br>Words: child, college, children, education, school",
          "<b>Topic 2</b><br>Words: schools, school, children, teachers, support",
          "<b>Topic 2</b><br>Words: children, schools, college, help, child",
          "<b>Topic 2</b><br>Words: reading, mayor, schools, children, teaching",
          "<b>Topic 2</b><br>Words: corps, teacher, need, children, good",
          "<b>Topic 2</b><br>Words: mentors, person, 450, children, recruiting",
          "<b>Topic 2</b><br>Words: schools, children, child, help, math",
          "<b>Topic 2</b><br>Words: young, community, values, gangs, children",
          "<b>Topic 2</b><br>Words: math, science, courses, early, ensure",
          "<b>Topic 2</b><br>Words: children, schools, students, local, failing",
          "<b>Topic 2</b><br>Words: schools, children, faithbased, help, students",
          "<b>Topic 2</b><br>Words: education, school, college, high, schools",
          "<b>Topic 2</b><br>Words: college, education, children, student, loans",
          "<b>Topic 2</b><br>Words: schools, education, child, school, college",
          "<b>Topic 2</b><br>Words: tuition, students, teachers, education, college",
          "<b>Topic 2</b><br>Words: education, higher, schools, high, students",
          "<b>Topic 2</b><br>Words: help, education, college, parents, schools",
          "<b>Topic 2</b><br>Words: childcare, college, like, need, job",
          "<b>Topic 2</b><br>Words: student, college, education, job, need",
          "<b>Topic 2</b><br>Words: school, education, magnet, masters, denisha",
          "<b>Topic 2</b><br>Words: governmentwide, firstever, thursday, women, focused",
          "<b>Topic 2</b><br>Words: tony, janiyah, opportunity, school, students",
          "<b>Topic 2</b><br>Words: years, child, education, 12, families",
          "<b>Topic 2</b><br>Words: childcare, children, folks, cost, dad",
          "<b>Topic 2</b><br>Words: lets, best, children, finish, school",
          "<b>Topic 2</b><br>Words: keenan, college, student, imagine, children"
         ],
         "marker": {
          "color": "#009E73"
         },
         "mode": "lines",
         "name": "2_children_education_schools_school",
         "type": "scatter",
         "x": [
          1978,
          1980,
          1981,
          1982,
          1983,
          1984,
          1985,
          1986,
          1987,
          1988,
          1989,
          1990,
          1991,
          1992,
          1993,
          1994,
          1995,
          1996,
          1997,
          1998,
          1999,
          2000,
          2001,
          2002,
          2003,
          2004,
          2005,
          2006,
          2007,
          2008,
          2009,
          2010,
          2011,
          2012,
          2013,
          2014,
          2015,
          2016,
          2017,
          2019,
          2020,
          2021,
          2022,
          2023,
          2024
         ],
         "y": [
          3,
          1,
          2,
          4,
          4,
          5,
          4,
          2,
          2,
          5,
          7,
          11,
          2,
          6,
          12,
          11,
          15,
          17,
          27,
          16,
          24,
          21,
          11,
          4,
          1,
          6,
          3,
          1,
          2,
          5,
          10,
          6,
          13,
          11,
          9,
          10,
          13,
          4,
          2,
          1,
          12,
          9,
          4,
          12,
          11
         ]
        },
        {
         "hoverinfo": "text",
         "hovertext": [
          "<b>Topic 3</b><br>Words: sense, policy, rights, human, firm",
          "<b>Topic 3</b><br>Words: influence, campaigns, centuries, world, state",
          "<b>Topic 3</b><br>Words: state, repressive, outlet, far, frustrations",
          "<b>Topic 3</b><br>Words: state, chamber, preserved, nation, congress",
          "<b>Topic 3</b><br>Words: state, values, freedom, free, strength",
          "<b>Topic 3</b><br>Words: freedom, confidence, peace, america, meaningful",
          "<b>Topic 3</b><br>Words: spreading, revolution, freedom, dreams, great",
          "<b>Topic 3</b><br>Words: future, america, nation, dream, americas",
          "<b>Topic 3</b><br>Words: lights, state, government, americans, climbed",
          "<b>Topic 3</b><br>Words: future, talked, return, improve, didnt",
          "<b>Topic 3</b><br>Words: state, depends, adds, anchor, idea",
          "<b>Topic 3</b><br>Words: freedom, leadership, america, purpose, nation",
          "<b>Topic 3</b><br>Words: reform, virtue, chamber, practical, game",
          "<b>Topic 3</b><br>Words: lobbying, passing, reform, believe, groups",
          "<b>Topic 3</b><br>Words: chart, finance, heritage, influence, state",
          "<b>Topic 3</b><br>Words: lobbyists, citizens, new, things, stop",
          "<b>Topic 3</b><br>Words: state, congress, lobbyists, rate, american",
          "<b>Topic 3</b><br>Words: 1000, days, americans, reform, work",
          "<b>Topic 3</b><br>Words: government, america, community, campaign, build",
          "<b>Topic 3</b><br>Words: century, 21st, report, state, american",
          "<b>Topic 3</b><br>Words: filled, partnerships, state, new, america",
          "<b>Topic 3</b><br>Words: tone, courage, judged, capitol, purpose",
          "<b>Topic 3</b><br>Words: freedoms, free, power, america, enemies",
          "<b>Topic 3</b><br>Words: faith, whirlwind, days, providence, placing",
          "<b>Topic 3</b><br>Words: cause, forward, shown, nation, come",
          "<b>Topic 3</b><br>Words: dream, freedom, gray, world, liberty",
          "<b>Topic 3</b><br>Words: accepted, elected, pledge, differences, agenda",
          "<b>Topic 3</b><br>Words: aisle, cause, qualities, future, resilient",
          "<b>Topic 3</b><br>Words: liberty, trust, seen, trusting, nation",
          "<b>Topic 3</b><br>Words: inspiration, ordinary, know, future, times",
          "<b>Topic 3</b><br>Words: lobbyists, washington, lets, american, election",
          "<b>Topic 3</b><br>Words: thats, idea, deserve, know, apart",
          "<b>Topic 3</b><br>Words: simple, congress, lets, senate, stocks",
          "<b>Topic 3</b><br>Words: expect, fieldwho, definitely, campaignto, attorneys",
          "<b>Topic 3</b><br>Words: chamber, debate, make, rancorous, democracywhen",
          "<b>Topic 3</b><br>Words: america, politics, better, state, values",
          "<b>Topic 3</b><br>Words: change, want, just, better, politics",
          "<b>Topic 3</b><br>Words: america, dreams, respect, 250th, torch",
          "<b>Topic 3</b><br>Words: youve, dream, spine, pains, believe",
          "<b>Topic 3</b><br>Words: choose, greatness, resistance, incredible, time",
          "<b>Topic 3</b><br>Words: ancestors, settled, world, american, nation",
          "<b>Topic 3</b><br>Words: say, nation, america, example, leadersand",
          "<b>Topic 3</b><br>Words: state, report, nation, 245th, nationthe",
          "<b>Topic 3</b><br>Words: nation, sake, strong, building, lives",
          "<b>Topic 3</b><br>Words: america, im, old, came, optimistic"
         ],
         "marker": {
          "color": "#F0E442"
         },
         "mode": "lines",
         "name": "3_state_america_nation_american",
         "type": "scatter",
         "x": [
          1978,
          1979,
          1980,
          1982,
          1983,
          1984,
          1985,
          1986,
          1988,
          1989,
          1990,
          1991,
          1992,
          1993,
          1994,
          1995,
          1996,
          1997,
          1998,
          1999,
          2000,
          2001,
          2002,
          2003,
          2004,
          2005,
          2006,
          2007,
          2008,
          2009,
          2010,
          2011,
          2012,
          2013,
          2014,
          2015,
          2016,
          2017,
          2018,
          2019,
          2020,
          2021,
          2022,
          2023,
          2024
         ],
         "y": [
          13,
          10,
          2,
          7,
          7,
          8,
          10,
          5,
          6,
          4,
          7,
          8,
          5,
          7,
          7,
          9,
          8,
          7,
          8,
          7,
          8,
          3,
          5,
          3,
          5,
          7,
          5,
          3,
          4,
          5,
          15,
          7,
          4,
          3,
          3,
          12,
          13,
          6,
          2,
          7,
          7,
          3,
          3,
          9,
          11
         ]
        },
        {
         "hoverinfo": "text",
         "hovertext": [
          "<b>Topic 4</b><br>Words: develop, steps, national, health, plan",
          "<b>Topic 4</b><br>Words: thisit, unbearable, curbing, involves, skyrocketing",
          "<b>Topic 4</b><br>Words: bypass, techniques, laser, viruses, diagnosis",
          "<b>Topic 4</b><br>Words: drugs, shoulder, voice, drug, asking",
          "<b>Topic 4</b><br>Words: healthcare, sullivan, recommendations, health, lou",
          "<b>Topic 4</b><br>Words: healthier, spiraling, infants, adults, aggressive",
          "<b>Topic 4</b><br>Words: health, insurance, care, costs, choice",
          "<b>Topic 4</b><br>Words: care, health, costs, year, percent",
          "<b>Topic 4</b><br>Words: health, care, insurance, coverage, americans",
          "<b>Topic 4</b><br>Words: health, care, insurance, coverage, sick",
          "<b>Topic 4</b><br>Words: health, insurance, medicare, care, mccaffrey",
          "<b>Topic 4</b><br>Words: health, aids, insurance, lose, care",
          "<b>Topic 4</b><br>Words: care, health, insurance, medical, gene",
          "<b>Topic 4</b><br>Words: health, medical, care, medicare, insurance",
          "<b>Topic 4</b><br>Words: health, care, insurance, drugs, coverage",
          "<b>Topic 4</b><br>Words: health, care, coverage, medicare, medical",
          "<b>Topic 4</b><br>Words: health, coverage, vanish, uninsured, instant",
          "<b>Topic 4</b><br>Words: aids, health, care, drugs, africa",
          "<b>Topic 4</b><br>Words: health, coverage, care, seniors, insurance",
          "<b>Topic 4</b><br>Words: health, care, medical, human, costs",
          "<b>Topic 4</b><br>Words: health, insurance, care, aids, medical",
          "<b>Topic 4</b><br>Words: health, insurance, care, americans, payroll",
          "<b>Topic 4</b><br>Words: health, medical, care, life, insurance",
          "<b>Topic 4</b><br>Words: health, care, reform, insurance, costs",
          "<b>Topic 4</b><br>Words: insurance, health, care, approach, coverage",
          "<b>Topic 4</b><br>Words: health, willing, care, insurance, law",
          "<b>Topic 4</b><br>Words: thats, relies, health, awful, reformed",
          "<b>Topic 4</b><br>Words: reforms, care, promises, health, shouldnt",
          "<b>Topic 4</b><br>Words: health, insurance, covered, january, amanda",
          "<b>Topic 4</b><br>Words: health, medicine, disease, care, spread",
          "<b>Topic 4</b><br>Words: care, health, insurance, job, coverage",
          "<b>Topic 4</b><br>Words: health, obamacare, insurance, care, americans",
          "<b>Topic 4</b><br>Words: drug, drugs, health, terminal, generic",
          "<b>Topic 4</b><br>Words: hiv, exact, health, patients, aids",
          "<b>Topic 4</b><br>Words: health, care, insurance, drug, seniors",
          "<b>Topic 4</b><br>Words: health, care, affordable, drug, prescription",
          "<b>Topic 4</b><br>Words: health, care, covid19, tests, vaccines",
          "<b>Topic 4</b><br>Words: health, cancer, seniors, medicare, drugs",
          "<b>Topic 4</b><br>Words: health, prescription, drugs, medicare, care"
         ],
         "marker": {
          "color": "#D55E00"
         },
         "mode": "lines",
         "name": "4_health_care_insurance_coverage",
         "type": "scatter",
         "x": [
          1979,
          1983,
          1985,
          1989,
          1990,
          1991,
          1992,
          1993,
          1994,
          1995,
          1996,
          1997,
          1998,
          1999,
          2000,
          2001,
          2002,
          2003,
          2004,
          2005,
          2006,
          2007,
          2008,
          2009,
          2010,
          2011,
          2012,
          2013,
          2014,
          2015,
          2016,
          2017,
          2018,
          2019,
          2020,
          2021,
          2022,
          2023,
          2024
         ],
         "y": [
          1,
          2,
          1,
          2,
          1,
          1,
          3,
          7,
          16,
          4,
          3,
          4,
          7,
          11,
          11,
          6,
          1,
          10,
          9,
          4,
          4,
          5,
          5,
          6,
          7,
          5,
          2,
          2,
          3,
          4,
          5,
          10,
          5,
          5,
          9,
          16,
          19,
          28,
          13
         ]
        },
        {
         "hoverinfo": "text",
         "hovertext": [
          "<b>Topic 5</b><br>Words: conflictan, communication, longstanding, middle, contributing",
          "<b>Topic 5</b><br>Words: namibia, rhodesia, cyprus, sincerely, searching",
          "<b>Topic 5</b><br>Words: israel, pakistan, peace, egypt, military",
          "<b>Topic 5</b><br>Words: 30th, peaceloving, day, solidarity, parliament",
          "<b>Topic 5</b><br>Words: promisingly, camp, peace, david, outlined",
          "<b>Topic 5</b><br>Words: lebanon, peacekeeping, multinational, tragedy, terrorism",
          "<b>Topic 5</b><br>Words: interests, afghanistan, lose, resolve, surer",
          "<b>Topic 5</b><br>Words: freedom, fighters, cause, swelling, afghanistanyes",
          "<b>Topic 5</b><br>Words: panama, operation, thumb, objective, february",
          "<b>Topic 5</b><br>Words: salvation, saddams, planning, destroyed, iraqs",
          "<b>Topic 5</b><br>Words: road, yitzhak, handshake, yasser, arafat",
          "<b>Topic 5</b><br>Words: hussein, saddam, weapons, biological, chemical",
          "<b>Topic 5</b><br>Words: palestinian, iraq, notwe, renounce, notlet",
          "<b>Topic 5</b><br>Words: afghanistan, terror, terrorist, terrorists, camps",
          "<b>Topic 5</b><br>Words: hussein, saddam, inspectors, weapons, iraq",
          "<b>Topic 5</b><br>Words: iraq, terrorists, saddam, afghanistan, killers",
          "<b>Topic 5</b><br>Words: iraq, terror, iraqi, iraqis, terrorists",
          "<b>Topic 5</b><br>Words: iraqi, iraq, terrorists, military, offensive",
          "<b>Topic 5</b><br>Words: iraq, terrorists, iraqi, al, qaida",
          "<b>Topic 5</b><br>Words: iraq, iraqi, al, terrorists, forces",
          "<b>Topic 5</b><br>Words: forge, iraq, allow, envoy, reviewing",
          "<b>Topic 5</b><br>Words: troops, iraq, al, iraqi, security",
          "<b>Topic 5</b><br>Words: afghan, al, troops, iraq, qaida",
          "<b>Topic 5</b><br>Words: afghanistan, iraq, al, war, knowing",
          "<b>Topic 5</b><br>Words: al, qaida, afghanistan, afghan, terrorists",
          "<b>Topic 5</b><br>Words: afghanistan, afghan, iraq, troops, al",
          "<b>Topic 5</b><br>Words: terrorists, afghanistan, iraq, instead, 911",
          "<b>Topic 5</b><br>Words: isil, al, qaida, terrorist, world",
          "<b>Topic 5</b><br>Words: terrorism, allow, attacks, department, allies",
          "<b>Topic 5</b><br>Words: detention, bay, guantanamo, isis, released",
          "<b>Topic 5</b><br>Words: afghanistan, troops, east, iraq, counterterrorism",
          "<b>Topic 5</b><br>Words: soleimani, iraq, warfighters, afghanistan, isis",
          "<b>Topic 5</b><br>Words: afghanistan, defense, agency, war, threat",
          "<b>Topic 5</b><br>Words: pits, burn, iraq, worldnever, incinerate",
          "<b>Topic 5</b><br>Words: israel, gaza, hamas, humanitarian, innocent"
         ],
         "marker": {
          "color": "#0072B2"
         },
         "mode": "lines",
         "name": "5_iraq_terrorists_afghanistan_al",
         "type": "scatter",
         "x": [
          1978,
          1979,
          1980,
          1982,
          1983,
          1984,
          1987,
          1988,
          1990,
          1991,
          1994,
          1998,
          1999,
          2002,
          2003,
          2004,
          2005,
          2006,
          2007,
          2008,
          2009,
          2010,
          2011,
          2012,
          2013,
          2014,
          2015,
          2016,
          2017,
          2018,
          2019,
          2020,
          2021,
          2022,
          2024
         ],
         "y": [
          1,
          2,
          4,
          1,
          1,
          1,
          1,
          1,
          1,
          1,
          1,
          2,
          2,
          14,
          20,
          12,
          9,
          11,
          19,
          19,
          3,
          3,
          5,
          4,
          7,
          6,
          4,
          4,
          3,
          2,
          5,
          4,
          5,
          1,
          13
         ]
        },
        {
         "hoverinfo": "text",
         "hovertext": [
          "<b>Topic 6</b><br>Words: rights, equal, laws, affirmative, unrealized",
          "<b>Topic 6</b><br>Words: rights, legal, source, laws, equal",
          "<b>Topic 6</b><br>Words: crime, organized, laws, enforcement, commission",
          "<b>Topic 6</b><br>Words: crime, drugpushers, paroles, safeguarding, defendants",
          "<b>Topic 6</b><br>Words: crime, victim, victims, proposals, woman",
          "<b>Topic 6</b><br>Words: wall, erich, honecker, claimed, history",
          "<b>Topic 6</b><br>Words: crime, civil, enforcement, resorting, statutes",
          "<b>Topic 6</b><br>Words: crime, surely, afraid, hurts, languishing",
          "<b>Topic 6</b><br>Words: crime, police, violence, violent, guns",
          "<b>Topic 6</b><br>Words: crime, aliens, illegal, voted, rate",
          "<b>Topic 6</b><br>Words: crime, police, challenge, gangs, violent",
          "<b>Topic 6</b><br>Words: handguns, crime, streets, weekends, unauthorized",
          "<b>Topic 6</b><br>Words: crime, streets, juvenile, safe, guns",
          "<b>Topic 6</b><br>Words: crime, buying, quarter, police, rate",
          "<b>Topic 6</b><br>Words: gun, crime, guns, laws, tom",
          "<b>Topic 6</b><br>Words: marriage, temporaryworker, immigration, law, laws",
          "<b>Topic 6</b><br>Words: institution, immigration, border, marriage, society",
          "<b>Topic 6</b><br>Words: immigration, crime, border, guestworker, abortions",
          "<b>Topic 6</b><br>Words: border, immigration, laws, secure, status",
          "<b>Topic 6</b><br>Words: border, resolved, immigration, illegal, enforcement",
          "<b>Topic 6</b><br>Words: violations, laws, equal, continually, finally",
          "<b>Topic 6</b><br>Words: borders, aligned, staffing, separates, expelling",
          "<b>Topic 6</b><br>Words: immigration, illegal, comprehensive, electionyear, expelling",
          "<b>Topic 6</b><br>Words: reform, immigration, time, gun, border",
          "<b>Topic 6</b><br>Words: immigration, leaders, culturethey, dreamsto, invent",
          "<b>Topic 6</b><br>Words: surely, understand, democrats, republicans, agree",
          "<b>Topic 6</b><br>Words: immigration, laws, borders, crime, border",
          "<b>Topic 6</b><br>Words: immigration, pillar, pillars, border, communities",
          "<b>Topic 6</b><br>Words: border, illegal, immigration, southern, barrier",
          "<b>Topic 6</b><br>Words: completed, border, miles, illegally, crossings",
          "<b>Topic 6</b><br>Words: gun, immigration, act, pass, guns",
          "<b>Topic 6</b><br>Words: police, officer, immigration, laws, crime",
          "<b>Topic 6</b><br>Words: gun, law, violence, crime, officers",
          "<b>Topic 6</b><br>Words: border, gun, crime, nra, violence"
         ],
         "marker": {
          "color": "#CC79A7"
         },
         "mode": "lines",
         "name": "6_crime_immigration_border_gun",
         "type": "scatter",
         "x": [
          1979,
          1982,
          1983,
          1984,
          1985,
          1990,
          1991,
          1992,
          1994,
          1995,
          1996,
          1997,
          1998,
          1999,
          2000,
          2004,
          2005,
          2006,
          2007,
          2008,
          2010,
          2011,
          2012,
          2013,
          2014,
          2015,
          2017,
          2018,
          2019,
          2020,
          2021,
          2022,
          2023,
          2024
         ],
         "y": [
          2,
          3,
          2,
          2,
          3,
          1,
          2,
          1,
          7,
          5,
          9,
          1,
          3,
          7,
          12,
          5,
          3,
          2,
          3,
          2,
          2,
          2,
          2,
          6,
          1,
          2,
          11,
          7,
          9,
          4,
          20,
          10,
          16,
          20
         ]
        },
        {
         "hoverinfo": "text",
         "hovertext": [
          "<b>Topic 7</b><br>Words: arms, nuclear, soviet, europe, weapons",
          "<b>Topic 7</b><br>Words: soviet, nuclear, world, military, power",
          "<b>Topic 7</b><br>Words: realistic, balanced, persuade, limitation, negotiation",
          "<b>Topic 7</b><br>Words: soviets, soviet, forces, military, talks",
          "<b>Topic 7</b><br>Words: soviet, arms, reductions, verifiable, insist",
          "<b>Topic 7</b><br>Words: soviet, fought, nuclear, sane, possessing",
          "<b>Topic 7</b><br>Words: nuclear, defense, table, war, ultimately",
          "<b>Topic 7</b><br>Words: hemisphere, contacts, try, soviet, let",
          "<b>Topic 7</b><br>Words: agreement, treaty, arms, inf, agreements",
          "<b>Topic 7</b><br>Words: review, secretary, eastwest, prudence, forward",
          "<b>Topic 7</b><br>Words: strategic, europe, modernization, soviet, great",
          "<b>Topic 7</b><br>Words: soviet, leadership, germany, relationship, europe",
          "<b>Topic 7</b><br>Words: missiles, won, yeltsin, warheads, didnt",
          "<b>Topic 7</b><br>Words: nuclear, weapons, ban, world, rest",
          "<b>Topic 7</b><br>Words: nuclear, cold, war, carry, warheads",
          "<b>Topic 7</b><br>Words: nuclear, treaty, cold, weapons, subsided",
          "<b>Topic 7</b><br>Words: nato, europe, nuclear, 50, russia",
          "<b>Topic 7</b><br>Words: nato, nuclear, senate, ask, europe",
          "<b>Topic 7</b><br>Words: start, iii, height, engaging, continue",
          "<b>Topic 7</b><br>Words: russia, china, russian, nuclear, prosperous",
          "<b>Topic 7</b><br>Words: repress, unelected, weapons, pursues, starving",
          "<b>Topic 7</b><br>Words: korean, nuclear, regime, north, weapons",
          "<b>Topic 7</b><br>Words: dangerous, different, nuclear, weapons, insisting",
          "<b>Topic 7</b><br>Words: syrian, terror, iranian, weapons, seek",
          "<b>Topic 7</b><br>Words: iran, iranian, regime, nuclear, respect",
          "<b>Topic 7</b><br>Words: pursuing, nuclear, diplomacy, weapons, eu",
          "<b>Topic 7</b><br>Words: iran, nuclear, tehran, regime, message",
          "<b>Topic 7</b><br>Words: sanctions, international, violating, enforced, consequences",
          "<b>Topic 7</b><br>Words: sanctions, insist, korea, tighter, shaping",
          "<b>Topic 7</b><br>Words: iran, ironcladto, commitmentand, ironclad, rejoin",
          "<b>Topic 7</b><br>Words: nuclear, obligations, meet, likewise, willingness",
          "<b>Topic 7</b><br>Words: iran, irans, nuclear, sanctions, negotiations",
          "<b>Topic 7</b><br>Words: cuba, nuclear, iran, allies, diplomacy",
          "<b>Topic 7</b><br>Words: iran, approach, nuclear, war, thats",
          "<b>Topic 7</b><br>Words: alliance, nato, dethroned, pacificto, unbreakable",
          "<b>Topic 7</b><br>Words: nuclear, iran, north, dictatorship, aggression",
          "<b>Topic 7</b><br>Words: nuclear, treaty, united, kim, states",
          "<b>Topic 7</b><br>Words: iranian, allies, nuclear, shorttime, proud",
          "<b>Topic 7</b><br>Words: bet, respond, threats, true, told",
          "<b>Topic 7</b><br>Words: putin, ukrainian, world, russian, ukraine",
          "<b>Topic 7</b><br>Words: stand, test, putins, did, stood",
          "<b>Topic 7</b><br>Words: ukraine, putin, welcome, nato, alliance"
         ],
         "marker": {
          "color": "#E69F00"
         },
         "mode": "lines",
         "name": "7_nuclear_soviet_iran_nato",
         "type": "scatter",
         "x": [
          1978,
          1980,
          1981,
          1982,
          1983,
          1984,
          1985,
          1987,
          1988,
          1989,
          1990,
          1991,
          1992,
          1994,
          1995,
          1996,
          1997,
          1998,
          1999,
          2000,
          2002,
          2003,
          2004,
          2005,
          2006,
          2007,
          2008,
          2010,
          2011,
          2012,
          2013,
          2014,
          2015,
          2016,
          2017,
          2018,
          2019,
          2020,
          2021,
          2022,
          2023,
          2024
         ],
         "y": [
          6,
          15,
          1,
          3,
          4,
          3,
          3,
          3,
          2,
          2,
          2,
          3,
          3,
          3,
          3,
          3,
          3,
          2,
          2,
          4,
          2,
          4,
          1,
          1,
          2,
          1,
          2,
          1,
          2,
          2,
          2,
          3,
          5,
          2,
          3,
          3,
          4,
          4,
          4,
          14,
          3,
          7
         ]
        },
        {
         "hoverinfo": "text",
         "hovertext": [
          "<b>Topic 8</b><br>Words: mr, 95th, ladies, gentlemen, congress",
          "<b>Topic 8</b><br>Words: mr, 96th, fellow, citizens, congress",
          "<b>Topic 8</b><br>Words: mr, 96th, fellow, citizens, congress",
          "<b>Topic 8</b><br>Words: mr, guests, honored, distinguished, fellow",
          "<b>Topic 8</b><br>Words: mr, guests, honored, distinguished, fellow",
          "<b>Topic 8</b><br>Words: mr, guests, honored, distinguished, fellow",
          "<b>Topic 8</b><br>Words: mr, guests, honored, distinguished, fellow",
          "<b>Topic 8</b><br>Words: mr, guests, honored, distinguished, fellow",
          "<b>Topic 8</b><br>Words: mr, guests, honored, distinguished, fellow",
          "<b>Topic 8</b><br>Words: honorable, mr, 100th, congress, guests",
          "<b>Topic 8</b><br>Words: quayle, chair, competitiveness, vice, task",
          "<b>Topic 8</b><br>Words: mr, united, states, congress, fellow",
          "<b>Topic 8</b><br>Words: mr, united, states, congress, fellow",
          "<b>Topic 8</b><br>Words: mr, reception, big, warm, buildup",
          "<b>Topic 8</b><br>Words: mr, visitors, nice, fresh, excuse",
          "<b>Topic 8</b><br>Words: mr, 103d, fellow, congress, americans",
          "<b>Topic 8</b><br>Words: mr, 104th, congratulating, represent, aboutcitizens",
          "<b>Topic 8</b><br>Words: magnificent, importance, hillary, taught, wonderful",
          "<b>Topic 8</b><br>Words: mr, guests, fellow, distinguished, vice",
          "<b>Topic 8</b><br>Words: mr, guests, vice, honor, house",
          "<b>Topic 8</b><br>Words: mr, mental, grateful, cohen, want",
          "<b>Topic 8</b><br>Words: mr, invitation, vice, laughter, input",
          "<b>Topic 8</b><br>Words: mr, mei, join, guests, expressing",
          "<b>Topic 8</b><br>Words: custom, citizens, cheney, mr, decisive",
          "<b>Topic 8</b><br>Words: cheney, guests, distinguished, mr, responsibilities",
          "<b>Topic 8</b><br>Words: guest, alsuhail, ladys, taleb, safia",
          "<b>Topic 8</b><br>Words: mr, coretta, reunion, graceful, guests",
          "<b>Topic 8</b><br>Words: madam, guests, mr, distinguished, fellow",
          "<b>Topic 8</b><br>Words: citizens, guests, distinguished, madam, cheney",
          "<b>Topic 8</b><br>Words: statesshes, men, women, madam, mr",
          "<b>Topic 8</b><br>Words: theyve, guests, distinguished, congress, embarrassed",
          "<b>Topic 8</b><br>Words: mr, 112th, gabby, giffords, congratulating",
          "<b>Topic 8</b><br>Words: mr, fellow, andrews, colors, guests",
          "<b>Topic 8</b><br>Words: mr, task, fiftyone, rivals, seat",
          "<b>Topic 8</b><br>Words: turns, bear, ideals, burdens, size",
          "<b>Topic 8</b><br>Words: seek, swore, work, disagree, oath",
          "<b>Topic 8</b><br>Words: mr, defending, majestic, righteous, fellow",
          "<b>Topic 8</b><br>Words: laughter, mr, coercion, madam, congress",
          "<b>Topic 8</b><br>Words: lady, mr, americas, surging, blazing",
          "<b>Topic 8</b><br>Words: madam, words, ladyim, presidentno, guests",
          "<b>Topic 8</b><br>Words: madam, mr, fellow, vice, congress",
          "<b>Topic 8</b><br>Words: mr, congress, laughter, fellow, house",
          "<b>Topic 8</b><br>Words: mr, thats, fellow, congress, stop"
         ],
         "marker": {
          "color": "#56B4E9"
         },
         "mode": "lines",
         "name": "8_mr_fellow_congress_vice",
         "type": "scatter",
         "x": [
          1978,
          1979,
          1980,
          1981,
          1982,
          1983,
          1984,
          1985,
          1986,
          1987,
          1989,
          1990,
          1991,
          1992,
          1993,
          1994,
          1995,
          1996,
          1998,
          1999,
          2000,
          2001,
          2002,
          2003,
          2004,
          2005,
          2006,
          2007,
          2008,
          2009,
          2010,
          2011,
          2012,
          2013,
          2014,
          2015,
          2018,
          2019,
          2020,
          2021,
          2022,
          2023,
          2024
         ],
         "y": [
          1,
          1,
          1,
          1,
          1,
          1,
          1,
          1,
          1,
          2,
          1,
          1,
          1,
          2,
          1,
          1,
          2,
          1,
          2,
          5,
          5,
          2,
          2,
          1,
          1,
          2,
          1,
          3,
          1,
          1,
          2,
          1,
          1,
          1,
          1,
          1,
          2,
          6,
          3,
          4,
          4,
          16,
          22
         ]
        },
        {
         "hoverinfo": "text",
         "hovertext": [
          "<b>Topic 9</b><br>Words: plane, bringing, pows, ramp, thanked",
          "<b>Topic 9</b><br>Words: born, english, hero, girl, vietnam",
          "<b>Topic 9</b><br>Words: music, tyrone, choirs, pianist, singer",
          "<b>Topic 9</b><br>Words: army, revel, lays, fog, mourn",
          "<b>Topic 9</b><br>Words: saw, group, ones, special, kilroy",
          "<b>Topic 9</b><br>Words: jack, lucas, youngest, 17, saved",
          "<b>Topic 9</b><br>Words: richard, shut, hes, blast, 49yearold",
          "<b>Topic 9</b><br>Words: josefina, steven, ramos, spanish, 2yearold",
          "<b>Topic 9</b><br>Words: shannon, micheal, flight, semper, moutardier",
          "<b>Topic 9</b><br>Words: bud, clays, jo, sara, lisa",
          "<b>Topic 9</b><br>Words: julie, einstein, baby, aignerclark, videos",
          "<b>Topic 9</b><br>Words: brian, named, safety, just, lip",
          "<b>Topic 9</b><br>Words: cory, hes, day, easy, like",
          "<b>Topic 9</b><br>Words: ryan, megans, oliver, megan, jamiel",
          "<b>Topic 9</b><br>Words: ryan, kenton, rebecca, ashlee, sungho",
          "<b>Topic 9</b><br>Words: grace, soldiers, dday, judah, herman",
          "<b>Topic 9</b><br>Words: ellie, jody, amy, sergeant, born",
          "<b>Topic 9</b><br>Words: danielle, heath, robinson, football, birthday",
          "<b>Topic 9</b><br>Words: joining, daughter, studio, ava, brandon",
          "<b>Topic 9</b><br>Words: kate, assassinated, joining, king, city"
         ],
         "marker": {
          "color": "#009E73"
         },
         "mode": "lines",
         "name": "9_ryan_just_sergeant_joining",
         "type": "scatter",
         "x": [
          1982,
          1985,
          1986,
          1990,
          1992,
          1995,
          1996,
          2001,
          2002,
          2006,
          2007,
          2013,
          2014,
          2017,
          2018,
          2019,
          2020,
          2022,
          2023,
          2024
         ],
         "y": [
          1,
          2,
          1,
          1,
          1,
          1,
          1,
          1,
          2,
          1,
          1,
          2,
          2,
          9,
          11,
          10,
          9,
          3,
          13,
          7
         ]
        },
        {
         "hoverinfo": "text",
         "hovertext": [
          "<b>Topic 10</b><br>Words: usa, hr, joe, anymore, fix",
          "<b>Topic 10</b><br>Words: usa, hr, joe, anymore, fix",
          "<b>Topic 10</b><br>Words: usa, yes, hr, joe, anymore",
          "<b>Topic 10</b><br>Words: usa, hr, jody, rush, joe",
          "<b>Topic 10</b><br>Words: usa, whoa, right, thats, hr",
          "<b>Topic 10</b><br>Words: usa, anymore, border, secure, hr",
          "<b>Topic 10</b><br>Words: usa, joe, fix, liar, years"
         ],
         "marker": {
          "color": "#F0E442"
         },
         "mode": "lines",
         "name": "10_usa_hr_joe_anymore",
         "type": "scatter",
         "x": [
          2014,
          2018,
          2019,
          2020,
          2022,
          2023,
          2024
         ],
         "y": [
          1,
          1,
          6,
          6,
          8,
          11,
          22
         ]
        },
        {
         "hoverinfo": "text",
         "hovertext": [
          "<b>Topic 11</b><br>Words: bless, god, america, united, states",
          "<b>Topic 11</b><br>Words: bless, god, america, united, states",
          "<b>Topic 11</b><br>Words: bless, god, america, united, states",
          "<b>Topic 11</b><br>Words: arranged, bless, god, quit, night",
          "<b>Topic 11</b><br>Words: bless, god, america, united, states",
          "<b>Topic 11</b><br>Words: bless, god, america, united, states",
          "<b>Topic 11</b><br>Words: bless, god, america, united, states",
          "<b>Topic 11</b><br>Words: bless, god, america, united, states",
          "<b>Topic 11</b><br>Words: bless, god, america, united, states",
          "<b>Topic 11</b><br>Words: bless, god, america, united, states",
          "<b>Topic 11</b><br>Words: bless, god, america, united, states",
          "<b>Topic 11</b><br>Words: bless, god, united, states, america",
          "<b>Topic 11</b><br>Words: bless, god, united, states, america",
          "<b>Topic 11</b><br>Words: bless, god, beloved, miracle, night",
          "<b>Topic 11</b><br>Words: bless, god, america, united, states",
          "<b>Topic 11</b><br>Words: bless, god, america, united, states",
          "<b>Topic 11</b><br>Words: bless, god, america, united, states",
          "<b>Topic 11</b><br>Words: bless, god, united, states, america",
          "<b>Topic 11</b><br>Words: bless, god, america, united, states",
          "<b>Topic 11</b><br>Words: bless, god, united, states, america",
          "<b>Topic 11</b><br>Words: evening, good, bless, god, america",
          "<b>Topic 11</b><br>Words: bless, god, america, united, states",
          "<b>Topic 11</b><br>Words: bless, god, night, good, america",
          "<b>Topic 11</b><br>Words: bless, god, america, united, states",
          "<b>Topic 11</b><br>Words: bless, god, guide, united, states",
          "<b>Topic 11</b><br>Words: bless, god, continue, america, united",
          "<b>Topic 11</b><br>Words: bless, god, america, united, states",
          "<b>Topic 11</b><br>Words: bless, god, america, united, states",
          "<b>Topic 11</b><br>Words: prayers, bless, god, year, america",
          "<b>Topic 11</b><br>Words: bless, god, united, states, america",
          "<b>Topic 11</b><br>Words: bless, god, united, states, america",
          "<b>Topic 11</b><br>Words: bless, god, united, states, america",
          "<b>Topic 11</b><br>Words: bless, god, united, states, america",
          "<b>Topic 11</b><br>Words: bless, god, united, states, america",
          "<b>Topic 11</b><br>Words: bless, god, united, states, america",
          "<b>Topic 11</b><br>Words: bless, god, love, country, america",
          "<b>Topic 11</b><br>Words: bless, god, united, states, america",
          "<b>Topic 11</b><br>Words: bless, god, united, states, america",
          "<b>Topic 11</b><br>Words: bless, god, goodnight, america, united",
          "<b>Topic 11</b><br>Words: bless, god, werent, supposed, laughter",
          "<b>Topic 11</b><br>Words: bless, god, thrilled, inform, deployment",
          "<b>Topic 11</b><br>Words: god, bless, patience, troops, protect",
          "<b>Topic 11</b><br>Words: god, bless, em, troops, protect",
          "<b>Topic 11</b><br>Words: god, bless, smile, okay, troops",
          "<b>Topic 11</b><br>Words: god, bless, evening, good, smart"
         ],
         "marker": {
          "color": "#D55E00"
         },
         "mode": "lines",
         "name": "11_bless_god_america_united",
         "type": "scatter",
         "x": [
          1978,
          1979,
          1980,
          1981,
          1983,
          1984,
          1985,
          1986,
          1987,
          1988,
          1989,
          1990,
          1991,
          1992,
          1993,
          1994,
          1995,
          1996,
          1997,
          1998,
          1999,
          2000,
          2001,
          2002,
          2003,
          2004,
          2005,
          2006,
          2007,
          2009,
          2010,
          2011,
          2012,
          2013,
          2014,
          2015,
          2016,
          2017,
          2018,
          2019,
          2020,
          2021,
          2022,
          2023,
          2024
         ],
         "y": [
          1,
          1,
          1,
          2,
          1,
          1,
          1,
          1,
          1,
          1,
          1,
          1,
          1,
          1,
          1,
          1,
          1,
          1,
          1,
          1,
          1,
          1,
          1,
          1,
          1,
          1,
          1,
          1,
          1,
          1,
          1,
          1,
          1,
          1,
          1,
          1,
          1,
          1,
          1,
          2,
          2,
          1,
          1,
          3,
          3
         ]
        },
        {
         "hoverinfo": "text",
         "hovertext": [
          "<b>Topic 12</b><br>Words: worn, margin, ensures, uniform, countrys",
          "<b>Topic 12</b><br>Words: trujillo, crash, wounded, sergeant, hesitated",
          "<b>Topic 12</b><br>Words: frontiers, proudly, watch, service, courage",
          "<b>Topic 12</b><br>Words: guarantors, defenders, wear, uniform, grateful",
          "<b>Topic 12</b><br>Words: schwarzkopf, serving, gulf, mrs, norman",
          "<b>Topic 12</b><br>Words: bases, conviction, ask, visited, repeat",
          "<b>Topic 12</b><br>Words: fox, b1b, jeff, iraq, flawlessly",
          "<b>Topic 12</b><br>Words: commitment, billiondollar, claims, veterans, honored",
          "<b>Topic 12</b><br>Words: ashley, conveyed, uniform, duties, listen",
          "<b>Topic 12</b><br>Words: byron, honor, mom, norwood, janet",
          "<b>Topic 12</b><br>Words: honor, dan, uniform, wear, sacrifices",
          "<b>Topic 12</b><br>Words: veterans, funding, compassionate, men, women",
          "<b>Topic 12</b><br>Words: readying, absence, unyielding, bear, uniform",
          "<b>Topic 12</b><br>Words: support, wethat, thats, veterans, va",
          "<b>Topic 12</b><br>Words: love, campuses, recruiters, rotc, christian",
          "<b>Topic 12</b><br>Words: veterans, uniform, youre, hire, serve",
          "<b>Topic 12</b><br>Words: veterans, receive, carethat, inherent, marches",
          "<b>Topic 12</b><br>Words: veterans, michelle, veteran, helped, bidenapplausethank",
          "<b>Topic 12</b><br>Words: uniform, greater, braver, allies, robust",
          "<b>Topic 12</b><br>Words: veterans, va, care, vets, properly",
          "<b>Topic 12</b><br>Words: special, 814, albaghdadis, milley, miserable",
          "<b>Topic 12</b><br>Words: serve, honorably, neck, knee, badge",
          "<b>Topic 12</b><br>Words: veterans, va, toxic, care, benefits",
          "<b>Topic 12</b><br>Words: veterans, suicide, va, losing, day",
          "<b>Topic 12</b><br>Words: nikoui, maelee, kareem, veterans, denis"
         ],
         "marker": {
          "color": "#0072B2"
         },
         "mode": "lines",
         "name": "12_veterans_uniform_honor_men",
         "type": "scatter",
         "x": [
          1982,
          1984,
          1985,
          1989,
          1991,
          1995,
          1999,
          2001,
          2004,
          2005,
          2006,
          2008,
          2009,
          2010,
          2011,
          2012,
          2014,
          2015,
          2017,
          2018,
          2020,
          2021,
          2022,
          2023,
          2024
         ],
         "y": [
          1,
          2,
          1,
          1,
          2,
          1,
          1,
          1,
          1,
          2,
          2,
          2,
          1,
          1,
          1,
          3,
          2,
          1,
          2,
          1,
          1,
          1,
          2,
          3,
          2
         ]
        },
        {
         "hoverinfo": "text",
         "hovertext": [
          "<b>Topic 13</b><br>Words: unborn, proof, abortion, bitterness, reproach",
          "<b>Topic 13</b><br>Words: abortion, cradles, irony, isit, unborn",
          "<b>Topic 13</b><br>Words: unborn, life, abortion, exception, womans",
          "<b>Topic 13</b><br>Words: mastectomy, zarfos, practice, dr, hospital",
          "<b>Topic 13</b><br>Words: arguments, worthy, agree, womans, abortions",
          "<b>Topic 13</b><br>Words: womb, image, abortion, baby, birth",
          "<b>Topic 13</b><br>Words: abortion, neonatal, lateterm, babies, banning",
          "<b>Topic 13</b><br>Words: roe, wade, precedent, maternal, womans",
          "<b>Topic 13</b><br>Words: roe, wade, abortion, reproductive, bans",
          "<b>Topic 13</b><br>Words: wade, roe, ivf, supreme, court"
         ],
         "marker": {
          "color": "#CC79A7"
         },
         "mode": "lines",
         "name": "13_wade_roe_abortion_unborn",
         "type": "scatter",
         "x": [
          1984,
          1985,
          1988,
          1997,
          2015,
          2019,
          2020,
          2022,
          2023,
          2024
         ],
         "y": [
          1,
          1,
          1,
          1,
          1,
          2,
          1,
          1,
          1,
          9
         ]
        },
        {
         "hoverinfo": "text",
         "hovertext": [
          "<b>Topic 14</b><br>Words: wage, minimum, 425, hour, raise",
          "<b>Topic 14</b><br>Words: minimum, wage, raise, 40year, hour",
          "<b>Topic 14</b><br>Words: wage, minimum, reap, honors, raise",
          "<b>Topic 14</b><br>Words: equal, wage, minimum, lets, raise",
          "<b>Topic 14</b><br>Words: wage, minimum, raise, earns, fulltime",
          "<b>Topic 14</b><br>Words: wage, minimum, raise, 10, hour",
          "<b>Topic 14</b><br>Words: wage, minimum, raise, sure, refuses",
          "<b>Topic 14</b><br>Words: hours, 40, wage, minimum, desklaughterlets",
          "<b>Topic 14</b><br>Words: eight7, wage, minimum, pro, bucks"
         ],
         "marker": {
          "color": "#E69F00"
         },
         "mode": "lines",
         "name": "14_wage_minimum_raise_hour",
         "type": "scatter",
         "x": [
          1995,
          1996,
          1998,
          1999,
          2013,
          2014,
          2015,
          2021,
          2024
         ],
         "y": [
          3,
          1,
          1,
          1,
          3,
          3,
          1,
          1,
          1
         ]
        },
        {
         "hoverinfo": "text",
         "hovertext": [
          "<b>Topic 15</b><br>Words: welcome, laughter, say, thats, point",
          "<b>Topic 15</b><br>Words: responded, point, seeno, sang, conversion",
          "<b>Topic 15</b><br>Words: point, seeno, remarks, sang, conversion",
          "<b>Topic 15</b><br>Words: sang, birthday, happy, point, seeno",
          "<b>Topic 15</b><br>Words: seeno, conversion, point, glad, enjoy",
          "<b>Topic 15</b><br>Words: point, remarks, laken, michael, pin"
         ],
         "marker": {
          "color": "#56B4E9"
         },
         "mode": "lines",
         "name": "15_point_seeno_remarks_sang",
         "type": "scatter",
         "x": [
          1978,
          1998,
          2015,
          2019,
          2023,
          2024
         ],
         "y": [
          1,
          1,
          1,
          1,
          2,
          7
         ]
        },
        {
         "hoverinfo": "text",
         "hovertext": [
          "<b>Topic 16</b><br>Words: nicaragua, support, sandinista, central, cubansoviet",
          "<b>Topic 16</b><br>Words: central, sandinistas, nicaragua, nicaraguan, freedom",
          "<b>Topic 16</b><br>Words: sandinistas, nicaragua, democratic, freedom, sandinista",
          "<b>Topic 16</b><br>Words: certifiably, nicaragua, inevitably, central, free",
          "<b>Topic 16</b><br>Words: tunisia, writ, proved, dictator, aspirations",
          "<b>Topic 16</b><br>Words: maduro, abject, venezuelan, guaid, juan",
          "<b>Topic 16</b><br>Words: maduro, venezuelans, venezuela, mr, hopes"
         ],
         "marker": {
          "color": "#009E73"
         },
         "mode": "lines",
         "name": "16_nicaragua_central_sandinistas_freedom",
         "type": "scatter",
         "x": [
          1985,
          1987,
          1988,
          1989,
          2011,
          2019,
          2020
         ],
         "y": [
          1,
          2,
          3,
          1,
          1,
          1,
          3
         ]
        },
        {
         "hoverinfo": "text",
         "hovertext": [
          "<b>Topic 17</b><br>Words: court, vacancies, judiciary, anthony, nominees",
          "<b>Topic 17</b><br>Words: vacancies, judicial, justice, court, courts",
          "<b>Topic 17</b><br>Words: bench, courts, judges, nominate, nominee",
          "<b>Topic 17</b><br>Words: bench, justice, courts, court, judges",
          "<b>Topic 17</b><br>Words: courts, senate, cases, federal, duty",
          "<b>Topic 17</b><br>Words: nominees, judges, gavel, judicial, upordown",
          "<b>Topic 17</b><br>Words: maureen, scalia, court, justice, judges",
          "<b>Topic 17</b><br>Words: senate, court, judges, gorsuch, mcconnellthank",
          "<b>Topic 17</b><br>Words: shes, court, nominated, judges, justice"
         ],
         "marker": {
          "color": "#F0E442"
         },
         "mode": "lines",
         "name": "17_court_justice_senate_judges",
         "type": "scatter",
         "x": [
          1988,
          1998,
          2005,
          2006,
          2007,
          2008,
          2017,
          2020,
          2022
         ],
         "y": [
          1,
          1,
          1,
          1,
          1,
          1,
          2,
          1,
          2
         ]
        },
        {
         "hoverinfo": "text",
         "hovertext": [
          "<b>Topic 18</b><br>Words: fees, junk, airlines, companies, upfront",
          "<b>Topic 18</b><br>Words: fees, card, junk, companies, im"
         ],
         "marker": {
          "color": "#D55E00"
         },
         "mode": "lines",
         "name": "18_fees_junk_companies_card",
         "type": "scatter",
         "x": [
          2023,
          2024
         ],
         "y": [
          5,
          6
         ]
        }
       ],
       "layout": {
        "height": 450,
        "hoverlabel": {
         "bgcolor": "white",
         "font": {
          "family": "Rockwell",
          "size": 16
         }
        },
        "legend": {
         "title": {
          "text": "<b>Global Topic Representation"
         }
        },
        "template": {
         "data": {
          "bar": [
           {
            "error_x": {
             "color": "rgb(36,36,36)"
            },
            "error_y": {
             "color": "rgb(36,36,36)"
            },
            "marker": {
             "line": {
              "color": "white",
              "width": 0.5
             },
             "pattern": {
              "fillmode": "overlay",
              "size": 10,
              "solidity": 0.2
             }
            },
            "type": "bar"
           }
          ],
          "barpolar": [
           {
            "marker": {
             "line": {
              "color": "white",
              "width": 0.5
             },
             "pattern": {
              "fillmode": "overlay",
              "size": 10,
              "solidity": 0.2
             }
            },
            "type": "barpolar"
           }
          ],
          "carpet": [
           {
            "aaxis": {
             "endlinecolor": "rgb(36,36,36)",
             "gridcolor": "white",
             "linecolor": "white",
             "minorgridcolor": "white",
             "startlinecolor": "rgb(36,36,36)"
            },
            "baxis": {
             "endlinecolor": "rgb(36,36,36)",
             "gridcolor": "white",
             "linecolor": "white",
             "minorgridcolor": "white",
             "startlinecolor": "rgb(36,36,36)"
            },
            "type": "carpet"
           }
          ],
          "choropleth": [
           {
            "colorbar": {
             "outlinewidth": 1,
             "tickcolor": "rgb(36,36,36)",
             "ticks": "outside"
            },
            "type": "choropleth"
           }
          ],
          "contour": [
           {
            "colorbar": {
             "outlinewidth": 1,
             "tickcolor": "rgb(36,36,36)",
             "ticks": "outside"
            },
            "colorscale": [
             [
              0,
              "#440154"
             ],
             [
              0.1111111111111111,
              "#482878"
             ],
             [
              0.2222222222222222,
              "#3e4989"
             ],
             [
              0.3333333333333333,
              "#31688e"
             ],
             [
              0.4444444444444444,
              "#26828e"
             ],
             [
              0.5555555555555556,
              "#1f9e89"
             ],
             [
              0.6666666666666666,
              "#35b779"
             ],
             [
              0.7777777777777778,
              "#6ece58"
             ],
             [
              0.8888888888888888,
              "#b5de2b"
             ],
             [
              1,
              "#fde725"
             ]
            ],
            "type": "contour"
           }
          ],
          "contourcarpet": [
           {
            "colorbar": {
             "outlinewidth": 1,
             "tickcolor": "rgb(36,36,36)",
             "ticks": "outside"
            },
            "type": "contourcarpet"
           }
          ],
          "heatmap": [
           {
            "colorbar": {
             "outlinewidth": 1,
             "tickcolor": "rgb(36,36,36)",
             "ticks": "outside"
            },
            "colorscale": [
             [
              0,
              "#440154"
             ],
             [
              0.1111111111111111,
              "#482878"
             ],
             [
              0.2222222222222222,
              "#3e4989"
             ],
             [
              0.3333333333333333,
              "#31688e"
             ],
             [
              0.4444444444444444,
              "#26828e"
             ],
             [
              0.5555555555555556,
              "#1f9e89"
             ],
             [
              0.6666666666666666,
              "#35b779"
             ],
             [
              0.7777777777777778,
              "#6ece58"
             ],
             [
              0.8888888888888888,
              "#b5de2b"
             ],
             [
              1,
              "#fde725"
             ]
            ],
            "type": "heatmap"
           }
          ],
          "heatmapgl": [
           {
            "colorbar": {
             "outlinewidth": 1,
             "tickcolor": "rgb(36,36,36)",
             "ticks": "outside"
            },
            "colorscale": [
             [
              0,
              "#440154"
             ],
             [
              0.1111111111111111,
              "#482878"
             ],
             [
              0.2222222222222222,
              "#3e4989"
             ],
             [
              0.3333333333333333,
              "#31688e"
             ],
             [
              0.4444444444444444,
              "#26828e"
             ],
             [
              0.5555555555555556,
              "#1f9e89"
             ],
             [
              0.6666666666666666,
              "#35b779"
             ],
             [
              0.7777777777777778,
              "#6ece58"
             ],
             [
              0.8888888888888888,
              "#b5de2b"
             ],
             [
              1,
              "#fde725"
             ]
            ],
            "type": "heatmapgl"
           }
          ],
          "histogram": [
           {
            "marker": {
             "line": {
              "color": "white",
              "width": 0.6
             }
            },
            "type": "histogram"
           }
          ],
          "histogram2d": [
           {
            "colorbar": {
             "outlinewidth": 1,
             "tickcolor": "rgb(36,36,36)",
             "ticks": "outside"
            },
            "colorscale": [
             [
              0,
              "#440154"
             ],
             [
              0.1111111111111111,
              "#482878"
             ],
             [
              0.2222222222222222,
              "#3e4989"
             ],
             [
              0.3333333333333333,
              "#31688e"
             ],
             [
              0.4444444444444444,
              "#26828e"
             ],
             [
              0.5555555555555556,
              "#1f9e89"
             ],
             [
              0.6666666666666666,
              "#35b779"
             ],
             [
              0.7777777777777778,
              "#6ece58"
             ],
             [
              0.8888888888888888,
              "#b5de2b"
             ],
             [
              1,
              "#fde725"
             ]
            ],
            "type": "histogram2d"
           }
          ],
          "histogram2dcontour": [
           {
            "colorbar": {
             "outlinewidth": 1,
             "tickcolor": "rgb(36,36,36)",
             "ticks": "outside"
            },
            "colorscale": [
             [
              0,
              "#440154"
             ],
             [
              0.1111111111111111,
              "#482878"
             ],
             [
              0.2222222222222222,
              "#3e4989"
             ],
             [
              0.3333333333333333,
              "#31688e"
             ],
             [
              0.4444444444444444,
              "#26828e"
             ],
             [
              0.5555555555555556,
              "#1f9e89"
             ],
             [
              0.6666666666666666,
              "#35b779"
             ],
             [
              0.7777777777777778,
              "#6ece58"
             ],
             [
              0.8888888888888888,
              "#b5de2b"
             ],
             [
              1,
              "#fde725"
             ]
            ],
            "type": "histogram2dcontour"
           }
          ],
          "mesh3d": [
           {
            "colorbar": {
             "outlinewidth": 1,
             "tickcolor": "rgb(36,36,36)",
             "ticks": "outside"
            },
            "type": "mesh3d"
           }
          ],
          "parcoords": [
           {
            "line": {
             "colorbar": {
              "outlinewidth": 1,
              "tickcolor": "rgb(36,36,36)",
              "ticks": "outside"
             }
            },
            "type": "parcoords"
           }
          ],
          "pie": [
           {
            "automargin": true,
            "type": "pie"
           }
          ],
          "scatter": [
           {
            "fillpattern": {
             "fillmode": "overlay",
             "size": 10,
             "solidity": 0.2
            },
            "type": "scatter"
           }
          ],
          "scatter3d": [
           {
            "line": {
             "colorbar": {
              "outlinewidth": 1,
              "tickcolor": "rgb(36,36,36)",
              "ticks": "outside"
             }
            },
            "marker": {
             "colorbar": {
              "outlinewidth": 1,
              "tickcolor": "rgb(36,36,36)",
              "ticks": "outside"
             }
            },
            "type": "scatter3d"
           }
          ],
          "scattercarpet": [
           {
            "marker": {
             "colorbar": {
              "outlinewidth": 1,
              "tickcolor": "rgb(36,36,36)",
              "ticks": "outside"
             }
            },
            "type": "scattercarpet"
           }
          ],
          "scattergeo": [
           {
            "marker": {
             "colorbar": {
              "outlinewidth": 1,
              "tickcolor": "rgb(36,36,36)",
              "ticks": "outside"
             }
            },
            "type": "scattergeo"
           }
          ],
          "scattergl": [
           {
            "marker": {
             "colorbar": {
              "outlinewidth": 1,
              "tickcolor": "rgb(36,36,36)",
              "ticks": "outside"
             }
            },
            "type": "scattergl"
           }
          ],
          "scattermapbox": [
           {
            "marker": {
             "colorbar": {
              "outlinewidth": 1,
              "tickcolor": "rgb(36,36,36)",
              "ticks": "outside"
             }
            },
            "type": "scattermapbox"
           }
          ],
          "scatterpolar": [
           {
            "marker": {
             "colorbar": {
              "outlinewidth": 1,
              "tickcolor": "rgb(36,36,36)",
              "ticks": "outside"
             }
            },
            "type": "scatterpolar"
           }
          ],
          "scatterpolargl": [
           {
            "marker": {
             "colorbar": {
              "outlinewidth": 1,
              "tickcolor": "rgb(36,36,36)",
              "ticks": "outside"
             }
            },
            "type": "scatterpolargl"
           }
          ],
          "scatterternary": [
           {
            "marker": {
             "colorbar": {
              "outlinewidth": 1,
              "tickcolor": "rgb(36,36,36)",
              "ticks": "outside"
             }
            },
            "type": "scatterternary"
           }
          ],
          "surface": [
           {
            "colorbar": {
             "outlinewidth": 1,
             "tickcolor": "rgb(36,36,36)",
             "ticks": "outside"
            },
            "colorscale": [
             [
              0,
              "#440154"
             ],
             [
              0.1111111111111111,
              "#482878"
             ],
             [
              0.2222222222222222,
              "#3e4989"
             ],
             [
              0.3333333333333333,
              "#31688e"
             ],
             [
              0.4444444444444444,
              "#26828e"
             ],
             [
              0.5555555555555556,
              "#1f9e89"
             ],
             [
              0.6666666666666666,
              "#35b779"
             ],
             [
              0.7777777777777778,
              "#6ece58"
             ],
             [
              0.8888888888888888,
              "#b5de2b"
             ],
             [
              1,
              "#fde725"
             ]
            ],
            "type": "surface"
           }
          ],
          "table": [
           {
            "cells": {
             "fill": {
              "color": "rgb(237,237,237)"
             },
             "line": {
              "color": "white"
             }
            },
            "header": {
             "fill": {
              "color": "rgb(217,217,217)"
             },
             "line": {
              "color": "white"
             }
            },
            "type": "table"
           }
          ]
         },
         "layout": {
          "annotationdefaults": {
           "arrowhead": 0,
           "arrowwidth": 1
          },
          "autotypenumbers": "strict",
          "coloraxis": {
           "colorbar": {
            "outlinewidth": 1,
            "tickcolor": "rgb(36,36,36)",
            "ticks": "outside"
           }
          },
          "colorscale": {
           "diverging": [
            [
             0,
             "rgb(103,0,31)"
            ],
            [
             0.1,
             "rgb(178,24,43)"
            ],
            [
             0.2,
             "rgb(214,96,77)"
            ],
            [
             0.3,
             "rgb(244,165,130)"
            ],
            [
             0.4,
             "rgb(253,219,199)"
            ],
            [
             0.5,
             "rgb(247,247,247)"
            ],
            [
             0.6,
             "rgb(209,229,240)"
            ],
            [
             0.7,
             "rgb(146,197,222)"
            ],
            [
             0.8,
             "rgb(67,147,195)"
            ],
            [
             0.9,
             "rgb(33,102,172)"
            ],
            [
             1,
             "rgb(5,48,97)"
            ]
           ],
           "sequential": [
            [
             0,
             "#440154"
            ],
            [
             0.1111111111111111,
             "#482878"
            ],
            [
             0.2222222222222222,
             "#3e4989"
            ],
            [
             0.3333333333333333,
             "#31688e"
            ],
            [
             0.4444444444444444,
             "#26828e"
            ],
            [
             0.5555555555555556,
             "#1f9e89"
            ],
            [
             0.6666666666666666,
             "#35b779"
            ],
            [
             0.7777777777777778,
             "#6ece58"
            ],
            [
             0.8888888888888888,
             "#b5de2b"
            ],
            [
             1,
             "#fde725"
            ]
           ],
           "sequentialminus": [
            [
             0,
             "#440154"
            ],
            [
             0.1111111111111111,
             "#482878"
            ],
            [
             0.2222222222222222,
             "#3e4989"
            ],
            [
             0.3333333333333333,
             "#31688e"
            ],
            [
             0.4444444444444444,
             "#26828e"
            ],
            [
             0.5555555555555556,
             "#1f9e89"
            ],
            [
             0.6666666666666666,
             "#35b779"
            ],
            [
             0.7777777777777778,
             "#6ece58"
            ],
            [
             0.8888888888888888,
             "#b5de2b"
            ],
            [
             1,
             "#fde725"
            ]
           ]
          },
          "colorway": [
           "#1F77B4",
           "#FF7F0E",
           "#2CA02C",
           "#D62728",
           "#9467BD",
           "#8C564B",
           "#E377C2",
           "#7F7F7F",
           "#BCBD22",
           "#17BECF"
          ],
          "font": {
           "color": "rgb(36,36,36)"
          },
          "geo": {
           "bgcolor": "white",
           "lakecolor": "white",
           "landcolor": "white",
           "showlakes": true,
           "showland": true,
           "subunitcolor": "white"
          },
          "hoverlabel": {
           "align": "left"
          },
          "hovermode": "closest",
          "mapbox": {
           "style": "light"
          },
          "paper_bgcolor": "white",
          "plot_bgcolor": "white",
          "polar": {
           "angularaxis": {
            "gridcolor": "rgb(232,232,232)",
            "linecolor": "rgb(36,36,36)",
            "showgrid": false,
            "showline": true,
            "ticks": "outside"
           },
           "bgcolor": "white",
           "radialaxis": {
            "gridcolor": "rgb(232,232,232)",
            "linecolor": "rgb(36,36,36)",
            "showgrid": false,
            "showline": true,
            "ticks": "outside"
           }
          },
          "scene": {
           "xaxis": {
            "backgroundcolor": "white",
            "gridcolor": "rgb(232,232,232)",
            "gridwidth": 2,
            "linecolor": "rgb(36,36,36)",
            "showbackground": true,
            "showgrid": false,
            "showline": true,
            "ticks": "outside",
            "zeroline": false,
            "zerolinecolor": "rgb(36,36,36)"
           },
           "yaxis": {
            "backgroundcolor": "white",
            "gridcolor": "rgb(232,232,232)",
            "gridwidth": 2,
            "linecolor": "rgb(36,36,36)",
            "showbackground": true,
            "showgrid": false,
            "showline": true,
            "ticks": "outside",
            "zeroline": false,
            "zerolinecolor": "rgb(36,36,36)"
           },
           "zaxis": {
            "backgroundcolor": "white",
            "gridcolor": "rgb(232,232,232)",
            "gridwidth": 2,
            "linecolor": "rgb(36,36,36)",
            "showbackground": true,
            "showgrid": false,
            "showline": true,
            "ticks": "outside",
            "zeroline": false,
            "zerolinecolor": "rgb(36,36,36)"
           }
          },
          "shapedefaults": {
           "fillcolor": "black",
           "line": {
            "width": 0
           },
           "opacity": 0.3
          },
          "ternary": {
           "aaxis": {
            "gridcolor": "rgb(232,232,232)",
            "linecolor": "rgb(36,36,36)",
            "showgrid": false,
            "showline": true,
            "ticks": "outside"
           },
           "baxis": {
            "gridcolor": "rgb(232,232,232)",
            "linecolor": "rgb(36,36,36)",
            "showgrid": false,
            "showline": true,
            "ticks": "outside"
           },
           "bgcolor": "white",
           "caxis": {
            "gridcolor": "rgb(232,232,232)",
            "linecolor": "rgb(36,36,36)",
            "showgrid": false,
            "showline": true,
            "ticks": "outside"
           }
          },
          "title": {
           "x": 0.05
          },
          "xaxis": {
           "automargin": true,
           "gridcolor": "rgb(232,232,232)",
           "linecolor": "rgb(36,36,36)",
           "showgrid": false,
           "showline": true,
           "ticks": "outside",
           "title": {
            "standoff": 15
           },
           "zeroline": false,
           "zerolinecolor": "rgb(36,36,36)"
          },
          "yaxis": {
           "automargin": true,
           "gridcolor": "rgb(232,232,232)",
           "linecolor": "rgb(36,36,36)",
           "showgrid": false,
           "showline": true,
           "ticks": "outside",
           "title": {
            "standoff": 15
           },
           "zeroline": false,
           "zerolinecolor": "rgb(36,36,36)"
          }
         }
        },
        "title": {
         "font": {
          "color": "Black",
          "size": 22
         },
         "text": "<b>Topics over Time</b>",
         "x": 0.4,
         "xanchor": "center",
         "y": 0.95,
         "yanchor": "top"
        },
        "width": 1250,
        "xaxis": {
         "autorange": true,
         "range": [
          1978,
          2024
         ],
         "showgrid": true,
         "type": "linear"
        },
        "yaxis": {
         "autorange": true,
         "range": [
          -0.5,
          29.5
         ],
         "showgrid": true,
         "title": {
          "text": "Frequency"
         },
         "type": "linear"
        }
       }
      },
      "image/png": "[encoded data removed]",
      "text/html": [
       "<div>                            <div id=\"1f0e9d12-56b9-4e50-9436-4e6e3cc1ccfe\" class=\"plotly-graph-div\" style=\"height:450px; width:1250px;\"></div>            <script type=\"text/javascript\">                require([\"plotly\"], function(Plotly) {                    window.PLOTLYENV=window.PLOTLYENV || {};                                    if (document.getElementById(\"1f0e9d12-56b9-4e50-9436-4e6e3cc1ccfe\")) {                    Plotly.newPlot(                        \"1f0e9d12-56b9-4e50-9436-4e6e3cc1ccfe\",                        [{\"hoverinfo\":\"text\",\"hovertext\":[\"\\u003cb\\u003eTopic 0\\u003c\\u002fb\\u003e\\u003cbr\\u003eWords: tax, inflation, government, federal, budget\",\"\\u003cb\\u003eTopic 0\\u003c\\u002fb\\u003e\\u003cbr\\u003eWords: inflation, antiinflation, government, budget, restraint\",\"\\u003cb\\u003eTopic 0\\u003c\\u002fb\\u003e\\u003cbr\\u003eWords: inflation, defense, reduce, prices, budget\",\"\\u003cb\\u003eTopic 0\\u003c\\u002fb\\u003e\\u003cbr\\u003eWords: tax, billion, federal, program, programs\",\"\\u003cb\\u003eTopic 0\\u003c\\u002fb\\u003e\\u003cbr\\u003eWords: programs, federal, government, tax, budget\",\"\\u003cb\\u003eTopic 0\\u003c\\u002fb\\u003e\\u003cbr\\u003eWords: spending, tax, budget, deficits, national\",\"\\u003cb\\u003eTopic 0\\u003c\\u002fb\\u003e\\u003cbr\\u003eWords: spending, tax, budget, government, federal\",\"\\u003cb\\u003eTopic 0\\u003c\\u002fb\\u003e\\u003cbr\\u003eWords: tax, growth, spending, federal, government\",\"\\u003cb\\u003eTopic 0\\u003c\\u002fb\\u003e\\u003cbr\\u003eWords: budget, tax, federal, meet, grammrudmanhollings\",\"\\u003cb\\u003eTopic 0\\u003c\\u002fb\\u003e\\u003cbr\\u003eWords: budget, suggestions, congress, government, deficit\",\"\\u003cb\\u003eTopic 0\\u003c\\u002fb\\u003e\\u003cbr\\u003eWords: budget, federal, spending, deficits, lets\",\"\\u003cb\\u003eTopic 0\\u003c\\u002fb\\u003e\\u003cbr\\u003eWords: budget, priorities, federal, plan, savings\",\"\\u003cb\\u003eTopic 0\\u003c\\u002fb\\u003e\\u003cbr\\u003eWords: budget, deficit, gross, product, federal\",\"\\u003cb\\u003eTopic 0\\u003c\\u002fb\\u003e\\u003cbr\\u003eWords: budget, federal, programs, spending, washington\",\"\\u003cb\\u003eTopic 0\\u003c\\u002fb\\u003e\\u003cbr\\u003eWords: tax, federal, congress, budget, government\",\"\\u003cb\\u003eTopic 0\\u003c\\u002fb\\u003e\\u003cbr\\u003eWords: deficit, tax, budget, federal, government\",\"\\u003cb\\u003eTopic 0\\u003c\\u002fb\\u003e\\u003cbr\\u003eWords: produced, deficit, cut, spending, tax\",\"\\u003cb\\u003eTopic 0\\u003c\\u002fb\\u003e\\u003cbr\\u003eWords: cut, government, tax, spending, budget\",\"\\u003cb\\u003eTopic 0\\u003c\\u002fb\\u003e\\u003cbr\\u003eWords: budget, government, deficit, federal, rates\",\"\\u003cb\\u003eTopic 0\\u003c\\u002fb\\u003e\\u003cbr\\u003eWords: budget, balance, drugs, amendment, balanced\",\"\\u003cb\\u003eTopic 0\\u003c\\u002fb\\u003e\\u003cbr\\u003eWords: deficit, tax, projected, budget, social\",\"\\u003cb\\u003eTopic 0\\u003c\\u002fb\\u003e\\u003cbr\\u003eWords: social, security, surplus, save, medicare\",\"\\u003cb\\u003eTopic 0\\u003c\\u002fb\\u003e\\u003cbr\\u003eWords: save, retirement, budget, years, fiscal\",\"\\u003cb\\u003eTopic 0\\u003c\\u002fb\\u003e\\u003cbr\\u003eWords: tax, social, security, percent, budget\",\"\\u003cb\\u003eTopic 0\\u003c\\u002fb\\u003e\\u003cbr\\u003eWords: security, budget, homeland, priority, retirement\",\"\\u003cb\\u003eTopic 0\\u003c\\u002fb\\u003e\\u003cbr\\u003eWords: income, tax, spending, taxes, economy\",\"\\u003cb\\u003eTopic 0\\u003c\\u002fb\\u003e\\u003cbr\\u003eWords: unless, tax, taxes, act, congress\",\"\\u003cb\\u003eTopic 0\\u003c\\u002fb\\u003e\\u003cbr\\u003eWords: social, security, retirement, benefits, workers\",\"\\u003cb\\u003eTopic 0\\u003c\\u002fb\\u003e\\u003cbr\\u003eWords: tax, baby, relief, spending, social\",\"\\u003cb\\u003eTopic 0\\u003c\\u002fb\\u003e\\u003cbr\\u003eWords: corps, federal, budget, reserve, armed\",\"\\u003cb\\u003eTopic 0\\u003c\\u002fb\\u003e\\u003cbr\\u003eWords: taxes, tax, relief, budget, trust\",\"\\u003cb\\u003eTopic 0\\u003c\\u002fb\\u003e\\u003cbr\\u003eWords: banks, tax, budget, lending, plan\",\"\\u003cb\\u003eTopic 0\\u003c\\u002fb\\u003e\\u003cbr\\u003eWords: taxes, tax, deficit, hated, cut\",\"\\u003cb\\u003eTopic 0\\u003c\\u002fb\\u003e\\u003cbr\\u003eWords: spending, tax, deficit, rid, domestic\",\"\\u003cb\\u003eTopic 0\\u003c\\u002fb\\u003e\\u003cbr\\u003eWords: tax, youre, financial, right, taxes\",\"\\u003cb\\u003eTopic 0\\u003c\\u002fb\\u003e\\u003cbr\\u003eWords: tax, deficit, reduction, cuts, rates\",\"\\u003cb\\u003eTopic 0\\u003c\\u002fb\\u003e\\u003cbr\\u003eWords: lets, loopholes, retirement, tax, budget\",\"\\u003cb\\u003eTopic 0\\u003c\\u002fb\\u003e\\u003cbr\\u003eWords: lets, loopholes, close, achieve, accumulated\",\"\\u003cb\\u003eTopic 0\\u003c\\u002fb\\u003e\\u003cbr\\u003eWords: companies, tax, taxed, ship, countries\",\"\\u003cb\\u003eTopic 0\\u003c\\u002fb\\u003e\\u003cbr\\u003eWords: tax, business, doubled, percent, massive\",\"\\u003cb\\u003eTopic 0\\u003c\\u002fb\\u003e\\u003cbr\\u003eWords: alarmed, 716, socialism, billion, 700\",\"\\u003cb\\u003eTopic 0\\u003c\\u002fb\\u003e\\u003cbr\\u003eWords: tax, pay, taxes, going, percent\",\"\\u003cb\\u003eTopic 0\\u003c\\u002fb\\u003e\\u003cbr\\u003eWords: lower, tax, inflation, deficit, plan\",\"\\u003cb\\u003eTopic 0\\u003c\\u002fb\\u003e\\u003cbr\\u003eWords: fair, pay, tax, plans, corporations\",\"\\u003cb\\u003eTopic 0\\u003c\\u002fb\\u003e\\u003cbr\\u003eWords: pay, tax, fair, federal, wealthy\"],\"marker\":{\"color\":\"#E69F00\"},\"mode\":\"lines\",\"name\":\"0_tax_budget_spending_federal\",\"x\":[1978,1979,1980,1981,1982,1983,1984,1985,1986,1987,1988,1989,1990,1991,1992,1993,1994,1995,1996,1997,1998,1999,2000,2001,2002,2003,2004,2005,2006,2007,2008,2009,2010,2011,2012,2013,2014,2015,2017,2018,2019,2021,2022,2023,2024],\"y\":[16,14,4,24,18,16,16,15,6,3,9,8,5,8,11,22,8,15,9,3,8,17,4,20,7,6,3,14,3,2,3,18,16,9,20,9,3,1,4,2,2,10,12,16,23],\"type\":\"scatter\"},{\"hoverinfo\":\"text\",\"hovertext\":[\"\\u003cb\\u003eTopic 1\\u003c\\u002fb\\u003e\\u003cbr\\u003eWords: energy, trade, inflation, unemployment, economy\",\"\\u003cb\\u003eTopic 1\\u003c\\u002fb\\u003e\\u003cbr\\u003eWords: economic, congressional, weve, era, major\",\"\\u003cb\\u003eTopic 1\\u003c\\u002fb\\u003e\\u003cbr\\u003eWords: energy, conservation, oil, gasoline, conserve\",\"\\u003cb\\u003eTopic 1\\u003c\\u002fb\\u003e\\u003cbr\\u003eWords: regulations, fuels, regulatory, subsidy, number\",\"\\u003cb\\u003eTopic 1\\u003c\\u002fb\\u003e\\u003cbr\\u003eWords: recession, unemployment, 1981, 1980, air\",\"\\u003cb\\u003eTopic 1\\u003c\\u002fb\\u003e\\u003cbr\\u003eWords: trade, pioneer, export, jobs, technology\",\"\\u003cb\\u003eTopic 1\\u003c\\u002fb\\u003e\\u003cbr\\u003eWords: space, develop, new, frontier, transportation\",\"\\u003cb\\u003eTopic 1\\u003c\\u002fb\\u003e\\u003cbr\\u003eWords: space, trade, new, energy, research\",\"\\u003cb\\u003eTopic 1\\u003c\\u002fb\\u003e\\u003cbr\\u003eWords: space, forward, going, trade, earth\",\"\\u003cb\\u003eTopic 1\\u003c\\u002fb\\u003e\\u003cbr\\u003eWords: trade, new, americas, world, competitiveness\",\"\\u003cb\\u003eTopic 1\\u003c\\u002fb\\u003e\\u003cbr\\u003eWords: trade, free, americas, north, jobs\",\"\\u003cb\\u003eTopic 1\\u003c\\u002fb\\u003e\\u003cbr\\u003eWords: space, oceans, new, clean, human\",\"\\u003cb\\u003eTopic 1\\u003c\\u002fb\\u003e\\u003cbr\\u003eWords: environmental, beautiful, billion, generations, forestland\",\"\\u003cb\\u003eTopic 1\\u003c\\u002fb\\u003e\\u003cbr\\u003eWords: trade, economic, exports, economy, jobs\",\"\\u003cb\\u003eTopic 1\\u003c\\u002fb\\u003e\\u003cbr\\u003eWords: tell, trade, longterm, mood, thief\",\"\\u003cb\\u003eTopic 1\\u003c\\u002fb\\u003e\\u003cbr\\u003eWords: energy, trade, unlike, productivity, growth\",\"\\u003cb\\u003eTopic 1\\u003c\\u002fb\\u003e\\u003cbr\\u003eWords: renew, low, country, jobs, trade\",\"\\u003cb\\u003eTopic 1\\u003c\\u002fb\\u003e\\u003cbr\\u003eWords: safer, harder, class, middle, stress\",\"\\u003cb\\u003eTopic 1\\u003c\\u002fb\\u003e\\u003cbr\\u003eWords: toxic, water, polluters, environment, air\",\"\\u003cb\\u003eTopic 1\\u003c\\u002fb\\u003e\\u003cbr\\u003eWords: china, rivers, clean, environment, trade\",\"\\u003cb\\u003eTopic 1\\u003c\\u002fb\\u003e\\u003cbr\\u003eWords: trade, new, jobs, energy, clean\",\"\\u003cb\\u003eTopic 1\\u003c\\u002fb\\u003e\\u003cbr\\u003eWords: trade, century, world, new, china\",\"\\u003cb\\u003eTopic 1\\u003c\\u002fb\\u003e\\u003cbr\\u003eWords: new, trade, energy, technology, growth\",\"\\u003cb\\u003eTopic 1\\u003c\\u002fb\\u003e\\u003cbr\\u003eWords: energy, conservation, road, fork, trade\",\"\\u003cb\\u003eTopic 1\\u003c\\u002fb\\u003e\\u003cbr\\u003eWords: energy, act, reliable, dependent, jobs\",\"\\u003cb\\u003eTopic 1\\u003c\\u002fb\\u003e\\u003cbr\\u003eWords: energy, environment, hydrogen, forests, sent\",\"\\u003cb\\u003eTopic 1\\u003c\\u002fb\\u003e\\u003cbr\\u003eWords: energy, electricity, proving, working, supplies\",\"\\u003cb\\u003eTopic 1\\u003c\\u002fb\\u003e\\u003cbr\\u003eWords: energy, sources, clean, hydrogenfueled, leadingedge\",\"\\u003cb\\u003eTopic 1\\u003c\\u002fb\\u003e\\u003cbr\\u003eWords: energy, research, oil, world, competitive\",\"\\u003cb\\u003eTopic 1\\u003c\\u002fb\\u003e\\u003cbr\\u003eWords: oil, supply, clean, energy, fuel\",\"\\u003cb\\u003eTopic 1\\u003c\\u002fb\\u003e\\u003cbr\\u003eWords: energy, empower, trade, technology, agreement\",\"\\u003cb\\u003eTopic 1\\u003c\\u002fb\\u003e\\u003cbr\\u003eWords: energy, economy, renewable, clean, jobs\",\"\\u003cb\\u003eTopic 1\\u003c\\u002fb\\u003e\\u003cbr\\u003eWords: energy, clean, jobs, means, trade\",\"\\u003cb\\u003eTopic 1\\u003c\\u002fb\\u003e\\u003cbr\\u003eWords: energy, jobs, clean, new, technology\",\"\\u003cb\\u003eTopic 1\\u003c\\u002fb\\u003e\\u003cbr\\u003eWords: energy, jobs, oil, gas, clean\",\"\\u003cb\\u003eTopic 1\\u003c\\u002fb\\u003e\\u003cbr\\u003eWords: energy, jobs, gas, years, oil\",\"\\u003cb\\u003eTopic 1\\u003c\\u002fb\\u003e\\u003cbr\\u003eWords: energy, jobs, new, natural, gas\",\"\\u003cb\\u003eTopic 1\\u003c\\u002fb\\u003e\\u003cbr\\u003eWords: jobs, businesses, fastest, energy, oil\",\"\\u003cb\\u003eTopic 1\\u003c\\u002fb\\u003e\\u003cbr\\u003eWords: energy, thats, jobs, economy, trends\",\"\\u003cb\\u003eTopic 1\\u003c\\u002fb\\u003e\\u003cbr\\u003eWords: trade, jobs, new, american, weve\",\"\\u003cb\\u003eTopic 1\\u003c\\u002fb\\u003e\\u003cbr\\u003eWords: american, building, energy, jobs, unemployment\",\"\\u003cb\\u003eTopic 1\\u003c\\u002fb\\u003e\\u003cbr\\u003eWords: jobs, infrastructure, tariff, usmca, growing\",\"\\u003cb\\u003eTopic 1\\u003c\\u002fb\\u003e\\u003cbr\\u003eWords: trade, administration, country, energy, jobs\",\"\\u003cb\\u003eTopic 1\\u003c\\u002fb\\u003e\\u003cbr\\u003eWords: jobs, american, reason, climate, clean\",\"\\u003cb\\u003eTopic 1\\u003c\\u002fb\\u003e\\u003cbr\\u003eWords: pat, america, energy, jobs, factories\",\"\\u003cb\\u003eTopic 1\\u003c\\u002fb\\u003e\\u003cbr\\u003eWords: jobs, going, infrastructure, world, energy\",\"\\u003cb\\u003eTopic 1\\u003c\\u002fb\\u003e\\u003cbr\\u003eWords: jobs, creating, american, build, energy\"],\"marker\":{\"color\":\"#56B4E9\"},\"mode\":\"lines\",\"name\":\"1_energy_jobs_trade_new\",\"x\":[1978,1979,1980,1981,1982,1983,1984,1985,1986,1987,1988,1989,1990,1991,1992,1993,1994,1995,1996,1997,1998,1999,2000,2001,2002,2003,2004,2005,2006,2007,2008,2009,2010,2011,2012,2013,2014,2015,2016,2017,2018,2019,2020,2021,2022,2023,2024],\"y\":[13,6,6,9,5,10,13,12,2,3,2,7,2,5,4,5,3,5,5,10,11,11,15,5,2,4,2,1,8,7,7,10,11,21,20,16,12,16,11,9,6,6,13,14,10,26,15],\"type\":\"scatter\"},{\"hoverinfo\":\"text\",\"hovertext\":[\"\\u003cb\\u003eTopic 2\\u003c\\u002fb\\u003e\\u003cbr\\u003eWords: welfare, recommending, village, public, passionately\",\"\\u003cb\\u003eTopic 2\\u003c\\u002fb\\u003e\\u003cbr\\u003eWords: concentrating, young, 1980s, minority, youth\",\"\\u003cb\\u003eTopic 2\\u003c\\u002fb\\u003e\\u003cbr\\u003eWords: aid, total, percent, welfare, schools\",\"\\u003cb\\u003eTopic 2\\u003c\\u002fb\\u003e\\u003cbr\\u003eWords: programs, help, enterprise, discredited, volunteer\",\"\\u003cb\\u003eTopic 2\\u003c\\u002fb\\u003e\\u003cbr\\u003eWords: education, private, initiatives, sector, 1983\",\"\\u003cb\\u003eTopic 2\\u003c\\u002fb\\u003e\\u003cbr\\u003eWords: excellence, schools, education, help, school\",\"\\u003cb\\u003eTopic 2\\u003c\\u002fb\\u003e\\u003cbr\\u003eWords: basics, school, help, groups, children\",\"\\u003cb\\u003eTopic 2\\u003c\\u002fb\\u003e\\u003cbr\\u003eWords: parents, children, schools, education, welfare\",\"\\u003cb\\u003eTopic 2\\u003c\\u002fb\\u003e\\u003cbr\\u003eWords: welfare, children, illness, national, fear\",\"\\u003cb\\u003eTopic 2\\u003c\\u002fb\\u003e\\u003cbr\\u003eWords: family, welfare, poverty, spend, programs\",\"\\u003cb\\u003eTopic 2\\u003c\\u002fb\\u003e\\u003cbr\\u003eWords: education, parents, schools, students, program\",\"\\u003cb\\u003eTopic 2\\u003c\\u002fb\\u003e\\u003cbr\\u003eWords: kids, governor, education, tell, ready\",\"\\u003cb\\u003eTopic 2\\u003c\\u002fb\\u003e\\u003cbr\\u003eWords: ownership, hands, unshackled, means, birthright\",\"\\u003cb\\u003eTopic 2\\u003c\\u002fb\\u003e\\u003cbr\\u003eWords: welfare, family, help, schools, education\",\"\\u003cb\\u003eTopic 2\\u003c\\u002fb\\u003e\\u003cbr\\u003eWords: education, welfare, service, program, jobs\",\"\\u003cb\\u003eTopic 2\\u003c\\u002fb\\u003e\\u003cbr\\u003eWords: welfare, work, school, children, parents\",\"\\u003cb\\u003eTopic 2\\u003c\\u002fb\\u003e\\u003cbr\\u003eWords: welfare, work, children, responsibility, education\",\"\\u003cb\\u003eTopic 2\\u003c\\u002fb\\u003e\\u003cbr\\u003eWords: children, challenge, parents, work, welfare\",\"\\u003cb\\u003eTopic 2\\u003c\\u002fb\\u003e\\u003cbr\\u003eWords: school, schools, education, children, welfare\",\"\\u003cb\\u003eTopic 2\\u003c\\u002fb\\u003e\\u003cbr\\u003eWords: child, college, children, education, school\",\"\\u003cb\\u003eTopic 2\\u003c\\u002fb\\u003e\\u003cbr\\u003eWords: schools, school, children, teachers, support\",\"\\u003cb\\u003eTopic 2\\u003c\\u002fb\\u003e\\u003cbr\\u003eWords: children, schools, college, help, child\",\"\\u003cb\\u003eTopic 2\\u003c\\u002fb\\u003e\\u003cbr\\u003eWords: reading, mayor, schools, children, teaching\",\"\\u003cb\\u003eTopic 2\\u003c\\u002fb\\u003e\\u003cbr\\u003eWords: corps, teacher, need, children, good\",\"\\u003cb\\u003eTopic 2\\u003c\\u002fb\\u003e\\u003cbr\\u003eWords: mentors, person, 450, children, recruiting\",\"\\u003cb\\u003eTopic 2\\u003c\\u002fb\\u003e\\u003cbr\\u003eWords: schools, children, child, help, math\",\"\\u003cb\\u003eTopic 2\\u003c\\u002fb\\u003e\\u003cbr\\u003eWords: young, community, values, gangs, children\",\"\\u003cb\\u003eTopic 2\\u003c\\u002fb\\u003e\\u003cbr\\u003eWords: math, science, courses, early, ensure\",\"\\u003cb\\u003eTopic 2\\u003c\\u002fb\\u003e\\u003cbr\\u003eWords: children, schools, students, local, failing\",\"\\u003cb\\u003eTopic 2\\u003c\\u002fb\\u003e\\u003cbr\\u003eWords: schools, children, faithbased, help, students\",\"\\u003cb\\u003eTopic 2\\u003c\\u002fb\\u003e\\u003cbr\\u003eWords: education, school, college, high, schools\",\"\\u003cb\\u003eTopic 2\\u003c\\u002fb\\u003e\\u003cbr\\u003eWords: college, education, children, student, loans\",\"\\u003cb\\u003eTopic 2\\u003c\\u002fb\\u003e\\u003cbr\\u003eWords: schools, education, child, school, college\",\"\\u003cb\\u003eTopic 2\\u003c\\u002fb\\u003e\\u003cbr\\u003eWords: tuition, students, teachers, education, college\",\"\\u003cb\\u003eTopic 2\\u003c\\u002fb\\u003e\\u003cbr\\u003eWords: education, higher, schools, high, students\",\"\\u003cb\\u003eTopic 2\\u003c\\u002fb\\u003e\\u003cbr\\u003eWords: help, education, college, parents, schools\",\"\\u003cb\\u003eTopic 2\\u003c\\u002fb\\u003e\\u003cbr\\u003eWords: childcare, college, like, need, job\",\"\\u003cb\\u003eTopic 2\\u003c\\u002fb\\u003e\\u003cbr\\u003eWords: student, college, education, job, need\",\"\\u003cb\\u003eTopic 2\\u003c\\u002fb\\u003e\\u003cbr\\u003eWords: school, education, magnet, masters, denisha\",\"\\u003cb\\u003eTopic 2\\u003c\\u002fb\\u003e\\u003cbr\\u003eWords: governmentwide, firstever, thursday, women, focused\",\"\\u003cb\\u003eTopic 2\\u003c\\u002fb\\u003e\\u003cbr\\u003eWords: tony, janiyah, opportunity, school, students\",\"\\u003cb\\u003eTopic 2\\u003c\\u002fb\\u003e\\u003cbr\\u003eWords: years, child, education, 12, families\",\"\\u003cb\\u003eTopic 2\\u003c\\u002fb\\u003e\\u003cbr\\u003eWords: childcare, children, folks, cost, dad\",\"\\u003cb\\u003eTopic 2\\u003c\\u002fb\\u003e\\u003cbr\\u003eWords: lets, best, children, finish, school\",\"\\u003cb\\u003eTopic 2\\u003c\\u002fb\\u003e\\u003cbr\\u003eWords: keenan, college, student, imagine, children\"],\"marker\":{\"color\":\"#009E73\"},\"mode\":\"lines\",\"name\":\"2_children_education_schools_school\",\"x\":[1978,1980,1981,1982,1983,1984,1985,1986,1987,1988,1989,1990,1991,1992,1993,1994,1995,1996,1997,1998,1999,2000,2001,2002,2003,2004,2005,2006,2007,2008,2009,2010,2011,2012,2013,2014,2015,2016,2017,2019,2020,2021,2022,2023,2024],\"y\":[3,1,2,4,4,5,4,2,2,5,7,11,2,6,12,11,15,17,27,16,24,21,11,4,1,6,3,1,2,5,10,6,13,11,9,10,13,4,2,1,12,9,4,12,11],\"type\":\"scatter\"},{\"hoverinfo\":\"text\",\"hovertext\":[\"\\u003cb\\u003eTopic 3\\u003c\\u002fb\\u003e\\u003cbr\\u003eWords: sense, policy, rights, human, firm\",\"\\u003cb\\u003eTopic 3\\u003c\\u002fb\\u003e\\u003cbr\\u003eWords: influence, campaigns, centuries, world, state\",\"\\u003cb\\u003eTopic 3\\u003c\\u002fb\\u003e\\u003cbr\\u003eWords: state, repressive, outlet, far, frustrations\",\"\\u003cb\\u003eTopic 3\\u003c\\u002fb\\u003e\\u003cbr\\u003eWords: state, chamber, preserved, nation, congress\",\"\\u003cb\\u003eTopic 3\\u003c\\u002fb\\u003e\\u003cbr\\u003eWords: state, values, freedom, free, strength\",\"\\u003cb\\u003eTopic 3\\u003c\\u002fb\\u003e\\u003cbr\\u003eWords: freedom, confidence, peace, america, meaningful\",\"\\u003cb\\u003eTopic 3\\u003c\\u002fb\\u003e\\u003cbr\\u003eWords: spreading, revolution, freedom, dreams, great\",\"\\u003cb\\u003eTopic 3\\u003c\\u002fb\\u003e\\u003cbr\\u003eWords: future, america, nation, dream, americas\",\"\\u003cb\\u003eTopic 3\\u003c\\u002fb\\u003e\\u003cbr\\u003eWords: lights, state, government, americans, climbed\",\"\\u003cb\\u003eTopic 3\\u003c\\u002fb\\u003e\\u003cbr\\u003eWords: future, talked, return, improve, didnt\",\"\\u003cb\\u003eTopic 3\\u003c\\u002fb\\u003e\\u003cbr\\u003eWords: state, depends, adds, anchor, idea\",\"\\u003cb\\u003eTopic 3\\u003c\\u002fb\\u003e\\u003cbr\\u003eWords: freedom, leadership, america, purpose, nation\",\"\\u003cb\\u003eTopic 3\\u003c\\u002fb\\u003e\\u003cbr\\u003eWords: reform, virtue, chamber, practical, game\",\"\\u003cb\\u003eTopic 3\\u003c\\u002fb\\u003e\\u003cbr\\u003eWords: lobbying, passing, reform, believe, groups\",\"\\u003cb\\u003eTopic 3\\u003c\\u002fb\\u003e\\u003cbr\\u003eWords: chart, finance, heritage, influence, state\",\"\\u003cb\\u003eTopic 3\\u003c\\u002fb\\u003e\\u003cbr\\u003eWords: lobbyists, citizens, new, things, stop\",\"\\u003cb\\u003eTopic 3\\u003c\\u002fb\\u003e\\u003cbr\\u003eWords: state, congress, lobbyists, rate, american\",\"\\u003cb\\u003eTopic 3\\u003c\\u002fb\\u003e\\u003cbr\\u003eWords: 1000, days, americans, reform, work\",\"\\u003cb\\u003eTopic 3\\u003c\\u002fb\\u003e\\u003cbr\\u003eWords: government, america, community, campaign, build\",\"\\u003cb\\u003eTopic 3\\u003c\\u002fb\\u003e\\u003cbr\\u003eWords: century, 21st, report, state, american\",\"\\u003cb\\u003eTopic 3\\u003c\\u002fb\\u003e\\u003cbr\\u003eWords: filled, partnerships, state, new, america\",\"\\u003cb\\u003eTopic 3\\u003c\\u002fb\\u003e\\u003cbr\\u003eWords: tone, courage, judged, capitol, purpose\",\"\\u003cb\\u003eTopic 3\\u003c\\u002fb\\u003e\\u003cbr\\u003eWords: freedoms, free, power, america, enemies\",\"\\u003cb\\u003eTopic 3\\u003c\\u002fb\\u003e\\u003cbr\\u003eWords: faith, whirlwind, days, providence, placing\",\"\\u003cb\\u003eTopic 3\\u003c\\u002fb\\u003e\\u003cbr\\u003eWords: cause, forward, shown, nation, come\",\"\\u003cb\\u003eTopic 3\\u003c\\u002fb\\u003e\\u003cbr\\u003eWords: dream, freedom, gray, world, liberty\",\"\\u003cb\\u003eTopic 3\\u003c\\u002fb\\u003e\\u003cbr\\u003eWords: accepted, elected, pledge, differences, agenda\",\"\\u003cb\\u003eTopic 3\\u003c\\u002fb\\u003e\\u003cbr\\u003eWords: aisle, cause, qualities, future, resilient\",\"\\u003cb\\u003eTopic 3\\u003c\\u002fb\\u003e\\u003cbr\\u003eWords: liberty, trust, seen, trusting, nation\",\"\\u003cb\\u003eTopic 3\\u003c\\u002fb\\u003e\\u003cbr\\u003eWords: inspiration, ordinary, know, future, times\",\"\\u003cb\\u003eTopic 3\\u003c\\u002fb\\u003e\\u003cbr\\u003eWords: lobbyists, washington, lets, american, election\",\"\\u003cb\\u003eTopic 3\\u003c\\u002fb\\u003e\\u003cbr\\u003eWords: thats, idea, deserve, know, apart\",\"\\u003cb\\u003eTopic 3\\u003c\\u002fb\\u003e\\u003cbr\\u003eWords: simple, congress, lets, senate, stocks\",\"\\u003cb\\u003eTopic 3\\u003c\\u002fb\\u003e\\u003cbr\\u003eWords: expect, fieldwho, definitely, campaignto, attorneys\",\"\\u003cb\\u003eTopic 3\\u003c\\u002fb\\u003e\\u003cbr\\u003eWords: chamber, debate, make, rancorous, democracywhen\",\"\\u003cb\\u003eTopic 3\\u003c\\u002fb\\u003e\\u003cbr\\u003eWords: america, politics, better, state, values\",\"\\u003cb\\u003eTopic 3\\u003c\\u002fb\\u003e\\u003cbr\\u003eWords: change, want, just, better, politics\",\"\\u003cb\\u003eTopic 3\\u003c\\u002fb\\u003e\\u003cbr\\u003eWords: america, dreams, respect, 250th, torch\",\"\\u003cb\\u003eTopic 3\\u003c\\u002fb\\u003e\\u003cbr\\u003eWords: youve, dream, spine, pains, believe\",\"\\u003cb\\u003eTopic 3\\u003c\\u002fb\\u003e\\u003cbr\\u003eWords: choose, greatness, resistance, incredible, time\",\"\\u003cb\\u003eTopic 3\\u003c\\u002fb\\u003e\\u003cbr\\u003eWords: ancestors, settled, world, american, nation\",\"\\u003cb\\u003eTopic 3\\u003c\\u002fb\\u003e\\u003cbr\\u003eWords: say, nation, america, example, leadersand\",\"\\u003cb\\u003eTopic 3\\u003c\\u002fb\\u003e\\u003cbr\\u003eWords: state, report, nation, 245th, nationthe\",\"\\u003cb\\u003eTopic 3\\u003c\\u002fb\\u003e\\u003cbr\\u003eWords: nation, sake, strong, building, lives\",\"\\u003cb\\u003eTopic 3\\u003c\\u002fb\\u003e\\u003cbr\\u003eWords: america, im, old, came, optimistic\"],\"marker\":{\"color\":\"#F0E442\"},\"mode\":\"lines\",\"name\":\"3_state_america_nation_american\",\"x\":[1978,1979,1980,1982,1983,1984,1985,1986,1988,1989,1990,1991,1992,1993,1994,1995,1996,1997,1998,1999,2000,2001,2002,2003,2004,2005,2006,2007,2008,2009,2010,2011,2012,2013,2014,2015,2016,2017,2018,2019,2020,2021,2022,2023,2024],\"y\":[13,10,2,7,7,8,10,5,6,4,7,8,5,7,7,9,8,7,8,7,8,3,5,3,5,7,5,3,4,5,15,7,4,3,3,12,13,6,2,7,7,3,3,9,11],\"type\":\"scatter\"},{\"hoverinfo\":\"text\",\"hovertext\":[\"\\u003cb\\u003eTopic 4\\u003c\\u002fb\\u003e\\u003cbr\\u003eWords: develop, steps, national, health, plan\",\"\\u003cb\\u003eTopic 4\\u003c\\u002fb\\u003e\\u003cbr\\u003eWords: thisit, unbearable, curbing, involves, skyrocketing\",\"\\u003cb\\u003eTopic 4\\u003c\\u002fb\\u003e\\u003cbr\\u003eWords: bypass, techniques, laser, viruses, diagnosis\",\"\\u003cb\\u003eTopic 4\\u003c\\u002fb\\u003e\\u003cbr\\u003eWords: drugs, shoulder, voice, drug, asking\",\"\\u003cb\\u003eTopic 4\\u003c\\u002fb\\u003e\\u003cbr\\u003eWords: healthcare, sullivan, recommendations, health, lou\",\"\\u003cb\\u003eTopic 4\\u003c\\u002fb\\u003e\\u003cbr\\u003eWords: healthier, spiraling, infants, adults, aggressive\",\"\\u003cb\\u003eTopic 4\\u003c\\u002fb\\u003e\\u003cbr\\u003eWords: health, insurance, care, costs, choice\",\"\\u003cb\\u003eTopic 4\\u003c\\u002fb\\u003e\\u003cbr\\u003eWords: care, health, costs, year, percent\",\"\\u003cb\\u003eTopic 4\\u003c\\u002fb\\u003e\\u003cbr\\u003eWords: health, care, insurance, coverage, americans\",\"\\u003cb\\u003eTopic 4\\u003c\\u002fb\\u003e\\u003cbr\\u003eWords: health, care, insurance, coverage, sick\",\"\\u003cb\\u003eTopic 4\\u003c\\u002fb\\u003e\\u003cbr\\u003eWords: health, insurance, medicare, care, mccaffrey\",\"\\u003cb\\u003eTopic 4\\u003c\\u002fb\\u003e\\u003cbr\\u003eWords: health, aids, insurance, lose, care\",\"\\u003cb\\u003eTopic 4\\u003c\\u002fb\\u003e\\u003cbr\\u003eWords: care, health, insurance, medical, gene\",\"\\u003cb\\u003eTopic 4\\u003c\\u002fb\\u003e\\u003cbr\\u003eWords: health, medical, care, medicare, insurance\",\"\\u003cb\\u003eTopic 4\\u003c\\u002fb\\u003e\\u003cbr\\u003eWords: health, care, insurance, drugs, coverage\",\"\\u003cb\\u003eTopic 4\\u003c\\u002fb\\u003e\\u003cbr\\u003eWords: health, care, coverage, medicare, medical\",\"\\u003cb\\u003eTopic 4\\u003c\\u002fb\\u003e\\u003cbr\\u003eWords: health, coverage, vanish, uninsured, instant\",\"\\u003cb\\u003eTopic 4\\u003c\\u002fb\\u003e\\u003cbr\\u003eWords: aids, health, care, drugs, africa\",\"\\u003cb\\u003eTopic 4\\u003c\\u002fb\\u003e\\u003cbr\\u003eWords: health, coverage, care, seniors, insurance\",\"\\u003cb\\u003eTopic 4\\u003c\\u002fb\\u003e\\u003cbr\\u003eWords: health, care, medical, human, costs\",\"\\u003cb\\u003eTopic 4\\u003c\\u002fb\\u003e\\u003cbr\\u003eWords: health, insurance, care, aids, medical\",\"\\u003cb\\u003eTopic 4\\u003c\\u002fb\\u003e\\u003cbr\\u003eWords: health, insurance, care, americans, payroll\",\"\\u003cb\\u003eTopic 4\\u003c\\u002fb\\u003e\\u003cbr\\u003eWords: health, medical, care, life, insurance\",\"\\u003cb\\u003eTopic 4\\u003c\\u002fb\\u003e\\u003cbr\\u003eWords: health, care, reform, insurance, costs\",\"\\u003cb\\u003eTopic 4\\u003c\\u002fb\\u003e\\u003cbr\\u003eWords: insurance, health, care, approach, coverage\",\"\\u003cb\\u003eTopic 4\\u003c\\u002fb\\u003e\\u003cbr\\u003eWords: health, willing, care, insurance, law\",\"\\u003cb\\u003eTopic 4\\u003c\\u002fb\\u003e\\u003cbr\\u003eWords: thats, relies, health, awful, reformed\",\"\\u003cb\\u003eTopic 4\\u003c\\u002fb\\u003e\\u003cbr\\u003eWords: reforms, care, promises, health, shouldnt\",\"\\u003cb\\u003eTopic 4\\u003c\\u002fb\\u003e\\u003cbr\\u003eWords: health, insurance, covered, january, amanda\",\"\\u003cb\\u003eTopic 4\\u003c\\u002fb\\u003e\\u003cbr\\u003eWords: health, medicine, disease, care, spread\",\"\\u003cb\\u003eTopic 4\\u003c\\u002fb\\u003e\\u003cbr\\u003eWords: care, health, insurance, job, coverage\",\"\\u003cb\\u003eTopic 4\\u003c\\u002fb\\u003e\\u003cbr\\u003eWords: health, obamacare, insurance, care, americans\",\"\\u003cb\\u003eTopic 4\\u003c\\u002fb\\u003e\\u003cbr\\u003eWords: drug, drugs, health, terminal, generic\",\"\\u003cb\\u003eTopic 4\\u003c\\u002fb\\u003e\\u003cbr\\u003eWords: hiv, exact, health, patients, aids\",\"\\u003cb\\u003eTopic 4\\u003c\\u002fb\\u003e\\u003cbr\\u003eWords: health, care, insurance, drug, seniors\",\"\\u003cb\\u003eTopic 4\\u003c\\u002fb\\u003e\\u003cbr\\u003eWords: health, care, affordable, drug, prescription\",\"\\u003cb\\u003eTopic 4\\u003c\\u002fb\\u003e\\u003cbr\\u003eWords: health, care, covid19, tests, vaccines\",\"\\u003cb\\u003eTopic 4\\u003c\\u002fb\\u003e\\u003cbr\\u003eWords: health, cancer, seniors, medicare, drugs\",\"\\u003cb\\u003eTopic 4\\u003c\\u002fb\\u003e\\u003cbr\\u003eWords: health, prescription, drugs, medicare, care\"],\"marker\":{\"color\":\"#D55E00\"},\"mode\":\"lines\",\"name\":\"4_health_care_insurance_coverage\",\"x\":[1979,1983,1985,1989,1990,1991,1992,1993,1994,1995,1996,1997,1998,1999,2000,2001,2002,2003,2004,2005,2006,2007,2008,2009,2010,2011,2012,2013,2014,2015,2016,2017,2018,2019,2020,2021,2022,2023,2024],\"y\":[1,2,1,2,1,1,3,7,16,4,3,4,7,11,11,6,1,10,9,4,4,5,5,6,7,5,2,2,3,4,5,10,5,5,9,16,19,28,13],\"type\":\"scatter\"},{\"hoverinfo\":\"text\",\"hovertext\":[\"\\u003cb\\u003eTopic 5\\u003c\\u002fb\\u003e\\u003cbr\\u003eWords: conflictan, communication, longstanding, middle, contributing\",\"\\u003cb\\u003eTopic 5\\u003c\\u002fb\\u003e\\u003cbr\\u003eWords: namibia, rhodesia, cyprus, sincerely, searching\",\"\\u003cb\\u003eTopic 5\\u003c\\u002fb\\u003e\\u003cbr\\u003eWords: israel, pakistan, peace, egypt, military\",\"\\u003cb\\u003eTopic 5\\u003c\\u002fb\\u003e\\u003cbr\\u003eWords: 30th, peaceloving, day, solidarity, parliament\",\"\\u003cb\\u003eTopic 5\\u003c\\u002fb\\u003e\\u003cbr\\u003eWords: promisingly, camp, peace, david, outlined\",\"\\u003cb\\u003eTopic 5\\u003c\\u002fb\\u003e\\u003cbr\\u003eWords: lebanon, peacekeeping, multinational, tragedy, terrorism\",\"\\u003cb\\u003eTopic 5\\u003c\\u002fb\\u003e\\u003cbr\\u003eWords: interests, afghanistan, lose, resolve, surer\",\"\\u003cb\\u003eTopic 5\\u003c\\u002fb\\u003e\\u003cbr\\u003eWords: freedom, fighters, cause, swelling, afghanistanyes\",\"\\u003cb\\u003eTopic 5\\u003c\\u002fb\\u003e\\u003cbr\\u003eWords: panama, operation, thumb, objective, february\",\"\\u003cb\\u003eTopic 5\\u003c\\u002fb\\u003e\\u003cbr\\u003eWords: salvation, saddams, planning, destroyed, iraqs\",\"\\u003cb\\u003eTopic 5\\u003c\\u002fb\\u003e\\u003cbr\\u003eWords: road, yitzhak, handshake, yasser, arafat\",\"\\u003cb\\u003eTopic 5\\u003c\\u002fb\\u003e\\u003cbr\\u003eWords: hussein, saddam, weapons, biological, chemical\",\"\\u003cb\\u003eTopic 5\\u003c\\u002fb\\u003e\\u003cbr\\u003eWords: palestinian, iraq, notwe, renounce, notlet\",\"\\u003cb\\u003eTopic 5\\u003c\\u002fb\\u003e\\u003cbr\\u003eWords: afghanistan, terror, terrorist, terrorists, camps\",\"\\u003cb\\u003eTopic 5\\u003c\\u002fb\\u003e\\u003cbr\\u003eWords: hussein, saddam, inspectors, weapons, iraq\",\"\\u003cb\\u003eTopic 5\\u003c\\u002fb\\u003e\\u003cbr\\u003eWords: iraq, terrorists, saddam, afghanistan, killers\",\"\\u003cb\\u003eTopic 5\\u003c\\u002fb\\u003e\\u003cbr\\u003eWords: iraq, terror, iraqi, iraqis, terrorists\",\"\\u003cb\\u003eTopic 5\\u003c\\u002fb\\u003e\\u003cbr\\u003eWords: iraqi, iraq, terrorists, military, offensive\",\"\\u003cb\\u003eTopic 5\\u003c\\u002fb\\u003e\\u003cbr\\u003eWords: iraq, terrorists, iraqi, al, qaida\",\"\\u003cb\\u003eTopic 5\\u003c\\u002fb\\u003e\\u003cbr\\u003eWords: iraq, iraqi, al, terrorists, forces\",\"\\u003cb\\u003eTopic 5\\u003c\\u002fb\\u003e\\u003cbr\\u003eWords: forge, iraq, allow, envoy, reviewing\",\"\\u003cb\\u003eTopic 5\\u003c\\u002fb\\u003e\\u003cbr\\u003eWords: troops, iraq, al, iraqi, security\",\"\\u003cb\\u003eTopic 5\\u003c\\u002fb\\u003e\\u003cbr\\u003eWords: afghan, al, troops, iraq, qaida\",\"\\u003cb\\u003eTopic 5\\u003c\\u002fb\\u003e\\u003cbr\\u003eWords: afghanistan, iraq, al, war, knowing\",\"\\u003cb\\u003eTopic 5\\u003c\\u002fb\\u003e\\u003cbr\\u003eWords: al, qaida, afghanistan, afghan, terrorists\",\"\\u003cb\\u003eTopic 5\\u003c\\u002fb\\u003e\\u003cbr\\u003eWords: afghanistan, afghan, iraq, troops, al\",\"\\u003cb\\u003eTopic 5\\u003c\\u002fb\\u003e\\u003cbr\\u003eWords: terrorists, afghanistan, iraq, instead, 911\",\"\\u003cb\\u003eTopic 5\\u003c\\u002fb\\u003e\\u003cbr\\u003eWords: isil, al, qaida, terrorist, world\",\"\\u003cb\\u003eTopic 5\\u003c\\u002fb\\u003e\\u003cbr\\u003eWords: terrorism, allow, attacks, department, allies\",\"\\u003cb\\u003eTopic 5\\u003c\\u002fb\\u003e\\u003cbr\\u003eWords: detention, bay, guantanamo, isis, released\",\"\\u003cb\\u003eTopic 5\\u003c\\u002fb\\u003e\\u003cbr\\u003eWords: afghanistan, troops, east, iraq, counterterrorism\",\"\\u003cb\\u003eTopic 5\\u003c\\u002fb\\u003e\\u003cbr\\u003eWords: soleimani, iraq, warfighters, afghanistan, isis\",\"\\u003cb\\u003eTopic 5\\u003c\\u002fb\\u003e\\u003cbr\\u003eWords: afghanistan, defense, agency, war, threat\",\"\\u003cb\\u003eTopic 5\\u003c\\u002fb\\u003e\\u003cbr\\u003eWords: pits, burn, iraq, worldnever, incinerate\",\"\\u003cb\\u003eTopic 5\\u003c\\u002fb\\u003e\\u003cbr\\u003eWords: israel, gaza, hamas, humanitarian, innocent\"],\"marker\":{\"color\":\"#0072B2\"},\"mode\":\"lines\",\"name\":\"5_iraq_terrorists_afghanistan_al\",\"x\":[1978,1979,1980,1982,1983,1984,1987,1988,1990,1991,1994,1998,1999,2002,2003,2004,2005,2006,2007,2008,2009,2010,2011,2012,2013,2014,2015,2016,2017,2018,2019,2020,2021,2022,2024],\"y\":[1,2,4,1,1,1,1,1,1,1,1,2,2,14,20,12,9,11,19,19,3,3,5,4,7,6,4,4,3,2,5,4,5,1,13],\"type\":\"scatter\"},{\"hoverinfo\":\"text\",\"hovertext\":[\"\\u003cb\\u003eTopic 6\\u003c\\u002fb\\u003e\\u003cbr\\u003eWords: rights, equal, laws, affirmative, unrealized\",\"\\u003cb\\u003eTopic 6\\u003c\\u002fb\\u003e\\u003cbr\\u003eWords: rights, legal, source, laws, equal\",\"\\u003cb\\u003eTopic 6\\u003c\\u002fb\\u003e\\u003cbr\\u003eWords: crime, organized, laws, enforcement, commission\",\"\\u003cb\\u003eTopic 6\\u003c\\u002fb\\u003e\\u003cbr\\u003eWords: crime, drugpushers, paroles, safeguarding, defendants\",\"\\u003cb\\u003eTopic 6\\u003c\\u002fb\\u003e\\u003cbr\\u003eWords: crime, victim, victims, proposals, woman\",\"\\u003cb\\u003eTopic 6\\u003c\\u002fb\\u003e\\u003cbr\\u003eWords: wall, erich, honecker, claimed, history\",\"\\u003cb\\u003eTopic 6\\u003c\\u002fb\\u003e\\u003cbr\\u003eWords: crime, civil, enforcement, resorting, statutes\",\"\\u003cb\\u003eTopic 6\\u003c\\u002fb\\u003e\\u003cbr\\u003eWords: crime, surely, afraid, hurts, languishing\",\"\\u003cb\\u003eTopic 6\\u003c\\u002fb\\u003e\\u003cbr\\u003eWords: crime, police, violence, violent, guns\",\"\\u003cb\\u003eTopic 6\\u003c\\u002fb\\u003e\\u003cbr\\u003eWords: crime, aliens, illegal, voted, rate\",\"\\u003cb\\u003eTopic 6\\u003c\\u002fb\\u003e\\u003cbr\\u003eWords: crime, police, challenge, gangs, violent\",\"\\u003cb\\u003eTopic 6\\u003c\\u002fb\\u003e\\u003cbr\\u003eWords: handguns, crime, streets, weekends, unauthorized\",\"\\u003cb\\u003eTopic 6\\u003c\\u002fb\\u003e\\u003cbr\\u003eWords: crime, streets, juvenile, safe, guns\",\"\\u003cb\\u003eTopic 6\\u003c\\u002fb\\u003e\\u003cbr\\u003eWords: crime, buying, quarter, police, rate\",\"\\u003cb\\u003eTopic 6\\u003c\\u002fb\\u003e\\u003cbr\\u003eWords: gun, crime, guns, laws, tom\",\"\\u003cb\\u003eTopic 6\\u003c\\u002fb\\u003e\\u003cbr\\u003eWords: marriage, temporaryworker, immigration, law, laws\",\"\\u003cb\\u003eTopic 6\\u003c\\u002fb\\u003e\\u003cbr\\u003eWords: institution, immigration, border, marriage, society\",\"\\u003cb\\u003eTopic 6\\u003c\\u002fb\\u003e\\u003cbr\\u003eWords: immigration, crime, border, guestworker, abortions\",\"\\u003cb\\u003eTopic 6\\u003c\\u002fb\\u003e\\u003cbr\\u003eWords: border, immigration, laws, secure, status\",\"\\u003cb\\u003eTopic 6\\u003c\\u002fb\\u003e\\u003cbr\\u003eWords: border, resolved, immigration, illegal, enforcement\",\"\\u003cb\\u003eTopic 6\\u003c\\u002fb\\u003e\\u003cbr\\u003eWords: violations, laws, equal, continually, finally\",\"\\u003cb\\u003eTopic 6\\u003c\\u002fb\\u003e\\u003cbr\\u003eWords: borders, aligned, staffing, separates, expelling\",\"\\u003cb\\u003eTopic 6\\u003c\\u002fb\\u003e\\u003cbr\\u003eWords: immigration, illegal, comprehensive, electionyear, expelling\",\"\\u003cb\\u003eTopic 6\\u003c\\u002fb\\u003e\\u003cbr\\u003eWords: reform, immigration, time, gun, border\",\"\\u003cb\\u003eTopic 6\\u003c\\u002fb\\u003e\\u003cbr\\u003eWords: immigration, leaders, culturethey, dreamsto, invent\",\"\\u003cb\\u003eTopic 6\\u003c\\u002fb\\u003e\\u003cbr\\u003eWords: surely, understand, democrats, republicans, agree\",\"\\u003cb\\u003eTopic 6\\u003c\\u002fb\\u003e\\u003cbr\\u003eWords: immigration, laws, borders, crime, border\",\"\\u003cb\\u003eTopic 6\\u003c\\u002fb\\u003e\\u003cbr\\u003eWords: immigration, pillar, pillars, border, communities\",\"\\u003cb\\u003eTopic 6\\u003c\\u002fb\\u003e\\u003cbr\\u003eWords: border, illegal, immigration, southern, barrier\",\"\\u003cb\\u003eTopic 6\\u003c\\u002fb\\u003e\\u003cbr\\u003eWords: completed, border, miles, illegally, crossings\",\"\\u003cb\\u003eTopic 6\\u003c\\u002fb\\u003e\\u003cbr\\u003eWords: gun, immigration, act, pass, guns\",\"\\u003cb\\u003eTopic 6\\u003c\\u002fb\\u003e\\u003cbr\\u003eWords: police, officer, immigration, laws, crime\",\"\\u003cb\\u003eTopic 6\\u003c\\u002fb\\u003e\\u003cbr\\u003eWords: gun, law, violence, crime, officers\",\"\\u003cb\\u003eTopic 6\\u003c\\u002fb\\u003e\\u003cbr\\u003eWords: border, gun, crime, nra, violence\"],\"marker\":{\"color\":\"#CC79A7\"},\"mode\":\"lines\",\"name\":\"6_crime_immigration_border_gun\",\"x\":[1979,1982,1983,1984,1985,1990,1991,1992,1994,1995,1996,1997,1998,1999,2000,2004,2005,2006,2007,2008,2010,2011,2012,2013,2014,2015,2017,2018,2019,2020,2021,2022,2023,2024],\"y\":[2,3,2,2,3,1,2,1,7,5,9,1,3,7,12,5,3,2,3,2,2,2,2,6,1,2,11,7,9,4,20,10,16,20],\"type\":\"scatter\"},{\"hoverinfo\":\"text\",\"hovertext\":[\"\\u003cb\\u003eTopic 7\\u003c\\u002fb\\u003e\\u003cbr\\u003eWords: arms, nuclear, soviet, europe, weapons\",\"\\u003cb\\u003eTopic 7\\u003c\\u002fb\\u003e\\u003cbr\\u003eWords: soviet, nuclear, world, military, power\",\"\\u003cb\\u003eTopic 7\\u003c\\u002fb\\u003e\\u003cbr\\u003eWords: realistic, balanced, persuade, limitation, negotiation\",\"\\u003cb\\u003eTopic 7\\u003c\\u002fb\\u003e\\u003cbr\\u003eWords: soviets, soviet, forces, military, talks\",\"\\u003cb\\u003eTopic 7\\u003c\\u002fb\\u003e\\u003cbr\\u003eWords: soviet, arms, reductions, verifiable, insist\",\"\\u003cb\\u003eTopic 7\\u003c\\u002fb\\u003e\\u003cbr\\u003eWords: soviet, fought, nuclear, sane, possessing\",\"\\u003cb\\u003eTopic 7\\u003c\\u002fb\\u003e\\u003cbr\\u003eWords: nuclear, defense, table, war, ultimately\",\"\\u003cb\\u003eTopic 7\\u003c\\u002fb\\u003e\\u003cbr\\u003eWords: hemisphere, contacts, try, soviet, let\",\"\\u003cb\\u003eTopic 7\\u003c\\u002fb\\u003e\\u003cbr\\u003eWords: agreement, treaty, arms, inf, agreements\",\"\\u003cb\\u003eTopic 7\\u003c\\u002fb\\u003e\\u003cbr\\u003eWords: review, secretary, eastwest, prudence, forward\",\"\\u003cb\\u003eTopic 7\\u003c\\u002fb\\u003e\\u003cbr\\u003eWords: strategic, europe, modernization, soviet, great\",\"\\u003cb\\u003eTopic 7\\u003c\\u002fb\\u003e\\u003cbr\\u003eWords: soviet, leadership, germany, relationship, europe\",\"\\u003cb\\u003eTopic 7\\u003c\\u002fb\\u003e\\u003cbr\\u003eWords: missiles, won, yeltsin, warheads, didnt\",\"\\u003cb\\u003eTopic 7\\u003c\\u002fb\\u003e\\u003cbr\\u003eWords: nuclear, weapons, ban, world, rest\",\"\\u003cb\\u003eTopic 7\\u003c\\u002fb\\u003e\\u003cbr\\u003eWords: nuclear, cold, war, carry, warheads\",\"\\u003cb\\u003eTopic 7\\u003c\\u002fb\\u003e\\u003cbr\\u003eWords: nuclear, treaty, cold, weapons, subsided\",\"\\u003cb\\u003eTopic 7\\u003c\\u002fb\\u003e\\u003cbr\\u003eWords: nato, europe, nuclear, 50, russia\",\"\\u003cb\\u003eTopic 7\\u003c\\u002fb\\u003e\\u003cbr\\u003eWords: nato, nuclear, senate, ask, europe\",\"\\u003cb\\u003eTopic 7\\u003c\\u002fb\\u003e\\u003cbr\\u003eWords: start, iii, height, engaging, continue\",\"\\u003cb\\u003eTopic 7\\u003c\\u002fb\\u003e\\u003cbr\\u003eWords: russia, china, russian, nuclear, prosperous\",\"\\u003cb\\u003eTopic 7\\u003c\\u002fb\\u003e\\u003cbr\\u003eWords: repress, unelected, weapons, pursues, starving\",\"\\u003cb\\u003eTopic 7\\u003c\\u002fb\\u003e\\u003cbr\\u003eWords: korean, nuclear, regime, north, weapons\",\"\\u003cb\\u003eTopic 7\\u003c\\u002fb\\u003e\\u003cbr\\u003eWords: dangerous, different, nuclear, weapons, insisting\",\"\\u003cb\\u003eTopic 7\\u003c\\u002fb\\u003e\\u003cbr\\u003eWords: syrian, terror, iranian, weapons, seek\",\"\\u003cb\\u003eTopic 7\\u003c\\u002fb\\u003e\\u003cbr\\u003eWords: iran, iranian, regime, nuclear, respect\",\"\\u003cb\\u003eTopic 7\\u003c\\u002fb\\u003e\\u003cbr\\u003eWords: pursuing, nuclear, diplomacy, weapons, eu\",\"\\u003cb\\u003eTopic 7\\u003c\\u002fb\\u003e\\u003cbr\\u003eWords: iran, nuclear, tehran, regime, message\",\"\\u003cb\\u003eTopic 7\\u003c\\u002fb\\u003e\\u003cbr\\u003eWords: sanctions, international, violating, enforced, consequences\",\"\\u003cb\\u003eTopic 7\\u003c\\u002fb\\u003e\\u003cbr\\u003eWords: sanctions, insist, korea, tighter, shaping\",\"\\u003cb\\u003eTopic 7\\u003c\\u002fb\\u003e\\u003cbr\\u003eWords: iran, ironcladto, commitmentand, ironclad, rejoin\",\"\\u003cb\\u003eTopic 7\\u003c\\u002fb\\u003e\\u003cbr\\u003eWords: nuclear, obligations, meet, likewise, willingness\",\"\\u003cb\\u003eTopic 7\\u003c\\u002fb\\u003e\\u003cbr\\u003eWords: iran, irans, nuclear, sanctions, negotiations\",\"\\u003cb\\u003eTopic 7\\u003c\\u002fb\\u003e\\u003cbr\\u003eWords: cuba, nuclear, iran, allies, diplomacy\",\"\\u003cb\\u003eTopic 7\\u003c\\u002fb\\u003e\\u003cbr\\u003eWords: iran, approach, nuclear, war, thats\",\"\\u003cb\\u003eTopic 7\\u003c\\u002fb\\u003e\\u003cbr\\u003eWords: alliance, nato, dethroned, pacificto, unbreakable\",\"\\u003cb\\u003eTopic 7\\u003c\\u002fb\\u003e\\u003cbr\\u003eWords: nuclear, iran, north, dictatorship, aggression\",\"\\u003cb\\u003eTopic 7\\u003c\\u002fb\\u003e\\u003cbr\\u003eWords: nuclear, treaty, united, kim, states\",\"\\u003cb\\u003eTopic 7\\u003c\\u002fb\\u003e\\u003cbr\\u003eWords: iranian, allies, nuclear, shorttime, proud\",\"\\u003cb\\u003eTopic 7\\u003c\\u002fb\\u003e\\u003cbr\\u003eWords: bet, respond, threats, true, told\",\"\\u003cb\\u003eTopic 7\\u003c\\u002fb\\u003e\\u003cbr\\u003eWords: putin, ukrainian, world, russian, ukraine\",\"\\u003cb\\u003eTopic 7\\u003c\\u002fb\\u003e\\u003cbr\\u003eWords: stand, test, putins, did, stood\",\"\\u003cb\\u003eTopic 7\\u003c\\u002fb\\u003e\\u003cbr\\u003eWords: ukraine, putin, welcome, nato, alliance\"],\"marker\":{\"color\":\"#E69F00\"},\"mode\":\"lines\",\"name\":\"7_nuclear_soviet_iran_nato\",\"x\":[1978,1980,1981,1982,1983,1984,1985,1987,1988,1989,1990,1991,1992,1994,1995,1996,1997,1998,1999,2000,2002,2003,2004,2005,2006,2007,2008,2010,2011,2012,2013,2014,2015,2016,2017,2018,2019,2020,2021,2022,2023,2024],\"y\":[6,15,1,3,4,3,3,3,2,2,2,3,3,3,3,3,3,2,2,4,2,4,1,1,2,1,2,1,2,2,2,3,5,2,3,3,4,4,4,14,3,7],\"type\":\"scatter\"},{\"hoverinfo\":\"text\",\"hovertext\":[\"\\u003cb\\u003eTopic 8\\u003c\\u002fb\\u003e\\u003cbr\\u003eWords: mr, 95th, ladies, gentlemen, congress\",\"\\u003cb\\u003eTopic 8\\u003c\\u002fb\\u003e\\u003cbr\\u003eWords: mr, 96th, fellow, citizens, congress\",\"\\u003cb\\u003eTopic 8\\u003c\\u002fb\\u003e\\u003cbr\\u003eWords: mr, 96th, fellow, citizens, congress\",\"\\u003cb\\u003eTopic 8\\u003c\\u002fb\\u003e\\u003cbr\\u003eWords: mr, guests, honored, distinguished, fellow\",\"\\u003cb\\u003eTopic 8\\u003c\\u002fb\\u003e\\u003cbr\\u003eWords: mr, guests, honored, distinguished, fellow\",\"\\u003cb\\u003eTopic 8\\u003c\\u002fb\\u003e\\u003cbr\\u003eWords: mr, guests, honored, distinguished, fellow\",\"\\u003cb\\u003eTopic 8\\u003c\\u002fb\\u003e\\u003cbr\\u003eWords: mr, guests, honored, distinguished, fellow\",\"\\u003cb\\u003eTopic 8\\u003c\\u002fb\\u003e\\u003cbr\\u003eWords: mr, guests, honored, distinguished, fellow\",\"\\u003cb\\u003eTopic 8\\u003c\\u002fb\\u003e\\u003cbr\\u003eWords: mr, guests, honored, distinguished, fellow\",\"\\u003cb\\u003eTopic 8\\u003c\\u002fb\\u003e\\u003cbr\\u003eWords: honorable, mr, 100th, congress, guests\",\"\\u003cb\\u003eTopic 8\\u003c\\u002fb\\u003e\\u003cbr\\u003eWords: quayle, chair, competitiveness, vice, task\",\"\\u003cb\\u003eTopic 8\\u003c\\u002fb\\u003e\\u003cbr\\u003eWords: mr, united, states, congress, fellow\",\"\\u003cb\\u003eTopic 8\\u003c\\u002fb\\u003e\\u003cbr\\u003eWords: mr, united, states, congress, fellow\",\"\\u003cb\\u003eTopic 8\\u003c\\u002fb\\u003e\\u003cbr\\u003eWords: mr, reception, big, warm, buildup\",\"\\u003cb\\u003eTopic 8\\u003c\\u002fb\\u003e\\u003cbr\\u003eWords: mr, visitors, nice, fresh, excuse\",\"\\u003cb\\u003eTopic 8\\u003c\\u002fb\\u003e\\u003cbr\\u003eWords: mr, 103d, fellow, congress, americans\",\"\\u003cb\\u003eTopic 8\\u003c\\u002fb\\u003e\\u003cbr\\u003eWords: mr, 104th, congratulating, represent, aboutcitizens\",\"\\u003cb\\u003eTopic 8\\u003c\\u002fb\\u003e\\u003cbr\\u003eWords: magnificent, importance, hillary, taught, wonderful\",\"\\u003cb\\u003eTopic 8\\u003c\\u002fb\\u003e\\u003cbr\\u003eWords: mr, guests, fellow, distinguished, vice\",\"\\u003cb\\u003eTopic 8\\u003c\\u002fb\\u003e\\u003cbr\\u003eWords: mr, guests, vice, honor, house\",\"\\u003cb\\u003eTopic 8\\u003c\\u002fb\\u003e\\u003cbr\\u003eWords: mr, mental, grateful, cohen, want\",\"\\u003cb\\u003eTopic 8\\u003c\\u002fb\\u003e\\u003cbr\\u003eWords: mr, invitation, vice, laughter, input\",\"\\u003cb\\u003eTopic 8\\u003c\\u002fb\\u003e\\u003cbr\\u003eWords: mr, mei, join, guests, expressing\",\"\\u003cb\\u003eTopic 8\\u003c\\u002fb\\u003e\\u003cbr\\u003eWords: custom, citizens, cheney, mr, decisive\",\"\\u003cb\\u003eTopic 8\\u003c\\u002fb\\u003e\\u003cbr\\u003eWords: cheney, guests, distinguished, mr, responsibilities\",\"\\u003cb\\u003eTopic 8\\u003c\\u002fb\\u003e\\u003cbr\\u003eWords: guest, alsuhail, ladys, taleb, safia\",\"\\u003cb\\u003eTopic 8\\u003c\\u002fb\\u003e\\u003cbr\\u003eWords: mr, coretta, reunion, graceful, guests\",\"\\u003cb\\u003eTopic 8\\u003c\\u002fb\\u003e\\u003cbr\\u003eWords: madam, guests, mr, distinguished, fellow\",\"\\u003cb\\u003eTopic 8\\u003c\\u002fb\\u003e\\u003cbr\\u003eWords: citizens, guests, distinguished, madam, cheney\",\"\\u003cb\\u003eTopic 8\\u003c\\u002fb\\u003e\\u003cbr\\u003eWords: statesshes, men, women, madam, mr\",\"\\u003cb\\u003eTopic 8\\u003c\\u002fb\\u003e\\u003cbr\\u003eWords: theyve, guests, distinguished, congress, embarrassed\",\"\\u003cb\\u003eTopic 8\\u003c\\u002fb\\u003e\\u003cbr\\u003eWords: mr, 112th, gabby, giffords, congratulating\",\"\\u003cb\\u003eTopic 8\\u003c\\u002fb\\u003e\\u003cbr\\u003eWords: mr, fellow, andrews, colors, guests\",\"\\u003cb\\u003eTopic 8\\u003c\\u002fb\\u003e\\u003cbr\\u003eWords: mr, task, fiftyone, rivals, seat\",\"\\u003cb\\u003eTopic 8\\u003c\\u002fb\\u003e\\u003cbr\\u003eWords: turns, bear, ideals, burdens, size\",\"\\u003cb\\u003eTopic 8\\u003c\\u002fb\\u003e\\u003cbr\\u003eWords: seek, swore, work, disagree, oath\",\"\\u003cb\\u003eTopic 8\\u003c\\u002fb\\u003e\\u003cbr\\u003eWords: mr, defending, majestic, righteous, fellow\",\"\\u003cb\\u003eTopic 8\\u003c\\u002fb\\u003e\\u003cbr\\u003eWords: laughter, mr, coercion, madam, congress\",\"\\u003cb\\u003eTopic 8\\u003c\\u002fb\\u003e\\u003cbr\\u003eWords: lady, mr, americas, surging, blazing\",\"\\u003cb\\u003eTopic 8\\u003c\\u002fb\\u003e\\u003cbr\\u003eWords: madam, words, ladyim, presidentno, guests\",\"\\u003cb\\u003eTopic 8\\u003c\\u002fb\\u003e\\u003cbr\\u003eWords: madam, mr, fellow, vice, congress\",\"\\u003cb\\u003eTopic 8\\u003c\\u002fb\\u003e\\u003cbr\\u003eWords: mr, congress, laughter, fellow, house\",\"\\u003cb\\u003eTopic 8\\u003c\\u002fb\\u003e\\u003cbr\\u003eWords: mr, thats, fellow, congress, stop\"],\"marker\":{\"color\":\"#56B4E9\"},\"mode\":\"lines\",\"name\":\"8_mr_fellow_congress_vice\",\"x\":[1978,1979,1980,1981,1982,1983,1984,1985,1986,1987,1989,1990,1991,1992,1993,1994,1995,1996,1998,1999,2000,2001,2002,2003,2004,2005,2006,2007,2008,2009,2010,2011,2012,2013,2014,2015,2018,2019,2020,2021,2022,2023,2024],\"y\":[1,1,1,1,1,1,1,1,1,2,1,1,1,2,1,1,2,1,2,5,5,2,2,1,1,2,1,3,1,1,2,1,1,1,1,1,2,6,3,4,4,16,22],\"type\":\"scatter\"},{\"hoverinfo\":\"text\",\"hovertext\":[\"\\u003cb\\u003eTopic 9\\u003c\\u002fb\\u003e\\u003cbr\\u003eWords: plane, bringing, pows, ramp, thanked\",\"\\u003cb\\u003eTopic 9\\u003c\\u002fb\\u003e\\u003cbr\\u003eWords: born, english, hero, girl, vietnam\",\"\\u003cb\\u003eTopic 9\\u003c\\u002fb\\u003e\\u003cbr\\u003eWords: music, tyrone, choirs, pianist, singer\",\"\\u003cb\\u003eTopic 9\\u003c\\u002fb\\u003e\\u003cbr\\u003eWords: army, revel, lays, fog, mourn\",\"\\u003cb\\u003eTopic 9\\u003c\\u002fb\\u003e\\u003cbr\\u003eWords: saw, group, ones, special, kilroy\",\"\\u003cb\\u003eTopic 9\\u003c\\u002fb\\u003e\\u003cbr\\u003eWords: jack, lucas, youngest, 17, saved\",\"\\u003cb\\u003eTopic 9\\u003c\\u002fb\\u003e\\u003cbr\\u003eWords: richard, shut, hes, blast, 49yearold\",\"\\u003cb\\u003eTopic 9\\u003c\\u002fb\\u003e\\u003cbr\\u003eWords: josefina, steven, ramos, spanish, 2yearold\",\"\\u003cb\\u003eTopic 9\\u003c\\u002fb\\u003e\\u003cbr\\u003eWords: shannon, micheal, flight, semper, moutardier\",\"\\u003cb\\u003eTopic 9\\u003c\\u002fb\\u003e\\u003cbr\\u003eWords: bud, clays, jo, sara, lisa\",\"\\u003cb\\u003eTopic 9\\u003c\\u002fb\\u003e\\u003cbr\\u003eWords: julie, einstein, baby, aignerclark, videos\",\"\\u003cb\\u003eTopic 9\\u003c\\u002fb\\u003e\\u003cbr\\u003eWords: brian, named, safety, just, lip\",\"\\u003cb\\u003eTopic 9\\u003c\\u002fb\\u003e\\u003cbr\\u003eWords: cory, hes, day, easy, like\",\"\\u003cb\\u003eTopic 9\\u003c\\u002fb\\u003e\\u003cbr\\u003eWords: ryan, megans, oliver, megan, jamiel\",\"\\u003cb\\u003eTopic 9\\u003c\\u002fb\\u003e\\u003cbr\\u003eWords: ryan, kenton, rebecca, ashlee, sungho\",\"\\u003cb\\u003eTopic 9\\u003c\\u002fb\\u003e\\u003cbr\\u003eWords: grace, soldiers, dday, judah, herman\",\"\\u003cb\\u003eTopic 9\\u003c\\u002fb\\u003e\\u003cbr\\u003eWords: ellie, jody, amy, sergeant, born\",\"\\u003cb\\u003eTopic 9\\u003c\\u002fb\\u003e\\u003cbr\\u003eWords: danielle, heath, robinson, football, birthday\",\"\\u003cb\\u003eTopic 9\\u003c\\u002fb\\u003e\\u003cbr\\u003eWords: joining, daughter, studio, ava, brandon\",\"\\u003cb\\u003eTopic 9\\u003c\\u002fb\\u003e\\u003cbr\\u003eWords: kate, assassinated, joining, king, city\"],\"marker\":{\"color\":\"#009E73\"},\"mode\":\"lines\",\"name\":\"9_ryan_just_sergeant_joining\",\"x\":[1982,1985,1986,1990,1992,1995,1996,2001,2002,2006,2007,2013,2014,2017,2018,2019,2020,2022,2023,2024],\"y\":[1,2,1,1,1,1,1,1,2,1,1,2,2,9,11,10,9,3,13,7],\"type\":\"scatter\"},{\"hoverinfo\":\"text\",\"hovertext\":[\"\\u003cb\\u003eTopic 10\\u003c\\u002fb\\u003e\\u003cbr\\u003eWords: usa, hr, joe, anymore, fix\",\"\\u003cb\\u003eTopic 10\\u003c\\u002fb\\u003e\\u003cbr\\u003eWords: usa, hr, joe, anymore, fix\",\"\\u003cb\\u003eTopic 10\\u003c\\u002fb\\u003e\\u003cbr\\u003eWords: usa, yes, hr, joe, anymore\",\"\\u003cb\\u003eTopic 10\\u003c\\u002fb\\u003e\\u003cbr\\u003eWords: usa, hr, jody, rush, joe\",\"\\u003cb\\u003eTopic 10\\u003c\\u002fb\\u003e\\u003cbr\\u003eWords: usa, whoa, right, thats, hr\",\"\\u003cb\\u003eTopic 10\\u003c\\u002fb\\u003e\\u003cbr\\u003eWords: usa, anymore, border, secure, hr\",\"\\u003cb\\u003eTopic 10\\u003c\\u002fb\\u003e\\u003cbr\\u003eWords: usa, joe, fix, liar, years\"],\"marker\":{\"color\":\"#F0E442\"},\"mode\":\"lines\",\"name\":\"10_usa_hr_joe_anymore\",\"x\":[2014,2018,2019,2020,2022,2023,2024],\"y\":[1,1,6,6,8,11,22],\"type\":\"scatter\"},{\"hoverinfo\":\"text\",\"hovertext\":[\"\\u003cb\\u003eTopic 11\\u003c\\u002fb\\u003e\\u003cbr\\u003eWords: bless, god, america, united, states\",\"\\u003cb\\u003eTopic 11\\u003c\\u002fb\\u003e\\u003cbr\\u003eWords: bless, god, america, united, states\",\"\\u003cb\\u003eTopic 11\\u003c\\u002fb\\u003e\\u003cbr\\u003eWords: bless, god, america, united, states\",\"\\u003cb\\u003eTopic 11\\u003c\\u002fb\\u003e\\u003cbr\\u003eWords: arranged, bless, god, quit, night\",\"\\u003cb\\u003eTopic 11\\u003c\\u002fb\\u003e\\u003cbr\\u003eWords: bless, god, america, united, states\",\"\\u003cb\\u003eTopic 11\\u003c\\u002fb\\u003e\\u003cbr\\u003eWords: bless, god, america, united, states\",\"\\u003cb\\u003eTopic 11\\u003c\\u002fb\\u003e\\u003cbr\\u003eWords: bless, god, america, united, states\",\"\\u003cb\\u003eTopic 11\\u003c\\u002fb\\u003e\\u003cbr\\u003eWords: bless, god, america, united, states\",\"\\u003cb\\u003eTopic 11\\u003c\\u002fb\\u003e\\u003cbr\\u003eWords: bless, god, america, united, states\",\"\\u003cb\\u003eTopic 11\\u003c\\u002fb\\u003e\\u003cbr\\u003eWords: bless, god, america, united, states\",\"\\u003cb\\u003eTopic 11\\u003c\\u002fb\\u003e\\u003cbr\\u003eWords: bless, god, america, united, states\",\"\\u003cb\\u003eTopic 11\\u003c\\u002fb\\u003e\\u003cbr\\u003eWords: bless, god, united, states, america\",\"\\u003cb\\u003eTopic 11\\u003c\\u002fb\\u003e\\u003cbr\\u003eWords: bless, god, united, states, america\",\"\\u003cb\\u003eTopic 11\\u003c\\u002fb\\u003e\\u003cbr\\u003eWords: bless, god, beloved, miracle, night\",\"\\u003cb\\u003eTopic 11\\u003c\\u002fb\\u003e\\u003cbr\\u003eWords: bless, god, america, united, states\",\"\\u003cb\\u003eTopic 11\\u003c\\u002fb\\u003e\\u003cbr\\u003eWords: bless, god, america, united, states\",\"\\u003cb\\u003eTopic 11\\u003c\\u002fb\\u003e\\u003cbr\\u003eWords: bless, god, america, united, states\",\"\\u003cb\\u003eTopic 11\\u003c\\u002fb\\u003e\\u003cbr\\u003eWords: bless, god, united, states, america\",\"\\u003cb\\u003eTopic 11\\u003c\\u002fb\\u003e\\u003cbr\\u003eWords: bless, god, america, united, states\",\"\\u003cb\\u003eTopic 11\\u003c\\u002fb\\u003e\\u003cbr\\u003eWords: bless, god, united, states, america\",\"\\u003cb\\u003eTopic 11\\u003c\\u002fb\\u003e\\u003cbr\\u003eWords: evening, good, bless, god, america\",\"\\u003cb\\u003eTopic 11\\u003c\\u002fb\\u003e\\u003cbr\\u003eWords: bless, god, america, united, states\",\"\\u003cb\\u003eTopic 11\\u003c\\u002fb\\u003e\\u003cbr\\u003eWords: bless, god, night, good, america\",\"\\u003cb\\u003eTopic 11\\u003c\\u002fb\\u003e\\u003cbr\\u003eWords: bless, god, america, united, states\",\"\\u003cb\\u003eTopic 11\\u003c\\u002fb\\u003e\\u003cbr\\u003eWords: bless, god, guide, united, states\",\"\\u003cb\\u003eTopic 11\\u003c\\u002fb\\u003e\\u003cbr\\u003eWords: bless, god, continue, america, united\",\"\\u003cb\\u003eTopic 11\\u003c\\u002fb\\u003e\\u003cbr\\u003eWords: bless, god, america, united, states\",\"\\u003cb\\u003eTopic 11\\u003c\\u002fb\\u003e\\u003cbr\\u003eWords: bless, god, america, united, states\",\"\\u003cb\\u003eTopic 11\\u003c\\u002fb\\u003e\\u003cbr\\u003eWords: prayers, bless, god, year, america\",\"\\u003cb\\u003eTopic 11\\u003c\\u002fb\\u003e\\u003cbr\\u003eWords: bless, god, united, states, america\",\"\\u003cb\\u003eTopic 11\\u003c\\u002fb\\u003e\\u003cbr\\u003eWords: bless, god, united, states, america\",\"\\u003cb\\u003eTopic 11\\u003c\\u002fb\\u003e\\u003cbr\\u003eWords: bless, god, united, states, america\",\"\\u003cb\\u003eTopic 11\\u003c\\u002fb\\u003e\\u003cbr\\u003eWords: bless, god, united, states, america\",\"\\u003cb\\u003eTopic 11\\u003c\\u002fb\\u003e\\u003cbr\\u003eWords: bless, god, united, states, america\",\"\\u003cb\\u003eTopic 11\\u003c\\u002fb\\u003e\\u003cbr\\u003eWords: bless, god, united, states, america\",\"\\u003cb\\u003eTopic 11\\u003c\\u002fb\\u003e\\u003cbr\\u003eWords: bless, god, love, country, america\",\"\\u003cb\\u003eTopic 11\\u003c\\u002fb\\u003e\\u003cbr\\u003eWords: bless, god, united, states, america\",\"\\u003cb\\u003eTopic 11\\u003c\\u002fb\\u003e\\u003cbr\\u003eWords: bless, god, united, states, america\",\"\\u003cb\\u003eTopic 11\\u003c\\u002fb\\u003e\\u003cbr\\u003eWords: bless, god, goodnight, america, united\",\"\\u003cb\\u003eTopic 11\\u003c\\u002fb\\u003e\\u003cbr\\u003eWords: bless, god, werent, supposed, laughter\",\"\\u003cb\\u003eTopic 11\\u003c\\u002fb\\u003e\\u003cbr\\u003eWords: bless, god, thrilled, inform, deployment\",\"\\u003cb\\u003eTopic 11\\u003c\\u002fb\\u003e\\u003cbr\\u003eWords: god, bless, patience, troops, protect\",\"\\u003cb\\u003eTopic 11\\u003c\\u002fb\\u003e\\u003cbr\\u003eWords: god, bless, em, troops, protect\",\"\\u003cb\\u003eTopic 11\\u003c\\u002fb\\u003e\\u003cbr\\u003eWords: god, bless, smile, okay, troops\",\"\\u003cb\\u003eTopic 11\\u003c\\u002fb\\u003e\\u003cbr\\u003eWords: god, bless, evening, good, smart\"],\"marker\":{\"color\":\"#D55E00\"},\"mode\":\"lines\",\"name\":\"11_bless_god_america_united\",\"x\":[1978,1979,1980,1981,1983,1984,1985,1986,1987,1988,1989,1990,1991,1992,1993,1994,1995,1996,1997,1998,1999,2000,2001,2002,2003,2004,2005,2006,2007,2009,2010,2011,2012,2013,2014,2015,2016,2017,2018,2019,2020,2021,2022,2023,2024],\"y\":[1,1,1,2,1,1,1,1,1,1,1,1,1,1,1,1,1,1,1,1,1,1,1,1,1,1,1,1,1,1,1,1,1,1,1,1,1,1,1,2,2,1,1,3,3],\"type\":\"scatter\"},{\"hoverinfo\":\"text\",\"hovertext\":[\"\\u003cb\\u003eTopic 12\\u003c\\u002fb\\u003e\\u003cbr\\u003eWords: worn, margin, ensures, uniform, countrys\",\"\\u003cb\\u003eTopic 12\\u003c\\u002fb\\u003e\\u003cbr\\u003eWords: trujillo, crash, wounded, sergeant, hesitated\",\"\\u003cb\\u003eTopic 12\\u003c\\u002fb\\u003e\\u003cbr\\u003eWords: frontiers, proudly, watch, service, courage\",\"\\u003cb\\u003eTopic 12\\u003c\\u002fb\\u003e\\u003cbr\\u003eWords: guarantors, defenders, wear, uniform, grateful\",\"\\u003cb\\u003eTopic 12\\u003c\\u002fb\\u003e\\u003cbr\\u003eWords: schwarzkopf, serving, gulf, mrs, norman\",\"\\u003cb\\u003eTopic 12\\u003c\\u002fb\\u003e\\u003cbr\\u003eWords: bases, conviction, ask, visited, repeat\",\"\\u003cb\\u003eTopic 12\\u003c\\u002fb\\u003e\\u003cbr\\u003eWords: fox, b1b, jeff, iraq, flawlessly\",\"\\u003cb\\u003eTopic 12\\u003c\\u002fb\\u003e\\u003cbr\\u003eWords: commitment, billiondollar, claims, veterans, honored\",\"\\u003cb\\u003eTopic 12\\u003c\\u002fb\\u003e\\u003cbr\\u003eWords: ashley, conveyed, uniform, duties, listen\",\"\\u003cb\\u003eTopic 12\\u003c\\u002fb\\u003e\\u003cbr\\u003eWords: byron, honor, mom, norwood, janet\",\"\\u003cb\\u003eTopic 12\\u003c\\u002fb\\u003e\\u003cbr\\u003eWords: honor, dan, uniform, wear, sacrifices\",\"\\u003cb\\u003eTopic 12\\u003c\\u002fb\\u003e\\u003cbr\\u003eWords: veterans, funding, compassionate, men, women\",\"\\u003cb\\u003eTopic 12\\u003c\\u002fb\\u003e\\u003cbr\\u003eWords: readying, absence, unyielding, bear, uniform\",\"\\u003cb\\u003eTopic 12\\u003c\\u002fb\\u003e\\u003cbr\\u003eWords: support, wethat, thats, veterans, va\",\"\\u003cb\\u003eTopic 12\\u003c\\u002fb\\u003e\\u003cbr\\u003eWords: love, campuses, recruiters, rotc, christian\",\"\\u003cb\\u003eTopic 12\\u003c\\u002fb\\u003e\\u003cbr\\u003eWords: veterans, uniform, youre, hire, serve\",\"\\u003cb\\u003eTopic 12\\u003c\\u002fb\\u003e\\u003cbr\\u003eWords: veterans, receive, carethat, inherent, marches\",\"\\u003cb\\u003eTopic 12\\u003c\\u002fb\\u003e\\u003cbr\\u003eWords: veterans, michelle, veteran, helped, bidenapplausethank\",\"\\u003cb\\u003eTopic 12\\u003c\\u002fb\\u003e\\u003cbr\\u003eWords: uniform, greater, braver, allies, robust\",\"\\u003cb\\u003eTopic 12\\u003c\\u002fb\\u003e\\u003cbr\\u003eWords: veterans, va, care, vets, properly\",\"\\u003cb\\u003eTopic 12\\u003c\\u002fb\\u003e\\u003cbr\\u003eWords: special, 814, albaghdadis, milley, miserable\",\"\\u003cb\\u003eTopic 12\\u003c\\u002fb\\u003e\\u003cbr\\u003eWords: serve, honorably, neck, knee, badge\",\"\\u003cb\\u003eTopic 12\\u003c\\u002fb\\u003e\\u003cbr\\u003eWords: veterans, va, toxic, care, benefits\",\"\\u003cb\\u003eTopic 12\\u003c\\u002fb\\u003e\\u003cbr\\u003eWords: veterans, suicide, va, losing, day\",\"\\u003cb\\u003eTopic 12\\u003c\\u002fb\\u003e\\u003cbr\\u003eWords: nikoui, maelee, kareem, veterans, denis\"],\"marker\":{\"color\":\"#0072B2\"},\"mode\":\"lines\",\"name\":\"12_veterans_uniform_honor_men\",\"x\":[1982,1984,1985,1989,1991,1995,1999,2001,2004,2005,2006,2008,2009,2010,2011,2012,2014,2015,2017,2018,2020,2021,2022,2023,2024],\"y\":[1,2,1,1,2,1,1,1,1,2,2,2,1,1,1,3,2,1,2,1,1,1,2,3,2],\"type\":\"scatter\"},{\"hoverinfo\":\"text\",\"hovertext\":[\"\\u003cb\\u003eTopic 13\\u003c\\u002fb\\u003e\\u003cbr\\u003eWords: unborn, proof, abortion, bitterness, reproach\",\"\\u003cb\\u003eTopic 13\\u003c\\u002fb\\u003e\\u003cbr\\u003eWords: abortion, cradles, irony, isit, unborn\",\"\\u003cb\\u003eTopic 13\\u003c\\u002fb\\u003e\\u003cbr\\u003eWords: unborn, life, abortion, exception, womans\",\"\\u003cb\\u003eTopic 13\\u003c\\u002fb\\u003e\\u003cbr\\u003eWords: mastectomy, zarfos, practice, dr, hospital\",\"\\u003cb\\u003eTopic 13\\u003c\\u002fb\\u003e\\u003cbr\\u003eWords: arguments, worthy, agree, womans, abortions\",\"\\u003cb\\u003eTopic 13\\u003c\\u002fb\\u003e\\u003cbr\\u003eWords: womb, image, abortion, baby, birth\",\"\\u003cb\\u003eTopic 13\\u003c\\u002fb\\u003e\\u003cbr\\u003eWords: abortion, neonatal, lateterm, babies, banning\",\"\\u003cb\\u003eTopic 13\\u003c\\u002fb\\u003e\\u003cbr\\u003eWords: roe, wade, precedent, maternal, womans\",\"\\u003cb\\u003eTopic 13\\u003c\\u002fb\\u003e\\u003cbr\\u003eWords: roe, wade, abortion, reproductive, bans\",\"\\u003cb\\u003eTopic 13\\u003c\\u002fb\\u003e\\u003cbr\\u003eWords: wade, roe, ivf, supreme, court\"],\"marker\":{\"color\":\"#CC79A7\"},\"mode\":\"lines\",\"name\":\"13_wade_roe_abortion_unborn\",\"x\":[1984,1985,1988,1997,2015,2019,2020,2022,2023,2024],\"y\":[1,1,1,1,1,2,1,1,1,9],\"type\":\"scatter\"},{\"hoverinfo\":\"text\",\"hovertext\":[\"\\u003cb\\u003eTopic 14\\u003c\\u002fb\\u003e\\u003cbr\\u003eWords: wage, minimum, 425, hour, raise\",\"\\u003cb\\u003eTopic 14\\u003c\\u002fb\\u003e\\u003cbr\\u003eWords: minimum, wage, raise, 40year, hour\",\"\\u003cb\\u003eTopic 14\\u003c\\u002fb\\u003e\\u003cbr\\u003eWords: wage, minimum, reap, honors, raise\",\"\\u003cb\\u003eTopic 14\\u003c\\u002fb\\u003e\\u003cbr\\u003eWords: equal, wage, minimum, lets, raise\",\"\\u003cb\\u003eTopic 14\\u003c\\u002fb\\u003e\\u003cbr\\u003eWords: wage, minimum, raise, earns, fulltime\",\"\\u003cb\\u003eTopic 14\\u003c\\u002fb\\u003e\\u003cbr\\u003eWords: wage, minimum, raise, 10, hour\",\"\\u003cb\\u003eTopic 14\\u003c\\u002fb\\u003e\\u003cbr\\u003eWords: wage, minimum, raise, sure, refuses\",\"\\u003cb\\u003eTopic 14\\u003c\\u002fb\\u003e\\u003cbr\\u003eWords: hours, 40, wage, minimum, desklaughterlets\",\"\\u003cb\\u003eTopic 14\\u003c\\u002fb\\u003e\\u003cbr\\u003eWords: eight7, wage, minimum, pro, bucks\"],\"marker\":{\"color\":\"#E69F00\"},\"mode\":\"lines\",\"name\":\"14_wage_minimum_raise_hour\",\"x\":[1995,1996,1998,1999,2013,2014,2015,2021,2024],\"y\":[3,1,1,1,3,3,1,1,1],\"type\":\"scatter\"},{\"hoverinfo\":\"text\",\"hovertext\":[\"\\u003cb\\u003eTopic 15\\u003c\\u002fb\\u003e\\u003cbr\\u003eWords: welcome, laughter, say, thats, point\",\"\\u003cb\\u003eTopic 15\\u003c\\u002fb\\u003e\\u003cbr\\u003eWords: responded, point, seeno, sang, conversion\",\"\\u003cb\\u003eTopic 15\\u003c\\u002fb\\u003e\\u003cbr\\u003eWords: point, seeno, remarks, sang, conversion\",\"\\u003cb\\u003eTopic 15\\u003c\\u002fb\\u003e\\u003cbr\\u003eWords: sang, birthday, happy, point, seeno\",\"\\u003cb\\u003eTopic 15\\u003c\\u002fb\\u003e\\u003cbr\\u003eWords: seeno, conversion, point, glad, enjoy\",\"\\u003cb\\u003eTopic 15\\u003c\\u002fb\\u003e\\u003cbr\\u003eWords: point, remarks, laken, michael, pin\"],\"marker\":{\"color\":\"#56B4E9\"},\"mode\":\"lines\",\"name\":\"15_point_seeno_remarks_sang\",\"x\":[1978,1998,2015,2019,2023,2024],\"y\":[1,1,1,1,2,7],\"type\":\"scatter\"},{\"hoverinfo\":\"text\",\"hovertext\":[\"\\u003cb\\u003eTopic 16\\u003c\\u002fb\\u003e\\u003cbr\\u003eWords: nicaragua, support, sandinista, central, cubansoviet\",\"\\u003cb\\u003eTopic 16\\u003c\\u002fb\\u003e\\u003cbr\\u003eWords: central, sandinistas, nicaragua, nicaraguan, freedom\",\"\\u003cb\\u003eTopic 16\\u003c\\u002fb\\u003e\\u003cbr\\u003eWords: sandinistas, nicaragua, democratic, freedom, sandinista\",\"\\u003cb\\u003eTopic 16\\u003c\\u002fb\\u003e\\u003cbr\\u003eWords: certifiably, nicaragua, inevitably, central, free\",\"\\u003cb\\u003eTopic 16\\u003c\\u002fb\\u003e\\u003cbr\\u003eWords: tunisia, writ, proved, dictator, aspirations\",\"\\u003cb\\u003eTopic 16\\u003c\\u002fb\\u003e\\u003cbr\\u003eWords: maduro, abject, venezuelan, guaid, juan\",\"\\u003cb\\u003eTopic 16\\u003c\\u002fb\\u003e\\u003cbr\\u003eWords: maduro, venezuelans, venezuela, mr, hopes\"],\"marker\":{\"color\":\"#009E73\"},\"mode\":\"lines\",\"name\":\"16_nicaragua_central_sandinistas_freedom\",\"x\":[1985,1987,1988,1989,2011,2019,2020],\"y\":[1,2,3,1,1,1,3],\"type\":\"scatter\"},{\"hoverinfo\":\"text\",\"hovertext\":[\"\\u003cb\\u003eTopic 17\\u003c\\u002fb\\u003e\\u003cbr\\u003eWords: court, vacancies, judiciary, anthony, nominees\",\"\\u003cb\\u003eTopic 17\\u003c\\u002fb\\u003e\\u003cbr\\u003eWords: vacancies, judicial, justice, court, courts\",\"\\u003cb\\u003eTopic 17\\u003c\\u002fb\\u003e\\u003cbr\\u003eWords: bench, courts, judges, nominate, nominee\",\"\\u003cb\\u003eTopic 17\\u003c\\u002fb\\u003e\\u003cbr\\u003eWords: bench, justice, courts, court, judges\",\"\\u003cb\\u003eTopic 17\\u003c\\u002fb\\u003e\\u003cbr\\u003eWords: courts, senate, cases, federal, duty\",\"\\u003cb\\u003eTopic 17\\u003c\\u002fb\\u003e\\u003cbr\\u003eWords: nominees, judges, gavel, judicial, upordown\",\"\\u003cb\\u003eTopic 17\\u003c\\u002fb\\u003e\\u003cbr\\u003eWords: maureen, scalia, court, justice, judges\",\"\\u003cb\\u003eTopic 17\\u003c\\u002fb\\u003e\\u003cbr\\u003eWords: senate, court, judges, gorsuch, mcconnellthank\",\"\\u003cb\\u003eTopic 17\\u003c\\u002fb\\u003e\\u003cbr\\u003eWords: shes, court, nominated, judges, justice\"],\"marker\":{\"color\":\"#F0E442\"},\"mode\":\"lines\",\"name\":\"17_court_justice_senate_judges\",\"x\":[1988,1998,2005,2006,2007,2008,2017,2020,2022],\"y\":[1,1,1,1,1,1,2,1,2],\"type\":\"scatter\"},{\"hoverinfo\":\"text\",\"hovertext\":[\"\\u003cb\\u003eTopic 18\\u003c\\u002fb\\u003e\\u003cbr\\u003eWords: fees, junk, airlines, companies, upfront\",\"\\u003cb\\u003eTopic 18\\u003c\\u002fb\\u003e\\u003cbr\\u003eWords: fees, card, junk, companies, im\"],\"marker\":{\"color\":\"#D55E00\"},\"mode\":\"lines\",\"name\":\"18_fees_junk_companies_card\",\"x\":[2023,2024],\"y\":[5,6],\"type\":\"scatter\"}],                        {\"template\":{\"data\":{\"barpolar\":[{\"marker\":{\"line\":{\"color\":\"white\",\"width\":0.5},\"pattern\":{\"fillmode\":\"overlay\",\"size\":10,\"solidity\":0.2}},\"type\":\"barpolar\"}],\"bar\":[{\"error_x\":{\"color\":\"rgb(36,36,36)\"},\"error_y\":{\"color\":\"rgb(36,36,36)\"},\"marker\":{\"line\":{\"color\":\"white\",\"width\":0.5},\"pattern\":{\"fillmode\":\"overlay\",\"size\":10,\"solidity\":0.2}},\"type\":\"bar\"}],\"carpet\":[{\"aaxis\":{\"endlinecolor\":\"rgb(36,36,36)\",\"gridcolor\":\"white\",\"linecolor\":\"white\",\"minorgridcolor\":\"white\",\"startlinecolor\":\"rgb(36,36,36)\"},\"baxis\":{\"endlinecolor\":\"rgb(36,36,36)\",\"gridcolor\":\"white\",\"linecolor\":\"white\",\"minorgridcolor\":\"white\",\"startlinecolor\":\"rgb(36,36,36)\"},\"type\":\"carpet\"}],\"choropleth\":[{\"colorbar\":{\"outlinewidth\":1,\"tickcolor\":\"rgb(36,36,36)\",\"ticks\":\"outside\"},\"type\":\"choropleth\"}],\"contourcarpet\":[{\"colorbar\":{\"outlinewidth\":1,\"tickcolor\":\"rgb(36,36,36)\",\"ticks\":\"outside\"},\"type\":\"contourcarpet\"}],\"contour\":[{\"colorbar\":{\"outlinewidth\":1,\"tickcolor\":\"rgb(36,36,36)\",\"ticks\":\"outside\"},\"colorscale\":[[0.0,\"#440154\"],[0.1111111111111111,\"#482878\"],[0.2222222222222222,\"#3e4989\"],[0.3333333333333333,\"#31688e\"],[0.4444444444444444,\"#26828e\"],[0.5555555555555556,\"#1f9e89\"],[0.6666666666666666,\"#35b779\"],[0.7777777777777778,\"#6ece58\"],[0.8888888888888888,\"#b5de2b\"],[1.0,\"#fde725\"]],\"type\":\"contour\"}],\"heatmapgl\":[{\"colorbar\":{\"outlinewidth\":1,\"tickcolor\":\"rgb(36,36,36)\",\"ticks\":\"outside\"},\"colorscale\":[[0.0,\"#440154\"],[0.1111111111111111,\"#482878\"],[0.2222222222222222,\"#3e4989\"],[0.3333333333333333,\"#31688e\"],[0.4444444444444444,\"#26828e\"],[0.5555555555555556,\"#1f9e89\"],[0.6666666666666666,\"#35b779\"],[0.7777777777777778,\"#6ece58\"],[0.8888888888888888,\"#b5de2b\"],[1.0,\"#fde725\"]],\"type\":\"heatmapgl\"}],\"heatmap\":[{\"colorbar\":{\"outlinewidth\":1,\"tickcolor\":\"rgb(36,36,36)\",\"ticks\":\"outside\"},\"colorscale\":[[0.0,\"#440154\"],[0.1111111111111111,\"#482878\"],[0.2222222222222222,\"#3e4989\"],[0.3333333333333333,\"#31688e\"],[0.4444444444444444,\"#26828e\"],[0.5555555555555556,\"#1f9e89\"],[0.6666666666666666,\"#35b779\"],[0.7777777777777778,\"#6ece58\"],[0.8888888888888888,\"#b5de2b\"],[1.0,\"#fde725\"]],\"type\":\"heatmap\"}],\"histogram2dcontour\":[{\"colorbar\":{\"outlinewidth\":1,\"tickcolor\":\"rgb(36,36,36)\",\"ticks\":\"outside\"},\"colorscale\":[[0.0,\"#440154\"],[0.1111111111111111,\"#482878\"],[0.2222222222222222,\"#3e4989\"],[0.3333333333333333,\"#31688e\"],[0.4444444444444444,\"#26828e\"],[0.5555555555555556,\"#1f9e89\"],[0.6666666666666666,\"#35b779\"],[0.7777777777777778,\"#6ece58\"],[0.8888888888888888,\"#b5de2b\"],[1.0,\"#fde725\"]],\"type\":\"histogram2dcontour\"}],\"histogram2d\":[{\"colorbar\":{\"outlinewidth\":1,\"tickcolor\":\"rgb(36,36,36)\",\"ticks\":\"outside\"},\"colorscale\":[[0.0,\"#440154\"],[0.1111111111111111,\"#482878\"],[0.2222222222222222,\"#3e4989\"],[0.3333333333333333,\"#31688e\"],[0.4444444444444444,\"#26828e\"],[0.5555555555555556,\"#1f9e89\"],[0.6666666666666666,\"#35b779\"],[0.7777777777777778,\"#6ece58\"],[0.8888888888888888,\"#b5de2b\"],[1.0,\"#fde725\"]],\"type\":\"histogram2d\"}],\"histogram\":[{\"marker\":{\"line\":{\"color\":\"white\",\"width\":0.6}},\"type\":\"histogram\"}],\"mesh3d\":[{\"colorbar\":{\"outlinewidth\":1,\"tickcolor\":\"rgb(36,36,36)\",\"ticks\":\"outside\"},\"type\":\"mesh3d\"}],\"parcoords\":[{\"line\":{\"colorbar\":{\"outlinewidth\":1,\"tickcolor\":\"rgb(36,36,36)\",\"ticks\":\"outside\"}},\"type\":\"parcoords\"}],\"pie\":[{\"automargin\":true,\"type\":\"pie\"}],\"scatter3d\":[{\"line\":{\"colorbar\":{\"outlinewidth\":1,\"tickcolor\":\"rgb(36,36,36)\",\"ticks\":\"outside\"}},\"marker\":{\"colorbar\":{\"outlinewidth\":1,\"tickcolor\":\"rgb(36,36,36)\",\"ticks\":\"outside\"}},\"type\":\"scatter3d\"}],\"scattercarpet\":[{\"marker\":{\"colorbar\":{\"outlinewidth\":1,\"tickcolor\":\"rgb(36,36,36)\",\"ticks\":\"outside\"}},\"type\":\"scattercarpet\"}],\"scattergeo\":[{\"marker\":{\"colorbar\":{\"outlinewidth\":1,\"tickcolor\":\"rgb(36,36,36)\",\"ticks\":\"outside\"}},\"type\":\"scattergeo\"}],\"scattergl\":[{\"marker\":{\"colorbar\":{\"outlinewidth\":1,\"tickcolor\":\"rgb(36,36,36)\",\"ticks\":\"outside\"}},\"type\":\"scattergl\"}],\"scattermapbox\":[{\"marker\":{\"colorbar\":{\"outlinewidth\":1,\"tickcolor\":\"rgb(36,36,36)\",\"ticks\":\"outside\"}},\"type\":\"scattermapbox\"}],\"scatterpolargl\":[{\"marker\":{\"colorbar\":{\"outlinewidth\":1,\"tickcolor\":\"rgb(36,36,36)\",\"ticks\":\"outside\"}},\"type\":\"scatterpolargl\"}],\"scatterpolar\":[{\"marker\":{\"colorbar\":{\"outlinewidth\":1,\"tickcolor\":\"rgb(36,36,36)\",\"ticks\":\"outside\"}},\"type\":\"scatterpolar\"}],\"scatter\":[{\"fillpattern\":{\"fillmode\":\"overlay\",\"size\":10,\"solidity\":0.2},\"type\":\"scatter\"}],\"scatterternary\":[{\"marker\":{\"colorbar\":{\"outlinewidth\":1,\"tickcolor\":\"rgb(36,36,36)\",\"ticks\":\"outside\"}},\"type\":\"scatterternary\"}],\"surface\":[{\"colorbar\":{\"outlinewidth\":1,\"tickcolor\":\"rgb(36,36,36)\",\"ticks\":\"outside\"},\"colorscale\":[[0.0,\"#440154\"],[0.1111111111111111,\"#482878\"],[0.2222222222222222,\"#3e4989\"],[0.3333333333333333,\"#31688e\"],[0.4444444444444444,\"#26828e\"],[0.5555555555555556,\"#1f9e89\"],[0.6666666666666666,\"#35b779\"],[0.7777777777777778,\"#6ece58\"],[0.8888888888888888,\"#b5de2b\"],[1.0,\"#fde725\"]],\"type\":\"surface\"}],\"table\":[{\"cells\":{\"fill\":{\"color\":\"rgb(237,237,237)\"},\"line\":{\"color\":\"white\"}},\"header\":{\"fill\":{\"color\":\"rgb(217,217,217)\"},\"line\":{\"color\":\"white\"}},\"type\":\"table\"}]},\"layout\":{\"annotationdefaults\":{\"arrowhead\":0,\"arrowwidth\":1},\"autotypenumbers\":\"strict\",\"coloraxis\":{\"colorbar\":{\"outlinewidth\":1,\"tickcolor\":\"rgb(36,36,36)\",\"ticks\":\"outside\"}},\"colorscale\":{\"diverging\":[[0.0,\"rgb(103,0,31)\"],[0.1,\"rgb(178,24,43)\"],[0.2,\"rgb(214,96,77)\"],[0.3,\"rgb(244,165,130)\"],[0.4,\"rgb(253,219,199)\"],[0.5,\"rgb(247,247,247)\"],[0.6,\"rgb(209,229,240)\"],[0.7,\"rgb(146,197,222)\"],[0.8,\"rgb(67,147,195)\"],[0.9,\"rgb(33,102,172)\"],[1.0,\"rgb(5,48,97)\"]],\"sequential\":[[0.0,\"#440154\"],[0.1111111111111111,\"#482878\"],[0.2222222222222222,\"#3e4989\"],[0.3333333333333333,\"#31688e\"],[0.4444444444444444,\"#26828e\"],[0.5555555555555556,\"#1f9e89\"],[0.6666666666666666,\"#35b779\"],[0.7777777777777778,\"#6ece58\"],[0.8888888888888888,\"#b5de2b\"],[1.0,\"#fde725\"]],\"sequentialminus\":[[0.0,\"#440154\"],[0.1111111111111111,\"#482878\"],[0.2222222222222222,\"#3e4989\"],[0.3333333333333333,\"#31688e\"],[0.4444444444444444,\"#26828e\"],[0.5555555555555556,\"#1f9e89\"],[0.6666666666666666,\"#35b779\"],[0.7777777777777778,\"#6ece58\"],[0.8888888888888888,\"#b5de2b\"],[1.0,\"#fde725\"]]},\"colorway\":[\"#1F77B4\",\"#FF7F0E\",\"#2CA02C\",\"#D62728\",\"#9467BD\",\"#8C564B\",\"#E377C2\",\"#7F7F7F\",\"#BCBD22\",\"#17BECF\"],\"font\":{\"color\":\"rgb(36,36,36)\"},\"geo\":{\"bgcolor\":\"white\",\"lakecolor\":\"white\",\"landcolor\":\"white\",\"showlakes\":true,\"showland\":true,\"subunitcolor\":\"white\"},\"hoverlabel\":{\"align\":\"left\"},\"hovermode\":\"closest\",\"mapbox\":{\"style\":\"light\"},\"paper_bgcolor\":\"white\",\"plot_bgcolor\":\"white\",\"polar\":{\"angularaxis\":{\"gridcolor\":\"rgb(232,232,232)\",\"linecolor\":\"rgb(36,36,36)\",\"showgrid\":false,\"showline\":true,\"ticks\":\"outside\"},\"bgcolor\":\"white\",\"radialaxis\":{\"gridcolor\":\"rgb(232,232,232)\",\"linecolor\":\"rgb(36,36,36)\",\"showgrid\":false,\"showline\":true,\"ticks\":\"outside\"}},\"scene\":{\"xaxis\":{\"backgroundcolor\":\"white\",\"gridcolor\":\"rgb(232,232,232)\",\"gridwidth\":2,\"linecolor\":\"rgb(36,36,36)\",\"showbackground\":true,\"showgrid\":false,\"showline\":true,\"ticks\":\"outside\",\"zeroline\":false,\"zerolinecolor\":\"rgb(36,36,36)\"},\"yaxis\":{\"backgroundcolor\":\"white\",\"gridcolor\":\"rgb(232,232,232)\",\"gridwidth\":2,\"linecolor\":\"rgb(36,36,36)\",\"showbackground\":true,\"showgrid\":false,\"showline\":true,\"ticks\":\"outside\",\"zeroline\":false,\"zerolinecolor\":\"rgb(36,36,36)\"},\"zaxis\":{\"backgroundcolor\":\"white\",\"gridcolor\":\"rgb(232,232,232)\",\"gridwidth\":2,\"linecolor\":\"rgb(36,36,36)\",\"showbackground\":true,\"showgrid\":false,\"showline\":true,\"ticks\":\"outside\",\"zeroline\":false,\"zerolinecolor\":\"rgb(36,36,36)\"}},\"shapedefaults\":{\"fillcolor\":\"black\",\"line\":{\"width\":0},\"opacity\":0.3},\"ternary\":{\"aaxis\":{\"gridcolor\":\"rgb(232,232,232)\",\"linecolor\":\"rgb(36,36,36)\",\"showgrid\":false,\"showline\":true,\"ticks\":\"outside\"},\"baxis\":{\"gridcolor\":\"rgb(232,232,232)\",\"linecolor\":\"rgb(36,36,36)\",\"showgrid\":false,\"showline\":true,\"ticks\":\"outside\"},\"bgcolor\":\"white\",\"caxis\":{\"gridcolor\":\"rgb(232,232,232)\",\"linecolor\":\"rgb(36,36,36)\",\"showgrid\":false,\"showline\":true,\"ticks\":\"outside\"}},\"title\":{\"x\":0.05},\"xaxis\":{\"automargin\":true,\"gridcolor\":\"rgb(232,232,232)\",\"linecolor\":\"rgb(36,36,36)\",\"showgrid\":false,\"showline\":true,\"ticks\":\"outside\",\"title\":{\"standoff\":15},\"zeroline\":false,\"zerolinecolor\":\"rgb(36,36,36)\"},\"yaxis\":{\"automargin\":true,\"gridcolor\":\"rgb(232,232,232)\",\"linecolor\":\"rgb(36,36,36)\",\"showgrid\":false,\"showline\":true,\"ticks\":\"outside\",\"title\":{\"standoff\":15},\"zeroline\":false,\"zerolinecolor\":\"rgb(36,36,36)\"}}},\"xaxis\":{\"showgrid\":true},\"yaxis\":{\"showgrid\":true,\"title\":{\"text\":\"Frequency\"}},\"title\":{\"font\":{\"size\":22,\"color\":\"Black\"},\"text\":\"\\u003cb\\u003eTopics over Time\\u003c\\u002fb\\u003e\",\"y\":0.95,\"x\":0.4,\"xanchor\":\"center\",\"yanchor\":\"top\"},\"hoverlabel\":{\"font\":{\"size\":16,\"family\":\"Rockwell\"},\"bgcolor\":\"white\"},\"width\":1250,\"height\":450,\"legend\":{\"title\":{\"text\":\"\\u003cb\\u003eGlobal Topic Representation\"}}},                        {\"responsive\": true}                    ).then(function(){\n",
       "                            \n",
       "var gd = document.getElementById('1f0e9d12-56b9-4e50-9436-4e6e3cc1ccfe');\n",
       "var x = new MutationObserver(function (mutations, observer) {{\n",
       "        var display = window.getComputedStyle(gd).display;\n",
       "        if (!display || display === 'none') {{\n",
       "            console.log([gd, 'removed!']);\n",
       "            Plotly.purge(gd);\n",
       "            observer.disconnect();\n",
       "        }}\n",
       "}});\n",
       "\n",
       "// Listen for the removal of the full notebook cells\n",
       "var notebookContainer = gd.closest('#notebook-container');\n",
       "if (notebookContainer) {{\n",
       "    x.observe(notebookContainer, {childList: true});\n",
       "}}\n",
       "\n",
       "// Listen for the clearing of the current output cell\n",
       "var outputEl = gd.closest('.output');\n",
       "if (outputEl) {{\n",
       "    x.observe(outputEl, {childList: true});\n",
       "}}\n",
       "\n",
       "                        })                };                });            </script>        </div>"
      ]
     },
     "metadata": {},
     "output_type": "display_data"
    }
   ],
   "source": [
    "model.visualize_topics_over_time(topics_over_time)"
   ]
  },
  {
   "cell_type": "markdown",
   "id": "c2c6ba1d-5bbb-4550-9f45-aff8aa17a569",
   "metadata": {},
   "source": [
    "1c. Finish the code snippet below to calculate the topic distribution by political party. After you've finished it, write a paragraph or two explaining any patterns you see in how the two parties pattern along topics."
   ]
  },
  {
   "cell_type": "code",
   "execution_count": 153,
   "id": "64194cf2-40a7-41de-823d-db5aa8105fd4",
   "metadata": {},
   "outputs": [],
   "source": [
    "from collections import Counter\n",
    "D_YEARS = [1978, 1979, 1980, 1993, 1994, 1995, 1996, 1997, 1998, 1999, 2000, 2009, 2010, 2011, 2012, 2013, 2014, 2015, 2016, 2021, 2022, 2023, 2024]\n",
    "R_YEARS = [y for y in range(1978, 2025) if y not in D_YEARS]\n",
    "d_counter = Counter()\n",
    "r_counter = Counter()\n",
    "\n",
    "# Loop over the assigned topic of each paragraph and the year that paragraph is from\n",
    "for topic, year in zip(topics, paragraph_years):\n",
    "    ...\n",
    "    # Your code here\n",
    "\n",
    "for _, topic in model.get_topic_info().iterrows():\n",
    "    print(topic.Name, topic.Representation)\n",
    "    print(\"Democratic paragraphs:\", d_counter[topic.Topic])\n",
    "    print(\"Republican paragraphs:\", r_counter[topic.Topic])\n",
    "    print()    "
   ]
  },
  {
   "cell_type": "markdown",
   "id": "6db5d3e3-a6f5-4aaa-97ee-ac890e466b8e",
   "metadata": {},
   "source": [
    "**(YOUR ANSWER HERE)**"
   ]
  },
  {
   "cell_type": "markdown",
   "id": "672d0b7f-7bc4-4fb8-be49-5dbc1c0873e6",
   "metadata": {},
   "source": [
    "# Problem 2: Model Tuning\n",
    "Recall from above (\"Training the Model\") that the BERTopic model can be tuned with [a variety of parameters](https://maartengr.github.io/BERTopic/api/bertopic.html#bertopic._bertopic.BERTopic.__init__).\n",
    "Based on what you wrote in your solutions to Problem 1, we will try to tune the model to get it to behave better."
   ]
  },
  {
   "cell_type": "markdown",
   "id": "cf0ef603-664a-4c16-b20c-90422faf0098",
   "metadata": {},
   "source": [
    "2a. Try changing the value of `nr_topics` in the line with `model = ` above and then re-run code above to see how the topics change. How would you describe the changes you're seeing? Would you say that the \"quality\" of the topics you're getting has increasd or decreased? Write a paragraph or two."
   ]
  },
  {
   "cell_type": "markdown",
   "id": "77906b14-cb6a-45e3-8d14-0c4b940b759b",
   "metadata": {},
   "source": [
    "**(YOUR ANSWER HERE)**"
   ]
  },
  {
   "cell_type": "markdown",
   "id": "69c2cd86-7818-438f-9a01-5488022e1a22",
   "metadata": {},
   "source": [
    "2b. The parameter `top_n_words` can be used to specify the number of words that BERTopic will learn to associate with any given topic. The default value is `10`, so try setting this to something lower or higher. Describe what you see in a paragraph or two."
   ]
  },
  {
   "cell_type": "markdown",
   "id": "3119c244-afc8-4ce8-8440-bb9ac1aab81d",
   "metadata": {},
   "source": [
    "**(YOUR ANSWER HERE)**"
   ]
  }
 ],
 "metadata": {
  "kernelspec": {
   "display_name": "Python 3 (ipykernel)",
   "language": "python",
   "name": "python3"
  },
  "language_info": {
   "codemirror_mode": {
    "name": "ipython",
    "version": 3
   },
   "file_extension": ".py",
   "mimetype": "text/x-python",
   "name": "python",
   "nbconvert_exporter": "python",
   "pygments_lexer": "ipython3",
   "version": "3.12.7"
  }
 },
 "nbformat": 4,
 "nbformat_minor": 5
}
