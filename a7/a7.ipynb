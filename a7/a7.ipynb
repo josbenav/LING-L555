{
 "cells": [
  {
   "cell_type": "markdown",
   "id": "25e7b48b-d9b8-4421-aa87-62aca6899c97",
   "metadata": {},
   "source": [
    "# A7: State of the Union Addresses, 2001--2024}\n",
    "\n",
    "_(This assignment is inspired by [A3 in the Spring 2018 offering of CS 1110 at Cornell University](https://www.cs.cornell.edu/courses/cs1110/2018sp/assignments/assignment3/a3.pdf).)}_\n",
    "\n",
    "Many social scientists are interested in how political discourse evolves over time. \n",
    "We will narrow down this very broad question by focusing on State of the Union addresses given by United States presidents from 2001 to 2024 and asking how prominent some \"topics\" are within them.\n",
    "To do this, we're going to use the [BERTopic](https://maartengr.github.io/BERTopic/index.html) library, a powerful tool for algorithmically computing topics in a given corpus of text.\n",
    "\n",
    "\n"
   ]
  },
  {
   "cell_type": "markdown",
   "id": "0e1601c2-5656-44d7-8de9-6ce091197087",
   "metadata": {},
   "source": [
    "## Reading Input\n",
    "We will read all the text files and split each of them into paragraphs.\n",
    "BERTopic takes a giant list of \"documents\" as input, and assigns one topic to each document.\n",
    "For this reason, since we know that SOTU addresses in fact cover many topics, it is sensible to divide each SOTU speech into multiple BERTopic \"documents\".\n",
    "Note that for each paragraph we will also note which year's address it was taken from--we will need this later.\n",
    "\n",
    "Note: transcripts taken from [The American Presidency Project](https://www.presidency.ucsb.edu/documents/presidential-documents-archive-guidebook/annual-messages-congress-the-state-the-union)."
   ]
  },
  {
   "cell_type": "code",
   "execution_count": 67,
   "id": "cd8444b6-8c34-43fe-a767-2c15c201371a",
   "metadata": {},
   "outputs": [
    {
     "data": {
      "text/plain": [
       "['Mr. President, Mr. Speaker, Members of the 95th Congress, ladies and gentlemen:',\n",
       " \"Two years ago today we had the first caucus in Iowa, and one year ago tomorrow, I walked from here to the White House to take up the duties of President of the United States. I didn't know it then when I walked, but I've been trying to save energy ever since. [Laughter]\",\n",
       " 'I return tonight to fulfill one of those duties of the Constitution: to give to the Congress—and to the Nation—information on the state of the Union.',\n",
       " 'Militarily, politically, economically, and in spirit, the state of our Union is sound.',\n",
       " 'We are a great country, a strong country, a vital and a dynamic country—and so we will remain.']"
      ]
     },
     "execution_count": 67,
     "metadata": {},
     "output_type": "execute_result"
    }
   ],
   "source": [
    "def read_file(p):\n",
    "    with open(p, 'r') as f:\n",
    "        return f.read()\n",
    "\n",
    "whole_docs = []\n",
    "whole_doc_years = []\n",
    "paragraphs = []\n",
    "paragraph_years = []\n",
    "for i in range(1978, 2025):\n",
    "    contents = read_file(f\"sotu/{i}.txt\")\n",
    "    whole_docs.append(contents)\n",
    "    whole_doc_years.append(i)\n",
    "    for paragraph in contents.split(\"\\n\\n\"):\n",
    "        paragraphs.append(paragraph)\n",
    "        paragraph_years.append(i)\n",
    "paragraphs[:5]"
   ]
  },
  {
   "cell_type": "markdown",
   "id": "1957484b-26aa-492f-a5d9-972c20a4e163",
   "metadata": {},
   "source": [
    "## Training the Model\n",
    "\n",
    "Here, we will train the model. Note that the `nr_topics` parameter specifies the maxmimum number of topics that the model should generate.\n",
    "For other parameters you can supply to it, see [the documentation](https://maartengr.github.io/BERTopic/api/bertopic.html#bertopic._bertopic.BERTopic.__init__).\n",
    "The output of the `fit_transform` function, which performs the training, is a 2-tuple containing the most likely topic and the assigned probability for each input document--i.e., paragraph."
   ]
  },
  {
   "cell_type": "code",
   "execution_count": 68,
   "id": "9709bc4c-87fd-40b7-8dd9-df2290262dc3",
   "metadata": {},
   "outputs": [
    {
     "name": "stdout",
     "output_type": "stream",
     "text": [
      "Topic and probability of 102nd paragraph: 4 0.6833697728742905\n",
      "102nd paragraph: The other moment was in Warsaw, capital of a nation twice devastated by war in this century. There, people have rebuilt the city which war's destruction took from them. But what was new only emphasized clearly what was lost.\n"
     ]
    },
    {
     "data": {
      "text/plain": [
       "(4206, 4206)"
      ]
     },
     "execution_count": 68,
     "metadata": {},
     "output_type": "execute_result"
    }
   ],
   "source": [
    "from bertopic import BERTopic\n",
    "from sklearn.feature_extraction.text import CountVectorizer\n",
    "from sklearn.feature_extraction._stop_words import ENGLISH_STOP_WORDS\n",
    "# This lets us get rid of words like \"the\", \"of\", \"Mr.\", etc. and other words which are not contentful for us\n",
    "stop_words = list({\"Mr.\", \"Mr\", \"mr\", \"mr.\", \"just\", \"distinguished\", \"madam\", \"guest\", \"guests\", \"sergeant\", \"speaker\", \"president\", \"fellow\", \"vice\", \"congress\", \"Thank\", \"thank\", \"audience\", \"speaker\", \"Tonight\", \"tonight\", \"Union\", \"union\", \"people\", \"People\", \"America\", \"American\", \"United\", \"States\", \"inaudible\", \"boo\", \"spoke\", \"member\", \"members\", \"applauded\", \"applause\", \"applaud\", \"inaudibledont\", \"inaudiblethe\"}.union(ENGLISH_STOP_WORDS))\n",
    "vectorizer_model = CountVectorizer(stop_words=stop_words)\n",
    "model = BERTopic(\n",
    "    vectorizer_model=vectorizer_model, \n",
    "    nr_topics=20,\n",
    ")\n",
    "topics, probabilities = model.fit_transform(paragraphs)\n",
    "\n",
    "print(\"Topic and probability of 102nd paragraph:\", topics[101], probabilities[101])\n",
    "print(\"102nd paragraph:\", paragraphs[101])\n",
    "\n",
    "len(topics), len(paragraphs)"
   ]
  },
  {
   "cell_type": "markdown",
   "id": "7f4c3029-8509-4471-889c-ee09f7f5226d",
   "metadata": {},
   "source": [
    "## Topic Information\n",
    "To see what the topics are all about, we can use `.get_topic_info()`, which returns a Pandas DataFrame containing the topic information.\n",
    "\n",
    "Note that BERTopic has a topic numbered -1 which contains \"junk\"--i.e., documents that didn't fit into any of the other topics."
   ]
  },
  {
   "cell_type": "code",
   "execution_count": 69,
   "id": "dee165a2-984d-4ab7-84b2-d8cfbe5b8fd2",
   "metadata": {},
   "outputs": [
    {
     "data": {
      "text/html": [
       "<div>\n",
       "<style scoped>\n",
       "    .dataframe tbody tr th:only-of-type {\n",
       "        vertical-align: middle;\n",
       "    }\n",
       "\n",
       "    .dataframe tbody tr th {\n",
       "        vertical-align: top;\n",
       "    }\n",
       "\n",
       "    .dataframe thead th {\n",
       "        text-align: right;\n",
       "    }\n",
       "</style>\n",
       "<table border=\"1\" class=\"dataframe\">\n",
       "  <thead>\n",
       "    <tr style=\"text-align: right;\">\n",
       "      <th></th>\n",
       "      <th>Topic</th>\n",
       "      <th>Count</th>\n",
       "      <th>Name</th>\n",
       "      <th>Representation</th>\n",
       "      <th>Representative_Docs</th>\n",
       "    </tr>\n",
       "  </thead>\n",
       "  <tbody>\n",
       "    <tr>\n",
       "      <th>0</th>\n",
       "      <td>-1</td>\n",
       "      <td>1271</td>\n",
       "      <td>-1_america_american_new_world</td>\n",
       "      <td>[america, american, new, world, country, jobs,...</td>\n",
       "      <td>[Congress, give these hard-working, responsibl...</td>\n",
       "    </tr>\n",
       "    <tr>\n",
       "      <th>1</th>\n",
       "      <td>0</td>\n",
       "      <td>733</td>\n",
       "      <td>0_tax_health_care_budget</td>\n",
       "      <td>[tax, health, care, budget, year, federal, def...</td>\n",
       "      <td>[On the critical issue of health care, our goa...</td>\n",
       "    </tr>\n",
       "    <tr>\n",
       "      <th>2</th>\n",
       "      <td>1</td>\n",
       "      <td>567</td>\n",
       "      <td>1_america_world_nation_americans</td>\n",
       "      <td>[america, world, nation, americans, freedom, a...</td>\n",
       "      <td>[This is a moral issue. The lawless state of o...</td>\n",
       "    </tr>\n",
       "    <tr>\n",
       "      <th>3</th>\n",
       "      <td>2</td>\n",
       "      <td>302</td>\n",
       "      <td>2_jobs_trade_new_american</td>\n",
       "      <td>[jobs, trade, new, american, america, economy,...</td>\n",
       "      <td>[Standing as we are on the edge of a new centu...</td>\n",
       "    </tr>\n",
       "    <tr>\n",
       "      <th>4</th>\n",
       "      <td>3</td>\n",
       "      <td>273</td>\n",
       "      <td>3_schools_education_school_college</td>\n",
       "      <td>[schools, education, school, college, children...</td>\n",
       "      <td>[Eighth, we must make the 13th and 14th years ...</td>\n",
       "    </tr>\n",
       "    <tr>\n",
       "      <th>5</th>\n",
       "      <td>4</td>\n",
       "      <td>220</td>\n",
       "      <td>4_nuclear_soviet_defense_weapons</td>\n",
       "      <td>[nuclear, soviet, defense, weapons, security, ...</td>\n",
       "      <td>[Ten years ago, the United States and the Sovi...</td>\n",
       "    </tr>\n",
       "    <tr>\n",
       "      <th>6</th>\n",
       "      <td>5</td>\n",
       "      <td>155</td>\n",
       "      <td>5_iraq_al_afghanistan_iraqi</td>\n",
       "      <td>[iraq, al, afghanistan, iraqi, qaida, terroris...</td>\n",
       "      <td>[In Iraq, the terrorists and extremists are fi...</td>\n",
       "    </tr>\n",
       "    <tr>\n",
       "      <th>7</th>\n",
       "      <td>6</td>\n",
       "      <td>131</td>\n",
       "      <td>6_laughter_citizens_house_lady</td>\n",
       "      <td>[laughter, citizens, house, lady, honored, ame...</td>\n",
       "      <td>[Now, there's a new face at this place of hono...</td>\n",
       "    </tr>\n",
       "    <tr>\n",
       "      <th>8</th>\n",
       "      <td>7</td>\n",
       "      <td>113</td>\n",
       "      <td>7_energy_oil_clean_gas</td>\n",
       "      <td>[energy, oil, clean, gas, climate, natural, ne...</td>\n",
       "      <td>[Today, no area holds more promise than our in...</td>\n",
       "    </tr>\n",
       "    <tr>\n",
       "      <th>9</th>\n",
       "      <td>8</td>\n",
       "      <td>107</td>\n",
       "      <td>8_crime_gun_police_drugs</td>\n",
       "      <td>[crime, gun, police, drugs, drug, violent, cri...</td>\n",
       "      <td>[To prepare America for the 21st century, we m...</td>\n",
       "    </tr>\n",
       "    <tr>\n",
       "      <th>10</th>\n",
       "      <td>9</td>\n",
       "      <td>58</td>\n",
       "      <td>9_inflation_banks_financial_afford</td>\n",
       "      <td>[inflation, banks, financial, afford, responsi...</td>\n",
       "      <td>[The third element in our program is a renewed...</td>\n",
       "    </tr>\n",
       "    <tr>\n",
       "      <th>11</th>\n",
       "      <td>10</td>\n",
       "      <td>56</td>\n",
       "      <td>10_daughter_ryan_joining_born</td>\n",
       "      <td>[daughter, ryan, joining, born, cory, gallery,...</td>\n",
       "      <td>[In that moment, Ryan said he felt God speak t...</td>\n",
       "    </tr>\n",
       "    <tr>\n",
       "      <th>12</th>\n",
       "      <td>11</td>\n",
       "      <td>55</td>\n",
       "      <td>11_usa_hr_wall_joe</td>\n",
       "      <td>[usa, hr, wall, joe, anymore, fix, build, yes,...</td>\n",
       "      <td>[Audience members. Joe! Joe! Joe!, Audience me...</td>\n",
       "    </tr>\n",
       "    <tr>\n",
       "      <th>13</th>\n",
       "      <td>12</td>\n",
       "      <td>52</td>\n",
       "      <td>12_bless_god_america_united</td>\n",
       "      <td>[bless, god, america, united, states, troops, ...</td>\n",
       "      <td>[God bless you, and God bless America.\\n, Than...</td>\n",
       "    </tr>\n",
       "    <tr>\n",
       "      <th>14</th>\n",
       "      <td>13</td>\n",
       "      <td>32</td>\n",
       "      <td>13_veterans_uniform_va_men</td>\n",
       "      <td>[veterans, uniform, va, men, women, nation, mi...</td>\n",
       "      <td>[And as a new generation of veterans comes hom...</td>\n",
       "    </tr>\n",
       "    <tr>\n",
       "      <th>15</th>\n",
       "      <td>14</td>\n",
       "      <td>22</td>\n",
       "      <td>14_putin_ukraine_ukrainian_putins</td>\n",
       "      <td>[putin, ukraine, ukrainian, putins, world, eur...</td>\n",
       "      <td>[But let me be clear: Our Forces are not engag...</td>\n",
       "    </tr>\n",
       "    <tr>\n",
       "      <th>16</th>\n",
       "      <td>15</td>\n",
       "      <td>19</td>\n",
       "      <td>15_wade_roe_abortion_unborn</td>\n",
       "      <td>[wade, roe, abortion, unborn, right, legislati...</td>\n",
       "      <td>[The question of abortion grips our nation. Ab...</td>\n",
       "    </tr>\n",
       "    <tr>\n",
       "      <th>17</th>\n",
       "      <td>16</td>\n",
       "      <td>15</td>\n",
       "      <td>16_wage_minimum_raise_hour</td>\n",
       "      <td>[wage, minimum, raise, hour, working, year, em...</td>\n",
       "      <td>[We know our economy is stronger when we rewar...</td>\n",
       "    </tr>\n",
       "    <tr>\n",
       "      <th>18</th>\n",
       "      <td>17</td>\n",
       "      <td>14</td>\n",
       "      <td>17_point_happy_laughter_seeno</td>\n",
       "      <td>[point, happy, laughter, seeno, sang, conversi...</td>\n",
       "      <td>[[At this point, members of the audience spoke...</td>\n",
       "    </tr>\n",
       "    <tr>\n",
       "      <th>19</th>\n",
       "      <td>18</td>\n",
       "      <td>11</td>\n",
       "      <td>18_court_justice_senate_judges</td>\n",
       "      <td>[court, justice, senate, judges, courts, bench...</td>\n",
       "      <td>[A future of hope and opportunity requires a f...</td>\n",
       "    </tr>\n",
       "  </tbody>\n",
       "</table>\n",
       "</div>"
      ],
      "text/plain": [
       "    Topic  Count                                Name  \\\n",
       "0      -1   1271       -1_america_american_new_world   \n",
       "1       0    733            0_tax_health_care_budget   \n",
       "2       1    567    1_america_world_nation_americans   \n",
       "3       2    302           2_jobs_trade_new_american   \n",
       "4       3    273  3_schools_education_school_college   \n",
       "5       4    220    4_nuclear_soviet_defense_weapons   \n",
       "6       5    155         5_iraq_al_afghanistan_iraqi   \n",
       "7       6    131      6_laughter_citizens_house_lady   \n",
       "8       7    113              7_energy_oil_clean_gas   \n",
       "9       8    107            8_crime_gun_police_drugs   \n",
       "10      9     58  9_inflation_banks_financial_afford   \n",
       "11     10     56       10_daughter_ryan_joining_born   \n",
       "12     11     55                  11_usa_hr_wall_joe   \n",
       "13     12     52         12_bless_god_america_united   \n",
       "14     13     32          13_veterans_uniform_va_men   \n",
       "15     14     22   14_putin_ukraine_ukrainian_putins   \n",
       "16     15     19         15_wade_roe_abortion_unborn   \n",
       "17     16     15          16_wage_minimum_raise_hour   \n",
       "18     17     14       17_point_happy_laughter_seeno   \n",
       "19     18     11      18_court_justice_senate_judges   \n",
       "\n",
       "                                       Representation  \\\n",
       "0   [america, american, new, world, country, jobs,...   \n",
       "1   [tax, health, care, budget, year, federal, def...   \n",
       "2   [america, world, nation, americans, freedom, a...   \n",
       "3   [jobs, trade, new, american, america, economy,...   \n",
       "4   [schools, education, school, college, children...   \n",
       "5   [nuclear, soviet, defense, weapons, security, ...   \n",
       "6   [iraq, al, afghanistan, iraqi, qaida, terroris...   \n",
       "7   [laughter, citizens, house, lady, honored, ame...   \n",
       "8   [energy, oil, clean, gas, climate, natural, ne...   \n",
       "9   [crime, gun, police, drugs, drug, violent, cri...   \n",
       "10  [inflation, banks, financial, afford, responsi...   \n",
       "11  [daughter, ryan, joining, born, cory, gallery,...   \n",
       "12  [usa, hr, wall, joe, anymore, fix, build, yes,...   \n",
       "13  [bless, god, america, united, states, troops, ...   \n",
       "14  [veterans, uniform, va, men, women, nation, mi...   \n",
       "15  [putin, ukraine, ukrainian, putins, world, eur...   \n",
       "16  [wade, roe, abortion, unborn, right, legislati...   \n",
       "17  [wage, minimum, raise, hour, working, year, em...   \n",
       "18  [point, happy, laughter, seeno, sang, conversi...   \n",
       "19  [court, justice, senate, judges, courts, bench...   \n",
       "\n",
       "                                  Representative_Docs  \n",
       "0   [Congress, give these hard-working, responsibl...  \n",
       "1   [On the critical issue of health care, our goa...  \n",
       "2   [This is a moral issue. The lawless state of o...  \n",
       "3   [Standing as we are on the edge of a new centu...  \n",
       "4   [Eighth, we must make the 13th and 14th years ...  \n",
       "5   [Ten years ago, the United States and the Sovi...  \n",
       "6   [In Iraq, the terrorists and extremists are fi...  \n",
       "7   [Now, there's a new face at this place of hono...  \n",
       "8   [Today, no area holds more promise than our in...  \n",
       "9   [To prepare America for the 21st century, we m...  \n",
       "10  [The third element in our program is a renewed...  \n",
       "11  [In that moment, Ryan said he felt God speak t...  \n",
       "12  [Audience members. Joe! Joe! Joe!, Audience me...  \n",
       "13  [God bless you, and God bless America.\\n, Than...  \n",
       "14  [And as a new generation of veterans comes hom...  \n",
       "15  [But let me be clear: Our Forces are not engag...  \n",
       "16  [The question of abortion grips our nation. Ab...  \n",
       "17  [We know our economy is stronger when we rewar...  \n",
       "18  [[At this point, members of the audience spoke...  \n",
       "19  [A future of hope and opportunity requires a f...  "
      ]
     },
     "execution_count": 69,
     "metadata": {},
     "output_type": "execute_result"
    }
   ],
   "source": [
    "model.get_topic_info()"
   ]
  },
  {
   "cell_type": "markdown",
   "id": "47c42861-9672-4425-99b6-ef2259352b13",
   "metadata": {},
   "source": [
    "## Topics over Time\n",
    "We can use `.topics_over_time` to see how many paragraphs were assigned to certain topics in certain years.\n",
    "Try playing around with the `topics=` argument below to compare trends."
   ]
  },
  {
   "cell_type": "code",
   "execution_count": 70,
   "id": "98f267a5-9d17-433a-8c7f-b18e2e0bc6c8",
   "metadata": {},
   "outputs": [
    {
     "data": {
      "application/vnd.plotly.v1+json": {
       "config": {
        "plotlyServerURL": "https://plot.ly"
       },
       "data": [
        {
         "hoverinfo": "text",
         "hovertext": [
          "<b>Topic 3</b><br>Words: village, passionately, fulfillment, attached, liberties",
          "<b>Topic 3</b><br>Words: concentrating, young, 1980s, minority, youth",
          "<b>Topic 3</b><br>Words: aid, total, percent, schools, protested",
          "<b>Topic 3</b><br>Words: programs, discredited, help, volunteer, private",
          "<b>Topic 3</b><br>Words: education, math, science, encourage, schools",
          "<b>Topic 3</b><br>Words: excellence, schools, education, school, begin",
          "<b>Topic 3</b><br>Words: basics, school, goes, groups, giving",
          "<b>Topic 3</b><br>Words: education, 1963, renaissance, yearslast, lobbies",
          "<b>Topic 3</b><br>Words: children, lets, basic, conceived, concepts",
          "<b>Topic 3</b><br>Words: spend, schools, education, teachers, supreme",
          "<b>Topic 3</b><br>Words: education, schools, students, program, teachers",
          "<b>Topic 3</b><br>Words: kids, education, schools, governor, tell",
          "<b>Topic 3</b><br>Words: schools, highly, 2000, education, allow",
          "<b>Topic 3</b><br>Words: education, program, service, learning, school",
          "<b>Topic 3</b><br>Words: school, kids, worldclass, children, teachers",
          "<b>Topic 3</b><br>Words: school, education, college, americorps, children",
          "<b>Topic 3</b><br>Words: challenge, children, schools, parents, college",
          "<b>Topic 3</b><br>Words: school, schools, education, children, college",
          "<b>Topic 3</b><br>Words: college, schools, children, education, school",
          "<b>Topic 3</b><br>Words: schools, school, teachers, children, college",
          "<b>Topic 3</b><br>Words: schools, college, school, help, teachers",
          "<b>Topic 3</b><br>Words: reading, schools, teaching, children, school",
          "<b>Topic 3</b><br>Words: corps, teacher, usa, need, children",
          "<b>Topic 3</b><br>Words: mentors, person, 450, children, recruiting",
          "<b>Topic 3</b><br>Words: schools, children, help, math, students",
          "<b>Topic 3</b><br>Words: young, community, gangs, better, high",
          "<b>Topic 3</b><br>Words: math, direction, children, science, courses",
          "<b>Topic 3</b><br>Words: schools, children, students, local, failing",
          "<b>Topic 3</b><br>Words: schools, children, students, faithbased, help",
          "<b>Topic 3</b><br>Words: education, school, college, high, schools",
          "<b>Topic 3</b><br>Words: college, education, schools, student, school",
          "<b>Topic 3</b><br>Words: schools, education, school, college, students",
          "<b>Topic 3</b><br>Words: students, education, college, teachers, tuition",
          "<b>Topic 3</b><br>Words: education, higher, schools, high, school",
          "<b>Topic 3</b><br>Words: education, college, schools, help, students",
          "<b>Topic 3</b><br>Words: college, want, school, education, high",
          "<b>Topic 3</b><br>Words: student, college, education, job, need",
          "<b>Topic 3</b><br>Words: school, education, magnet, denisha, masters",
          "<b>Topic 3</b><br>Words: newborn, bond, nationwide, include, parent",
          "<b>Topic 3</b><br>Words: janiyah, school, students, education, stephanie",
          "<b>Topic 3</b><br>Words: education, years, century, college, school",
          "<b>Topic 3</b><br>Words: mental, children, frances, hospitalizations, haugen",
          "<b>Topic 3</b><br>Words: best, lets, finish, school, education",
          "<b>Topic 3</b><br>Words: keenan, college, student, school, children"
         ],
         "marker": {
          "color": "#E69F00"
         },
         "mode": "lines",
         "name": "3_schools_education_school_college",
         "type": "scatter",
         "x": [
          1978,
          1980,
          1981,
          1982,
          1983,
          1984,
          1985,
          1986,
          1987,
          1988,
          1989,
          1990,
          1992,
          1993,
          1994,
          1995,
          1996,
          1997,
          1998,
          1999,
          2000,
          2001,
          2002,
          2003,
          2004,
          2005,
          2006,
          2007,
          2008,
          2009,
          2010,
          2011,
          2012,
          2013,
          2014,
          2015,
          2016,
          2017,
          2019,
          2020,
          2021,
          2022,
          2023,
          2024
         ],
         "y": [
          2,
          1,
          1,
          3,
          2,
          5,
          4,
          1,
          2,
          3,
          5,
          11,
          2,
          6,
          4,
          7,
          13,
          22,
          10,
          19,
          13,
          8,
          4,
          1,
          7,
          2,
          3,
          2,
          5,
          9,
          5,
          12,
          11,
          8,
          10,
          8,
          3,
          2,
          1,
          9,
          6,
          2,
          9,
          10
         ]
        },
        {
         "hoverinfo": "text",
         "hovertext": [
          "<b>Topic 4</b><br>Words: nuclear, canal, arms, treaties, security",
          "<b>Topic 4</b><br>Words: salt, soviet, nuclear, agreement, ii",
          "<b>Topic 4</b><br>Words: soviet, nuclear, military, world, nations",
          "<b>Topic 4</b><br>Words: defense, department, military, realistic, program",
          "<b>Topic 4</b><br>Words: soviet, forces, soviets, military, vital",
          "<b>Topic 4</b><br>Words: soviet, arms, reductions, defense, verifiable",
          "<b>Topic 4</b><br>Words: defense, capability, nuclear, soviet, responsibility",
          "<b>Topic 4</b><br>Words: defense, nuclear, arms, verifiable, war",
          "<b>Topic 4</b><br>Words: soviet, defense, geneva, reduces, relationship",
          "<b>Topic 4</b><br>Words: soviet, defense, let, hemisphere, military",
          "<b>Topic 4</b><br>Words: nuclear, agreement, strategic, defense, arms",
          "<b>Topic 4</b><br>Words: defense, nuclear, weapons, review, security",
          "<b>Topic 4</b><br>Words: europe, strategic, soviet, military, defense",
          "<b>Topic 4</b><br>Words: soviet, leadership, germany, desert, missile",
          "<b>Topic 4</b><br>Words: missiles, defense, nuclear, warheads, strategic",
          "<b>Topic 4</b><br>Words: defense, prepared, world, best, global",
          "<b>Topic 4</b><br>Words: nuclear, defense, states, weapons, year",
          "<b>Topic 4</b><br>Words: nuclear, cold, war, military, carry",
          "<b>Topic 4</b><br>Words: nuclear, treaty, cold, weapons, fades",
          "<b>Topic 4</b><br>Words: nato, europe, 50, nuclear, endanger",
          "<b>Topic 4</b><br>Words: nato, senate, nuclear, ask, europe",
          "<b>Topic 4</b><br>Words: nuclear, nations, treaty, continue, increase",
          "<b>Topic 4</b><br>Words: russia, nuclear, weapons, missile, china",
          "<b>Topic 4</b><br>Words: threats, defense, transform, confront, strategy",
          "<b>Topic 4</b><br>Words: security, budget, homeland, weapons, nuclear",
          "<b>Topic 4</b><br>Words: korean, nuclear, regime, north, weapons",
          "<b>Topic 4</b><br>Words: patriot, enforcement, hunting, law, provisions",
          "<b>Topic 4</b><br>Words: terror, syrian, iranian, homeland, weapons",
          "<b>Topic 4</b><br>Words: iran, nuclear, iranian, regime, country",
          "<b>Topic 4</b><br>Words: pursuing, diplomacy, nuclear, terrorists, weapons",
          "<b>Topic 4</b><br>Words: nuclear, iran, terrorists, tehran, 911",
          "<b>Topic 4</b><br>Words: nuclear, weapons, sanctions, whos, united",
          "<b>Topic 4</b><br>Words: insist, sanctions, korea, tighter, shaping",
          "<b>Topic 4</b><br>Words: iran, military, nuclear, leaders, commitmentand",
          "<b>Topic 4</b><br>Words: nuclear, engage, efforts, obligations, recognize",
          "<b>Topic 4</b><br>Words: iran, irans, nuclear, sanctions, negotiations",
          "<b>Topic 4</b><br>Words: cuba, nuclear, iran, alan, privacy",
          "<b>Topic 4</b><br>Words: iran, approach, thats, global, nuclear",
          "<b>Topic 4</b><br>Words: alliance, nato, terrorism, individuals, unbreakable",
          "<b>Topic 4</b><br>Words: nuclear, iran, north, dangerous, detention",
          "<b>Topic 4</b><br>Words: united, nuclear, states, treaty, missile",
          "<b>Topic 4</b><br>Words: iranian, allies, shorttime, force, nuclear",
          "<b>Topic 4</b><br>Words: defense, agency, security, ignore, department",
          "<b>Topic 4</b><br>Words: matters, americaand, 29, dictators, lesson",
          "<b>Topic 4</b><br>Words: welcome, alliance, nato, minister, finland"
         ],
         "marker": {
          "color": "#56B4E9"
         },
         "mode": "lines",
         "name": "4_nuclear_soviet_defense_weapons",
         "type": "scatter",
         "x": [
          1978,
          1979,
          1980,
          1981,
          1982,
          1983,
          1984,
          1985,
          1986,
          1987,
          1988,
          1989,
          1990,
          1991,
          1992,
          1993,
          1994,
          1995,
          1996,
          1997,
          1998,
          1999,
          2000,
          2001,
          2002,
          2003,
          2004,
          2005,
          2006,
          2007,
          2008,
          2010,
          2011,
          2012,
          2013,
          2014,
          2015,
          2016,
          2017,
          2018,
          2019,
          2020,
          2021,
          2022,
          2024
         ],
         "y": [
          14,
          7,
          23,
          3,
          5,
          6,
          4,
          6,
          2,
          5,
          5,
          5,
          3,
          5,
          6,
          1,
          6,
          5,
          3,
          3,
          2,
          7,
          7,
          2,
          11,
          6,
          4,
          2,
          4,
          4,
          5,
          3,
          2,
          4,
          3,
          5,
          4,
          2,
          4,
          4,
          6,
          4,
          5,
          1,
          2
         ]
        }
       ],
       "layout": {
        "height": 450,
        "hoverlabel": {
         "bgcolor": "white",
         "font": {
          "family": "Rockwell",
          "size": 16
         }
        },
        "legend": {
         "title": {
          "text": "<b>Global Topic Representation"
         }
        },
        "template": {
         "data": {
          "bar": [
           {
            "error_x": {
             "color": "rgb(36,36,36)"
            },
            "error_y": {
             "color": "rgb(36,36,36)"
            },
            "marker": {
             "line": {
              "color": "white",
              "width": 0.5
             },
             "pattern": {
              "fillmode": "overlay",
              "size": 10,
              "solidity": 0.2
             }
            },
            "type": "bar"
           }
          ],
          "barpolar": [
           {
            "marker": {
             "line": {
              "color": "white",
              "width": 0.5
             },
             "pattern": {
              "fillmode": "overlay",
              "size": 10,
              "solidity": 0.2
             }
            },
            "type": "barpolar"
           }
          ],
          "carpet": [
           {
            "aaxis": {
             "endlinecolor": "rgb(36,36,36)",
             "gridcolor": "white",
             "linecolor": "white",
             "minorgridcolor": "white",
             "startlinecolor": "rgb(36,36,36)"
            },
            "baxis": {
             "endlinecolor": "rgb(36,36,36)",
             "gridcolor": "white",
             "linecolor": "white",
             "minorgridcolor": "white",
             "startlinecolor": "rgb(36,36,36)"
            },
            "type": "carpet"
           }
          ],
          "choropleth": [
           {
            "colorbar": {
             "outlinewidth": 1,
             "tickcolor": "rgb(36,36,36)",
             "ticks": "outside"
            },
            "type": "choropleth"
           }
          ],
          "contour": [
           {
            "colorbar": {
             "outlinewidth": 1,
             "tickcolor": "rgb(36,36,36)",
             "ticks": "outside"
            },
            "colorscale": [
             [
              0,
              "#440154"
             ],
             [
              0.1111111111111111,
              "#482878"
             ],
             [
              0.2222222222222222,
              "#3e4989"
             ],
             [
              0.3333333333333333,
              "#31688e"
             ],
             [
              0.4444444444444444,
              "#26828e"
             ],
             [
              0.5555555555555556,
              "#1f9e89"
             ],
             [
              0.6666666666666666,
              "#35b779"
             ],
             [
              0.7777777777777778,
              "#6ece58"
             ],
             [
              0.8888888888888888,
              "#b5de2b"
             ],
             [
              1,
              "#fde725"
             ]
            ],
            "type": "contour"
           }
          ],
          "contourcarpet": [
           {
            "colorbar": {
             "outlinewidth": 1,
             "tickcolor": "rgb(36,36,36)",
             "ticks": "outside"
            },
            "type": "contourcarpet"
           }
          ],
          "heatmap": [
           {
            "colorbar": {
             "outlinewidth": 1,
             "tickcolor": "rgb(36,36,36)",
             "ticks": "outside"
            },
            "colorscale": [
             [
              0,
              "#440154"
             ],
             [
              0.1111111111111111,
              "#482878"
             ],
             [
              0.2222222222222222,
              "#3e4989"
             ],
             [
              0.3333333333333333,
              "#31688e"
             ],
             [
              0.4444444444444444,
              "#26828e"
             ],
             [
              0.5555555555555556,
              "#1f9e89"
             ],
             [
              0.6666666666666666,
              "#35b779"
             ],
             [
              0.7777777777777778,
              "#6ece58"
             ],
             [
              0.8888888888888888,
              "#b5de2b"
             ],
             [
              1,
              "#fde725"
             ]
            ],
            "type": "heatmap"
           }
          ],
          "heatmapgl": [
           {
            "colorbar": {
             "outlinewidth": 1,
             "tickcolor": "rgb(36,36,36)",
             "ticks": "outside"
            },
            "colorscale": [
             [
              0,
              "#440154"
             ],
             [
              0.1111111111111111,
              "#482878"
             ],
             [
              0.2222222222222222,
              "#3e4989"
             ],
             [
              0.3333333333333333,
              "#31688e"
             ],
             [
              0.4444444444444444,
              "#26828e"
             ],
             [
              0.5555555555555556,
              "#1f9e89"
             ],
             [
              0.6666666666666666,
              "#35b779"
             ],
             [
              0.7777777777777778,
              "#6ece58"
             ],
             [
              0.8888888888888888,
              "#b5de2b"
             ],
             [
              1,
              "#fde725"
             ]
            ],
            "type": "heatmapgl"
           }
          ],
          "histogram": [
           {
            "marker": {
             "line": {
              "color": "white",
              "width": 0.6
             }
            },
            "type": "histogram"
           }
          ],
          "histogram2d": [
           {
            "colorbar": {
             "outlinewidth": 1,
             "tickcolor": "rgb(36,36,36)",
             "ticks": "outside"
            },
            "colorscale": [
             [
              0,
              "#440154"
             ],
             [
              0.1111111111111111,
              "#482878"
             ],
             [
              0.2222222222222222,
              "#3e4989"
             ],
             [
              0.3333333333333333,
              "#31688e"
             ],
             [
              0.4444444444444444,
              "#26828e"
             ],
             [
              0.5555555555555556,
              "#1f9e89"
             ],
             [
              0.6666666666666666,
              "#35b779"
             ],
             [
              0.7777777777777778,
              "#6ece58"
             ],
             [
              0.8888888888888888,
              "#b5de2b"
             ],
             [
              1,
              "#fde725"
             ]
            ],
            "type": "histogram2d"
           }
          ],
          "histogram2dcontour": [
           {
            "colorbar": {
             "outlinewidth": 1,
             "tickcolor": "rgb(36,36,36)",
             "ticks": "outside"
            },
            "colorscale": [
             [
              0,
              "#440154"
             ],
             [
              0.1111111111111111,
              "#482878"
             ],
             [
              0.2222222222222222,
              "#3e4989"
             ],
             [
              0.3333333333333333,
              "#31688e"
             ],
             [
              0.4444444444444444,
              "#26828e"
             ],
             [
              0.5555555555555556,
              "#1f9e89"
             ],
             [
              0.6666666666666666,
              "#35b779"
             ],
             [
              0.7777777777777778,
              "#6ece58"
             ],
             [
              0.8888888888888888,
              "#b5de2b"
             ],
             [
              1,
              "#fde725"
             ]
            ],
            "type": "histogram2dcontour"
           }
          ],
          "mesh3d": [
           {
            "colorbar": {
             "outlinewidth": 1,
             "tickcolor": "rgb(36,36,36)",
             "ticks": "outside"
            },
            "type": "mesh3d"
           }
          ],
          "parcoords": [
           {
            "line": {
             "colorbar": {
              "outlinewidth": 1,
              "tickcolor": "rgb(36,36,36)",
              "ticks": "outside"
             }
            },
            "type": "parcoords"
           }
          ],
          "pie": [
           {
            "automargin": true,
            "type": "pie"
           }
          ],
          "scatter": [
           {
            "fillpattern": {
             "fillmode": "overlay",
             "size": 10,
             "solidity": 0.2
            },
            "type": "scatter"
           }
          ],
          "scatter3d": [
           {
            "line": {
             "colorbar": {
              "outlinewidth": 1,
              "tickcolor": "rgb(36,36,36)",
              "ticks": "outside"
             }
            },
            "marker": {
             "colorbar": {
              "outlinewidth": 1,
              "tickcolor": "rgb(36,36,36)",
              "ticks": "outside"
             }
            },
            "type": "scatter3d"
           }
          ],
          "scattercarpet": [
           {
            "marker": {
             "colorbar": {
              "outlinewidth": 1,
              "tickcolor": "rgb(36,36,36)",
              "ticks": "outside"
             }
            },
            "type": "scattercarpet"
           }
          ],
          "scattergeo": [
           {
            "marker": {
             "colorbar": {
              "outlinewidth": 1,
              "tickcolor": "rgb(36,36,36)",
              "ticks": "outside"
             }
            },
            "type": "scattergeo"
           }
          ],
          "scattergl": [
           {
            "marker": {
             "colorbar": {
              "outlinewidth": 1,
              "tickcolor": "rgb(36,36,36)",
              "ticks": "outside"
             }
            },
            "type": "scattergl"
           }
          ],
          "scattermapbox": [
           {
            "marker": {
             "colorbar": {
              "outlinewidth": 1,
              "tickcolor": "rgb(36,36,36)",
              "ticks": "outside"
             }
            },
            "type": "scattermapbox"
           }
          ],
          "scatterpolar": [
           {
            "marker": {
             "colorbar": {
              "outlinewidth": 1,
              "tickcolor": "rgb(36,36,36)",
              "ticks": "outside"
             }
            },
            "type": "scatterpolar"
           }
          ],
          "scatterpolargl": [
           {
            "marker": {
             "colorbar": {
              "outlinewidth": 1,
              "tickcolor": "rgb(36,36,36)",
              "ticks": "outside"
             }
            },
            "type": "scatterpolargl"
           }
          ],
          "scatterternary": [
           {
            "marker": {
             "colorbar": {
              "outlinewidth": 1,
              "tickcolor": "rgb(36,36,36)",
              "ticks": "outside"
             }
            },
            "type": "scatterternary"
           }
          ],
          "surface": [
           {
            "colorbar": {
             "outlinewidth": 1,
             "tickcolor": "rgb(36,36,36)",
             "ticks": "outside"
            },
            "colorscale": [
             [
              0,
              "#440154"
             ],
             [
              0.1111111111111111,
              "#482878"
             ],
             [
              0.2222222222222222,
              "#3e4989"
             ],
             [
              0.3333333333333333,
              "#31688e"
             ],
             [
              0.4444444444444444,
              "#26828e"
             ],
             [
              0.5555555555555556,
              "#1f9e89"
             ],
             [
              0.6666666666666666,
              "#35b779"
             ],
             [
              0.7777777777777778,
              "#6ece58"
             ],
             [
              0.8888888888888888,
              "#b5de2b"
             ],
             [
              1,
              "#fde725"
             ]
            ],
            "type": "surface"
           }
          ],
          "table": [
           {
            "cells": {
             "fill": {
              "color": "rgb(237,237,237)"
             },
             "line": {
              "color": "white"
             }
            },
            "header": {
             "fill": {
              "color": "rgb(217,217,217)"
             },
             "line": {
              "color": "white"
             }
            },
            "type": "table"
           }
          ]
         },
         "layout": {
          "annotationdefaults": {
           "arrowhead": 0,
           "arrowwidth": 1
          },
          "autotypenumbers": "strict",
          "coloraxis": {
           "colorbar": {
            "outlinewidth": 1,
            "tickcolor": "rgb(36,36,36)",
            "ticks": "outside"
           }
          },
          "colorscale": {
           "diverging": [
            [
             0,
             "rgb(103,0,31)"
            ],
            [
             0.1,
             "rgb(178,24,43)"
            ],
            [
             0.2,
             "rgb(214,96,77)"
            ],
            [
             0.3,
             "rgb(244,165,130)"
            ],
            [
             0.4,
             "rgb(253,219,199)"
            ],
            [
             0.5,
             "rgb(247,247,247)"
            ],
            [
             0.6,
             "rgb(209,229,240)"
            ],
            [
             0.7,
             "rgb(146,197,222)"
            ],
            [
             0.8,
             "rgb(67,147,195)"
            ],
            [
             0.9,
             "rgb(33,102,172)"
            ],
            [
             1,
             "rgb(5,48,97)"
            ]
           ],
           "sequential": [
            [
             0,
             "#440154"
            ],
            [
             0.1111111111111111,
             "#482878"
            ],
            [
             0.2222222222222222,
             "#3e4989"
            ],
            [
             0.3333333333333333,
             "#31688e"
            ],
            [
             0.4444444444444444,
             "#26828e"
            ],
            [
             0.5555555555555556,
             "#1f9e89"
            ],
            [
             0.6666666666666666,
             "#35b779"
            ],
            [
             0.7777777777777778,
             "#6ece58"
            ],
            [
             0.8888888888888888,
             "#b5de2b"
            ],
            [
             1,
             "#fde725"
            ]
           ],
           "sequentialminus": [
            [
             0,
             "#440154"
            ],
            [
             0.1111111111111111,
             "#482878"
            ],
            [
             0.2222222222222222,
             "#3e4989"
            ],
            [
             0.3333333333333333,
             "#31688e"
            ],
            [
             0.4444444444444444,
             "#26828e"
            ],
            [
             0.5555555555555556,
             "#1f9e89"
            ],
            [
             0.6666666666666666,
             "#35b779"
            ],
            [
             0.7777777777777778,
             "#6ece58"
            ],
            [
             0.8888888888888888,
             "#b5de2b"
            ],
            [
             1,
             "#fde725"
            ]
           ]
          },
          "colorway": [
           "#1F77B4",
           "#FF7F0E",
           "#2CA02C",
           "#D62728",
           "#9467BD",
           "#8C564B",
           "#E377C2",
           "#7F7F7F",
           "#BCBD22",
           "#17BECF"
          ],
          "font": {
           "color": "rgb(36,36,36)"
          },
          "geo": {
           "bgcolor": "white",
           "lakecolor": "white",
           "landcolor": "white",
           "showlakes": true,
           "showland": true,
           "subunitcolor": "white"
          },
          "hoverlabel": {
           "align": "left"
          },
          "hovermode": "closest",
          "mapbox": {
           "style": "light"
          },
          "paper_bgcolor": "white",
          "plot_bgcolor": "white",
          "polar": {
           "angularaxis": {
            "gridcolor": "rgb(232,232,232)",
            "linecolor": "rgb(36,36,36)",
            "showgrid": false,
            "showline": true,
            "ticks": "outside"
           },
           "bgcolor": "white",
           "radialaxis": {
            "gridcolor": "rgb(232,232,232)",
            "linecolor": "rgb(36,36,36)",
            "showgrid": false,
            "showline": true,
            "ticks": "outside"
           }
          },
          "scene": {
           "xaxis": {
            "backgroundcolor": "white",
            "gridcolor": "rgb(232,232,232)",
            "gridwidth": 2,
            "linecolor": "rgb(36,36,36)",
            "showbackground": true,
            "showgrid": false,
            "showline": true,
            "ticks": "outside",
            "zeroline": false,
            "zerolinecolor": "rgb(36,36,36)"
           },
           "yaxis": {
            "backgroundcolor": "white",
            "gridcolor": "rgb(232,232,232)",
            "gridwidth": 2,
            "linecolor": "rgb(36,36,36)",
            "showbackground": true,
            "showgrid": false,
            "showline": true,
            "ticks": "outside",
            "zeroline": false,
            "zerolinecolor": "rgb(36,36,36)"
           },
           "zaxis": {
            "backgroundcolor": "white",
            "gridcolor": "rgb(232,232,232)",
            "gridwidth": 2,
            "linecolor": "rgb(36,36,36)",
            "showbackground": true,
            "showgrid": false,
            "showline": true,
            "ticks": "outside",
            "zeroline": false,
            "zerolinecolor": "rgb(36,36,36)"
           }
          },
          "shapedefaults": {
           "fillcolor": "black",
           "line": {
            "width": 0
           },
           "opacity": 0.3
          },
          "ternary": {
           "aaxis": {
            "gridcolor": "rgb(232,232,232)",
            "linecolor": "rgb(36,36,36)",
            "showgrid": false,
            "showline": true,
            "ticks": "outside"
           },
           "baxis": {
            "gridcolor": "rgb(232,232,232)",
            "linecolor": "rgb(36,36,36)",
            "showgrid": false,
            "showline": true,
            "ticks": "outside"
           },
           "bgcolor": "white",
           "caxis": {
            "gridcolor": "rgb(232,232,232)",
            "linecolor": "rgb(36,36,36)",
            "showgrid": false,
            "showline": true,
            "ticks": "outside"
           }
          },
          "title": {
           "x": 0.05
          },
          "xaxis": {
           "automargin": true,
           "gridcolor": "rgb(232,232,232)",
           "linecolor": "rgb(36,36,36)",
           "showgrid": false,
           "showline": true,
           "ticks": "outside",
           "title": {
            "standoff": 15
           },
           "zeroline": false,
           "zerolinecolor": "rgb(36,36,36)"
          },
          "yaxis": {
           "automargin": true,
           "gridcolor": "rgb(232,232,232)",
           "linecolor": "rgb(36,36,36)",
           "showgrid": false,
           "showline": true,
           "ticks": "outside",
           "title": {
            "standoff": 15
           },
           "zeroline": false,
           "zerolinecolor": "rgb(36,36,36)"
          }
         }
        },
        "title": {
         "font": {
          "color": "Black",
          "size": 22
         },
         "text": "<b>Topics over Time</b>",
         "x": 0.4,
         "xanchor": "center",
         "y": 0.95,
         "yanchor": "top"
        },
        "width": 1250,
        "xaxis": {
         "showgrid": true
        },
        "yaxis": {
         "showgrid": true,
         "title": {
          "text": "Frequency"
         }
        }
       }
      }
     },
     "metadata": {},
     "output_type": "display_data"
    }
   ],
   "source": [
    "topics_over_time = model.topics_over_time(paragraphs, paragraph_years)\n",
    "model.visualize_topics_over_time(topics_over_time, topics=[3,4])"
   ]
  },
  {
   "cell_type": "code",
   "execution_count": 71,
   "id": "2d3f7b2c-2624-4f46-9f60-bb428effae48",
   "metadata": {},
   "outputs": [
    {
     "data": {
      "text/plain": [
       "['Modernizing our roads and bridges, ports and airports, public transit systems; removing poisonous lead pipes so every child can drink clean water without risk of brain damage; providing affordable—affordable—high-speed internet for every American, no matter where you live—urban, suburban, or rural communities in red States and blue States; record investments in Tribal communities.',\n",
       " \"We're also making history by confronting the climate crisis, not denying it. I don't think any of you think there's no longer a climate crisis. At least, I hope you don't. [Laughter] I'm taking the most significant action ever on climate in the history of the world.\",\n",
       " \"I'm cutting our carbon emissions in half by 2030, creating tens of thousands of clean energy jobs, like the IBEW workers building and installing 500,000 electric vehicle charging stations; conserving 30 percent of America's lands and waters by 2030; and taking action on environmental justice—fenceline communities smothered by the legacy of pollution.\"]"
      ]
     },
     "execution_count": 71,
     "metadata": {},
     "output_type": "execute_result"
    }
   ],
   "source": [
    "# Find the paragraphs associated with a certain topic and year\n",
    "def get_topic_paragraphs_for_year(target_topic_number, target_year):\n",
    "    results = []\n",
    "    for topic_number, year, paragraph in zip(topics, paragraph_years, paragraphs):\n",
    "        if topic_number == target_topic_number and year == target_year:\n",
    "            results.append(paragraph)\n",
    "    return results\n",
    "\n",
    "get_topic_paragraphs_for_year(7, 2024)"
   ]
  },
  {
   "cell_type": "markdown",
   "id": "163a0c3b",
   "metadata": {},
   "source": [
    "---"
   ]
  },
  {
   "cell_type": "markdown",
   "id": "5f9875bd-3831-4e9c-adca-849ec7120250",
   "metadata": {},
   "source": [
    "## Problem 1: Topics\n",
    "For this problem and others, feel free to write additional code to support your answers. Refer to the [BERTopic](https://maartengr.github.io/BERTopic/index.html) documentation if you want to look for additional functionality."
   ]
  },
  {
   "cell_type": "markdown",
   "id": "c13e8633-d729-4c1f-a60f-2c16dcdf5b3f",
   "metadata": {},
   "source": [
    "1a. How coherent do the generated topics seem to you? For example, based on what you'd expect from the representative words, do the paragraphs labeled for that topic actually seem to line up with the topic as you understand it? Please answer in this cell with a paragraph or two. Feel free to support your write-up with additional code."
   ]
  },
  {
   "cell_type": "code",
   "execution_count": 72,
   "id": "2a17c715",
   "metadata": {},
   "outputs": [
    {
     "name": "stdout",
     "output_type": "stream",
     "text": [
      "Topic 0: '0_tax_health_budget_care'\n",
      "Top Words: ['tax', 'health', 'care', 'budget', 'year', 'federal', 'deficit', 'social', 'insurance', 'americans']\n",
      "Example Paragraphs for Topic 0:\n",
      "Paragraph 1: I will announce detailed proposals for improving our tax system later this week. We can make our tax laws fairer, we can make them simpler and easier to understand, and at the same time, we can-and we will—reduce the tax burden on American citizens by $25 billion.\n",
      "Paragraph 2: The tax reforms and the tax reductions go together. Only with the long overdue reforms will the full tax cut be advisable.\n",
      "Paragraph 3: Almost $17 billion in income tax cuts will go to individuals. Ninety-six percent of all American taxpayers will see their taxes go down. For a typical family of four, this means an annual saving of more than $250 a year, or a tax reduction of about 20 percent. A further $2 billion cut in excise taxes will give more relief and also contribute directly to lowering the rate of inflation.\n",
      "\n",
      "==================================================\n",
      "\n",
      "Topic 1: '1_america_nation_world_freedom'\n",
      "Top Words: ['america', 'world', 'nation', 'americans', 'freedom', 'american', 'new', 'immigration', 'state', 'time']\n",
      "Example Paragraphs for Topic 1:\n",
      "Paragraph 1: Militarily, politically, economically, and in spirit, the state of our Union is sound.\n",
      "Paragraph 2: We are a great country, a strong country, a vital and a dynamic country—and so we will remain.\n",
      "Paragraph 3: We are a confident people and a hardworking people, a decent and a compassionate people—and so we will remain.\n",
      "\n",
      "==================================================\n",
      "\n",
      "Topic 2: '2_education_schools_children_school'\n",
      "Top Words: ['jobs', 'trade', 'new', 'american', 'america', 'economy', 'world', 'years', 'markets', 'china']\n",
      "Example Paragraphs for Topic 2:\n",
      "Paragraph 1: Last year was a good one for the United States. We reached all of our major economic goals for 1977. Four million new jobs were created—an all time record and the number of unemployed dropped by more than a million. Unemployment right now is the lowest it has been since 1974, and not since World War II has such a high percentage of American people been employed.\n",
      "Paragraph 2: The rate of inflation went down. There was a good growth in business profits and investments, the source of more jobs for our workers, and a higher standard of living for all our people. After taxes and inflation, there was a healthy increase in workers' wages.\n",
      "Paragraph 3: And this year, our country will have the first $2 trillion economy in the history of the world.\n",
      "\n",
      "==================================================\n",
      "\n",
      "Topic 3: '3_energy_jobs_new_clean'\n",
      "Top Words: ['schools', 'education', 'school', 'college', 'children', 'students', 'teachers', 'high', 'help', 'parents']\n",
      "Example Paragraphs for Topic 3:\n",
      "Paragraph 1: One was in a little village in India, where I met a people as passionately attached to their rights and liberties as we are, but whose children have a far smaller chance for good health or food or education or human fulfillment than a child born in this country.\n",
      "Paragraph 2: Reconciliation of private needs and interests into a higher purpose.\n",
      "Paragraph 3: Fourth, we will continue our progress in providing jobs for America, concentrating on a major new program to provide training and work for our young people, especially minority youth. It has been said that \"a mind is a terrible thing to waste.\" We will give our young people new hope for jobs and a better life in the 1980's.\n",
      "\n",
      "==================================================\n",
      "\n",
      "Topic 4: '4_nuclear_iraq_soviet_war'\n",
      "Top Words: ['nuclear', 'soviet', 'defense', 'weapons', 'security', 'military', 'world', 'iran', 'arms', 'war']\n",
      "Example Paragraphs for Topic 4:\n",
      "Paragraph 1: That is what Harry Truman did in the years after the Second World War, when we helped Europe and Japan rebuild themselves and secured an international order that has protected freedom from aggression.\n",
      "Paragraph 2: The first and prime concern is and will remain the security of our country.\n",
      "Paragraph 3: Security is based on our national will, and security is based on the strength of our Armed Forces. We have the will, and militarily we are very strong.\n",
      "\n",
      "==================================================\n",
      "\n",
      "Topic 5: '5_veterans_men_honor_americans'\n",
      "Top Words: ['iraq', 'al', 'afghanistan', 'iraqi', 'qaida', 'terrorists', 'troops', 'israel', 'saddam', 'forces']\n",
      "Example Paragraphs for Topic 5:\n",
      "Paragraph 1: In the Middle East, we are contributing our good offices to maintain the momentum of the current negotiations and to keep open the lines of communication among the Middle Eastern leaders. The whole world has a great stake in the success of these efforts. This is a precious opportunity for a historic settlement of a longstanding conflict—an opportunity which may never come again in our lifetime.\n",
      "Paragraph 2: I'm grateful that in the past year, as in the year before, no American has died in combat anywhere in the world. And in Iran, Nicaragua, Cyprus, Namibia, and Rhodesia, our country is working for peaceful solutions to dangerous conflicts.\n",
      "Paragraph 3: In the Middle East, under the most difficult circumstances, we have sought to help ancient enemies lay aside deep-seated differences that have produced four bitter wars in our lifetime.\n",
      "\n",
      "==================================================\n",
      "\n",
      "Topic 6: '6_crime_gun_police_guns'\n",
      "Top Words: ['laughter', 'citizens', 'house', 'lady', 'honored', 'americans', 'want', 'cheney', 'good', 'senate']\n",
      "Example Paragraphs for Topic 6:\n",
      "Paragraph 1: Mr. President, Mr. Speaker, Members of the 95th Congress, ladies and gentlemen:\n",
      "Paragraph 2: Two years ago today we had the first caucus in Iowa, and one year ago tomorrow, I walked from here to the White House to take up the duties of President of the United States. I didn't know it then when I walked, but I've been trying to save energy ever since. [Laughter]\n",
      "Paragraph 3: We come together tonight at a solemn time. Last week the Senate lost a good and honest man—Lee Metcalf of Montana.\n",
      "\n",
      "==================================================\n",
      "\n",
      "Topic 7: '7_trade_china_markets_new'\n",
      "Top Words: ['energy', 'oil', 'clean', 'gas', 'climate', 'natural', 'new', 'environment', 'coal', 'regulations']\n",
      "Example Paragraphs for Topic 7:\n",
      "Paragraph 1: Every day we spend more than $120 million for foreign oil. This slows our economic growth, it lowers the value of the dollar overseas, and it aggravates unemployment and inflation here at home.\n",
      "Paragraph 2: Now we know what we must do—increase production. We must cut down on waste. And we must use more of those fuels which are plentiful and more permanent. We must be fair to people, and we must not disrupt our Nation's economy and our budget.\n",
      "Paragraph 3: Now, that sounds simple. But I recognize the difficulties involved. I know that it is not easy for the Congress to act. But the fact remains that on the energy legislation, we have failed the American people. Almost 5 years after the oil embargo dramatized the problem for us all, we still do not have a national energy program. Not much longer can we tolerate this stalemate. It undermines our national interest both at home and abroad. We must succeed, and I believe we will.\n",
      "\n",
      "==================================================\n",
      "\n",
      "Topic 8: '8_usa_hr_wall_joe'\n",
      "Top Words: ['crime', 'gun', 'police', 'drugs', 'drug', 'violent', 'criminals', 'guns', 'law', 'officers']\n",
      "Example Paragraphs for Topic 8:\n",
      "Paragraph 1: So, too, the problem of crime—one as real and deadly serious as any in America today. It demands that we seek transformation of our legal system, which overly protects the rights of criminals while it leaves society and the innocent victims of crime without justice.\n",
      "Paragraph 2: The time has also come for major reform of our criminal justice statutes and acceleration of the drive against organized crime and drug trafficking. It's high time that we make our cities safe again. This administration hereby declares an all-out war on big-time organized crime and the drug racketeers who are poisoning our young people. We will also implement recommendations of our Task Force on Victims of Crime, which will report to me this week.\n",
      "Paragraph 3: Already our efforts to crack down on career criminals, organized crime, drugpushers, and to enforce tougher sentences and paroles are having effect. In 1982 the crime rate dropped by 4.3 percent, the biggest decline since 1972. Protecting victims is just as important as safeguarding the rights of defendants.\n",
      "\n",
      "==================================================\n",
      "\n",
      "Topic 9: '9_inflation_banks_financial_responsible'\n",
      "Top Words: ['inflation', 'banks', 'financial', 'afford', 'responsible', 'money', 'economy', 'credit', 'buy', 'lending']\n",
      "Example Paragraphs for Topic 9:\n",
      "Paragraph 1: Third, we must lower the rate of inflation and keep it down. Inflation slows down economic growth, and it's the most cruel to the poor and also to the elderly and others who live on fixed incomes.\n",
      "Paragraph 2: The third element in our program is a renewed attack on inflation. We've learned the hard way that high unemployment will not prevent or cure inflation. Government can help us by stimulating private investment and by maintaining a responsible economic policy. Through a new top-level review process, we will do a better job of reducing Government regulation that drives up costs and drives up prices.\n",
      "Paragraph 3: But again, Government alone cannot bring down the rate of inflation. When a level of high inflation is expected to continue, then companies raise prices to protect their profit margins against prospective increases in wages and other costs, while workers demand higher wages as protection against expected price increases. It's like an escalation in the arms race, and understandably, no one wants to disarm alone.\n",
      "\n",
      "==================================================\n",
      "\n",
      "Topic 10: '10_women_equal_act_abortion'\n",
      "Top Words: ['daughter', 'ryan', 'joining', 'born', 'cory', 'gallery', 'ellie', 'life', 'son', 'grace']\n",
      "Example Paragraphs for Topic 10:\n",
      "Paragraph 1: Ten years ago a young girl left Vietnam with her family, part of the exodus that followed the fall of Saigon. They came to the United States with no possessions and not knowing a word of English. Ten years ago—the young girl studied hard, learned English, and finished high school in the top of her class. And this May, May 22d to be exact, is a big date on her calendar. Just 10 years from the time she left Vietnam, she will graduate from the United States Military Academy at West Point. I thought you might like to meet an American hero named Jean Nguyen.\n",
      "Paragraph 2: Now, there's someone else here tonight, born 79 years ago. She lives in the inner city, where she cares for infants born of mothers who are heroin addicts. The children, born in withdrawal, are sometimes even dropped on her doorstep. She helps them with love. Go to her house some night, and maybe you'll see her silhouette against the window as she walks the floor talking softly, soothing a child in her arms-Mother Hale of Harlem, and she, too, is an American hero.\n",
      "Paragraph 3: The last person I want to introduce is Jack Lucas from Hattiesburg, Mississippi. Jack, would you stand up? Fifty years ago, in the sands of Iwo Jima, Jack Lucas taught and learned the lessons of citizenship. On February 20th, 1945, he and three of his buddies encountered the enemy and two grenades at their feet. Jack Lucas threw himself on both of them. In that moment, he saved the lives of his companions, and miraculously in the next instant, a medic saved his life. He gained a foothold for freedom, and at the age of 17, just a year older than his grandson who is up there with him today— and his son, who is a West Point graduate and a veteran—at 17, Jack Lucas became the youngest Marine in history and the youngest soldier in this century to win the Congressional Medal of Honor. All these years later, yesterday, here's what he said about that day: \"It didn't matter where you were from or who you were, you relied on one another. You did it for your country.\"\n",
      "\n",
      "==================================================\n",
      "\n",
      "Topic 11: '11_bless_god_america_united'\n",
      "Top Words: ['usa', 'hr', 'wall', 'joe', 'anymore', 'fix', 'build', 'yes', 'border', 'whoa']\n",
      "Example Paragraphs for Topic 11:\n",
      "Paragraph 1: Audience members. U.S.A.! U.S.A.! U.S.A.!\n",
      "Paragraph 2: Audience members. U.S.A.! U.S.A.! U.S.A.!\n",
      "Paragraph 3: Audience members. U.S.A.! U.S.A.! U.S.A.!\n",
      "\n",
      "==================================================\n",
      "\n",
      "Topic 12: '12_thats_laughter_dont_stop'\n",
      "Top Words: ['bless', 'god', 'america', 'united', 'states', 'troops', 'evening', 'night', 'good', 'protect']\n",
      "Example Paragraphs for Topic 12:\n",
      "Paragraph 1: Thank you very much.\n",
      "\n",
      "Paragraph 2: Thank you very much.\n",
      "\n",
      "Paragraph 3: Thank you very much.\n",
      "\n",
      "\n",
      "==================================================\n",
      "\n",
      "Topic 13: '13_saddam_hussein_weapons_inspectors'\n",
      "Top Words: ['veterans', 'uniform', 'va', 'men', 'women', 'nation', 'military', 'care', 'support', 'troops']\n",
      "Example Paragraphs for Topic 13:\n",
      "Paragraph 1: Together we've begun to restore that margin of military safety that ensures peace. Our country's uniform is being worn once again with pride.\n",
      "Paragraph 2: The Congress deserves America's thanks for helping us restore pride and credibility to our military. And I hope that you're as proud as I am of the young men and women in uniform who have volunteered to man the ramparts in defense of freedom and whose dedication, valor, and skill increases so much our chance of living in a world at peace.\n",
      "Paragraph 3: To the brave men and women who wear the uniform of the United States of America, thank you. Your calling is a high one: to be the defenders of freedom and the guarantors of liberty. And I want you to know that this nation is grateful for your service.\n",
      "\n",
      "==================================================\n",
      "\n",
      "Topic 14: '14_wage_minimum_raise_hour'\n",
      "Top Words: ['putin', 'ukraine', 'ukrainian', 'putins', 'world', 'europe', 'russia', 'stand', 'nato', 'hell']\n",
      "Example Paragraphs for Topic 14:\n",
      "Paragraph 1: Last year, as we were doing the hard work of imposing sanctions along with our allies, as we were reinforcing our presence with frontline states, Mr. Putin's aggression, it was suggested, was a masterful display of strategy and strength. That's what I heard from some folks. [Laughter] Well, today, it is America that stands strong and united with our allies, while Russia is isolated with its economy in tatters. That's how America leads: not with bluster, but with persistent, steady resolve.\n",
      "Paragraph 2: With regard to Russia, I know it concerns some of you, but I made very clear to Putin that we're not going to seek—excuse me—escalation, but their actions will have consequence if they turn out to be true. And they turned out to be true, so I responded directly and proportionally to Russia's interference in our elections and the cyber attacks on our Government and our business. They did both of these things, and I told them we would respond, and we have.\n",
      "Paragraph 3: Six—[applause]—thank you. Six days ago, Russia's Vladimir Putin sought to shake the very foundations of the free world, thinking he could make it bend to his menacing ways. But he badly miscalculated. He thought he could roll into Ukraine and the world would roll over. Instead, he met with a wall of strength he never anticipated or imagined. He met the Ukrainian people.\n",
      "\n",
      "==================================================\n",
      "\n",
      "Topic 15: '15_media_children_entertainment_parents'\n",
      "Top Words: ['wade', 'roe', 'abortion', 'unborn', 'right', 'legislation', 'life', 'womans', 'ivf', 'baby']\n",
      "Example Paragraphs for Topic 15:\n",
      "Paragraph 1: During our first 3 years, we have joined bipartisan efforts to restore protection of the law to unborn children. Now, I know this issue is very controversial. But unless and until it can be proven that an unborn child is not a living human being, can we justify assuming without proof that it isn't? No one has yet offered such proof; indeed, all the evidence is to the contrary. We should rise above bitterness and reproach, and if Americans could come together in a spirit of understanding and helping, then we could find positive solutions to the tragedy of abortion.\n",
      "Paragraph 2: The question of abortion grips our nation. Abortion is either the taking of a human life or it isn't. And if it is—and medical technology is increasingly showing it is—it must be stopped. It is a terrible irony that while some turn to abortion, so many others who cannot become parents cry out for children to adopt. We have room for these children. We can fill the cradles of those who want a child to love. And tonight I ask you in the Congress to move this year on legislation to protect the unborn.\n",
      "Paragraph 3: Well, now we come to a family issue that we must have the courage to confront. Tonight, I call America—a good nation, a moral people—to charitable but realistic consideration of the terrible cost of abortion on demand. To those who say this violates a woman's right to control of her own body: Can they deny that now medical evidence confirms the unborn child is a living human being entitled to life, liberty, and the pursuit of happiness? Let us unite as a nation and protect the unborn with legislation that would stop all Federal funding for abortion and with a human life amendment making, of course, an exception where the unborn child threatens the life of the mother. Our Judeo-Christian tradition recognizes the right of taking a life in self-defense. But with that one exception, let us look to those others in our land who cry out for children to adopt. I pledge to you tonight I will work to remove barriers to adoption and extend full sharing in family life to millions of Americans so that children who need homes can be welcomed to families who want them and love them.\n",
      "\n",
      "==================================================\n",
      "\n",
      "Topic 16: '16_point_ovation_remarks_congresswomen'\n",
      "Top Words: ['wage', 'minimum', 'raise', 'hour', 'working', 'year', 'employees', '10', 'live', 'wages']\n",
      "Example Paragraphs for Topic 16:\n",
      "Paragraph 1: The goal of building the middle class and shrinking the under class is also why I believe that you should raise the minimum wage. It rewards work. Two and a half million Americans, two and a half million Americans, often women with children, are working out there today for $4.25 an hour. In terms of real buying power, by next year that minimum wage will be at a 40-year low. That's not my idea of how the new economy ought to work.\n",
      "Paragraph 2: Now, I've studied the arguments and the evidence for and against a minimum wage increase. I believe the weight of the evidence is that a modest increase does not cost jobs and may even lure people back into the job market. But the most important thing is, you can't make a living on $4.25 an hour, especially if you have children, even with the working families tax cut we passed last year. In the past, the minimum wage has been a bipartisan issue, and I think it should be again. So I want to challenge you to have honest hearings on this, to get together, to find a way to make the minimum wage a living wage.\n",
      "Paragraph 3: Members of Congress have been here less than a month, but by the end of the week, 28 days into the new year, every Member of Congress will have earned as much in congressional salary as a minimum wage worker makes all year long.\n",
      "\n",
      "==================================================\n",
      "\n",
      "Topic 17: '17_court_justice_senate_judges'\n",
      "Top Words: ['point', 'happy', 'laughter', 'seeno', 'sang', 'conversion', 'laughing', 'remarks', 'theyre', 'laken']\n",
      "Example Paragraphs for Topic 17:\n",
      "Paragraph 1: I have to say that that's very welcome applause. [Laughter]\n",
      "Paragraph 2: I see the Speaker and the Vice President are laughing. They saw what I did in Japan, and they're just happy they're sitting behind me. [Laughter]\n",
      "Paragraph 3: [At this point, audience members responded.]\n",
      "\n",
      "==================================================\n",
      "\n",
      "Topic 18: '18_fees_junk_companies_card'\n",
      "Top Words: ['court', 'justice', 'senate', 'judges', 'courts', 'bench', 'nominees', 'supreme', 'vacancies', 'judicial']\n",
      "Example Paragraphs for Topic 18:\n",
      "Paragraph 1: Now, to make sure there is a full nine member Supreme Court to interpret the law, to protect the rights of all Americans, I urge the Senate to move quickly and decisively in confirming Judge Anthony Kennedy to the highest Court in the land and to also confirm 27 nominees now waiting to fill vacancies in the Federal judiciary.\n",
      "Paragraph 2: Police, prosecutors, and prevention programs, as good as they are, they can't work if our court system doesn't work. Today, there are large numbers of vacancies in our Federal courts. Here is what the Chief Justice of the United States wrote: \"Judicial vacancies cannot remain at such high levels indefinitely without eroding the quality of justice.\" I simply ask the United States Senate to heed this plea and vote on the highly qualified judicial nominees before you, up or down.\n",
      "Paragraph 3: Because courts must always deliver impartial justice, judges have a duty to faithfully interpret the law, not legislate from the bench. As President, I have a constitutional responsibility to nominate men and women who understand the role of courts in our democracy and are well-qualified to serve on the bench, and I have done so. The Constitution also gives the Senate a responsibility: Every judicial nominee deserves an up-or-down vote.\n",
      "\n",
      "==================================================\n",
      "\n",
      "Topic 19: 'Unknown Topic'\n",
      "Top Words: ['No words found']\n",
      "Example Paragraphs for Topic 19:\n",
      "\n",
      "==================================================\n",
      "\n"
     ]
    }
   ],
   "source": [
    "def display_all_topics(num_paragraphs=3): # Output three paragraphs per topic\n",
    "    for topic_number in range(len(topic_info)):\n",
    "        topic_details = get_topic_details(topic_number)\n",
    "        \n",
    "        # Get topic title\n",
    "        topic_title_query = topic_info.loc[topic_info['Topic'] == topic_number, 'Name']\n",
    "        topic_title = topic_title_query.values[0] if not topic_title_query.empty else \"Unknown Topic\"\n",
    "        \n",
    "        print(f\"Topic {topic_number}: '{topic_title}'\")\n",
    "        \n",
    "        # Check if topic_details[0] is iterable\n",
    "        if isinstance(topic_details[0], list):\n",
    "            top_words = [word for word, _ in topic_details[0]]\n",
    "        else:\n",
    "            top_words = [\"No words found\"]\n",
    "        \n",
    "        print(\"Top Words:\", top_words)\n",
    "\n",
    "        # Display example paragraphs\n",
    "        paragraphs_for_topic = topic_details[1]\n",
    "        print(f\"Example Paragraphs for Topic {topic_number}:\")\n",
    "        \n",
    "        for i, paragraph in enumerate(paragraphs_for_topic[:num_paragraphs]):\n",
    "            print(f\"Paragraph {i+1}:\", paragraph)\n",
    "\n",
    "        print(\"\\n\" + \"=\"*50 + \"\\n\")  # Separator for topics\n",
    "\n",
    "# Call the function to display all topics\n",
    "display_all_topics()"
   ]
  },
  {
   "cell_type": "markdown",
   "id": "e87b9b04-0601-400d-a2c3-36122e8a5483",
   "metadata": {},
   "source": [
    "**Response**  \n",
    "\n",
    "The coherence between the topics and the example paragraphs is consistent for most entries. For instance, Topic 0, titled \"0_tax_health_budget_care,\" involves information related to tax reforms, money, policies, etc. showing an accurate relationship between the title and the content.\n",
    "\n",
    "In contrast, some topics exhibit a lack of clarity and depth. Topic 8, \"8_usa_hr_wall_joe,\", for example, is characterized by brief audience interactions and repetitive chants of \"U.S.A.!\" Also, it is unclear who 'joe' or hr-wall was and does not provide substantial information about the topic. Similarly, Topic 11, \"11_bless_god_america_united,\" is limited to expressions of gratitude without exploring themes of unity or patriotism, showin a disconnection between the title and the content. Finally, Topic 13, \"13_saddam_hussein_weapons_inspectors,\" addresses military and geopolitical concerns but could benefit from a more focused narrative on either international security or domestic gun violence topic(s) to enhance clarity.\n"
   ]
  },
  {
   "cell_type": "markdown",
   "id": "19296f1f",
   "metadata": {},
   "source": [
    "---"
   ]
  },
  {
   "cell_type": "markdown",
   "id": "080c091c-a4f6-4464-b1d8-16838f7cf3ea",
   "metadata": {},
   "source": [
    "1b. For **two** topics of your choosing, observe how they trend over time. Given what these topics are _supposed_ to be about, do they trend as you would expect (based on, for example, real-world factors such as the president's party or real-world events occurring around the time of the speech), or do they deviate from your expectations? For example, you might expect a topic related to \"war\" or \"terrorism\" to become very frequent in 2002.\n",
    "\n",
    "Explain with a couple of paragraphs."
   ]
  },
  {
   "cell_type": "code",
   "execution_count": 73,
   "id": "89f0cb77",
   "metadata": {},
   "outputs": [
    {
     "data": {
      "application/vnd.plotly.v1+json": {
       "config": {
        "plotlyServerURL": "https://plot.ly"
       },
       "data": [
        {
         "hoverinfo": "text",
         "hovertext": [
          "<b>Topic 0</b><br>Words: tax, federal, year, cut, budget",
          "<b>Topic 0</b><br>Words: effective, good, deficit, weed, noncontroversial",
          "<b>Topic 0</b><br>Words: balance, reduce, deficit, continue, federal",
          "<b>Topic 0</b><br>Words: tax, billion, programs, federal, program",
          "<b>Topic 0</b><br>Words: programs, federal, tax, government, billion",
          "<b>Topic 0</b><br>Words: spending, tax, deficits, budget, national",
          "<b>Topic 0</b><br>Words: spending, tax, government, taxes, growth",
          "<b>Topic 0</b><br>Words: tax, growth, reduce, government, federal",
          "<b>Topic 0</b><br>Words: tax, budget, federal, waste, meet",
          "<b>Topic 0</b><br>Words: welfare, budget, suggestions, illness, lets",
          "<b>Topic 0</b><br>Words: budget, federal, government, lets, deficits",
          "<b>Topic 0</b><br>Words: budget, priorities, deficit, care, freeze",
          "<b>Topic 0</b><br>Words: sullivan, healthcare, budget, deficit, gross",
          "<b>Topic 0</b><br>Words: programs, federal, budget, washington, spending",
          "<b>Topic 0</b><br>Words: health, tax, help, insurance, federal",
          "<b>Topic 0</b><br>Words: care, health, deficit, tax, plan",
          "<b>Topic 0</b><br>Words: health, care, welfare, insurance, work",
          "<b>Topic 0</b><br>Words: welfare, cut, work, health, care",
          "<b>Topic 0</b><br>Words: working, work, welfare, care, budget",
          "<b>Topic 0</b><br>Words: welfare, budget, health, aids, million",
          "<b>Topic 0</b><br>Words: care, child, tax, year, deficit",
          "<b>Topic 0</b><br>Words: social, security, medicare, surplus, care",
          "<b>Topic 0</b><br>Words: care, tax, children, health, credit",
          "<b>Topic 0</b><br>Words: tax, social, health, care, percent",
          "<b>Topic 0</b><br>Words: tax, security, thought, retirement, health",
          "<b>Topic 0</b><br>Words: aids, care, health, million, tax",
          "<b>Topic 0</b><br>Words: health, seniors, coverage, care, medicare",
          "<b>Topic 0</b><br>Words: social, security, retirement, benefits, health",
          "<b>Topic 0</b><br>Words: tax, health, care, insurance, social",
          "<b>Topic 0</b><br>Words: health, insurance, federal, tax, care",
          "<b>Topic 0</b><br>Words: health, tax, medical, taxes, relief",
          "<b>Topic 0</b><br>Words: health, care, budget, tax, deficit",
          "<b>Topic 0</b><br>Words: insurance, health, care, americans, deficit",
          "<b>Topic 0</b><br>Words: spending, deficit, health, willing, tax",
          "<b>Topic 0</b><br>Words: tax, youre, taxes, right, companies",
          "<b>Topic 0</b><br>Words: tax, deficit, care, cuts, reduction",
          "<b>Topic 0</b><br>Words: tax, health, insurance, help, work",
          "<b>Topic 0</b><br>Words: childcare, families, like, need, tax",
          "<b>Topic 0</b><br>Words: care, job, health, thats, make",
          "<b>Topic 0</b><br>Words: obamacare, health, insurance, americans, tax",
          "<b>Topic 0</b><br>Words: tax, drugs, terminal, generic, lets",
          "<b>Topic 0</b><br>Words: hiv, exact, patients, aids, years",
          "<b>Topic 0</b><br>Words: health, care, million, american, administration",
          "<b>Topic 0</b><br>Words: tax, care, pay, percent, health",
          "<b>Topic 0</b><br>Words: covid19, tax, tests, care, costs",
          "<b>Topic 0</b><br>Words: pay, medicare, tax, seniors, lets",
          "<b>Topic 0</b><br>Words: tax, pay, cut, big, health"
         ],
         "marker": {
          "color": "#E69F00"
         },
         "mode": "lines",
         "name": "0_tax_health_care_budget",
         "type": "scatter",
         "x": [
          1978,
          1979,
          1980,
          1981,
          1982,
          1983,
          1984,
          1985,
          1986,
          1987,
          1988,
          1989,
          1990,
          1991,
          1992,
          1993,
          1994,
          1995,
          1996,
          1997,
          1998,
          1999,
          2000,
          2001,
          2002,
          2003,
          2004,
          2005,
          2006,
          2007,
          2008,
          2009,
          2010,
          2011,
          2012,
          2013,
          2014,
          2015,
          2016,
          2017,
          2018,
          2019,
          2020,
          2021,
          2022,
          2023,
          2024
         ],
         "y": [
          11,
          6,
          1,
          23,
          23,
          15,
          15,
          13,
          8,
          4,
          10,
          11,
          6,
          8,
          14,
          32,
          29,
          24,
          17,
          13,
          21,
          31,
          22,
          27,
          5,
          16,
          12,
          18,
          8,
          6,
          8,
          16,
          17,
          15,
          12,
          11,
          9,
          10,
          6,
          13,
          6,
          6,
          12,
          29,
          27,
          49,
          38
         ]
        },
        {
         "hoverinfo": "text",
         "hovertext": [
          "<b>Topic 1</b><br>Words: spirit, human, common, rights, policy",
          "<b>Topic 1</b><br>Words: world, rights, foundation, peace, equal",
          "<b>Topic 1</b><br>Words: peace, continue, world, rights, state",
          "<b>Topic 1</b><br>Words: americans, state, administration, preserved, rights",
          "<b>Topic 1</b><br>Words: freedom, strength, values, equity, america",
          "<b>Topic 1</b><br>Words: peace, america, faith, come, man",
          "<b>Topic 1</b><br>Words: freedom, great, dreams, revolution, spreading",
          "<b>Topic 1</b><br>Words: america, future, nation, work, dream",
          "<b>Topic 1</b><br>Words: central, nicaraguan, america, sandinistas, tested",
          "<b>Topic 1</b><br>Words: freedom, democratic, sandinistas, revolution, democracy",
          "<b>Topic 1</b><br>Words: america, future, eyes, talked, globe",
          "<b>Topic 1</b><br>Words: world, idea, america, state, american",
          "<b>Topic 1</b><br>Words: world, freedom, struggle, america, know",
          "<b>Topic 1</b><br>Words: reform, pursuit, failed, leader, special",
          "<b>Topic 1</b><br>Words: lobbying, wish, direction, passing, reform",
          "<b>Topic 1</b><br>Words: heritage, finance, influence, interests, world",
          "<b>Topic 1</b><br>Words: aliens, lobbyists, illegal, citizens, stop",
          "<b>Topic 1</b><br>Words: challenges, state, america, immigrants, nation",
          "<b>Topic 1</b><br>Words: america, world, americans, 1000, days",
          "<b>Topic 1</b><br>Words: america, century, 21st, world, new",
          "<b>Topic 1</b><br>Words: century, america, racial, american, 21st",
          "<b>Topic 1</b><br>Words: america, community, nation, americans, new",
          "<b>Topic 1</b><br>Words: tone, courage, judged, accomplish, freedom",
          "<b>Topic 1</b><br>Words: freedoms, free, america, creed, stand",
          "<b>Topic 1</b><br>Words: peace, world, nation, sparing, war",
          "<b>Topic 1</b><br>Words: marriage, temporaryworker, cause, nation, america",
          "<b>Topic 1</b><br>Words: freedom, dream, americans, world, gray",
          "<b>Topic 1</b><br>Words: freedom, world, america, democracies, nation",
          "<b>Topic 1</b><br>Words: border, immigration, country, laws, secure",
          "<b>Topic 1</b><br>Words: liberty, nation, border, seen, trust",
          "<b>Topic 1</b><br>Words: times, know, words, inspiration, tell",
          "<b>Topic 1</b><br>Words: values, nation, america, american, lobbyists",
          "<b>Topic 1</b><br>Words: tucson, know, deserve, apart, nation",
          "<b>Topic 1</b><br>Words: simple, values, immigration, illegal, equal",
          "<b>Topic 1</b><br>Words: expect, reform, stronger, immigration, time",
          "<b>Topic 1</b><br>Words: make, lets, america, women, immigration",
          "<b>Topic 1</b><br>Words: america, thats, politics, better, ive",
          "<b>Topic 1</b><br>Words: thats, america, better, american, change",
          "<b>Topic 1</b><br>Words: immigration, america, american, nations, dreams",
          "<b>Topic 1</b><br>Words: immigration, pillar, america, american, country",
          "<b>Topic 1</b><br>Words: border, illegal, america, immigration, southern",
          "<b>Topic 1</b><br>Words: world, completed, america, border, american",
          "<b>Topic 1</b><br>Words: america, immigration, americans, pass, days",
          "<b>Topic 1</b><br>Words: americans, generation, state, nation, liberty",
          "<b>Topic 1</b><br>Words: nation, act, sake, strong, pass",
          "<b>Topic 1</b><br>Words: border, america, came, im, americans"
         ],
         "marker": {
          "color": "#56B4E9"
         },
         "mode": "lines",
         "name": "1_america_world_nation_americans",
         "type": "scatter",
         "x": [
          1978,
          1979,
          1980,
          1982,
          1983,
          1984,
          1985,
          1986,
          1987,
          1988,
          1989,
          1990,
          1991,
          1992,
          1993,
          1994,
          1995,
          1996,
          1997,
          1998,
          1999,
          2000,
          2001,
          2002,
          2003,
          2004,
          2005,
          2006,
          2007,
          2008,
          2009,
          2010,
          2011,
          2012,
          2013,
          2014,
          2015,
          2016,
          2017,
          2018,
          2019,
          2020,
          2021,
          2022,
          2023,
          2024
         ],
         "y": [
          16,
          17,
          6,
          13,
          9,
          17,
          19,
          6,
          4,
          10,
          8,
          14,
          17,
          3,
          9,
          6,
          12,
          14,
          13,
          13,
          13,
          19,
          6,
          7,
          9,
          10,
          10,
          10,
          6,
          9,
          7,
          21,
          12,
          8,
          11,
          9,
          16,
          15,
          17,
          13,
          24,
          17,
          19,
          10,
          16,
          27
         ]
        }
       ],
       "layout": {
        "height": 450,
        "hoverlabel": {
         "bgcolor": "white",
         "font": {
          "family": "Rockwell",
          "size": 16
         }
        },
        "legend": {
         "title": {
          "text": "<b>Global Topic Representation"
         }
        },
        "template": {
         "data": {
          "bar": [
           {
            "error_x": {
             "color": "rgb(36,36,36)"
            },
            "error_y": {
             "color": "rgb(36,36,36)"
            },
            "marker": {
             "line": {
              "color": "white",
              "width": 0.5
             },
             "pattern": {
              "fillmode": "overlay",
              "size": 10,
              "solidity": 0.2
             }
            },
            "type": "bar"
           }
          ],
          "barpolar": [
           {
            "marker": {
             "line": {
              "color": "white",
              "width": 0.5
             },
             "pattern": {
              "fillmode": "overlay",
              "size": 10,
              "solidity": 0.2
             }
            },
            "type": "barpolar"
           }
          ],
          "carpet": [
           {
            "aaxis": {
             "endlinecolor": "rgb(36,36,36)",
             "gridcolor": "white",
             "linecolor": "white",
             "minorgridcolor": "white",
             "startlinecolor": "rgb(36,36,36)"
            },
            "baxis": {
             "endlinecolor": "rgb(36,36,36)",
             "gridcolor": "white",
             "linecolor": "white",
             "minorgridcolor": "white",
             "startlinecolor": "rgb(36,36,36)"
            },
            "type": "carpet"
           }
          ],
          "choropleth": [
           {
            "colorbar": {
             "outlinewidth": 1,
             "tickcolor": "rgb(36,36,36)",
             "ticks": "outside"
            },
            "type": "choropleth"
           }
          ],
          "contour": [
           {
            "colorbar": {
             "outlinewidth": 1,
             "tickcolor": "rgb(36,36,36)",
             "ticks": "outside"
            },
            "colorscale": [
             [
              0,
              "#440154"
             ],
             [
              0.1111111111111111,
              "#482878"
             ],
             [
              0.2222222222222222,
              "#3e4989"
             ],
             [
              0.3333333333333333,
              "#31688e"
             ],
             [
              0.4444444444444444,
              "#26828e"
             ],
             [
              0.5555555555555556,
              "#1f9e89"
             ],
             [
              0.6666666666666666,
              "#35b779"
             ],
             [
              0.7777777777777778,
              "#6ece58"
             ],
             [
              0.8888888888888888,
              "#b5de2b"
             ],
             [
              1,
              "#fde725"
             ]
            ],
            "type": "contour"
           }
          ],
          "contourcarpet": [
           {
            "colorbar": {
             "outlinewidth": 1,
             "tickcolor": "rgb(36,36,36)",
             "ticks": "outside"
            },
            "type": "contourcarpet"
           }
          ],
          "heatmap": [
           {
            "colorbar": {
             "outlinewidth": 1,
             "tickcolor": "rgb(36,36,36)",
             "ticks": "outside"
            },
            "colorscale": [
             [
              0,
              "#440154"
             ],
             [
              0.1111111111111111,
              "#482878"
             ],
             [
              0.2222222222222222,
              "#3e4989"
             ],
             [
              0.3333333333333333,
              "#31688e"
             ],
             [
              0.4444444444444444,
              "#26828e"
             ],
             [
              0.5555555555555556,
              "#1f9e89"
             ],
             [
              0.6666666666666666,
              "#35b779"
             ],
             [
              0.7777777777777778,
              "#6ece58"
             ],
             [
              0.8888888888888888,
              "#b5de2b"
             ],
             [
              1,
              "#fde725"
             ]
            ],
            "type": "heatmap"
           }
          ],
          "heatmapgl": [
           {
            "colorbar": {
             "outlinewidth": 1,
             "tickcolor": "rgb(36,36,36)",
             "ticks": "outside"
            },
            "colorscale": [
             [
              0,
              "#440154"
             ],
             [
              0.1111111111111111,
              "#482878"
             ],
             [
              0.2222222222222222,
              "#3e4989"
             ],
             [
              0.3333333333333333,
              "#31688e"
             ],
             [
              0.4444444444444444,
              "#26828e"
             ],
             [
              0.5555555555555556,
              "#1f9e89"
             ],
             [
              0.6666666666666666,
              "#35b779"
             ],
             [
              0.7777777777777778,
              "#6ece58"
             ],
             [
              0.8888888888888888,
              "#b5de2b"
             ],
             [
              1,
              "#fde725"
             ]
            ],
            "type": "heatmapgl"
           }
          ],
          "histogram": [
           {
            "marker": {
             "line": {
              "color": "white",
              "width": 0.6
             }
            },
            "type": "histogram"
           }
          ],
          "histogram2d": [
           {
            "colorbar": {
             "outlinewidth": 1,
             "tickcolor": "rgb(36,36,36)",
             "ticks": "outside"
            },
            "colorscale": [
             [
              0,
              "#440154"
             ],
             [
              0.1111111111111111,
              "#482878"
             ],
             [
              0.2222222222222222,
              "#3e4989"
             ],
             [
              0.3333333333333333,
              "#31688e"
             ],
             [
              0.4444444444444444,
              "#26828e"
             ],
             [
              0.5555555555555556,
              "#1f9e89"
             ],
             [
              0.6666666666666666,
              "#35b779"
             ],
             [
              0.7777777777777778,
              "#6ece58"
             ],
             [
              0.8888888888888888,
              "#b5de2b"
             ],
             [
              1,
              "#fde725"
             ]
            ],
            "type": "histogram2d"
           }
          ],
          "histogram2dcontour": [
           {
            "colorbar": {
             "outlinewidth": 1,
             "tickcolor": "rgb(36,36,36)",
             "ticks": "outside"
            },
            "colorscale": [
             [
              0,
              "#440154"
             ],
             [
              0.1111111111111111,
              "#482878"
             ],
             [
              0.2222222222222222,
              "#3e4989"
             ],
             [
              0.3333333333333333,
              "#31688e"
             ],
             [
              0.4444444444444444,
              "#26828e"
             ],
             [
              0.5555555555555556,
              "#1f9e89"
             ],
             [
              0.6666666666666666,
              "#35b779"
             ],
             [
              0.7777777777777778,
              "#6ece58"
             ],
             [
              0.8888888888888888,
              "#b5de2b"
             ],
             [
              1,
              "#fde725"
             ]
            ],
            "type": "histogram2dcontour"
           }
          ],
          "mesh3d": [
           {
            "colorbar": {
             "outlinewidth": 1,
             "tickcolor": "rgb(36,36,36)",
             "ticks": "outside"
            },
            "type": "mesh3d"
           }
          ],
          "parcoords": [
           {
            "line": {
             "colorbar": {
              "outlinewidth": 1,
              "tickcolor": "rgb(36,36,36)",
              "ticks": "outside"
             }
            },
            "type": "parcoords"
           }
          ],
          "pie": [
           {
            "automargin": true,
            "type": "pie"
           }
          ],
          "scatter": [
           {
            "fillpattern": {
             "fillmode": "overlay",
             "size": 10,
             "solidity": 0.2
            },
            "type": "scatter"
           }
          ],
          "scatter3d": [
           {
            "line": {
             "colorbar": {
              "outlinewidth": 1,
              "tickcolor": "rgb(36,36,36)",
              "ticks": "outside"
             }
            },
            "marker": {
             "colorbar": {
              "outlinewidth": 1,
              "tickcolor": "rgb(36,36,36)",
              "ticks": "outside"
             }
            },
            "type": "scatter3d"
           }
          ],
          "scattercarpet": [
           {
            "marker": {
             "colorbar": {
              "outlinewidth": 1,
              "tickcolor": "rgb(36,36,36)",
              "ticks": "outside"
             }
            },
            "type": "scattercarpet"
           }
          ],
          "scattergeo": [
           {
            "marker": {
             "colorbar": {
              "outlinewidth": 1,
              "tickcolor": "rgb(36,36,36)",
              "ticks": "outside"
             }
            },
            "type": "scattergeo"
           }
          ],
          "scattergl": [
           {
            "marker": {
             "colorbar": {
              "outlinewidth": 1,
              "tickcolor": "rgb(36,36,36)",
              "ticks": "outside"
             }
            },
            "type": "scattergl"
           }
          ],
          "scattermapbox": [
           {
            "marker": {
             "colorbar": {
              "outlinewidth": 1,
              "tickcolor": "rgb(36,36,36)",
              "ticks": "outside"
             }
            },
            "type": "scattermapbox"
           }
          ],
          "scatterpolar": [
           {
            "marker": {
             "colorbar": {
              "outlinewidth": 1,
              "tickcolor": "rgb(36,36,36)",
              "ticks": "outside"
             }
            },
            "type": "scatterpolar"
           }
          ],
          "scatterpolargl": [
           {
            "marker": {
             "colorbar": {
              "outlinewidth": 1,
              "tickcolor": "rgb(36,36,36)",
              "ticks": "outside"
             }
            },
            "type": "scatterpolargl"
           }
          ],
          "scatterternary": [
           {
            "marker": {
             "colorbar": {
              "outlinewidth": 1,
              "tickcolor": "rgb(36,36,36)",
              "ticks": "outside"
             }
            },
            "type": "scatterternary"
           }
          ],
          "surface": [
           {
            "colorbar": {
             "outlinewidth": 1,
             "tickcolor": "rgb(36,36,36)",
             "ticks": "outside"
            },
            "colorscale": [
             [
              0,
              "#440154"
             ],
             [
              0.1111111111111111,
              "#482878"
             ],
             [
              0.2222222222222222,
              "#3e4989"
             ],
             [
              0.3333333333333333,
              "#31688e"
             ],
             [
              0.4444444444444444,
              "#26828e"
             ],
             [
              0.5555555555555556,
              "#1f9e89"
             ],
             [
              0.6666666666666666,
              "#35b779"
             ],
             [
              0.7777777777777778,
              "#6ece58"
             ],
             [
              0.8888888888888888,
              "#b5de2b"
             ],
             [
              1,
              "#fde725"
             ]
            ],
            "type": "surface"
           }
          ],
          "table": [
           {
            "cells": {
             "fill": {
              "color": "rgb(237,237,237)"
             },
             "line": {
              "color": "white"
             }
            },
            "header": {
             "fill": {
              "color": "rgb(217,217,217)"
             },
             "line": {
              "color": "white"
             }
            },
            "type": "table"
           }
          ]
         },
         "layout": {
          "annotationdefaults": {
           "arrowhead": 0,
           "arrowwidth": 1
          },
          "autotypenumbers": "strict",
          "coloraxis": {
           "colorbar": {
            "outlinewidth": 1,
            "tickcolor": "rgb(36,36,36)",
            "ticks": "outside"
           }
          },
          "colorscale": {
           "diverging": [
            [
             0,
             "rgb(103,0,31)"
            ],
            [
             0.1,
             "rgb(178,24,43)"
            ],
            [
             0.2,
             "rgb(214,96,77)"
            ],
            [
             0.3,
             "rgb(244,165,130)"
            ],
            [
             0.4,
             "rgb(253,219,199)"
            ],
            [
             0.5,
             "rgb(247,247,247)"
            ],
            [
             0.6,
             "rgb(209,229,240)"
            ],
            [
             0.7,
             "rgb(146,197,222)"
            ],
            [
             0.8,
             "rgb(67,147,195)"
            ],
            [
             0.9,
             "rgb(33,102,172)"
            ],
            [
             1,
             "rgb(5,48,97)"
            ]
           ],
           "sequential": [
            [
             0,
             "#440154"
            ],
            [
             0.1111111111111111,
             "#482878"
            ],
            [
             0.2222222222222222,
             "#3e4989"
            ],
            [
             0.3333333333333333,
             "#31688e"
            ],
            [
             0.4444444444444444,
             "#26828e"
            ],
            [
             0.5555555555555556,
             "#1f9e89"
            ],
            [
             0.6666666666666666,
             "#35b779"
            ],
            [
             0.7777777777777778,
             "#6ece58"
            ],
            [
             0.8888888888888888,
             "#b5de2b"
            ],
            [
             1,
             "#fde725"
            ]
           ],
           "sequentialminus": [
            [
             0,
             "#440154"
            ],
            [
             0.1111111111111111,
             "#482878"
            ],
            [
             0.2222222222222222,
             "#3e4989"
            ],
            [
             0.3333333333333333,
             "#31688e"
            ],
            [
             0.4444444444444444,
             "#26828e"
            ],
            [
             0.5555555555555556,
             "#1f9e89"
            ],
            [
             0.6666666666666666,
             "#35b779"
            ],
            [
             0.7777777777777778,
             "#6ece58"
            ],
            [
             0.8888888888888888,
             "#b5de2b"
            ],
            [
             1,
             "#fde725"
            ]
           ]
          },
          "colorway": [
           "#1F77B4",
           "#FF7F0E",
           "#2CA02C",
           "#D62728",
           "#9467BD",
           "#8C564B",
           "#E377C2",
           "#7F7F7F",
           "#BCBD22",
           "#17BECF"
          ],
          "font": {
           "color": "rgb(36,36,36)"
          },
          "geo": {
           "bgcolor": "white",
           "lakecolor": "white",
           "landcolor": "white",
           "showlakes": true,
           "showland": true,
           "subunitcolor": "white"
          },
          "hoverlabel": {
           "align": "left"
          },
          "hovermode": "closest",
          "mapbox": {
           "style": "light"
          },
          "paper_bgcolor": "white",
          "plot_bgcolor": "white",
          "polar": {
           "angularaxis": {
            "gridcolor": "rgb(232,232,232)",
            "linecolor": "rgb(36,36,36)",
            "showgrid": false,
            "showline": true,
            "ticks": "outside"
           },
           "bgcolor": "white",
           "radialaxis": {
            "gridcolor": "rgb(232,232,232)",
            "linecolor": "rgb(36,36,36)",
            "showgrid": false,
            "showline": true,
            "ticks": "outside"
           }
          },
          "scene": {
           "xaxis": {
            "backgroundcolor": "white",
            "gridcolor": "rgb(232,232,232)",
            "gridwidth": 2,
            "linecolor": "rgb(36,36,36)",
            "showbackground": true,
            "showgrid": false,
            "showline": true,
            "ticks": "outside",
            "zeroline": false,
            "zerolinecolor": "rgb(36,36,36)"
           },
           "yaxis": {
            "backgroundcolor": "white",
            "gridcolor": "rgb(232,232,232)",
            "gridwidth": 2,
            "linecolor": "rgb(36,36,36)",
            "showbackground": true,
            "showgrid": false,
            "showline": true,
            "ticks": "outside",
            "zeroline": false,
            "zerolinecolor": "rgb(36,36,36)"
           },
           "zaxis": {
            "backgroundcolor": "white",
            "gridcolor": "rgb(232,232,232)",
            "gridwidth": 2,
            "linecolor": "rgb(36,36,36)",
            "showbackground": true,
            "showgrid": false,
            "showline": true,
            "ticks": "outside",
            "zeroline": false,
            "zerolinecolor": "rgb(36,36,36)"
           }
          },
          "shapedefaults": {
           "fillcolor": "black",
           "line": {
            "width": 0
           },
           "opacity": 0.3
          },
          "ternary": {
           "aaxis": {
            "gridcolor": "rgb(232,232,232)",
            "linecolor": "rgb(36,36,36)",
            "showgrid": false,
            "showline": true,
            "ticks": "outside"
           },
           "baxis": {
            "gridcolor": "rgb(232,232,232)",
            "linecolor": "rgb(36,36,36)",
            "showgrid": false,
            "showline": true,
            "ticks": "outside"
           },
           "bgcolor": "white",
           "caxis": {
            "gridcolor": "rgb(232,232,232)",
            "linecolor": "rgb(36,36,36)",
            "showgrid": false,
            "showline": true,
            "ticks": "outside"
           }
          },
          "title": {
           "x": 0.05
          },
          "xaxis": {
           "automargin": true,
           "gridcolor": "rgb(232,232,232)",
           "linecolor": "rgb(36,36,36)",
           "showgrid": false,
           "showline": true,
           "ticks": "outside",
           "title": {
            "standoff": 15
           },
           "zeroline": false,
           "zerolinecolor": "rgb(36,36,36)"
          },
          "yaxis": {
           "automargin": true,
           "gridcolor": "rgb(232,232,232)",
           "linecolor": "rgb(36,36,36)",
           "showgrid": false,
           "showline": true,
           "ticks": "outside",
           "title": {
            "standoff": 15
           },
           "zeroline": false,
           "zerolinecolor": "rgb(36,36,36)"
          }
         }
        },
        "title": {
         "font": {
          "color": "Black",
          "size": 22
         },
         "text": "<b>Topics over Time</b>",
         "x": 0.4,
         "xanchor": "center",
         "y": 0.95,
         "yanchor": "top"
        },
        "width": 1250,
        "xaxis": {
         "showgrid": true
        },
        "yaxis": {
         "showgrid": true,
         "title": {
          "text": "Frequency"
         }
        }
       }
      }
     },
     "metadata": {},
     "output_type": "display_data"
    }
   ],
   "source": [
    "topics_over_time = model.topics_over_time(paragraphs, paragraph_years)\n",
    "model.visualize_topics_over_time(topics_over_time, topics=[0,1])"
   ]
  },
  {
   "cell_type": "markdown",
   "id": "471f7b9c-34cf-4ee0-a9a9-ce40e88b6f23",
   "metadata": {},
   "source": [
    "**Response**  \n",
    "\n",
    "Looking at the graph above, I chose two topics: one about taxes, healthcare, and budget, and another about America, the nation, and freedom. The first topic, \"tax, health, budget, care,\" goes up and down over time but spikes in the late 1990s, early 2000s, and again around the 2020s. These rises make sense when we think about what was happening at those times. For example, in the 1990s, there were big discussions around the budget and healthcare, and in the 2000s, George W. Bush focused a lot on tax cuts. The big spike in the 2020s might be related to COVID-19 and all the talk about healthcare and the economy.\n",
    "\n",
    "The second topic, \"America, nation, world, freedom,\" stays somewhat steady but has noticeable jumps, especially after 2001. This is likely due to 9/11 and the War on Terror, where national security and freedom were imporant in the history of the USA. There’s also a rise in the 2010s, which could be linked to discussions about America's global role under Obama and Trump. Overall, these topics seem to describe fairly well what was happening in the real world during these times."
   ]
  },
  {
   "cell_type": "code",
   "execution_count": 74,
   "id": "918af6ed-0d4d-423c-b2f4-bb9b08325d51",
   "metadata": {},
   "outputs": [
    {
     "data": {
      "application/vnd.plotly.v1+json": {
       "config": {
        "plotlyServerURL": "https://plot.ly"
       },
       "data": [
        {
         "hoverinfo": "text",
         "hovertext": [
          "<b>Topic 0</b><br>Words: tax, federal, year, cut, budget",
          "<b>Topic 0</b><br>Words: effective, good, deficit, weed, noncontroversial",
          "<b>Topic 0</b><br>Words: balance, reduce, deficit, continue, federal",
          "<b>Topic 0</b><br>Words: tax, billion, programs, federal, program",
          "<b>Topic 0</b><br>Words: programs, federal, tax, government, billion",
          "<b>Topic 0</b><br>Words: spending, tax, deficits, budget, national",
          "<b>Topic 0</b><br>Words: spending, tax, government, taxes, growth",
          "<b>Topic 0</b><br>Words: tax, growth, reduce, government, federal",
          "<b>Topic 0</b><br>Words: tax, budget, federal, waste, meet",
          "<b>Topic 0</b><br>Words: welfare, budget, suggestions, illness, lets",
          "<b>Topic 0</b><br>Words: budget, federal, government, lets, deficits",
          "<b>Topic 0</b><br>Words: budget, priorities, deficit, care, freeze",
          "<b>Topic 0</b><br>Words: sullivan, healthcare, budget, deficit, gross",
          "<b>Topic 0</b><br>Words: programs, federal, budget, washington, spending",
          "<b>Topic 0</b><br>Words: health, tax, help, insurance, federal",
          "<b>Topic 0</b><br>Words: care, health, deficit, tax, plan",
          "<b>Topic 0</b><br>Words: health, care, welfare, insurance, work",
          "<b>Topic 0</b><br>Words: welfare, cut, work, health, care",
          "<b>Topic 0</b><br>Words: working, work, welfare, care, budget",
          "<b>Topic 0</b><br>Words: welfare, budget, health, aids, million",
          "<b>Topic 0</b><br>Words: care, child, tax, year, deficit",
          "<b>Topic 0</b><br>Words: social, security, medicare, surplus, care",
          "<b>Topic 0</b><br>Words: care, tax, children, health, credit",
          "<b>Topic 0</b><br>Words: tax, social, health, care, percent",
          "<b>Topic 0</b><br>Words: tax, security, thought, retirement, health",
          "<b>Topic 0</b><br>Words: aids, care, health, million, tax",
          "<b>Topic 0</b><br>Words: health, seniors, coverage, care, medicare",
          "<b>Topic 0</b><br>Words: social, security, retirement, benefits, health",
          "<b>Topic 0</b><br>Words: tax, health, care, insurance, social",
          "<b>Topic 0</b><br>Words: health, insurance, federal, tax, care",
          "<b>Topic 0</b><br>Words: health, tax, medical, taxes, relief",
          "<b>Topic 0</b><br>Words: health, care, budget, tax, deficit",
          "<b>Topic 0</b><br>Words: insurance, health, care, americans, deficit",
          "<b>Topic 0</b><br>Words: spending, deficit, health, willing, tax",
          "<b>Topic 0</b><br>Words: tax, youre, taxes, right, companies",
          "<b>Topic 0</b><br>Words: tax, deficit, care, cuts, reduction",
          "<b>Topic 0</b><br>Words: tax, health, insurance, help, work",
          "<b>Topic 0</b><br>Words: childcare, families, like, need, tax",
          "<b>Topic 0</b><br>Words: care, job, health, thats, make",
          "<b>Topic 0</b><br>Words: obamacare, health, insurance, americans, tax",
          "<b>Topic 0</b><br>Words: tax, drugs, terminal, generic, lets",
          "<b>Topic 0</b><br>Words: hiv, exact, patients, aids, years",
          "<b>Topic 0</b><br>Words: health, care, million, american, administration",
          "<b>Topic 0</b><br>Words: tax, care, pay, percent, health",
          "<b>Topic 0</b><br>Words: covid19, tax, tests, care, costs",
          "<b>Topic 0</b><br>Words: pay, medicare, tax, seniors, lets",
          "<b>Topic 0</b><br>Words: tax, pay, cut, big, health"
         ],
         "marker": {
          "color": "#E69F00"
         },
         "mode": "lines",
         "name": "0_tax_health_care_budget",
         "type": "scatter",
         "x": [
          1978,
          1979,
          1980,
          1981,
          1982,
          1983,
          1984,
          1985,
          1986,
          1987,
          1988,
          1989,
          1990,
          1991,
          1992,
          1993,
          1994,
          1995,
          1996,
          1997,
          1998,
          1999,
          2000,
          2001,
          2002,
          2003,
          2004,
          2005,
          2006,
          2007,
          2008,
          2009,
          2010,
          2011,
          2012,
          2013,
          2014,
          2015,
          2016,
          2017,
          2018,
          2019,
          2020,
          2021,
          2022,
          2023,
          2024
         ],
         "y": [
          11,
          6,
          1,
          23,
          23,
          15,
          15,
          13,
          8,
          4,
          10,
          11,
          6,
          8,
          14,
          32,
          29,
          24,
          17,
          13,
          21,
          31,
          22,
          27,
          5,
          16,
          12,
          18,
          8,
          6,
          8,
          16,
          17,
          15,
          12,
          11,
          9,
          10,
          6,
          13,
          6,
          6,
          12,
          29,
          27,
          49,
          38
         ]
        },
        {
         "hoverinfo": "text",
         "hovertext": [
          "<b>Topic 1</b><br>Words: spirit, human, common, rights, policy",
          "<b>Topic 1</b><br>Words: world, rights, foundation, peace, equal",
          "<b>Topic 1</b><br>Words: peace, continue, world, rights, state",
          "<b>Topic 1</b><br>Words: americans, state, administration, preserved, rights",
          "<b>Topic 1</b><br>Words: freedom, strength, values, equity, america",
          "<b>Topic 1</b><br>Words: peace, america, faith, come, man",
          "<b>Topic 1</b><br>Words: freedom, great, dreams, revolution, spreading",
          "<b>Topic 1</b><br>Words: america, future, nation, work, dream",
          "<b>Topic 1</b><br>Words: central, nicaraguan, america, sandinistas, tested",
          "<b>Topic 1</b><br>Words: freedom, democratic, sandinistas, revolution, democracy",
          "<b>Topic 1</b><br>Words: america, future, eyes, talked, globe",
          "<b>Topic 1</b><br>Words: world, idea, america, state, american",
          "<b>Topic 1</b><br>Words: world, freedom, struggle, america, know",
          "<b>Topic 1</b><br>Words: reform, pursuit, failed, leader, special",
          "<b>Topic 1</b><br>Words: lobbying, wish, direction, passing, reform",
          "<b>Topic 1</b><br>Words: heritage, finance, influence, interests, world",
          "<b>Topic 1</b><br>Words: aliens, lobbyists, illegal, citizens, stop",
          "<b>Topic 1</b><br>Words: challenges, state, america, immigrants, nation",
          "<b>Topic 1</b><br>Words: america, world, americans, 1000, days",
          "<b>Topic 1</b><br>Words: america, century, 21st, world, new",
          "<b>Topic 1</b><br>Words: century, america, racial, american, 21st",
          "<b>Topic 1</b><br>Words: america, community, nation, americans, new",
          "<b>Topic 1</b><br>Words: tone, courage, judged, accomplish, freedom",
          "<b>Topic 1</b><br>Words: freedoms, free, america, creed, stand",
          "<b>Topic 1</b><br>Words: peace, world, nation, sparing, war",
          "<b>Topic 1</b><br>Words: marriage, temporaryworker, cause, nation, america",
          "<b>Topic 1</b><br>Words: freedom, dream, americans, world, gray",
          "<b>Topic 1</b><br>Words: freedom, world, america, democracies, nation",
          "<b>Topic 1</b><br>Words: border, immigration, country, laws, secure",
          "<b>Topic 1</b><br>Words: liberty, nation, border, seen, trust",
          "<b>Topic 1</b><br>Words: times, know, words, inspiration, tell",
          "<b>Topic 1</b><br>Words: values, nation, america, american, lobbyists",
          "<b>Topic 1</b><br>Words: tucson, know, deserve, apart, nation",
          "<b>Topic 1</b><br>Words: simple, values, immigration, illegal, equal",
          "<b>Topic 1</b><br>Words: expect, reform, stronger, immigration, time",
          "<b>Topic 1</b><br>Words: make, lets, america, women, immigration",
          "<b>Topic 1</b><br>Words: america, thats, politics, better, ive",
          "<b>Topic 1</b><br>Words: thats, america, better, american, change",
          "<b>Topic 1</b><br>Words: immigration, america, american, nations, dreams",
          "<b>Topic 1</b><br>Words: immigration, pillar, america, american, country",
          "<b>Topic 1</b><br>Words: border, illegal, america, immigration, southern",
          "<b>Topic 1</b><br>Words: world, completed, america, border, american",
          "<b>Topic 1</b><br>Words: america, immigration, americans, pass, days",
          "<b>Topic 1</b><br>Words: americans, generation, state, nation, liberty",
          "<b>Topic 1</b><br>Words: nation, act, sake, strong, pass",
          "<b>Topic 1</b><br>Words: border, america, came, im, americans"
         ],
         "marker": {
          "color": "#56B4E9"
         },
         "mode": "lines",
         "name": "1_america_world_nation_americans",
         "type": "scatter",
         "x": [
          1978,
          1979,
          1980,
          1982,
          1983,
          1984,
          1985,
          1986,
          1987,
          1988,
          1989,
          1990,
          1991,
          1992,
          1993,
          1994,
          1995,
          1996,
          1997,
          1998,
          1999,
          2000,
          2001,
          2002,
          2003,
          2004,
          2005,
          2006,
          2007,
          2008,
          2009,
          2010,
          2011,
          2012,
          2013,
          2014,
          2015,
          2016,
          2017,
          2018,
          2019,
          2020,
          2021,
          2022,
          2023,
          2024
         ],
         "y": [
          16,
          17,
          6,
          13,
          9,
          17,
          19,
          6,
          4,
          10,
          8,
          14,
          17,
          3,
          9,
          6,
          12,
          14,
          13,
          13,
          13,
          19,
          6,
          7,
          9,
          10,
          10,
          10,
          6,
          9,
          7,
          21,
          12,
          8,
          11,
          9,
          16,
          15,
          17,
          13,
          24,
          17,
          19,
          10,
          16,
          27
         ]
        },
        {
         "hoverinfo": "text",
         "hovertext": [
          "<b>Topic 2</b><br>Words: trade, inflation, workers, high, world",
          "<b>Topic 2</b><br>Words: congressional, era, wracked, multilateral, xiaoping",
          "<b>Topic 2</b><br>Words: sphere, normalize, human, friendship, western",
          "<b>Topic 2</b><br>Words: worse, worker, forcefullyand, reordering, procrastinate",
          "<b>Topic 2</b><br>Words: enterprise, recession, unemployment, urban, zones",
          "<b>Topic 2</b><br>Words: trade, jobs, pioneer, export, america",
          "<b>Topic 2</b><br>Words: space, jobs, develop, transportation, enterprise",
          "<b>Topic 2</b><br>Words: space, trade, jobs, research, new",
          "<b>Topic 2</b><br>Words: space, trade, forward, going, earth",
          "<b>Topic 2</b><br>Words: trade, new, americas, world, competitiveness",
          "<b>Topic 2</b><br>Words: trade, free, america, jobs, americas",
          "<b>Topic 2</b><br>Words: space, trip, words, program, rediscover",
          "<b>Topic 2</b><br>Words: trade, jobs, economic, growth, american",
          "<b>Topic 2</b><br>Words: tell, trade, longterm, american, uninspired",
          "<b>Topic 2</b><br>Words: jobs, trade, new, rural, growth",
          "<b>Topic 2</b><br>Words: low, jobs, years, trade, empowerment",
          "<b>Topic 2</b><br>Words: class, harder, middle, doing, economy",
          "<b>Topic 2</b><br>Words: desperately, jobs, helping, healthiest, completedcreated",
          "<b>Topic 2</b><br>Words: china, trade, jobs, create, america",
          "<b>Topic 2</b><br>Words: trade, new, jobs, markets, space",
          "<b>Topic 2</b><br>Words: trade, overseas, world, china, new",
          "<b>Topic 2</b><br>Words: trade, markets, china, ask, new",
          "<b>Topic 2</b><br>Words: road, fork, trade, freedom, ability",
          "<b>Topic 2</b><br>Words: trade, selling, promotion, creates, approve",
          "<b>Topic 2</b><br>Words: economy, skills, growing, highskilled, transforms",
          "<b>Topic 2</b><br>Words: world, initiative, research, competitiveness, american",
          "<b>Topic 2</b><br>Words: low, 41st, uninterrupted, 72, job",
          "<b>Topic 2</b><br>Words: trade, agreement, agreements, jobs, better",
          "<b>Topic 2</b><br>Words: economy, jobs, global, new, recession",
          "<b>Topic 2</b><br>Words: jobs, trade, export, new, like",
          "<b>Topic 2</b><br>Words: jobs, trade, new, internet, american",
          "<b>Topic 2</b><br>Words: jobs, trade, workers, american, new",
          "<b>Topic 2</b><br>Words: jobs, work, trade, america, american",
          "<b>Topic 2</b><br>Words: jobs, create, firstclass, trade, bills",
          "<b>Topic 2</b><br>Words: jobs, new, trade, businesses, fastest",
          "<b>Topic 2</b><br>Words: thats, economy, jobs, workers, new",
          "<b>Topic 2</b><br>Words: trade, jobs, american, new, infrastructure",
          "<b>Topic 2</b><br>Words: american, trade, jobs, want, unemployment",
          "<b>Topic 2</b><br>Words: trade, american, nafta, jobs, infrastructure",
          "<b>Topic 2</b><br>Words: tony, trade, jobs, new, china",
          "<b>Topic 2</b><br>Words: jobs, american, creates, plan, america",
          "<b>Topic 2</b><br>Words: pat, jobs, america, american, investment",
          "<b>Topic 2</b><br>Words: infrastructure, jobs, world, new, created",
          "<b>Topic 2</b><br>Words: jobs, instead, built, auto, american"
         ],
         "marker": {
          "color": "#009E73"
         },
         "mode": "lines",
         "name": "2_jobs_trade_new_american",
         "type": "scatter",
         "x": [
          1978,
          1979,
          1980,
          1981,
          1982,
          1983,
          1984,
          1985,
          1986,
          1987,
          1988,
          1989,
          1991,
          1992,
          1993,
          1994,
          1995,
          1996,
          1997,
          1998,
          1999,
          2000,
          2001,
          2002,
          2004,
          2006,
          2007,
          2008,
          2009,
          2010,
          2011,
          2012,
          2013,
          2014,
          2015,
          2016,
          2017,
          2018,
          2019,
          2020,
          2021,
          2022,
          2023,
          2024
         ],
         "y": [
          6,
          3,
          1,
          3,
          4,
          10,
          9,
          11,
          2,
          3,
          3,
          3,
          7,
          4,
          5,
          5,
          4,
          2,
          9,
          8,
          9,
          9,
          2,
          1,
          2,
          6,
          1,
          6,
          7,
          8,
          18,
          12,
          9,
          5,
          11,
          8,
          8,
          7,
          9,
          13,
          10,
          7,
          20,
          12
         ]
        },
        {
         "hoverinfo": "text",
         "hovertext": [
          "<b>Topic 3</b><br>Words: village, passionately, fulfillment, attached, liberties",
          "<b>Topic 3</b><br>Words: concentrating, young, 1980s, minority, youth",
          "<b>Topic 3</b><br>Words: aid, total, percent, schools, protested",
          "<b>Topic 3</b><br>Words: programs, discredited, help, volunteer, private",
          "<b>Topic 3</b><br>Words: education, math, science, encourage, schools",
          "<b>Topic 3</b><br>Words: excellence, schools, education, school, begin",
          "<b>Topic 3</b><br>Words: basics, school, goes, groups, giving",
          "<b>Topic 3</b><br>Words: education, 1963, renaissance, yearslast, lobbies",
          "<b>Topic 3</b><br>Words: children, lets, basic, conceived, concepts",
          "<b>Topic 3</b><br>Words: spend, schools, education, teachers, supreme",
          "<b>Topic 3</b><br>Words: education, schools, students, program, teachers",
          "<b>Topic 3</b><br>Words: kids, education, schools, governor, tell",
          "<b>Topic 3</b><br>Words: schools, highly, 2000, education, allow",
          "<b>Topic 3</b><br>Words: education, program, service, learning, school",
          "<b>Topic 3</b><br>Words: school, kids, worldclass, children, teachers",
          "<b>Topic 3</b><br>Words: school, education, college, americorps, children",
          "<b>Topic 3</b><br>Words: challenge, children, schools, parents, college",
          "<b>Topic 3</b><br>Words: school, schools, education, children, college",
          "<b>Topic 3</b><br>Words: college, schools, children, education, school",
          "<b>Topic 3</b><br>Words: schools, school, teachers, children, college",
          "<b>Topic 3</b><br>Words: schools, college, school, help, teachers",
          "<b>Topic 3</b><br>Words: reading, schools, teaching, children, school",
          "<b>Topic 3</b><br>Words: corps, teacher, usa, need, children",
          "<b>Topic 3</b><br>Words: mentors, person, 450, children, recruiting",
          "<b>Topic 3</b><br>Words: schools, children, help, math, students",
          "<b>Topic 3</b><br>Words: young, community, gangs, better, high",
          "<b>Topic 3</b><br>Words: math, direction, children, science, courses",
          "<b>Topic 3</b><br>Words: schools, children, students, local, failing",
          "<b>Topic 3</b><br>Words: schools, children, students, faithbased, help",
          "<b>Topic 3</b><br>Words: education, school, college, high, schools",
          "<b>Topic 3</b><br>Words: college, education, schools, student, school",
          "<b>Topic 3</b><br>Words: schools, education, school, college, students",
          "<b>Topic 3</b><br>Words: students, education, college, teachers, tuition",
          "<b>Topic 3</b><br>Words: education, higher, schools, high, school",
          "<b>Topic 3</b><br>Words: education, college, schools, help, students",
          "<b>Topic 3</b><br>Words: college, want, school, education, high",
          "<b>Topic 3</b><br>Words: student, college, education, job, need",
          "<b>Topic 3</b><br>Words: school, education, magnet, denisha, masters",
          "<b>Topic 3</b><br>Words: newborn, bond, nationwide, include, parent",
          "<b>Topic 3</b><br>Words: janiyah, school, students, education, stephanie",
          "<b>Topic 3</b><br>Words: education, years, century, college, school",
          "<b>Topic 3</b><br>Words: mental, children, frances, hospitalizations, haugen",
          "<b>Topic 3</b><br>Words: best, lets, finish, school, education",
          "<b>Topic 3</b><br>Words: keenan, college, student, school, children"
         ],
         "marker": {
          "color": "#F0E442"
         },
         "mode": "lines",
         "name": "3_schools_education_school_college",
         "type": "scatter",
         "x": [
          1978,
          1980,
          1981,
          1982,
          1983,
          1984,
          1985,
          1986,
          1987,
          1988,
          1989,
          1990,
          1992,
          1993,
          1994,
          1995,
          1996,
          1997,
          1998,
          1999,
          2000,
          2001,
          2002,
          2003,
          2004,
          2005,
          2006,
          2007,
          2008,
          2009,
          2010,
          2011,
          2012,
          2013,
          2014,
          2015,
          2016,
          2017,
          2019,
          2020,
          2021,
          2022,
          2023,
          2024
         ],
         "y": [
          2,
          1,
          1,
          3,
          2,
          5,
          4,
          1,
          2,
          3,
          5,
          11,
          2,
          6,
          4,
          7,
          13,
          22,
          10,
          19,
          13,
          8,
          4,
          1,
          7,
          2,
          3,
          2,
          5,
          9,
          5,
          12,
          11,
          8,
          10,
          8,
          3,
          2,
          1,
          9,
          6,
          2,
          9,
          10
         ]
        },
        {
         "hoverinfo": "text",
         "hovertext": [
          "<b>Topic 4</b><br>Words: nuclear, canal, arms, treaties, security",
          "<b>Topic 4</b><br>Words: salt, soviet, nuclear, agreement, ii",
          "<b>Topic 4</b><br>Words: soviet, nuclear, military, world, nations",
          "<b>Topic 4</b><br>Words: defense, department, military, realistic, program",
          "<b>Topic 4</b><br>Words: soviet, forces, soviets, military, vital",
          "<b>Topic 4</b><br>Words: soviet, arms, reductions, defense, verifiable",
          "<b>Topic 4</b><br>Words: defense, capability, nuclear, soviet, responsibility",
          "<b>Topic 4</b><br>Words: defense, nuclear, arms, verifiable, war",
          "<b>Topic 4</b><br>Words: soviet, defense, geneva, reduces, relationship",
          "<b>Topic 4</b><br>Words: soviet, defense, let, hemisphere, military",
          "<b>Topic 4</b><br>Words: nuclear, agreement, strategic, defense, arms",
          "<b>Topic 4</b><br>Words: defense, nuclear, weapons, review, security",
          "<b>Topic 4</b><br>Words: europe, strategic, soviet, military, defense",
          "<b>Topic 4</b><br>Words: soviet, leadership, germany, desert, missile",
          "<b>Topic 4</b><br>Words: missiles, defense, nuclear, warheads, strategic",
          "<b>Topic 4</b><br>Words: defense, prepared, world, best, global",
          "<b>Topic 4</b><br>Words: nuclear, defense, states, weapons, year",
          "<b>Topic 4</b><br>Words: nuclear, cold, war, military, carry",
          "<b>Topic 4</b><br>Words: nuclear, treaty, cold, weapons, fades",
          "<b>Topic 4</b><br>Words: nato, europe, 50, nuclear, endanger",
          "<b>Topic 4</b><br>Words: nato, senate, nuclear, ask, europe",
          "<b>Topic 4</b><br>Words: nuclear, nations, treaty, continue, increase",
          "<b>Topic 4</b><br>Words: russia, nuclear, weapons, missile, china",
          "<b>Topic 4</b><br>Words: threats, defense, transform, confront, strategy",
          "<b>Topic 4</b><br>Words: security, budget, homeland, weapons, nuclear",
          "<b>Topic 4</b><br>Words: korean, nuclear, regime, north, weapons",
          "<b>Topic 4</b><br>Words: patriot, enforcement, hunting, law, provisions",
          "<b>Topic 4</b><br>Words: terror, syrian, iranian, homeland, weapons",
          "<b>Topic 4</b><br>Words: iran, nuclear, iranian, regime, country",
          "<b>Topic 4</b><br>Words: pursuing, diplomacy, nuclear, terrorists, weapons",
          "<b>Topic 4</b><br>Words: nuclear, iran, terrorists, tehran, 911",
          "<b>Topic 4</b><br>Words: nuclear, weapons, sanctions, whos, united",
          "<b>Topic 4</b><br>Words: insist, sanctions, korea, tighter, shaping",
          "<b>Topic 4</b><br>Words: iran, military, nuclear, leaders, commitmentand",
          "<b>Topic 4</b><br>Words: nuclear, engage, efforts, obligations, recognize",
          "<b>Topic 4</b><br>Words: iran, irans, nuclear, sanctions, negotiations",
          "<b>Topic 4</b><br>Words: cuba, nuclear, iran, alan, privacy",
          "<b>Topic 4</b><br>Words: iran, approach, thats, global, nuclear",
          "<b>Topic 4</b><br>Words: alliance, nato, terrorism, individuals, unbreakable",
          "<b>Topic 4</b><br>Words: nuclear, iran, north, dangerous, detention",
          "<b>Topic 4</b><br>Words: united, nuclear, states, treaty, missile",
          "<b>Topic 4</b><br>Words: iranian, allies, shorttime, force, nuclear",
          "<b>Topic 4</b><br>Words: defense, agency, security, ignore, department",
          "<b>Topic 4</b><br>Words: matters, americaand, 29, dictators, lesson",
          "<b>Topic 4</b><br>Words: welcome, alliance, nato, minister, finland"
         ],
         "marker": {
          "color": "#D55E00"
         },
         "mode": "lines",
         "name": "4_nuclear_soviet_defense_weapons",
         "type": "scatter",
         "x": [
          1978,
          1979,
          1980,
          1981,
          1982,
          1983,
          1984,
          1985,
          1986,
          1987,
          1988,
          1989,
          1990,
          1991,
          1992,
          1993,
          1994,
          1995,
          1996,
          1997,
          1998,
          1999,
          2000,
          2001,
          2002,
          2003,
          2004,
          2005,
          2006,
          2007,
          2008,
          2010,
          2011,
          2012,
          2013,
          2014,
          2015,
          2016,
          2017,
          2018,
          2019,
          2020,
          2021,
          2022,
          2024
         ],
         "y": [
          14,
          7,
          23,
          3,
          5,
          6,
          4,
          6,
          2,
          5,
          5,
          5,
          3,
          5,
          6,
          1,
          6,
          5,
          3,
          3,
          2,
          7,
          7,
          2,
          11,
          6,
          4,
          2,
          4,
          4,
          5,
          3,
          2,
          4,
          3,
          5,
          4,
          2,
          4,
          4,
          6,
          4,
          5,
          1,
          2
         ]
        },
        {
         "hoverinfo": "text",
         "hovertext": [
          "<b>Topic 5</b><br>Words: conflictan, longstanding, communication, middle, contributing",
          "<b>Topic 5</b><br>Words: east, deepseated, rhodesia, namibia, middle",
          "<b>Topic 5</b><br>Words: israel, peace, egypt, terrorism, autonomy",
          "<b>Topic 5</b><br>Words: 30th, peaceloving, day, solidarity, parliament",
          "<b>Topic 5</b><br>Words: promisingly, camp, peace, blessings, outlined",
          "<b>Topic 5</b><br>Words: lebanon, peacekeeping, multinational, tragedy, terrorism",
          "<b>Topic 5</b><br>Words: interests, afghanistan, lose, resolve, props",
          "<b>Topic 5</b><br>Words: freedom, fighters, cause, afghanistanyes, swelling",
          "<b>Topic 5</b><br>Words: panama, operation, thumb, objective, february",
          "<b>Topic 5</b><br>Words: saddams, invasion, prevail, iraqs, saddam",
          "<b>Topic 5</b><br>Words: road, yasser, yitzhak, handshake, rabin",
          "<b>Topic 5</b><br>Words: israel, east, sympathy, horrendous, injured",
          "<b>Topic 5</b><br>Words: hussein, saddam, weapons, biological, chemical",
          "<b>Topic 5</b><br>Words: palestinian, iraq, notlet, notwe, renounce",
          "<b>Topic 5</b><br>Words: afghanistan, terror, camps, terrorists, terrorist",
          "<b>Topic 5</b><br>Words: hussein, saddam, weapons, inspectors, iraq",
          "<b>Topic 5</b><br>Words: iraq, iraqi, saddam, killers, al",
          "<b>Topic 5</b><br>Words: iraq, iraqi, iraqis, palestinian, terrorists",
          "<b>Topic 5</b><br>Words: iraqi, iraq, iraqis, retreat, forces",
          "<b>Topic 5</b><br>Words: iraq, al, iraqi, qaida, extremists",
          "<b>Topic 5</b><br>Words: iraq, iraqi, al, forces, qaida",
          "<b>Topic 5</b><br>Words: forge, iraq, allow, povertywe, centuryfrom",
          "<b>Topic 5</b><br>Words: troops, al, iraq, iraqi, security",
          "<b>Topic 5</b><br>Words: afghan, al, troops, qaida, iraq",
          "<b>Topic 5</b><br>Words: afghanistan, knowing, al, iraq, troops",
          "<b>Topic 5</b><br>Words: al, qaida, afghanistan, afghan, forces",
          "<b>Topic 5</b><br>Words: al, networks, afghanistan, qaida, palestinians",
          "<b>Topic 5</b><br>Words: terrorists, afghanistan, iraq, instead, 911",
          "<b>Topic 5</b><br>Words: isil, al, qaida, world, parts",
          "<b>Topic 5</b><br>Words: savages, slaughtered, demolish, allies, faiths",
          "<b>Topic 5</b><br>Words: longer, timelines, undermined, artificial, engagement",
          "<b>Topic 5</b><br>Words: afghanistan, troops, east, iraq, counterterrorism",
          "<b>Topic 5</b><br>Words: warfighters, isis, afghanistan, fight, iraq",
          "<b>Topic 5</b><br>Words: afghanistan, committees, laden, bin, al",
          "<b>Topic 5</b><br>Words: pits, burn, iraq, incinerate, fittest",
          "<b>Topic 5</b><br>Words: israel, gaza, hamas, humanitarian, innocent"
         ],
         "marker": {
          "color": "#0072B2"
         },
         "mode": "lines",
         "name": "5_iraq_al_afghanistan_iraqi",
         "type": "scatter",
         "x": [
          1978,
          1979,
          1980,
          1982,
          1983,
          1984,
          1987,
          1988,
          1990,
          1991,
          1994,
          1995,
          1998,
          1999,
          2002,
          2003,
          2004,
          2005,
          2006,
          2007,
          2008,
          2009,
          2010,
          2011,
          2012,
          2013,
          2014,
          2015,
          2016,
          2017,
          2018,
          2019,
          2020,
          2021,
          2022,
          2024
         ],
         "y": [
          1,
          3,
          3,
          1,
          1,
          1,
          1,
          1,
          1,
          3,
          1,
          1,
          2,
          2,
          11,
          18,
          8,
          7,
          7,
          11,
          14,
          3,
          3,
          5,
          3,
          6,
          4,
          3,
          4,
          1,
          1,
          5,
          3,
          2,
          1,
          13
         ]
        },
        {
         "hoverinfo": "text",
         "hovertext": [
          "<b>Topic 6</b><br>Words: walked, caucus, manlee, taskto, montana",
          "<b>Topic 6</b><br>Words: 96th, citizens, laughter, house, lady",
          "<b>Topic 6</b><br>Words: 96th, citizens, laughter, house, lady",
          "<b>Topic 6</b><br>Words: honored, citizens, laughter, house, lady",
          "<b>Topic 6</b><br>Words: honored, citizens, laughter, house, lady",
          "<b>Topic 6</b><br>Words: honored, citizens, laughter, house, lady",
          "<b>Topic 6</b><br>Words: honored, citizens, laughter, house, lady",
          "<b>Topic 6</b><br>Words: honored, citizens, laughter, house, lady",
          "<b>Topic 6</b><br>Words: 10th, remarks, presided, marks, salute",
          "<b>Topic 6</b><br>Words: honorable, bob, laughter, 100th, shall",
          "<b>Topic 6</b><br>Words: recitation, agomany, shoes, timeit, expects",
          "<b>Topic 6</b><br>Words: extended, hand, quayle, sleeves, rolled",
          "<b>Topic 6</b><br>Words: united, states, laughter, citizens, house",
          "<b>Topic 6</b><br>Words: united, states, laughter, citizens, house",
          "<b>Topic 6</b><br>Words: reception, big, warm, buildup, barbara",
          "<b>Topic 6</b><br>Words: visitors, nice, fresh, excuse, speech",
          "<b>Topic 6</b><br>Words: 103d, americans, laughter, citizens, house",
          "<b>Topic 6</b><br>Words: 104th, congratulating, represent, aboutcitizens, affiliation",
          "<b>Topic 6</b><br>Words: magnificent, importance, hillary, taught, wonderful",
          "<b>Topic 6</b><br>Words: 105th, inviting, challenge, peacetime, bold",
          "<b>Topic 6</b><br>Words: elaine, shes, kinslow, laughter, welfare",
          "<b>Topic 6</b><br>Words: shes, rosa, house, honor, mental",
          "<b>Topic 6</b><br>Words: want, mental, grateful, cohen, led",
          "<b>Topic 6</b><br>Words: invitation, laughter, input, formally, candid",
          "<b>Topic 6</b><br>Words: mei, join, expressing, laura, calm",
          "<b>Topic 6</b><br>Words: citizens, custom, cheney, decisive, aware",
          "<b>Topic 6</b><br>Words: cheney, responsibilities, evening, rising, called",
          "<b>Topic 6</b><br>Words: alsuhail, taleb, ladys, safia, norwood",
          "<b>Topic 6</b><br>Words: reunion, coretta, graceful, comforted, cheney",
          "<b>Topic 6</b><br>Words: congressman, house, charlie, rite, presiding",
          "<b>Topic 6</b><br>Words: citizens, rostrum, cheney, answered, imagined",
          "<b>Topic 6</b><br>Words: statesshes, men, women, frankly, lady",
          "<b>Topic 6</b><br>Words: theyve, embarrassed, obesity, tranquility, honey",
          "<b>Topic 6</b><br>Words: 112th, giffords, gabby, mindful, colleague",
          "<b>Topic 6</b><br>Words: andrews, colors, salute, welcomed, base",
          "<b>Topic 6</b><br>Words: task, fiftyone, rivals, seat, declared",
          "<b>Topic 6</b><br>Words: did, flipped, finetuned, startup, wean",
          "<b>Topic 6</b><br>Words: seek, swore, work, disagree, oath",
          "<b>Topic 6</b><br>Words: tips, antsy, laughter, shaking, shorter",
          "<b>Topic 6</b><br>Words: jewish, cemeteries, vandalism, ugly, condemning",
          "<b>Topic 6</b><br>Words: defending, majestic, righteous, swift, podium",
          "<b>Topic 6</b><br>Words: laughter, coercion, sounds, judah, socialist",
          "<b>Topic 6</b><br>Words: lady, news, americas, stage4, surging",
          "<b>Topic 6</b><br>Words: words, presidentno, ladyim, gentleman, said",
          "<b>Topic 6</b><br>Words: nearthat, pit, fasterand, casescases, scanners",
          "<b>Topic 6</b><br>Words: laughter, house, justices, chief, court",
          "<b>Topic 6</b><br>Words: laughter, thats, stop, house, correction"
         ],
         "marker": {
          "color": "#CC79A7"
         },
         "mode": "lines",
         "name": "6_laughter_citizens_house_lady",
         "type": "scatter",
         "x": [
          1978,
          1979,
          1980,
          1981,
          1982,
          1983,
          1984,
          1985,
          1986,
          1987,
          1988,
          1989,
          1990,
          1991,
          1992,
          1993,
          1994,
          1995,
          1996,
          1997,
          1998,
          1999,
          2000,
          2001,
          2002,
          2003,
          2004,
          2005,
          2006,
          2007,
          2008,
          2009,
          2010,
          2011,
          2012,
          2013,
          2014,
          2015,
          2016,
          2017,
          2018,
          2019,
          2020,
          2021,
          2022,
          2023,
          2024
         ],
         "y": [
          4,
          1,
          1,
          1,
          1,
          1,
          1,
          1,
          2,
          3,
          1,
          2,
          1,
          1,
          2,
          1,
          1,
          2,
          1,
          1,
          5,
          6,
          6,
          2,
          2,
          2,
          1,
          2,
          1,
          3,
          1,
          1,
          2,
          1,
          1,
          1,
          2,
          1,
          1,
          1,
          2,
          6,
          5,
          4,
          3,
          15,
          25
         ]
        },
        {
         "hoverinfo": "text",
         "hovertext": [
          "<b>Topic 7</b><br>Words: energy, oil, dollar, foreign, home",
          "<b>Topic 7</b><br>Words: major, sunshine, nationto, scrutinize, begunfor",
          "<b>Topic 7</b><br>Words: oil, energy, gasoline, conservation, ceiling",
          "<b>Topic 7</b><br>Words: regulations, regulatory, energy, oil, fuels",
          "<b>Topic 7</b><br>Words: regulations, federal, heating, deregulating, 23000",
          "<b>Topic 7</b><br>Words: epa, resources, 1985, develop, million",
          "<b>Topic 7</b><br>Words: energy, natural, regulations, continue, industries",
          "<b>Topic 7</b><br>Words: oceans, clean, oil, lease, coal",
          "<b>Topic 7</b><br>Words: environmental, beautiful, billion, generations, safekeeping",
          "<b>Topic 7</b><br>Words: departments, agencies, growth, regulations, major",
          "<b>Topic 7</b><br>Words: unlike, energy, promotes, tax, btu",
          "<b>Topic 7</b><br>Words: rivers, clean, environment, parks, grow",
          "<b>Topic 7</b><br>Words: clean, environment, energy, warming, greenhouse",
          "<b>Topic 7</b><br>Words: 1billion, clean, energy, greenhouse, space",
          "<b>Topic 7</b><br>Words: energy, cars, technologies, clean, gallon",
          "<b>Topic 7</b><br>Words: energy, national, parks, conservation, secretary",
          "<b>Topic 7</b><br>Words: energy, forests, sent, promote, 70percent",
          "<b>Topic 7</b><br>Words: energy, electricity, supplies, reliable, dependent",
          "<b>Topic 7</b><br>Words: energy, sources, clean, legislation, powerplant",
          "<b>Topic 7</b><br>Words: energy, oil, ethanol, research, cars",
          "<b>Topic 7</b><br>Words: oil, supply, energy, clean, fuels",
          "<b>Topic 7</b><br>Words: energy, clean, let, power, technology",
          "<b>Topic 7</b><br>Words: energy, renewable, clean, ravages, marketbased",
          "<b>Topic 7</b><br>Words: energy, clean, means, incentives, efficiency",
          "<b>Topic 7</b><br>Words: oil, theyre, energy, oak, laboratory",
          "<b>Topic 7</b><br>Words: energy, gas, oil, clean, natural",
          "<b>Topic 7</b><br>Words: energy, gas, oil, natural, climate",
          "<b>Topic 7</b><br>Words: energy, natural, gas, oil, fuel",
          "<b>Topic 7</b><br>Words: climate, oil, energy, gas, warmest",
          "<b>Topic 7</b><br>Words: energy, oil, clean, dirtier, coal",
          "<b>Topic 7</b><br>Words: regulations, jobcrushing, livelihood, massively, miners",
          "<b>Topic 7</b><br>Words: energy, producer, elements, tremendous, regulatory",
          "<b>Topic 7</b><br>Words: climate, jobs, water, accounts, crisis",
          "<b>Topic 7</b><br>Words: barrels, 30, petroleum, releasing, reserves",
          "<b>Topic 7</b><br>Words: oil, energy, going, climate, production",
          "<b>Topic 7</b><br>Words: climate, 2030, clean, communities, energy"
         ],
         "marker": {
          "color": "#E69F00"
         },
         "mode": "lines",
         "name": "7_energy_oil_clean_gas",
         "type": "scatter",
         "x": [
          1978,
          1979,
          1980,
          1981,
          1982,
          1984,
          1985,
          1989,
          1990,
          1992,
          1993,
          1997,
          1998,
          1999,
          2000,
          2001,
          2003,
          2004,
          2005,
          2006,
          2007,
          2008,
          2009,
          2010,
          2011,
          2012,
          2013,
          2014,
          2015,
          2016,
          2017,
          2020,
          2021,
          2022,
          2023,
          2024
         ],
         "y": [
          5,
          3,
          5,
          6,
          1,
          4,
          2,
          3,
          2,
          1,
          1,
          2,
          3,
          3,
          7,
          2,
          1,
          1,
          1,
          4,
          5,
          2,
          1,
          2,
          3,
          10,
          6,
          4,
          5,
          3,
          1,
          1,
          3,
          1,
          6,
          3
         ]
        },
        {
         "hoverinfo": "text",
         "hovertext": [
          "<b>Topic 8</b><br>Words: crimeone, overly, leaves, transformation, crime",
          "<b>Topic 8</b><br>Words: crime, organized, drug, racketeers, acceleration",
          "<b>Topic 8</b><br>Words: crime, safeguarding, paroles, drugpushers, defendants",
          "<b>Topic 8</b><br>Words: crime, victim, victims, proposals, woman",
          "<b>Topic 8</b><br>Words: drugs, surveying, use, commitment, young",
          "<b>Topic 8</b><br>Words: drugs, involve, cocaine, crime, son",
          "<b>Topic 8</b><br>Words: disciplined, school, drugfree, learn, offer",
          "<b>Topic 8</b><br>Words: crime, dealer, stalks, attorney, combating",
          "<b>Topic 8</b><br>Words: crime, surely, afraid, languishing, saps",
          "<b>Topic 8</b><br>Words: crime, criminals, initiative, hardened, terrorizes",
          "<b>Topic 8</b><br>Words: crime, police, violence, violent, drugs",
          "<b>Topic 8</b><br>Words: crime, voted, rate, did, lets",
          "<b>Topic 8</b><br>Words: crime, challenge, police, violent, gangs",
          "<b>Topic 8</b><br>Words: handguns, crime, streets, unauthorized, weekends",
          "<b>Topic 8</b><br>Words: safe, police, streets, crime, crimefighting",
          "<b>Topic 8</b><br>Words: crime, buying, quarter, drugs, police",
          "<b>Topic 8</b><br>Words: gun, crime, guns, police, tom",
          "<b>Topic 8</b><br>Words: officers, police, profiling, ashcroft, hinder",
          "<b>Topic 8</b><br>Words: drugs, addiction, treatment, richness, hopelessness",
          "<b>Topic 8</b><br>Words: drugs, drug, aggressive, testing, illegal",
          "<b>Topic 8</b><br>Words: justice, doubly, wrongful, crime, dna",
          "<b>Topic 8</b><br>Words: attorney, unit, general, packaging, risky",
          "<b>Topic 8</b><br>Words: chiefs, gun, police, criminals, amendmenthave",
          "<b>Topic 8</b><br>Words: surely, understand, rate, incarceration, ferguson",
          "<b>Topic 8</b><br>Words: crime, cycle, murder, enforcement, department",
          "<b>Topic 8</b><br>Words: drug, terrible, succeed, 64000, pushers",
          "<b>Topic 8</b><br>Words: deal, step, redemption, disproportionately, wrongly",
          "<b>Topic 8</b><br>Words: opioid, epidemic, criminal, percent, justice",
          "<b>Topic 8</b><br>Words: gun, guns, crime, violence, law",
          "<b>Topic 8</b><br>Words: police, crime, officer, gun, department",
          "<b>Topic 8</b><br>Words: gun, crime, police, ban, law",
          "<b>Topic 8</b><br>Words: crime, gun, police, murder, amendment"
         ],
         "marker": {
          "color": "#56B4E9"
         },
         "mode": "lines",
         "name": "8_crime_gun_police_drugs",
         "type": "scatter",
         "x": [
          1982,
          1983,
          1984,
          1985,
          1988,
          1989,
          1990,
          1991,
          1992,
          1993,
          1994,
          1995,
          1996,
          1997,
          1998,
          1999,
          2000,
          2001,
          2003,
          2004,
          2005,
          2012,
          2013,
          2015,
          2017,
          2018,
          2019,
          2020,
          2021,
          2022,
          2023,
          2024
         ],
         "y": [
          1,
          1,
          1,
          3,
          1,
          4,
          1,
          2,
          1,
          1,
          8,
          4,
          9,
          1,
          2,
          6,
          9,
          1,
          1,
          1,
          1,
          1,
          1,
          1,
          4,
          2,
          1,
          2,
          10,
          8,
          11,
          7
         ]
        },
        {
         "hoverinfo": "text",
         "hovertext": [
          "<b>Topic 9</b><br>Words: inflation, increases, price, government, drives",
          "<b>Topic 9</b><br>Words: inflation, antiinflation, restraint, american, fight",
          "<b>Topic 9</b><br>Words: inflation, prices, oiland, opec, rate",
          "<b>Topic 9</b><br>Words: growth, inflation, monetary, money, reserve",
          "<b>Topic 9</b><br>Words: inflation, 12percent, misspoke, erase, doubledigit",
          "<b>Topic 9</b><br>Words: stability, policy, longrunning, artificially, needlessly",
          "<b>Topic 9</b><br>Words: proposals, major, savings, savers, thrifts",
          "<b>Topic 9</b><br>Words: sound, pessimism, banks, loans, lower",
          "<b>Topic 9</b><br>Words: overkill, instructed, banking, regulators, crunch",
          "<b>Topic 9</b><br>Words: loans, regulators, crunch, aftermath, difficulties",
          "<b>Topic 9</b><br>Words: collateral, cosigning, bailout, explain, note",
          "<b>Topic 9</b><br>Words: surplus, money, attitude, achieving, debate",
          "<b>Topic 9</b><br>Words: banks, lending, buy, inflation, helping",
          "<b>Topic 9</b><br>Words: hated, financial, banks, fee, interested",
          "<b>Topic 9</b><br>Words: financial, banks, afford, fraud, bad",
          "<b>Topic 9</b><br>Words: refinance, holding, responsible, families, rates",
          "<b>Topic 9</b><br>Words: inflation, lower, fight, plan, prices",
          "<b>Topic 9</b><br>Words: disrupted, supplies, ukraine, grain, coachthats",
          "<b>Topic 9</b><br>Words: title, refinance, backed, federally, consequence"
         ],
         "marker": {
          "color": "#009E73"
         },
         "mode": "lines",
         "name": "9_inflation_banks_financial_afford",
         "type": "scatter",
         "x": [
          1978,
          1979,
          1980,
          1981,
          1983,
          1985,
          1989,
          1991,
          1992,
          1993,
          1995,
          2001,
          2009,
          2010,
          2012,
          2013,
          2022,
          2023,
          2024
         ],
         "y": [
          5,
          9,
          2,
          3,
          2,
          1,
          1,
          1,
          1,
          1,
          1,
          1,
          10,
          5,
          6,
          2,
          4,
          2,
          1
         ]
        },
        {
         "hoverinfo": "text",
         "hovertext": [
          "<b>Topic 10</b><br>Words: born, english, girl, hero, vietnam",
          "<b>Topic 10</b><br>Words: jack, lucas, youngest, 17, saved",
          "<b>Topic 10</b><br>Words: josefina, steven, spanish, ramos, 2yearold",
          "<b>Topic 10</b><br>Words: flight, spotted, subdued, passengers, hermis",
          "<b>Topic 10</b><br>Words: julie, einstein, baby, aignerclark, videos",
          "<b>Topic 10</b><br>Words: brian, safety, arriveand, murphy, bleeding",
          "<b>Topic 10</b><br>Words: cory, remsburg, hes, easy, day",
          "<b>Topic 10</b><br>Words: megans, megan, rare, life, ryan",
          "<b>Topic 10</b><br>Words: ryan, ashlee, rebecca, holets, wife",
          "<b>Topic 10</b><br>Words: grace, judah, judahs, concentration, timothy",
          "<b>Topic 10</b><br>Words: ellie, amy, jody, gage, rocky",
          "<b>Topic 10</b><br>Words: danielle, robinson, heath, football, birthday",
          "<b>Topic 10</b><br>Words: daughter, ava, joining, tyres, kidney",
          "<b>Topic 10</b><br>Words: kate, assassinated, joining, king, city"
         ],
         "marker": {
          "color": "#F0E442"
         },
         "mode": "lines",
         "name": "10_daughter_ryan_joining_born",
         "type": "scatter",
         "x": [
          1985,
          1995,
          2001,
          2002,
          2007,
          2013,
          2014,
          2017,
          2018,
          2019,
          2020,
          2022,
          2023,
          2024
         ],
         "y": [
          2,
          1,
          1,
          1,
          1,
          1,
          3,
          7,
          6,
          6,
          8,
          3,
          9,
          7
         ]
        },
        {
         "hoverinfo": "text",
         "hovertext": [
          "<b>Topic 11</b><br>Words: usa, hr, wall, joe, anymore",
          "<b>Topic 11</b><br>Words: usa, hr, wall, joe, anymore",
          "<b>Topic 11</b><br>Words: usa, yes, hr, wall, joe",
          "<b>Topic 11</b><br>Words: usa, hr, jody, rush, wall",
          "<b>Topic 11</b><br>Words: usa, wall, build, whoa, hr",
          "<b>Topic 11</b><br>Words: usa, anymore, border, secure, hr",
          "<b>Topic 11</b><br>Words: usa, joe, fix, wall, liar"
         ],
         "marker": {
          "color": "#D55E00"
         },
         "mode": "lines",
         "name": "11_usa_hr_wall_joe",
         "type": "scatter",
         "x": [
          2014,
          2018,
          2019,
          2020,
          2022,
          2023,
          2024
         ],
         "y": [
          1,
          1,
          6,
          6,
          9,
          11,
          21
         ]
        },
        {
         "hoverinfo": "text",
         "hovertext": [
          "<b>Topic 12</b><br>Words: bless, god, america, united, states",
          "<b>Topic 12</b><br>Words: bless, god, america, united, states",
          "<b>Topic 12</b><br>Words: bless, god, america, united, states",
          "<b>Topic 12</b><br>Words: arranged, bless, god, quit, night",
          "<b>Topic 12</b><br>Words: bless, god, america, united, states",
          "<b>Topic 12</b><br>Words: bless, god, america, united, states",
          "<b>Topic 12</b><br>Words: bless, god, america, united, states",
          "<b>Topic 12</b><br>Words: bless, god, america, united, states",
          "<b>Topic 12</b><br>Words: bless, god, america, united, states",
          "<b>Topic 12</b><br>Words: bless, god, america, united, states",
          "<b>Topic 12</b><br>Words: bless, god, america, united, states",
          "<b>Topic 12</b><br>Words: bless, god, united, states, america",
          "<b>Topic 12</b><br>Words: bless, god, united, states, america",
          "<b>Topic 12</b><br>Words: bless, god, beloved, miracle, night",
          "<b>Topic 12</b><br>Words: bless, god, america, united, states",
          "<b>Topic 12</b><br>Words: bless, god, america, united, states",
          "<b>Topic 12</b><br>Words: bless, god, america, united, states",
          "<b>Topic 12</b><br>Words: bless, god, united, states, america",
          "<b>Topic 12</b><br>Words: bless, god, america, united, states",
          "<b>Topic 12</b><br>Words: bless, god, united, states, america",
          "<b>Topic 12</b><br>Words: evening, good, bless, god, america",
          "<b>Topic 12</b><br>Words: bless, god, america, united, states",
          "<b>Topic 12</b><br>Words: bless, god, night, good, america",
          "<b>Topic 12</b><br>Words: bless, god, america, united, states",
          "<b>Topic 12</b><br>Words: bless, god, guide, united, states",
          "<b>Topic 12</b><br>Words: bless, god, continue, america, united",
          "<b>Topic 12</b><br>Words: bless, god, america, united, states",
          "<b>Topic 12</b><br>Words: bless, god, america, united, states",
          "<b>Topic 12</b><br>Words: prayers, bless, god, year, america",
          "<b>Topic 12</b><br>Words: bless, god, united, states, america",
          "<b>Topic 12</b><br>Words: bless, god, united, states, america",
          "<b>Topic 12</b><br>Words: bless, god, united, states, america",
          "<b>Topic 12</b><br>Words: bless, god, united, states, america",
          "<b>Topic 12</b><br>Words: bless, god, united, states, america",
          "<b>Topic 12</b><br>Words: bless, god, united, states, america",
          "<b>Topic 12</b><br>Words: bless, god, love, country, america",
          "<b>Topic 12</b><br>Words: bless, god, united, states, america",
          "<b>Topic 12</b><br>Words: bless, god, united, states, america",
          "<b>Topic 12</b><br>Words: bless, god, goodnight, america, united",
          "<b>Topic 12</b><br>Words: bless, god, werent, supposed, laughter",
          "<b>Topic 12</b><br>Words: bless, god, thrilled, inform, deployment",
          "<b>Topic 12</b><br>Words: god, bless, patience, troops, protect",
          "<b>Topic 12</b><br>Words: god, bless, em, troops, protect",
          "<b>Topic 12</b><br>Words: god, bless, smile, okay, troops",
          "<b>Topic 12</b><br>Words: god, bless, evening, good, smart"
         ],
         "marker": {
          "color": "#0072B2"
         },
         "mode": "lines",
         "name": "12_bless_god_america_united",
         "type": "scatter",
         "x": [
          1978,
          1979,
          1980,
          1981,
          1983,
          1984,
          1985,
          1986,
          1987,
          1988,
          1989,
          1990,
          1991,
          1992,
          1993,
          1994,
          1995,
          1996,
          1997,
          1998,
          1999,
          2000,
          2001,
          2002,
          2003,
          2004,
          2005,
          2006,
          2007,
          2009,
          2010,
          2011,
          2012,
          2013,
          2014,
          2015,
          2016,
          2017,
          2018,
          2019,
          2020,
          2021,
          2022,
          2023,
          2024
         ],
         "y": [
          1,
          1,
          1,
          2,
          1,
          1,
          1,
          1,
          1,
          1,
          1,
          1,
          1,
          1,
          1,
          1,
          1,
          1,
          1,
          1,
          1,
          1,
          1,
          1,
          1,
          1,
          1,
          1,
          1,
          1,
          1,
          1,
          1,
          1,
          1,
          1,
          1,
          1,
          1,
          2,
          2,
          1,
          1,
          3,
          3
         ]
        },
        {
         "hoverinfo": "text",
         "hovertext": [
          "<b>Topic 13</b><br>Words: worn, margin, ensures, uniform, countrys",
          "<b>Topic 13</b><br>Words: ramparts, volunteered, credibility, uniform, valor",
          "<b>Topic 13</b><br>Words: guarantors, defenders, wear, uniform, grateful",
          "<b>Topic 13</b><br>Words: fitting, tribute, volunteered, commitment, airman",
          "<b>Topic 13</b><br>Words: commitment, billiondollar, veterans, claims, honored",
          "<b>Topic 13</b><br>Words: ashley, conveyed, uniform, duties, listen",
          "<b>Topic 13</b><br>Words: honor, given, men, women, injuries",
          "<b>Topic 13</b><br>Words: grateful, sacrifices, wear, volunteer, uniform",
          "<b>Topic 13</b><br>Words: veterans, funding, compassionate, men, troops",
          "<b>Topic 13</b><br>Words: readying, unyielding, absence, uniform, bear",
          "<b>Topic 13</b><br>Words: support, veterans, wethat, thats, va",
          "<b>Topic 13</b><br>Words: veterans, troops, nation, love, hindu",
          "<b>Topic 13</b><br>Words: veterans, uniform, youre, va, hire",
          "<b>Topic 13</b><br>Words: veterans, receive, stadium, marches, carethat",
          "<b>Topic 13</b><br>Words: veterans, michelle, veteran, helped, bidenapplausethank",
          "<b>Topic 13</b><br>Words: uniform, greater, braver, allies, robust",
          "<b>Topic 13</b><br>Words: veterans, va, care, vets, properly",
          "<b>Topic 13</b><br>Words: serve, knee, neck, honorably, badge",
          "<b>Topic 13</b><br>Words: veterans, va, toxic, care, benefits",
          "<b>Topic 13</b><br>Words: veterans, suicide, va, losing, day",
          "<b>Topic 13</b><br>Words: veterans, denis, toxins, battling, pact"
         ],
         "marker": {
          "color": "#CC79A7"
         },
         "mode": "lines",
         "name": "13_veterans_uniform_va_men",
         "type": "scatter",
         "x": [
          1982,
          1984,
          1989,
          1991,
          2001,
          2004,
          2005,
          2006,
          2008,
          2009,
          2010,
          2011,
          2012,
          2014,
          2015,
          2017,
          2018,
          2021,
          2022,
          2023,
          2024
         ],
         "y": [
          1,
          1,
          1,
          2,
          1,
          1,
          1,
          1,
          2,
          1,
          1,
          2,
          4,
          2,
          1,
          2,
          1,
          1,
          2,
          3,
          1
         ]
        },
        {
         "hoverinfo": "text",
         "hovertext": [
          "<b>Topic 14</b><br>Words: allies, bluster, tatters, reinforcing, masterful",
          "<b>Topic 14</b><br>Words: putin, true, meescalation, proportionally, seekexcuse",
          "<b>Topic 14</b><br>Words: putin, ukraine, ukrainian, world, europe",
          "<b>Topic 14</b><br>Words: stand, putin, putins, test, ukraine",
          "<b>Topic 14</b><br>Words: putin, ukraine, bow, risk, europe"
         ],
         "marker": {
          "color": "#E69F00"
         },
         "mode": "lines",
         "name": "14_putin_ukraine_ukrainian_putins",
         "type": "scatter",
         "x": [
          2015,
          2021,
          2022,
          2023,
          2024
         ],
         "y": [
          1,
          1,
          12,
          3,
          5
         ]
        },
        {
         "hoverinfo": "text",
         "hovertext": [
          "<b>Topic 15</b><br>Words: unborn, proof, abortion, bitterness, reproach",
          "<b>Topic 15</b><br>Words: abortion, cradles, isit, irony, unborn",
          "<b>Topic 15</b><br>Words: unborn, life, abortion, exception, womans",
          "<b>Topic 15</b><br>Words: mastectomy, zarfos, practice, dr, hospital",
          "<b>Topic 15</b><br>Words: arguments, worthy, agree, womans, abortions",
          "<b>Topic 15</b><br>Words: womb, image, abortion, baby, birth",
          "<b>Topic 15</b><br>Words: abortion, neonatal, lateterm, babies, banning",
          "<b>Topic 15</b><br>Words: roe, wade, precedent, maternal, womans",
          "<b>Topic 15</b><br>Words: wade, roe, abortion, reproductive, bans",
          "<b>Topic 15</b><br>Words: wade, roe, ivf, supreme, court"
         ],
         "marker": {
          "color": "#56B4E9"
         },
         "mode": "lines",
         "name": "15_wade_roe_abortion_unborn",
         "type": "scatter",
         "x": [
          1984,
          1985,
          1988,
          1997,
          2015,
          2019,
          2020,
          2022,
          2023,
          2024
         ],
         "y": [
          1,
          1,
          1,
          1,
          1,
          2,
          1,
          1,
          1,
          9
         ]
        },
        {
         "hoverinfo": "text",
         "hovertext": [
          "<b>Topic 16</b><br>Words: wage, minimum, 425, hour, raise",
          "<b>Topic 16</b><br>Words: minimum, wage, raise, 40year, hour",
          "<b>Topic 16</b><br>Words: wage, minimum, reap, honors, raise",
          "<b>Topic 16</b><br>Words: wage, minimum, raise, fulltime, earns",
          "<b>Topic 16</b><br>Words: wage, minimum, raise, 10, hour",
          "<b>Topic 16</b><br>Words: wage, minimum, raise, refuses, sure",
          "<b>Topic 16</b><br>Words: hours, 40, wage, minimum, desklaughterlets",
          "<b>Topic 16</b><br>Words: eight7, wage, minimum, pro, bucks"
         ],
         "marker": {
          "color": "#009E73"
         },
         "mode": "lines",
         "name": "16_wage_minimum_raise_hour",
         "type": "scatter",
         "x": [
          1995,
          1996,
          1998,
          2013,
          2014,
          2015,
          2021,
          2024
         ],
         "y": [
          3,
          1,
          1,
          3,
          4,
          1,
          1,
          1
         ]
        },
        {
         "hoverinfo": "text",
         "hovertext": [
          "<b>Topic 17</b><br>Words: welcome, laughter, say, thats, point",
          "<b>Topic 17</b><br>Words: laughing, theyre, happy, sitting, japan",
          "<b>Topic 17</b><br>Words: responded, point, happy, laughter, seeno",
          "<b>Topic 17</b><br>Words: point, happy, laughter, seeno, sang",
          "<b>Topic 17</b><br>Words: sang, happy, birthday, point, laughter",
          "<b>Topic 17</b><br>Words: seeno, conversion, point, glad, enjoy",
          "<b>Topic 17</b><br>Words: point, remarks, laken, michael, pin"
         ],
         "marker": {
          "color": "#F0E442"
         },
         "mode": "lines",
         "name": "17_point_happy_laughter_seeno",
         "type": "scatter",
         "x": [
          1978,
          1992,
          1998,
          2015,
          2019,
          2023,
          2024
         ],
         "y": [
          1,
          1,
          1,
          1,
          1,
          2,
          7
         ]
        },
        {
         "hoverinfo": "text",
         "hovertext": [
          "<b>Topic 18</b><br>Words: court, vacancies, judiciary, anthony, nominees",
          "<b>Topic 18</b><br>Words: vacancies, judicial, justice, court, courts",
          "<b>Topic 18</b><br>Words: bench, courts, judges, nominate, nominee",
          "<b>Topic 18</b><br>Words: bench, justice, courts, court, judges",
          "<b>Topic 18</b><br>Words: courts, senate, cases, federal, duty",
          "<b>Topic 18</b><br>Words: nominees, judges, gavel, judicial, upordown",
          "<b>Topic 18</b><br>Words: scalia, maureen, court, justice, judges",
          "<b>Topic 18</b><br>Words: senate, court, judges, gorsuch, 187",
          "<b>Topic 18</b><br>Words: shes, court, nominated, judges, justice"
         ],
         "marker": {
          "color": "#D55E00"
         },
         "mode": "lines",
         "name": "18_court_justice_senate_judges",
         "type": "scatter",
         "x": [
          1988,
          1998,
          2005,
          2006,
          2007,
          2008,
          2017,
          2020,
          2022
         ],
         "y": [
          1,
          1,
          1,
          1,
          1,
          1,
          2,
          1,
          2
         ]
        }
       ],
       "layout": {
        "height": 450,
        "hoverlabel": {
         "bgcolor": "white",
         "font": {
          "family": "Rockwell",
          "size": 16
         }
        },
        "legend": {
         "title": {
          "text": "<b>Global Topic Representation"
         }
        },
        "template": {
         "data": {
          "bar": [
           {
            "error_x": {
             "color": "rgb(36,36,36)"
            },
            "error_y": {
             "color": "rgb(36,36,36)"
            },
            "marker": {
             "line": {
              "color": "white",
              "width": 0.5
             },
             "pattern": {
              "fillmode": "overlay",
              "size": 10,
              "solidity": 0.2
             }
            },
            "type": "bar"
           }
          ],
          "barpolar": [
           {
            "marker": {
             "line": {
              "color": "white",
              "width": 0.5
             },
             "pattern": {
              "fillmode": "overlay",
              "size": 10,
              "solidity": 0.2
             }
            },
            "type": "barpolar"
           }
          ],
          "carpet": [
           {
            "aaxis": {
             "endlinecolor": "rgb(36,36,36)",
             "gridcolor": "white",
             "linecolor": "white",
             "minorgridcolor": "white",
             "startlinecolor": "rgb(36,36,36)"
            },
            "baxis": {
             "endlinecolor": "rgb(36,36,36)",
             "gridcolor": "white",
             "linecolor": "white",
             "minorgridcolor": "white",
             "startlinecolor": "rgb(36,36,36)"
            },
            "type": "carpet"
           }
          ],
          "choropleth": [
           {
            "colorbar": {
             "outlinewidth": 1,
             "tickcolor": "rgb(36,36,36)",
             "ticks": "outside"
            },
            "type": "choropleth"
           }
          ],
          "contour": [
           {
            "colorbar": {
             "outlinewidth": 1,
             "tickcolor": "rgb(36,36,36)",
             "ticks": "outside"
            },
            "colorscale": [
             [
              0,
              "#440154"
             ],
             [
              0.1111111111111111,
              "#482878"
             ],
             [
              0.2222222222222222,
              "#3e4989"
             ],
             [
              0.3333333333333333,
              "#31688e"
             ],
             [
              0.4444444444444444,
              "#26828e"
             ],
             [
              0.5555555555555556,
              "#1f9e89"
             ],
             [
              0.6666666666666666,
              "#35b779"
             ],
             [
              0.7777777777777778,
              "#6ece58"
             ],
             [
              0.8888888888888888,
              "#b5de2b"
             ],
             [
              1,
              "#fde725"
             ]
            ],
            "type": "contour"
           }
          ],
          "contourcarpet": [
           {
            "colorbar": {
             "outlinewidth": 1,
             "tickcolor": "rgb(36,36,36)",
             "ticks": "outside"
            },
            "type": "contourcarpet"
           }
          ],
          "heatmap": [
           {
            "colorbar": {
             "outlinewidth": 1,
             "tickcolor": "rgb(36,36,36)",
             "ticks": "outside"
            },
            "colorscale": [
             [
              0,
              "#440154"
             ],
             [
              0.1111111111111111,
              "#482878"
             ],
             [
              0.2222222222222222,
              "#3e4989"
             ],
             [
              0.3333333333333333,
              "#31688e"
             ],
             [
              0.4444444444444444,
              "#26828e"
             ],
             [
              0.5555555555555556,
              "#1f9e89"
             ],
             [
              0.6666666666666666,
              "#35b779"
             ],
             [
              0.7777777777777778,
              "#6ece58"
             ],
             [
              0.8888888888888888,
              "#b5de2b"
             ],
             [
              1,
              "#fde725"
             ]
            ],
            "type": "heatmap"
           }
          ],
          "heatmapgl": [
           {
            "colorbar": {
             "outlinewidth": 1,
             "tickcolor": "rgb(36,36,36)",
             "ticks": "outside"
            },
            "colorscale": [
             [
              0,
              "#440154"
             ],
             [
              0.1111111111111111,
              "#482878"
             ],
             [
              0.2222222222222222,
              "#3e4989"
             ],
             [
              0.3333333333333333,
              "#31688e"
             ],
             [
              0.4444444444444444,
              "#26828e"
             ],
             [
              0.5555555555555556,
              "#1f9e89"
             ],
             [
              0.6666666666666666,
              "#35b779"
             ],
             [
              0.7777777777777778,
              "#6ece58"
             ],
             [
              0.8888888888888888,
              "#b5de2b"
             ],
             [
              1,
              "#fde725"
             ]
            ],
            "type": "heatmapgl"
           }
          ],
          "histogram": [
           {
            "marker": {
             "line": {
              "color": "white",
              "width": 0.6
             }
            },
            "type": "histogram"
           }
          ],
          "histogram2d": [
           {
            "colorbar": {
             "outlinewidth": 1,
             "tickcolor": "rgb(36,36,36)",
             "ticks": "outside"
            },
            "colorscale": [
             [
              0,
              "#440154"
             ],
             [
              0.1111111111111111,
              "#482878"
             ],
             [
              0.2222222222222222,
              "#3e4989"
             ],
             [
              0.3333333333333333,
              "#31688e"
             ],
             [
              0.4444444444444444,
              "#26828e"
             ],
             [
              0.5555555555555556,
              "#1f9e89"
             ],
             [
              0.6666666666666666,
              "#35b779"
             ],
             [
              0.7777777777777778,
              "#6ece58"
             ],
             [
              0.8888888888888888,
              "#b5de2b"
             ],
             [
              1,
              "#fde725"
             ]
            ],
            "type": "histogram2d"
           }
          ],
          "histogram2dcontour": [
           {
            "colorbar": {
             "outlinewidth": 1,
             "tickcolor": "rgb(36,36,36)",
             "ticks": "outside"
            },
            "colorscale": [
             [
              0,
              "#440154"
             ],
             [
              0.1111111111111111,
              "#482878"
             ],
             [
              0.2222222222222222,
              "#3e4989"
             ],
             [
              0.3333333333333333,
              "#31688e"
             ],
             [
              0.4444444444444444,
              "#26828e"
             ],
             [
              0.5555555555555556,
              "#1f9e89"
             ],
             [
              0.6666666666666666,
              "#35b779"
             ],
             [
              0.7777777777777778,
              "#6ece58"
             ],
             [
              0.8888888888888888,
              "#b5de2b"
             ],
             [
              1,
              "#fde725"
             ]
            ],
            "type": "histogram2dcontour"
           }
          ],
          "mesh3d": [
           {
            "colorbar": {
             "outlinewidth": 1,
             "tickcolor": "rgb(36,36,36)",
             "ticks": "outside"
            },
            "type": "mesh3d"
           }
          ],
          "parcoords": [
           {
            "line": {
             "colorbar": {
              "outlinewidth": 1,
              "tickcolor": "rgb(36,36,36)",
              "ticks": "outside"
             }
            },
            "type": "parcoords"
           }
          ],
          "pie": [
           {
            "automargin": true,
            "type": "pie"
           }
          ],
          "scatter": [
           {
            "fillpattern": {
             "fillmode": "overlay",
             "size": 10,
             "solidity": 0.2
            },
            "type": "scatter"
           }
          ],
          "scatter3d": [
           {
            "line": {
             "colorbar": {
              "outlinewidth": 1,
              "tickcolor": "rgb(36,36,36)",
              "ticks": "outside"
             }
            },
            "marker": {
             "colorbar": {
              "outlinewidth": 1,
              "tickcolor": "rgb(36,36,36)",
              "ticks": "outside"
             }
            },
            "type": "scatter3d"
           }
          ],
          "scattercarpet": [
           {
            "marker": {
             "colorbar": {
              "outlinewidth": 1,
              "tickcolor": "rgb(36,36,36)",
              "ticks": "outside"
             }
            },
            "type": "scattercarpet"
           }
          ],
          "scattergeo": [
           {
            "marker": {
             "colorbar": {
              "outlinewidth": 1,
              "tickcolor": "rgb(36,36,36)",
              "ticks": "outside"
             }
            },
            "type": "scattergeo"
           }
          ],
          "scattergl": [
           {
            "marker": {
             "colorbar": {
              "outlinewidth": 1,
              "tickcolor": "rgb(36,36,36)",
              "ticks": "outside"
             }
            },
            "type": "scattergl"
           }
          ],
          "scattermapbox": [
           {
            "marker": {
             "colorbar": {
              "outlinewidth": 1,
              "tickcolor": "rgb(36,36,36)",
              "ticks": "outside"
             }
            },
            "type": "scattermapbox"
           }
          ],
          "scatterpolar": [
           {
            "marker": {
             "colorbar": {
              "outlinewidth": 1,
              "tickcolor": "rgb(36,36,36)",
              "ticks": "outside"
             }
            },
            "type": "scatterpolar"
           }
          ],
          "scatterpolargl": [
           {
            "marker": {
             "colorbar": {
              "outlinewidth": 1,
              "tickcolor": "rgb(36,36,36)",
              "ticks": "outside"
             }
            },
            "type": "scatterpolargl"
           }
          ],
          "scatterternary": [
           {
            "marker": {
             "colorbar": {
              "outlinewidth": 1,
              "tickcolor": "rgb(36,36,36)",
              "ticks": "outside"
             }
            },
            "type": "scatterternary"
           }
          ],
          "surface": [
           {
            "colorbar": {
             "outlinewidth": 1,
             "tickcolor": "rgb(36,36,36)",
             "ticks": "outside"
            },
            "colorscale": [
             [
              0,
              "#440154"
             ],
             [
              0.1111111111111111,
              "#482878"
             ],
             [
              0.2222222222222222,
              "#3e4989"
             ],
             [
              0.3333333333333333,
              "#31688e"
             ],
             [
              0.4444444444444444,
              "#26828e"
             ],
             [
              0.5555555555555556,
              "#1f9e89"
             ],
             [
              0.6666666666666666,
              "#35b779"
             ],
             [
              0.7777777777777778,
              "#6ece58"
             ],
             [
              0.8888888888888888,
              "#b5de2b"
             ],
             [
              1,
              "#fde725"
             ]
            ],
            "type": "surface"
           }
          ],
          "table": [
           {
            "cells": {
             "fill": {
              "color": "rgb(237,237,237)"
             },
             "line": {
              "color": "white"
             }
            },
            "header": {
             "fill": {
              "color": "rgb(217,217,217)"
             },
             "line": {
              "color": "white"
             }
            },
            "type": "table"
           }
          ]
         },
         "layout": {
          "annotationdefaults": {
           "arrowhead": 0,
           "arrowwidth": 1
          },
          "autotypenumbers": "strict",
          "coloraxis": {
           "colorbar": {
            "outlinewidth": 1,
            "tickcolor": "rgb(36,36,36)",
            "ticks": "outside"
           }
          },
          "colorscale": {
           "diverging": [
            [
             0,
             "rgb(103,0,31)"
            ],
            [
             0.1,
             "rgb(178,24,43)"
            ],
            [
             0.2,
             "rgb(214,96,77)"
            ],
            [
             0.3,
             "rgb(244,165,130)"
            ],
            [
             0.4,
             "rgb(253,219,199)"
            ],
            [
             0.5,
             "rgb(247,247,247)"
            ],
            [
             0.6,
             "rgb(209,229,240)"
            ],
            [
             0.7,
             "rgb(146,197,222)"
            ],
            [
             0.8,
             "rgb(67,147,195)"
            ],
            [
             0.9,
             "rgb(33,102,172)"
            ],
            [
             1,
             "rgb(5,48,97)"
            ]
           ],
           "sequential": [
            [
             0,
             "#440154"
            ],
            [
             0.1111111111111111,
             "#482878"
            ],
            [
             0.2222222222222222,
             "#3e4989"
            ],
            [
             0.3333333333333333,
             "#31688e"
            ],
            [
             0.4444444444444444,
             "#26828e"
            ],
            [
             0.5555555555555556,
             "#1f9e89"
            ],
            [
             0.6666666666666666,
             "#35b779"
            ],
            [
             0.7777777777777778,
             "#6ece58"
            ],
            [
             0.8888888888888888,
             "#b5de2b"
            ],
            [
             1,
             "#fde725"
            ]
           ],
           "sequentialminus": [
            [
             0,
             "#440154"
            ],
            [
             0.1111111111111111,
             "#482878"
            ],
            [
             0.2222222222222222,
             "#3e4989"
            ],
            [
             0.3333333333333333,
             "#31688e"
            ],
            [
             0.4444444444444444,
             "#26828e"
            ],
            [
             0.5555555555555556,
             "#1f9e89"
            ],
            [
             0.6666666666666666,
             "#35b779"
            ],
            [
             0.7777777777777778,
             "#6ece58"
            ],
            [
             0.8888888888888888,
             "#b5de2b"
            ],
            [
             1,
             "#fde725"
            ]
           ]
          },
          "colorway": [
           "#1F77B4",
           "#FF7F0E",
           "#2CA02C",
           "#D62728",
           "#9467BD",
           "#8C564B",
           "#E377C2",
           "#7F7F7F",
           "#BCBD22",
           "#17BECF"
          ],
          "font": {
           "color": "rgb(36,36,36)"
          },
          "geo": {
           "bgcolor": "white",
           "lakecolor": "white",
           "landcolor": "white",
           "showlakes": true,
           "showland": true,
           "subunitcolor": "white"
          },
          "hoverlabel": {
           "align": "left"
          },
          "hovermode": "closest",
          "mapbox": {
           "style": "light"
          },
          "paper_bgcolor": "white",
          "plot_bgcolor": "white",
          "polar": {
           "angularaxis": {
            "gridcolor": "rgb(232,232,232)",
            "linecolor": "rgb(36,36,36)",
            "showgrid": false,
            "showline": true,
            "ticks": "outside"
           },
           "bgcolor": "white",
           "radialaxis": {
            "gridcolor": "rgb(232,232,232)",
            "linecolor": "rgb(36,36,36)",
            "showgrid": false,
            "showline": true,
            "ticks": "outside"
           }
          },
          "scene": {
           "xaxis": {
            "backgroundcolor": "white",
            "gridcolor": "rgb(232,232,232)",
            "gridwidth": 2,
            "linecolor": "rgb(36,36,36)",
            "showbackground": true,
            "showgrid": false,
            "showline": true,
            "ticks": "outside",
            "zeroline": false,
            "zerolinecolor": "rgb(36,36,36)"
           },
           "yaxis": {
            "backgroundcolor": "white",
            "gridcolor": "rgb(232,232,232)",
            "gridwidth": 2,
            "linecolor": "rgb(36,36,36)",
            "showbackground": true,
            "showgrid": false,
            "showline": true,
            "ticks": "outside",
            "zeroline": false,
            "zerolinecolor": "rgb(36,36,36)"
           },
           "zaxis": {
            "backgroundcolor": "white",
            "gridcolor": "rgb(232,232,232)",
            "gridwidth": 2,
            "linecolor": "rgb(36,36,36)",
            "showbackground": true,
            "showgrid": false,
            "showline": true,
            "ticks": "outside",
            "zeroline": false,
            "zerolinecolor": "rgb(36,36,36)"
           }
          },
          "shapedefaults": {
           "fillcolor": "black",
           "line": {
            "width": 0
           },
           "opacity": 0.3
          },
          "ternary": {
           "aaxis": {
            "gridcolor": "rgb(232,232,232)",
            "linecolor": "rgb(36,36,36)",
            "showgrid": false,
            "showline": true,
            "ticks": "outside"
           },
           "baxis": {
            "gridcolor": "rgb(232,232,232)",
            "linecolor": "rgb(36,36,36)",
            "showgrid": false,
            "showline": true,
            "ticks": "outside"
           },
           "bgcolor": "white",
           "caxis": {
            "gridcolor": "rgb(232,232,232)",
            "linecolor": "rgb(36,36,36)",
            "showgrid": false,
            "showline": true,
            "ticks": "outside"
           }
          },
          "title": {
           "x": 0.05
          },
          "xaxis": {
           "automargin": true,
           "gridcolor": "rgb(232,232,232)",
           "linecolor": "rgb(36,36,36)",
           "showgrid": false,
           "showline": true,
           "ticks": "outside",
           "title": {
            "standoff": 15
           },
           "zeroline": false,
           "zerolinecolor": "rgb(36,36,36)"
          },
          "yaxis": {
           "automargin": true,
           "gridcolor": "rgb(232,232,232)",
           "linecolor": "rgb(36,36,36)",
           "showgrid": false,
           "showline": true,
           "ticks": "outside",
           "title": {
            "standoff": 15
           },
           "zeroline": false,
           "zerolinecolor": "rgb(36,36,36)"
          }
         }
        },
        "title": {
         "font": {
          "color": "Black",
          "size": 22
         },
         "text": "<b>Topics over Time</b>",
         "x": 0.4,
         "xanchor": "center",
         "y": 0.95,
         "yanchor": "top"
        },
        "width": 1250,
        "xaxis": {
         "showgrid": true
        },
        "yaxis": {
         "showgrid": true,
         "title": {
          "text": "Frequency"
         }
        }
       }
      }
     },
     "metadata": {},
     "output_type": "display_data"
    }
   ],
   "source": [
    "model.visualize_topics_over_time(topics_over_time)"
   ]
  },
  {
   "cell_type": "markdown",
   "id": "465aabde",
   "metadata": {},
   "source": [
    "---"
   ]
  },
  {
   "cell_type": "markdown",
   "id": "c2c6ba1d-5bbb-4550-9f45-aff8aa17a569",
   "metadata": {},
   "source": [
    "1c. Finish the code snippet below to calculate the topic distribution by political party. After you've finished it, write a paragraph or two explaining any patterns you see in how the two parties pattern along topics."
   ]
  },
  {
   "cell_type": "code",
   "execution_count": 75,
   "id": "64194cf2-40a7-41de-823d-db5aa8105fd4",
   "metadata": {},
   "outputs": [
    {
     "name": "stdout",
     "output_type": "stream",
     "text": [
      "-1_america_american_new_world ['america', 'american', 'new', 'world', 'country', 'jobs', 'government', 'years', 'work', 'make']\n",
      "Democratic paragraphs: 763\n",
      "Republican paragraphs: 508\n",
      "\n",
      "0_tax_health_care_budget ['tax', 'health', 'care', 'budget', 'year', 'federal', 'deficit', 'social', 'insurance', 'americans']\n",
      "Democratic paragraphs: 446\n",
      "Republican paragraphs: 287\n",
      "\n",
      "1_america_world_nation_americans ['america', 'world', 'nation', 'americans', 'freedom', 'american', 'new', 'immigration', 'state', 'time']\n",
      "Democratic paragraphs: 309\n",
      "Republican paragraphs: 258\n",
      "\n",
      "2_jobs_trade_new_american ['jobs', 'trade', 'new', 'american', 'america', 'economy', 'world', 'years', 'markets', 'china']\n",
      "Democratic paragraphs: 188\n",
      "Republican paragraphs: 114\n",
      "\n",
      "3_schools_education_school_college ['schools', 'education', 'school', 'college', 'children', 'students', 'teachers', 'high', 'help', 'parents']\n",
      "Democratic paragraphs: 190\n",
      "Republican paragraphs: 83\n",
      "\n",
      "4_nuclear_soviet_defense_weapons ['nuclear', 'soviet', 'defense', 'weapons', 'security', 'military', 'world', 'iran', 'arms', 'war']\n",
      "Democratic paragraphs: 109\n",
      "Republican paragraphs: 111\n",
      "\n",
      "5_iraq_al_afghanistan_iraqi ['iraq', 'al', 'afghanistan', 'iraqi', 'qaida', 'terrorists', 'troops', 'israel', 'saddam', 'forces']\n",
      "Democratic paragraphs: 60\n",
      "Republican paragraphs: 95\n",
      "\n",
      "6_laughter_citizens_house_lady ['laughter', 'citizens', 'house', 'lady', 'honored', 'americans', 'want', 'cheney', 'good', 'senate']\n",
      "Democratic paragraphs: 86\n",
      "Republican paragraphs: 45\n",
      "\n",
      "7_energy_oil_clean_gas ['energy', 'oil', 'clean', 'gas', 'climate', 'natural', 'new', 'environment', 'coal', 'regulations']\n",
      "Democratic paragraphs: 76\n",
      "Republican paragraphs: 37\n",
      "\n",
      "8_crime_gun_police_drugs ['crime', 'gun', 'police', 'drugs', 'drug', 'violent', 'criminals', 'guns', 'law', 'officers']\n",
      "Democratic paragraphs: 79\n",
      "Republican paragraphs: 28\n",
      "\n",
      "9_inflation_banks_financial_afford ['inflation', 'banks', 'financial', 'afford', 'responsible', 'money', 'economy', 'credit', 'buy', 'lending']\n",
      "Democratic paragraphs: 48\n",
      "Republican paragraphs: 10\n",
      "\n",
      "10_daughter_ryan_joining_born ['daughter', 'ryan', 'joining', 'born', 'cory', 'gallery', 'ellie', 'life', 'son', 'grace']\n",
      "Democratic paragraphs: 24\n",
      "Republican paragraphs: 32\n",
      "\n",
      "11_usa_hr_wall_joe ['usa', 'hr', 'wall', 'joe', 'anymore', 'fix', 'build', 'yes', 'border', 'whoa']\n",
      "Democratic paragraphs: 42\n",
      "Republican paragraphs: 13\n",
      "\n",
      "12_bless_god_america_united ['bless', 'god', 'america', 'united', 'states', 'troops', 'evening', 'night', 'good', 'protect']\n",
      "Democratic paragraphs: 27\n",
      "Republican paragraphs: 25\n",
      "\n",
      "13_veterans_uniform_va_men ['veterans', 'uniform', 'va', 'men', 'women', 'nation', 'military', 'care', 'support', 'troops']\n",
      "Democratic paragraphs: 18\n",
      "Republican paragraphs: 14\n",
      "\n",
      "14_putin_ukraine_ukrainian_putins ['putin', 'ukraine', 'ukrainian', 'putins', 'world', 'europe', 'russia', 'stand', 'nato', 'hell']\n",
      "Democratic paragraphs: 22\n",
      "Republican paragraphs: 0\n",
      "\n",
      "15_wade_roe_abortion_unborn ['wade', 'roe', 'abortion', 'unborn', 'right', 'legislation', 'life', 'womans', 'ivf', 'baby']\n",
      "Democratic paragraphs: 13\n",
      "Republican paragraphs: 6\n",
      "\n",
      "16_wage_minimum_raise_hour ['wage', 'minimum', 'raise', 'hour', 'working', 'year', 'employees', '10', 'live', 'wages']\n",
      "Democratic paragraphs: 15\n",
      "Republican paragraphs: 0\n",
      "\n",
      "17_point_happy_laughter_seeno ['point', 'happy', 'laughter', 'seeno', 'sang', 'conversion', 'laughing', 'remarks', 'theyre', 'laken']\n",
      "Democratic paragraphs: 12\n",
      "Republican paragraphs: 2\n",
      "\n",
      "18_court_justice_senate_judges ['court', 'justice', 'senate', 'judges', 'courts', 'bench', 'nominees', 'supreme', 'vacancies', 'judicial']\n",
      "Democratic paragraphs: 3\n",
      "Republican paragraphs: 8\n",
      "\n"
     ]
    }
   ],
   "source": [
    "from collections import Counter\n",
    "D_YEARS = [1978, 1979, 1980, 1993, 1994, 1995, 1996, 1997, 1998, 1999, 2000, 2009, 2010, 2011, 2012, 2013, 2014, 2015, 2016, 2021, 2022, 2023, 2024]\n",
    "R_YEARS = [y for y in range(1978, 2025) if y not in D_YEARS]\n",
    "d_counter = Counter()\n",
    "r_counter = Counter()\n",
    "\n",
    "# Loop over the assigned topic of each paragraph and the year that paragraph is from\n",
    "for topic, year in zip(topics, paragraph_years):\n",
    "    if year in D_YEARS:\n",
    "        d_counter[topic] += 1\n",
    "    elif year in R_YEARS:\n",
    "        r_counter[topic] += 1\n",
    "\n",
    "for _, topic in model.get_topic_info().iterrows():\n",
    "    print(topic.Name, topic.Representation)\n",
    "    print(\"Democratic paragraphs:\", d_counter[topic.Topic])\n",
    "    print(\"Republican paragraphs:\", r_counter[topic.Topic])\n",
    "    print()\n"
   ]
  },
  {
   "cell_type": "markdown",
   "id": "6db5d3e3-a6f5-4aaa-97ee-ac890e466b8e",
   "metadata": {},
   "source": [
    "**Response**  \n",
    "\n",
    "The topic distribution analysis shows ideological division between the Democratic and Republican parties, illustrated in the priorities and policies. Democratic texts emphasize social issues, in relationship with education and healthcare, showing a commitment to public welfare and reform. This is further illustrated by topics related to the economy, where Democrats discuss jobs and economic conditions more frequently than Republicans.\n",
    "\n",
    "Conversely, Republican texts tend to concentrate on national security and military themes, as evidenced by the balanced representation in topics related to nuclear issues and wars. The Republicans also show a focus on crime, especially mentioning gun-related topics, although with lower representation than Democrats. This reveals Republicans' emphasis on traditional values and law enforcement. While both parties share some concerns, their narratives diverge significantly, with Democrats prioritizing social equity and Republicans focusing on security and economic conservatism."
   ]
  },
  {
   "cell_type": "markdown",
   "id": "95977b52",
   "metadata": {},
   "source": [
    "---"
   ]
  },
  {
   "cell_type": "markdown",
   "id": "672d0b7f-7bc4-4fb8-be49-5dbc1c0873e6",
   "metadata": {},
   "source": [
    "# Problem 2: Model Tuning\n",
    "Recall from above (\"Training the Model\") that the BERTopic model can be tuned with [a variety of parameters](https://maartengr.github.io/BERTopic/api/bertopic.html#bertopic._bertopic.BERTopic.__init__).\n",
    "Based on what you wrote in your solutions to Problem 1, we will try to tune the model to get it to behave better."
   ]
  },
  {
   "cell_type": "markdown",
   "id": "cf0ef603-664a-4c16-b20c-90422faf0098",
   "metadata": {},
   "source": [
    "2a. Try changing the value of `nr_topics` in the line with `model = ` above and then re-run code above to see how the topics change. How would you describe the changes you're seeing? Would you say that the \"quality\" of the topics you're getting has increased or decreased? Write a paragraph or two."
   ]
  },
  {
   "cell_type": "code",
   "execution_count": 76,
   "id": "3795b22f",
   "metadata": {},
   "outputs": [
    {
     "name": "stdout",
     "output_type": "stream",
     "text": [
      "Topic and probability of 102nd paragraph: 1 0.8117121718744169\n",
      "102nd paragraph: The other moment was in Warsaw, capital of a nation twice devastated by war in this century. There, people have rebuilt the city which war's destruction took from them. But what was new only emphasized clearly what was lost.\n"
     ]
    },
    {
     "data": {
      "text/plain": [
       "(4206, 4206)"
      ]
     },
     "execution_count": 76,
     "metadata": {},
     "output_type": "execute_result"
    }
   ],
   "source": [
    "from bertopic import BERTopic\n",
    "from sklearn.feature_extraction.text import CountVectorizer\n",
    "from sklearn.feature_extraction._stop_words import ENGLISH_STOP_WORDS\n",
    "# This lets us get rid of words like \"the\", \"of\", \"Mr.\", etc. and other words which are not contentful for us\n",
    "stop_words = list({\"Mr.\", \"Mr\", \"mr\", \"mr.\", \"just\", \"distinguished\", \"madam\", \"guest\", \"guests\", \"sergeant\", \"speaker\", \"president\", \"fellow\", \"vice\", \"congress\", \"Thank\", \"thank\", \"audience\", \"speaker\", \"Tonight\", \"tonight\", \"Union\", \"union\", \"people\", \"People\", \"America\", \"American\", \"United\", \"States\", \"inaudible\", \"boo\", \"spoke\", \"member\", \"members\", \"applauded\", \"applause\", \"applaud\", \"inaudibledont\", \"inaudiblethe\"}.union(ENGLISH_STOP_WORDS))\n",
    "vectorizer_model = CountVectorizer(stop_words=stop_words)\n",
    "model = BERTopic(\n",
    "    vectorizer_model=vectorizer_model, \n",
    "    nr_topics=10, # Adjusting the value of topics to 10 only\n",
    ")\n",
    "topics, probabilities = model.fit_transform(paragraphs)\n",
    "\n",
    "print(\"Topic and probability of 102nd paragraph:\", topics[101], probabilities[101])\n",
    "print(\"102nd paragraph:\", paragraphs[101])\n",
    "\n",
    "len(topics), len(paragraphs)"
   ]
  },
  {
   "cell_type": "code",
   "execution_count": 77,
   "id": "f5a84813",
   "metadata": {},
   "outputs": [
    {
     "data": {
      "text/html": [
       "<div>\n",
       "<style scoped>\n",
       "    .dataframe tbody tr th:only-of-type {\n",
       "        vertical-align: middle;\n",
       "    }\n",
       "\n",
       "    .dataframe tbody tr th {\n",
       "        vertical-align: top;\n",
       "    }\n",
       "\n",
       "    .dataframe thead th {\n",
       "        text-align: right;\n",
       "    }\n",
       "</style>\n",
       "<table border=\"1\" class=\"dataframe\">\n",
       "  <thead>\n",
       "    <tr style=\"text-align: right;\">\n",
       "      <th></th>\n",
       "      <th>Topic</th>\n",
       "      <th>Count</th>\n",
       "      <th>Name</th>\n",
       "      <th>Representation</th>\n",
       "      <th>Representative_Docs</th>\n",
       "    </tr>\n",
       "  </thead>\n",
       "  <tbody>\n",
       "    <tr>\n",
       "      <th>0</th>\n",
       "      <td>-1</td>\n",
       "      <td>1323</td>\n",
       "      <td>-1_america_american_new_world</td>\n",
       "      <td>[america, american, new, world, americans, wor...</td>\n",
       "      <td>[The President. ——the American Rescue Plan hel...</td>\n",
       "    </tr>\n",
       "    <tr>\n",
       "      <th>1</th>\n",
       "      <td>0</td>\n",
       "      <td>1850</td>\n",
       "      <td>0_new_year_tax_american</td>\n",
       "      <td>[new, year, tax, american, years, america, mak...</td>\n",
       "      <td>[At the same time, we must ensure that older s...</td>\n",
       "    </tr>\n",
       "    <tr>\n",
       "      <th>2</th>\n",
       "      <td>1</td>\n",
       "      <td>383</td>\n",
       "      <td>1_nuclear_iraq_weapons_world</td>\n",
       "      <td>[nuclear, iraq, weapons, world, defense, force...</td>\n",
       "      <td>[About the defense budget, I raise a hope and ...</td>\n",
       "    </tr>\n",
       "    <tr>\n",
       "      <th>3</th>\n",
       "      <td>2</td>\n",
       "      <td>292</td>\n",
       "      <td>2_veterans_laughter_americans_men</td>\n",
       "      <td>[veterans, laughter, americans, men, know, hon...</td>\n",
       "      <td>[Our men and women in uniform are making sacri...</td>\n",
       "    </tr>\n",
       "    <tr>\n",
       "      <th>4</th>\n",
       "      <td>3</td>\n",
       "      <td>154</td>\n",
       "      <td>3_crime_gun_police_violence</td>\n",
       "      <td>[crime, gun, police, violence, law, laws, viol...</td>\n",
       "      <td>[Our fourth great challenge is to take our str...</td>\n",
       "    </tr>\n",
       "    <tr>\n",
       "      <th>5</th>\n",
       "      <td>4</td>\n",
       "      <td>77</td>\n",
       "      <td>4_usa_hr_wall_point</td>\n",
       "      <td>[usa, hr, wall, point, joe, fix, ai, build, bo...</td>\n",
       "      <td>[Harness—[applause]. Harness the promise of AI...</td>\n",
       "    </tr>\n",
       "    <tr>\n",
       "      <th>6</th>\n",
       "      <td>5</td>\n",
       "      <td>55</td>\n",
       "      <td>5_cancer_aids_vaccines_covid</td>\n",
       "      <td>[cancer, aids, vaccines, covid, diseases, dise...</td>\n",
       "      <td>[American foreign policy is more than a matter...</td>\n",
       "    </tr>\n",
       "    <tr>\n",
       "      <th>7</th>\n",
       "      <td>6</td>\n",
       "      <td>50</td>\n",
       "      <td>6_bless_god_america_united</td>\n",
       "      <td>[bless, god, america, united, states, good, ev...</td>\n",
       "      <td>[God bless you, and God bless America.\\n, Than...</td>\n",
       "    </tr>\n",
       "    <tr>\n",
       "      <th>8</th>\n",
       "      <td>7</td>\n",
       "      <td>11</td>\n",
       "      <td>7_court_justice_senate_judges</td>\n",
       "      <td>[court, justice, senate, judges, courts, bench...</td>\n",
       "      <td>[Because courts must always deliver impartial ...</td>\n",
       "    </tr>\n",
       "    <tr>\n",
       "      <th>9</th>\n",
       "      <td>8</td>\n",
       "      <td>11</td>\n",
       "      <td>8_fees_junk_companies_card</td>\n",
       "      <td>[fees, junk, companies, card, airlines, like, ...</td>\n",
       "      <td>[We—the idea that cable, internet, and cell ph...</td>\n",
       "    </tr>\n",
       "  </tbody>\n",
       "</table>\n",
       "</div>"
      ],
      "text/plain": [
       "   Topic  Count                               Name  \\\n",
       "0     -1   1323      -1_america_american_new_world   \n",
       "1      0   1850            0_new_year_tax_american   \n",
       "2      1    383       1_nuclear_iraq_weapons_world   \n",
       "3      2    292  2_veterans_laughter_americans_men   \n",
       "4      3    154        3_crime_gun_police_violence   \n",
       "5      4     77                4_usa_hr_wall_point   \n",
       "6      5     55       5_cancer_aids_vaccines_covid   \n",
       "7      6     50         6_bless_god_america_united   \n",
       "8      7     11      7_court_justice_senate_judges   \n",
       "9      8     11         8_fees_junk_companies_card   \n",
       "\n",
       "                                      Representation  \\\n",
       "0  [america, american, new, world, americans, wor...   \n",
       "1  [new, year, tax, american, years, america, mak...   \n",
       "2  [nuclear, iraq, weapons, world, defense, force...   \n",
       "3  [veterans, laughter, americans, men, know, hon...   \n",
       "4  [crime, gun, police, violence, law, laws, viol...   \n",
       "5  [usa, hr, wall, point, joe, fix, ai, build, bo...   \n",
       "6  [cancer, aids, vaccines, covid, diseases, dise...   \n",
       "7  [bless, god, america, united, states, good, ev...   \n",
       "8  [court, justice, senate, judges, courts, bench...   \n",
       "9  [fees, junk, companies, card, airlines, like, ...   \n",
       "\n",
       "                                 Representative_Docs  \n",
       "0  [The President. ——the American Rescue Plan hel...  \n",
       "1  [At the same time, we must ensure that older s...  \n",
       "2  [About the defense budget, I raise a hope and ...  \n",
       "3  [Our men and women in uniform are making sacri...  \n",
       "4  [Our fourth great challenge is to take our str...  \n",
       "5  [Harness—[applause]. Harness the promise of AI...  \n",
       "6  [American foreign policy is more than a matter...  \n",
       "7  [God bless you, and God bless America.\\n, Than...  \n",
       "8  [Because courts must always deliver impartial ...  \n",
       "9  [We—the idea that cable, internet, and cell ph...  "
      ]
     },
     "execution_count": 77,
     "metadata": {},
     "output_type": "execute_result"
    }
   ],
   "source": [
    "model.get_topic_info()"
   ]
  },
  {
   "cell_type": "markdown",
   "id": "77906b14-cb6a-45e3-8d14-0c4b940b759b",
   "metadata": {},
   "source": [
    "**Response**  \n",
    "\n",
    "When I increased the `nr_topics` value, the model will attempt to find more distinct topics, but this leads to more fragmentation of the topics, where related ideas seem to be split across multiple topics. So, topics overlap more, and it affects accuracy.\n",
    "\n",
    "When I decreased the `nr_topics` value, the model will try to group similar ideas into broader topics. This makes it easier to summarize general topics and vocabulary, but we lose some important distinctions between topics/content in the pragraphs. ​"
   ]
  },
  {
   "cell_type": "markdown",
   "id": "47d417db",
   "metadata": {},
   "source": [
    "---"
   ]
  },
  {
   "cell_type": "markdown",
   "id": "69c2cd86-7818-438f-9a01-5488022e1a22",
   "metadata": {},
   "source": [
    "2b. The parameter `top_n_words` can be used to specify the number of words that BERTopic will learn to associate with any given topic. The default value is `10`, so try setting this to something lower or higher. Describe what you see in a paragraph or two."
   ]
  },
  {
   "cell_type": "code",
   "execution_count": 78,
   "id": "b6fdcef7",
   "metadata": {},
   "outputs": [
    {
     "name": "stdout",
     "output_type": "stream",
     "text": [
      "Topic and probability of 102nd paragraph: -1 0.0\n",
      "102nd paragraph: The other moment was in Warsaw, capital of a nation twice devastated by war in this century. There, people have rebuilt the city which war's destruction took from them. But what was new only emphasized clearly what was lost.\n"
     ]
    },
    {
     "data": {
      "text/plain": [
       "(4206, 4206)"
      ]
     },
     "execution_count": 78,
     "metadata": {},
     "output_type": "execute_result"
    }
   ],
   "source": [
    "from bertopic import BERTopic\n",
    "from sklearn.feature_extraction.text import CountVectorizer\n",
    "from sklearn.feature_extraction._stop_words import ENGLISH_STOP_WORDS\n",
    "# This lets us get rid of words like \"the\", \"of\", \"Mr.\", etc. and other words which are not contentful for us\n",
    "stop_words = list({\"Mr.\", \"Mr\", \"mr\", \"mr.\", \"just\", \"distinguished\", \"madam\", \"guest\", \"guests\", \"sergeant\", \"speaker\", \"president\", \"fellow\", \"vice\", \"congress\", \"Thank\", \"thank\", \"audience\", \"speaker\", \"Tonight\", \"tonight\", \"Union\", \"union\", \"people\", \"People\", \"America\", \"American\", \"United\", \"States\", \"inaudible\", \"boo\", \"spoke\", \"member\", \"members\", \"applauded\", \"applause\", \"applaud\", \"inaudibledont\", \"inaudiblethe\"}.union(ENGLISH_STOP_WORDS))\n",
    "vectorizer_model = CountVectorizer(stop_words=stop_words)\n",
    "model = BERTopic(\n",
    "    vectorizer_model=vectorizer_model, \n",
    "    nr_topics=20,\n",
    "    top_n_words=5  # Changing the number of words that BERTopic uses to associate with the topics\n",
    ")\n",
    "topics, probabilities = model.fit_transform(paragraphs)\n",
    "\n",
    "print(\"Topic and probability of 102nd paragraph:\", topics[101], probabilities[101])\n",
    "print(\"102nd paragraph:\", paragraphs[101])\n",
    "\n",
    "len(topics), len(paragraphs)"
   ]
  },
  {
   "cell_type": "code",
   "execution_count": 79,
   "id": "88830a7f",
   "metadata": {},
   "outputs": [
    {
     "data": {
      "text/html": [
       "<div>\n",
       "<style scoped>\n",
       "    .dataframe tbody tr th:only-of-type {\n",
       "        vertical-align: middle;\n",
       "    }\n",
       "\n",
       "    .dataframe tbody tr th {\n",
       "        vertical-align: top;\n",
       "    }\n",
       "\n",
       "    .dataframe thead th {\n",
       "        text-align: right;\n",
       "    }\n",
       "</style>\n",
       "<table border=\"1\" class=\"dataframe\">\n",
       "  <thead>\n",
       "    <tr style=\"text-align: right;\">\n",
       "      <th></th>\n",
       "      <th>Topic</th>\n",
       "      <th>Count</th>\n",
       "      <th>Name</th>\n",
       "      <th>Representation</th>\n",
       "      <th>Representative_Docs</th>\n",
       "    </tr>\n",
       "  </thead>\n",
       "  <tbody>\n",
       "    <tr>\n",
       "      <th>0</th>\n",
       "      <td>-1</td>\n",
       "      <td>1378</td>\n",
       "      <td>-1_america_american_world_new</td>\n",
       "      <td>[america, american, world, new, jobs]</td>\n",
       "      <td>[The American people must prosper in the globa...</td>\n",
       "    </tr>\n",
       "    <tr>\n",
       "      <th>1</th>\n",
       "      <td>0</td>\n",
       "      <td>470</td>\n",
       "      <td>0_tax_budget_federal_spending</td>\n",
       "      <td>[tax, budget, federal, spending, deficit]</td>\n",
       "      <td>[And let's begin by discussing how to maintain...</td>\n",
       "    </tr>\n",
       "    <tr>\n",
       "      <th>2</th>\n",
       "      <td>1</td>\n",
       "      <td>359</td>\n",
       "      <td>1_children_schools_education_school</td>\n",
       "      <td>[children, schools, education, school, child]</td>\n",
       "      <td>[Eighth, we must make the 13th and 14th years ...</td>\n",
       "    </tr>\n",
       "    <tr>\n",
       "      <th>3</th>\n",
       "      <td>2</td>\n",
       "      <td>341</td>\n",
       "      <td>2_energy_jobs_new_economy</td>\n",
       "      <td>[energy, jobs, new, economy, clean]</td>\n",
       "      <td>[And 4 years ago, other countries dominated th...</td>\n",
       "    </tr>\n",
       "    <tr>\n",
       "      <th>4</th>\n",
       "      <td>3</td>\n",
       "      <td>320</td>\n",
       "      <td>3_america_world_freedom_nation</td>\n",
       "      <td>[america, world, freedom, nation, state]</td>\n",
       "      <td>[I have come to review with you the progress o...</td>\n",
       "    </tr>\n",
       "    <tr>\n",
       "      <th>5</th>\n",
       "      <td>4</td>\n",
       "      <td>233</td>\n",
       "      <td>4_health_care_insurance_coverage</td>\n",
       "      <td>[health, care, insurance, coverage, medicare]</td>\n",
       "      <td>[My budget puts a priority on access to health...</td>\n",
       "    </tr>\n",
       "    <tr>\n",
       "      <th>6</th>\n",
       "      <td>5</td>\n",
       "      <td>232</td>\n",
       "      <td>5_veterans_men_home_americans</td>\n",
       "      <td>[veterans, men, home, americans, honor]</td>\n",
       "      <td>[Our men and women in uniform are making sacri...</td>\n",
       "    </tr>\n",
       "    <tr>\n",
       "      <th>7</th>\n",
       "      <td>6</td>\n",
       "      <td>184</td>\n",
       "      <td>6_terrorists_iraq_al_afghanistan</td>\n",
       "      <td>[terrorists, iraq, al, afghanistan, qaida]</td>\n",
       "      <td>[In Iraq, the terrorists and extremists are fi...</td>\n",
       "    </tr>\n",
       "    <tr>\n",
       "      <th>8</th>\n",
       "      <td>7</td>\n",
       "      <td>162</td>\n",
       "      <td>7_immigration_border_reform_laws</td>\n",
       "      <td>[immigration, border, reform, laws, illegal]</td>\n",
       "      <td>[The other pressing challenge is immigration. ...</td>\n",
       "    </tr>\n",
       "    <tr>\n",
       "      <th>9</th>\n",
       "      <td>8</td>\n",
       "      <td>129</td>\n",
       "      <td>8_nuclear_soviet_iran_nato</td>\n",
       "      <td>[nuclear, soviet, iran, nato, weapons]</td>\n",
       "      <td>[This year I'll ask the Senate to approve STAR...</td>\n",
       "    </tr>\n",
       "    <tr>\n",
       "      <th>10</th>\n",
       "      <td>9</td>\n",
       "      <td>94</td>\n",
       "      <td>9_crime_gun_police_guns</td>\n",
       "      <td>[crime, gun, police, guns, drug]</td>\n",
       "      <td>[There may be other things we can do to be tou...</td>\n",
       "    </tr>\n",
       "    <tr>\n",
       "      <th>11</th>\n",
       "      <td>10</td>\n",
       "      <td>65</td>\n",
       "      <td>10_usa_hr_wall_joe</td>\n",
       "      <td>[usa, hr, wall, joe, anymore]</td>\n",
       "      <td>[Audience members. Joe! Joe! Joe!, Audience me...</td>\n",
       "    </tr>\n",
       "    <tr>\n",
       "      <th>12</th>\n",
       "      <td>11</td>\n",
       "      <td>62</td>\n",
       "      <td>11_trade_china_markets_new</td>\n",
       "      <td>[trade, china, markets, new, american]</td>\n",
       "      <td>[One of out of every five jobs in our country ...</td>\n",
       "    </tr>\n",
       "    <tr>\n",
       "      <th>13</th>\n",
       "      <td>12</td>\n",
       "      <td>52</td>\n",
       "      <td>12_bless_god_america_united</td>\n",
       "      <td>[bless, god, america, united, states]</td>\n",
       "      <td>[Thank you, God bless you, and God bless Ameri...</td>\n",
       "    </tr>\n",
       "    <tr>\n",
       "      <th>14</th>\n",
       "      <td>13</td>\n",
       "      <td>48</td>\n",
       "      <td>13_laughter_dont_stop_said</td>\n",
       "      <td>[laughter, dont, stop, said, correction]</td>\n",
       "      <td>[The President. To the folks watching at home,...</td>\n",
       "    </tr>\n",
       "    <tr>\n",
       "      <th>15</th>\n",
       "      <td>14</td>\n",
       "      <td>21</td>\n",
       "      <td>14_saddam_hussein_weapons_inspectors</td>\n",
       "      <td>[saddam, hussein, weapons, inspectors, iraq]</td>\n",
       "      <td>[The International Atomic Energy Agency confir...</td>\n",
       "    </tr>\n",
       "    <tr>\n",
       "      <th>16</th>\n",
       "      <td>15</td>\n",
       "      <td>17</td>\n",
       "      <td>15_abortion_roe_wade_unborn</td>\n",
       "      <td>[abortion, roe, wade, unborn, life]</td>\n",
       "      <td>[Like most Americans, I believe Roe v. Wade go...</td>\n",
       "    </tr>\n",
       "    <tr>\n",
       "      <th>17</th>\n",
       "      <td>16</td>\n",
       "      <td>14</td>\n",
       "      <td>16_point_seeno_remarks_conversion</td>\n",
       "      <td>[point, seeno, remarks, conversion, sang]</td>\n",
       "      <td>[[At this point, some audience members applaud...</td>\n",
       "    </tr>\n",
       "    <tr>\n",
       "      <th>18</th>\n",
       "      <td>17</td>\n",
       "      <td>14</td>\n",
       "      <td>17_wage_minimum_raise_hour</td>\n",
       "      <td>[wage, minimum, raise, hour, working]</td>\n",
       "      <td>[We know our economy is stronger when we rewar...</td>\n",
       "    </tr>\n",
       "    <tr>\n",
       "      <th>19</th>\n",
       "      <td>18</td>\n",
       "      <td>11</td>\n",
       "      <td>18_court_justice_senate_judges</td>\n",
       "      <td>[court, justice, senate, judges, courts]</td>\n",
       "      <td>[A future of hope and opportunity requires a f...</td>\n",
       "    </tr>\n",
       "  </tbody>\n",
       "</table>\n",
       "</div>"
      ],
      "text/plain": [
       "    Topic  Count                                  Name  \\\n",
       "0      -1   1378         -1_america_american_world_new   \n",
       "1       0    470         0_tax_budget_federal_spending   \n",
       "2       1    359   1_children_schools_education_school   \n",
       "3       2    341             2_energy_jobs_new_economy   \n",
       "4       3    320        3_america_world_freedom_nation   \n",
       "5       4    233      4_health_care_insurance_coverage   \n",
       "6       5    232         5_veterans_men_home_americans   \n",
       "7       6    184      6_terrorists_iraq_al_afghanistan   \n",
       "8       7    162      7_immigration_border_reform_laws   \n",
       "9       8    129            8_nuclear_soviet_iran_nato   \n",
       "10      9     94               9_crime_gun_police_guns   \n",
       "11     10     65                    10_usa_hr_wall_joe   \n",
       "12     11     62            11_trade_china_markets_new   \n",
       "13     12     52           12_bless_god_america_united   \n",
       "14     13     48            13_laughter_dont_stop_said   \n",
       "15     14     21  14_saddam_hussein_weapons_inspectors   \n",
       "16     15     17           15_abortion_roe_wade_unborn   \n",
       "17     16     14     16_point_seeno_remarks_conversion   \n",
       "18     17     14            17_wage_minimum_raise_hour   \n",
       "19     18     11        18_court_justice_senate_judges   \n",
       "\n",
       "                                   Representation  \\\n",
       "0           [america, american, world, new, jobs]   \n",
       "1       [tax, budget, federal, spending, deficit]   \n",
       "2   [children, schools, education, school, child]   \n",
       "3             [energy, jobs, new, economy, clean]   \n",
       "4        [america, world, freedom, nation, state]   \n",
       "5   [health, care, insurance, coverage, medicare]   \n",
       "6         [veterans, men, home, americans, honor]   \n",
       "7      [terrorists, iraq, al, afghanistan, qaida]   \n",
       "8    [immigration, border, reform, laws, illegal]   \n",
       "9          [nuclear, soviet, iran, nato, weapons]   \n",
       "10               [crime, gun, police, guns, drug]   \n",
       "11                  [usa, hr, wall, joe, anymore]   \n",
       "12         [trade, china, markets, new, american]   \n",
       "13          [bless, god, america, united, states]   \n",
       "14       [laughter, dont, stop, said, correction]   \n",
       "15   [saddam, hussein, weapons, inspectors, iraq]   \n",
       "16            [abortion, roe, wade, unborn, life]   \n",
       "17      [point, seeno, remarks, conversion, sang]   \n",
       "18          [wage, minimum, raise, hour, working]   \n",
       "19       [court, justice, senate, judges, courts]   \n",
       "\n",
       "                                  Representative_Docs  \n",
       "0   [The American people must prosper in the globa...  \n",
       "1   [And let's begin by discussing how to maintain...  \n",
       "2   [Eighth, we must make the 13th and 14th years ...  \n",
       "3   [And 4 years ago, other countries dominated th...  \n",
       "4   [I have come to review with you the progress o...  \n",
       "5   [My budget puts a priority on access to health...  \n",
       "6   [Our men and women in uniform are making sacri...  \n",
       "7   [In Iraq, the terrorists and extremists are fi...  \n",
       "8   [The other pressing challenge is immigration. ...  \n",
       "9   [This year I'll ask the Senate to approve STAR...  \n",
       "10  [There may be other things we can do to be tou...  \n",
       "11  [Audience members. Joe! Joe! Joe!, Audience me...  \n",
       "12  [One of out of every five jobs in our country ...  \n",
       "13  [Thank you, God bless you, and God bless Ameri...  \n",
       "14  [The President. To the folks watching at home,...  \n",
       "15  [The International Atomic Energy Agency confir...  \n",
       "16  [Like most Americans, I believe Roe v. Wade go...  \n",
       "17  [[At this point, some audience members applaud...  \n",
       "18  [We know our economy is stronger when we rewar...  \n",
       "19  [A future of hope and opportunity requires a f...  "
      ]
     },
     "execution_count": 79,
     "metadata": {},
     "output_type": "execute_result"
    }
   ],
   "source": [
    "model.get_topic_info()"
   ]
  },
  {
   "cell_type": "markdown",
   "id": "3119c244-afc8-4ce8-8440-bb9ac1aab81d",
   "metadata": {},
   "source": [
    "**Response**  \n",
    "\n",
    "Reducing the `top_n_words` value in the BERTopic model from 10 to 5 changes the topics significantly. With fewer words (e.g., 5), the topics become more concise, selecting the most important terms. For example, while the original setup included broader keywords like \"jobs\" and \"government,\" the new configuration focuses on fewer phrases, like those related to \"health\" and \"care\" only. However, while this shift can make the topics clearer, we might lose some other words that can be synonyms or antonyms but related to the topic.  \n",
    "\n",
    "Therefore, changing the value of the `top_n_words` affects how topics are labeled and represented. With more words, topics can be more descriptive, capturing more words that are associated to the topic. However, with only five words, the topics risk oversimplifying complex ideas. While this adjustment can lead to a clearer understanding of key themes, it may sacrifice some in depth information and classification. This change is somewhat similar to modifying the `nr_topics`, as in the exercise above. "
   ]
  }
 ],
 "metadata": {
  "kernelspec": {
   "display_name": "Python 3",
   "language": "python",
   "name": "python3"
  },
  "language_info": {
   "codemirror_mode": {
    "name": "ipython",
    "version": 3
   },
   "file_extension": ".py",
   "mimetype": "text/x-python",
   "name": "python",
   "nbconvert_exporter": "python",
   "pygments_lexer": "ipython3",
   "version": "3.12.1"
  }
 },
 "nbformat": 4,
 "nbformat_minor": 5
}
